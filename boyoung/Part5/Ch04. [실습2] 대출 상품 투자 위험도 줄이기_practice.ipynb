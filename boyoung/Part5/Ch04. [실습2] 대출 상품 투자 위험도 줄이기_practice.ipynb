{
 "cells": [
  {
   "cell_type": "markdown",
   "metadata": {
    "id": "VonbAQZYeQJ1"
   },
   "source": [
    "* [accepted_2007_to_2018Q4.csv] : https://www.kaggle.com/wordsforthewise/lending-club\n",
    "* [LCDataDictionary.xlsx] : https://data.world/lpetrocelli/lendingclub-loan-data-2017-q-1"
   ]
  },
  {
   "cell_type": "markdown",
   "metadata": {
    "id": "tROWlaktqR9x"
   },
   "source": [
    "#Part5. [실습2] 대출 상품 투자 위험도 줄이기"
   ]
  },
  {
   "cell_type": "markdown",
   "metadata": {
    "id": "dnxMaRPZsEvJ"
   },
   "source": [
    "## 01. 데이터 소개 및 분석프로세스 수립\n",
    " : \"강의자료 → Ch04. [실습2] 대출 상품 투자 위험도 줄이기\" 참고"
   ]
  },
  {
   "cell_type": "markdown",
   "metadata": {
    "id": "K1hCK8IHNjTT"
   },
   "source": [
    "## 02. 데이터 준비를 위한 EDA 및 전처리"
   ]
  },
  {
   "cell_type": "code",
   "execution_count": 2,
   "metadata": {
    "id": "UzFkTvyEyP1E"
   },
   "outputs": [],
   "source": [
    "# !apt-get update -qq\n",
    "# !apt-get install fonts-nanum* -qq\n",
    "\n",
    "# import matplotlib.font_manager as fm\n",
    "\n",
    "# path = '/usr/share/fonts/truetype/nanum/NanumGothicEco.ttf'\n",
    "# font_name = fm.FontProperties(fname=path, size=10).get_name()\n",
    "\n",
    "# plt.rc('font', family=font_name)\n",
    "\n",
    "# fm._rebuild()"
   ]
  },
  {
   "cell_type": "code",
   "execution_count": 3,
   "metadata": {
    "id": "Dd-GJMQtp6B-"
   },
   "outputs": [],
   "source": [
    "from matplotlib import pyplot as plt\n",
    "plt.rc('font', family='NanumBarunGothic')"
   ]
  },
  {
   "cell_type": "markdown",
   "metadata": {
    "id": "hckf00JaNrEG"
   },
   "source": [
    "### 0. 데이터 불러오기"
   ]
  },
  {
   "cell_type": "code",
   "execution_count": 4,
   "metadata": {
    "colab": {
     "base_uri": "https://localhost:8080/"
    },
    "executionInfo": {
     "elapsed": 6021,
     "status": "ok",
     "timestamp": 1625484230781,
     "user": {
      "displayName": "Young jun Jang",
      "photoUrl": "",
      "userId": "15364579243826530783"
     },
     "user_tz": -540
    },
    "id": "hzvggq2L1-FI",
    "outputId": "bd294893-4e58-4d85-cc8a-b4e88d294357"
   },
   "outputs": [
    {
     "name": "stdout",
     "output_type": "stream",
     "text": [
      "Requirement already satisfied: catboost in /opt/anaconda3/lib/python3.8/site-packages (1.1.1)\n",
      "Requirement already satisfied: graphviz in /opt/anaconda3/lib/python3.8/site-packages (from catboost) (0.20.1)\n",
      "Requirement already satisfied: matplotlib in /opt/anaconda3/lib/python3.8/site-packages (from catboost) (3.3.4)\n",
      "Requirement already satisfied: numpy>=1.16.0 in /opt/anaconda3/lib/python3.8/site-packages (from catboost) (1.16.5)\n",
      "Requirement already satisfied: pandas>=0.24.0 in /opt/anaconda3/lib/python3.8/site-packages (from catboost) (0.25.3)\n",
      "Requirement already satisfied: scipy in /opt/anaconda3/lib/python3.8/site-packages (from catboost) (1.6.2)\n",
      "Requirement already satisfied: plotly in /opt/anaconda3/lib/python3.8/site-packages (from catboost) (5.14.1)\n",
      "Requirement already satisfied: six in /opt/anaconda3/lib/python3.8/site-packages (from catboost) (1.15.0)\n",
      "Requirement already satisfied: python-dateutil>=2.6.1 in /opt/anaconda3/lib/python3.8/site-packages (from pandas>=0.24.0->catboost) (2.8.1)\n",
      "Requirement already satisfied: pytz>=2017.2 in /opt/anaconda3/lib/python3.8/site-packages (from pandas>=0.24.0->catboost) (2021.1)\n",
      "Requirement already satisfied: cycler>=0.10 in /opt/anaconda3/lib/python3.8/site-packages (from matplotlib->catboost) (0.10.0)\n",
      "Requirement already satisfied: kiwisolver>=1.0.1 in /opt/anaconda3/lib/python3.8/site-packages (from matplotlib->catboost) (1.3.1)\n",
      "Requirement already satisfied: pillow>=6.2.0 in /opt/anaconda3/lib/python3.8/site-packages (from matplotlib->catboost) (8.2.0)\n",
      "Requirement already satisfied: pyparsing!=2.0.4,!=2.1.2,!=2.1.6,>=2.0.3 in /opt/anaconda3/lib/python3.8/site-packages (from matplotlib->catboost) (2.4.7)\n",
      "Requirement already satisfied: tenacity>=6.2.0 in /opt/anaconda3/lib/python3.8/site-packages (from plotly->catboost) (8.2.2)\n",
      "Requirement already satisfied: packaging in /opt/anaconda3/lib/python3.8/site-packages (from plotly->catboost) (20.9)\n",
      "Requirement already satisfied: pandas==0.25.3 in /opt/anaconda3/lib/python3.8/site-packages (0.25.3)\n",
      "Requirement already satisfied: python-dateutil>=2.6.1 in /opt/anaconda3/lib/python3.8/site-packages (from pandas==0.25.3) (2.8.1)\n",
      "Requirement already satisfied: pytz>=2017.2 in /opt/anaconda3/lib/python3.8/site-packages (from pandas==0.25.3) (2021.1)\n",
      "Requirement already satisfied: numpy>=1.13.3 in /opt/anaconda3/lib/python3.8/site-packages (from pandas==0.25.3) (1.16.5)\n",
      "Requirement already satisfied: six>=1.5 in /opt/anaconda3/lib/python3.8/site-packages (from python-dateutil>=2.6.1->pandas==0.25.3) (1.15.0)\n"
     ]
    }
   ],
   "source": [
    "############################################## 00. 필요한 파이썬 라이브러리 설치하기 #####################################################\n",
    "!pip install catboost\n",
    "!pip install pandas==0.25.3"
   ]
  },
  {
   "cell_type": "code",
   "execution_count": 5,
   "metadata": {
    "id": "7d7m58HiAx1x"
   },
   "outputs": [],
   "source": [
    "############################################## 00. 필요한 파이썬 라이브러리 불러오기 #####################################################\n",
    "import pandas as pd\n",
    "import numpy as np\n",
    "# import re > 정규식 사용하는 라이브러리\n",
    "import re\n",
    "\n",
    "import matplotlib.pyplot as plt\n",
    "import seaborn as sns\n",
    "\n",
    "from sklearn.model_selection import train_test_split\n",
    "from sklearn.metrics import accuracy_score, precision_score, recall_score, confusion_matrix, precision_recall_curve\n",
    "from catboost import Pool, CatBoostClassifier\n",
    "\n",
    "from scipy.stats import pearsonr, chi2_contingency\n",
    "from itertools import combinations\n",
    "from statsmodels.stats.proportion import proportion_confint"
   ]
  },
  {
   "cell_type": "code",
   "execution_count": 6,
   "metadata": {},
   "outputs": [
    {
     "name": "stdout",
     "output_type": "stream",
     "text": [
      "Requirement already satisfied: pip in /opt/anaconda3/lib/python3.8/site-packages (23.1.2)\n",
      "Note: you may need to restart the kernel to use updated packages.\n"
     ]
    }
   ],
   "source": [
    "pip install --upgrade pip"
   ]
  },
  {
   "cell_type": "markdown",
   "metadata": {
    "id": "GPGCdrhnAzfc"
   },
   "source": [
    "#### 1) 대출 승인내역 불러오기\n",
    "  * issue_d 컬럼은 parse_dates 사용\n",
    "  * infer_datetime_format = True\n",
    "  * reset_index(drop=True) 사용"
   ]
  },
  {
   "cell_type": "code",
   "execution_count": 7,
   "metadata": {
    "colab": {
     "base_uri": "https://localhost:8080/",
     "height": 374
    },
    "executionInfo": {
     "elapsed": 63971,
     "status": "ok",
     "timestamp": 1625484434974,
     "user": {
      "displayName": "Young jun Jang",
      "photoUrl": "",
      "userId": "15364579243826530783"
     },
     "user_tz": -540
    },
    "id": "2fUEPQKM_HHZ",
    "outputId": "f7816e7c-e676-4035-fd7b-fad5a4d05949",
    "scrolled": false
   },
   "outputs": [
    {
     "name": "stderr",
     "output_type": "stream",
     "text": [
      "/opt/anaconda3/lib/python3.8/site-packages/IPython/core/interactiveshell.py:3165: DtypeWarning: Columns (0,19,49,59,118,129,130,131,134,135,136,139,145,146,147) have mixed types. Specify dtype option on import or set low_memory=False.\n",
      "  has_raised = await self.run_ast_nodes(code_ast.body, cell_name,\n"
     ]
    },
    {
     "data": {
      "text/html": [
       "<div>\n",
       "<style scoped>\n",
       "    .dataframe tbody tr th:only-of-type {\n",
       "        vertical-align: middle;\n",
       "    }\n",
       "\n",
       "    .dataframe tbody tr th {\n",
       "        vertical-align: top;\n",
       "    }\n",
       "\n",
       "    .dataframe thead th {\n",
       "        text-align: right;\n",
       "    }\n",
       "</style>\n",
       "<table border=\"1\" class=\"dataframe\">\n",
       "  <thead>\n",
       "    <tr style=\"text-align: right;\">\n",
       "      <th></th>\n",
       "      <th>id</th>\n",
       "      <th>member_id</th>\n",
       "      <th>loan_amnt</th>\n",
       "      <th>funded_amnt</th>\n",
       "      <th>funded_amnt_inv</th>\n",
       "      <th>term</th>\n",
       "      <th>int_rate</th>\n",
       "      <th>installment</th>\n",
       "      <th>grade</th>\n",
       "      <th>sub_grade</th>\n",
       "      <th>...</th>\n",
       "      <th>hardship_payoff_balance_amount</th>\n",
       "      <th>hardship_last_payment_amount</th>\n",
       "      <th>disbursement_method</th>\n",
       "      <th>debt_settlement_flag</th>\n",
       "      <th>debt_settlement_flag_date</th>\n",
       "      <th>settlement_status</th>\n",
       "      <th>settlement_date</th>\n",
       "      <th>settlement_amount</th>\n",
       "      <th>settlement_percentage</th>\n",
       "      <th>settlement_term</th>\n",
       "    </tr>\n",
       "  </thead>\n",
       "  <tbody>\n",
       "    <tr>\n",
       "      <th>0</th>\n",
       "      <td>130954621</td>\n",
       "      <td>NaN</td>\n",
       "      <td>5000.0</td>\n",
       "      <td>5000.0</td>\n",
       "      <td>5000.0</td>\n",
       "      <td>36 months</td>\n",
       "      <td>20.39</td>\n",
       "      <td>186.82</td>\n",
       "      <td>D</td>\n",
       "      <td>D4</td>\n",
       "      <td>...</td>\n",
       "      <td>NaN</td>\n",
       "      <td>NaN</td>\n",
       "      <td>Cash</td>\n",
       "      <td>N</td>\n",
       "      <td>NaN</td>\n",
       "      <td>NaN</td>\n",
       "      <td>NaN</td>\n",
       "      <td>NaN</td>\n",
       "      <td>NaN</td>\n",
       "      <td>NaN</td>\n",
       "    </tr>\n",
       "    <tr>\n",
       "      <th>1</th>\n",
       "      <td>130964697</td>\n",
       "      <td>NaN</td>\n",
       "      <td>15000.0</td>\n",
       "      <td>15000.0</td>\n",
       "      <td>15000.0</td>\n",
       "      <td>36 months</td>\n",
       "      <td>9.92</td>\n",
       "      <td>483.45</td>\n",
       "      <td>B</td>\n",
       "      <td>B2</td>\n",
       "      <td>...</td>\n",
       "      <td>NaN</td>\n",
       "      <td>NaN</td>\n",
       "      <td>Cash</td>\n",
       "      <td>N</td>\n",
       "      <td>NaN</td>\n",
       "      <td>NaN</td>\n",
       "      <td>NaN</td>\n",
       "      <td>NaN</td>\n",
       "      <td>NaN</td>\n",
       "      <td>NaN</td>\n",
       "    </tr>\n",
       "    <tr>\n",
       "      <th>2</th>\n",
       "      <td>130955326</td>\n",
       "      <td>NaN</td>\n",
       "      <td>11200.0</td>\n",
       "      <td>11200.0</td>\n",
       "      <td>11200.0</td>\n",
       "      <td>60 months</td>\n",
       "      <td>30.79</td>\n",
       "      <td>367.82</td>\n",
       "      <td>G</td>\n",
       "      <td>G1</td>\n",
       "      <td>...</td>\n",
       "      <td>NaN</td>\n",
       "      <td>NaN</td>\n",
       "      <td>Cash</td>\n",
       "      <td>N</td>\n",
       "      <td>NaN</td>\n",
       "      <td>NaN</td>\n",
       "      <td>NaN</td>\n",
       "      <td>NaN</td>\n",
       "      <td>NaN</td>\n",
       "      <td>NaN</td>\n",
       "    </tr>\n",
       "    <tr>\n",
       "      <th>3</th>\n",
       "      <td>130504052</td>\n",
       "      <td>NaN</td>\n",
       "      <td>25000.0</td>\n",
       "      <td>25000.0</td>\n",
       "      <td>25000.0</td>\n",
       "      <td>60 months</td>\n",
       "      <td>21.85</td>\n",
       "      <td>688.35</td>\n",
       "      <td>D</td>\n",
       "      <td>D5</td>\n",
       "      <td>...</td>\n",
       "      <td>NaN</td>\n",
       "      <td>NaN</td>\n",
       "      <td>Cash</td>\n",
       "      <td>N</td>\n",
       "      <td>NaN</td>\n",
       "      <td>NaN</td>\n",
       "      <td>NaN</td>\n",
       "      <td>NaN</td>\n",
       "      <td>NaN</td>\n",
       "      <td>NaN</td>\n",
       "    </tr>\n",
       "    <tr>\n",
       "      <th>4</th>\n",
       "      <td>130956066</td>\n",
       "      <td>NaN</td>\n",
       "      <td>3000.0</td>\n",
       "      <td>3000.0</td>\n",
       "      <td>3000.0</td>\n",
       "      <td>36 months</td>\n",
       "      <td>7.34</td>\n",
       "      <td>93.10</td>\n",
       "      <td>A</td>\n",
       "      <td>A4</td>\n",
       "      <td>...</td>\n",
       "      <td>NaN</td>\n",
       "      <td>NaN</td>\n",
       "      <td>Cash</td>\n",
       "      <td>N</td>\n",
       "      <td>NaN</td>\n",
       "      <td>NaN</td>\n",
       "      <td>NaN</td>\n",
       "      <td>NaN</td>\n",
       "      <td>NaN</td>\n",
       "      <td>NaN</td>\n",
       "    </tr>\n",
       "  </tbody>\n",
       "</table>\n",
       "<p>5 rows × 151 columns</p>\n",
       "</div>"
      ],
      "text/plain": [
       "          id  member_id  loan_amnt  funded_amnt  funded_amnt_inv        term  \\\n",
       "0  130954621        NaN     5000.0       5000.0           5000.0   36 months   \n",
       "1  130964697        NaN    15000.0      15000.0          15000.0   36 months   \n",
       "2  130955326        NaN    11200.0      11200.0          11200.0   60 months   \n",
       "3  130504052        NaN    25000.0      25000.0          25000.0   60 months   \n",
       "4  130956066        NaN     3000.0       3000.0           3000.0   36 months   \n",
       "\n",
       "   int_rate  installment grade sub_grade  ... hardship_payoff_balance_amount  \\\n",
       "0     20.39       186.82     D        D4  ...                            NaN   \n",
       "1      9.92       483.45     B        B2  ...                            NaN   \n",
       "2     30.79       367.82     G        G1  ...                            NaN   \n",
       "3     21.85       688.35     D        D5  ...                            NaN   \n",
       "4      7.34        93.10     A        A4  ...                            NaN   \n",
       "\n",
       "  hardship_last_payment_amount disbursement_method  debt_settlement_flag  \\\n",
       "0                          NaN                Cash                     N   \n",
       "1                          NaN                Cash                     N   \n",
       "2                          NaN                Cash                     N   \n",
       "3                          NaN                Cash                     N   \n",
       "4                          NaN                Cash                     N   \n",
       "\n",
       "  debt_settlement_flag_date settlement_status settlement_date  \\\n",
       "0                       NaN               NaN             NaN   \n",
       "1                       NaN               NaN             NaN   \n",
       "2                       NaN               NaN             NaN   \n",
       "3                       NaN               NaN             NaN   \n",
       "4                       NaN               NaN             NaN   \n",
       "\n",
       "  settlement_amount settlement_percentage settlement_term  \n",
       "0               NaN                   NaN             NaN  \n",
       "1               NaN                   NaN             NaN  \n",
       "2               NaN                   NaN             NaN  \n",
       "3               NaN                   NaN             NaN  \n",
       "4               NaN                   NaN             NaN  \n",
       "\n",
       "[5 rows x 151 columns]"
      ]
     },
     "execution_count": 7,
     "metadata": {},
     "output_type": "execute_result"
    }
   ],
   "source": [
    "data = pd.read_csv(\n",
    "    '/Users/brianna/Downloads/archive/accepted_2007_to_2018Q4 2.csv',\n",
    "    parse_dates=['issue_d'], infer_datetime_format=True)\n",
    "    # issue_d는 대출금 조달된 날(날짜 데이터)\n",
    "    # infer_datetime_format=True : 이슈 D 컬럼 불러올때 datatime형식으로 불러와라\n",
    "    # pandas가 똑똑하게도 알아서 날짜/시간 포맷을 추정해서 잘 파싱해줌\n",
    "data = data[(data.issue_d >= '2018-01-01 00:00:00') & (data.issue_d < '2019-01-01 00:00:00')]\n",
    "# 2018년도 1월 1일 ~ 2019년도 1월 1일까지 데이터 가져옴\n",
    "data = data.reset_index(drop=True)\n",
    "# 새로가져온 데이터는 인덱스 새로 설정\n",
    "data.head()"
   ]
  },
  {
   "cell_type": "markdown",
   "metadata": {
    "id": "NqZb8RPXHIEk"
   },
   "source": [
    "#### 2) 대출용어 사전 불러오기 \n",
    "* pandas 의 read_excel 사용 / Excel Sheet 중 2번째(sheet_name=1)을 불러온다."
   ]
  },
  {
   "cell_type": "code",
   "execution_count": 8,
   "metadata": {
    "colab": {
     "base_uri": "https://localhost:8080/",
     "height": 204
    },
    "executionInfo": {
     "elapsed": 411,
     "status": "ok",
     "timestamp": 1625484435381,
     "user": {
      "displayName": "Young jun Jang",
      "photoUrl": "",
      "userId": "15364579243826530783"
     },
     "user_tz": -540
    },
    "id": "5mWrr-zj_EvK",
    "outputId": "0da5f5c9-39f3-4d46-d079-3cddcd5010d3"
   },
   "outputs": [
    {
     "data": {
      "text/html": [
       "<div>\n",
       "<style scoped>\n",
       "    .dataframe tbody tr th:only-of-type {\n",
       "        vertical-align: middle;\n",
       "    }\n",
       "\n",
       "    .dataframe tbody tr th {\n",
       "        vertical-align: top;\n",
       "    }\n",
       "\n",
       "    .dataframe thead th {\n",
       "        text-align: right;\n",
       "    }\n",
       "</style>\n",
       "<table border=\"1\" class=\"dataframe\">\n",
       "  <thead>\n",
       "    <tr style=\"text-align: right;\">\n",
       "      <th></th>\n",
       "      <th>BrowseNotesFile</th>\n",
       "      <th>Description</th>\n",
       "      <th>Unnamed: 2</th>\n",
       "      <th>Unnamed: 3</th>\n",
       "      <th>Unnamed: 4</th>\n",
       "      <th>Unnamed: 5</th>\n",
       "    </tr>\n",
       "  </thead>\n",
       "  <tbody>\n",
       "    <tr>\n",
       "      <th>0</th>\n",
       "      <td>acceptD</td>\n",
       "      <td>The date which the borrower accepted  the offer</td>\n",
       "      <td>NaN</td>\n",
       "      <td>NaN</td>\n",
       "      <td>NaN</td>\n",
       "      <td>NaN</td>\n",
       "    </tr>\n",
       "    <tr>\n",
       "      <th>1</th>\n",
       "      <td>accNowDelinq</td>\n",
       "      <td>The number of accounts on which the borrower i...</td>\n",
       "      <td>NaN</td>\n",
       "      <td>NaN</td>\n",
       "      <td>NaN</td>\n",
       "      <td>NaN</td>\n",
       "    </tr>\n",
       "    <tr>\n",
       "      <th>2</th>\n",
       "      <td>accOpenPast24Mths</td>\n",
       "      <td>Number of trades opened in past 24 months.</td>\n",
       "      <td>NaN</td>\n",
       "      <td>NaN</td>\n",
       "      <td>NaN</td>\n",
       "      <td>NaN</td>\n",
       "    </tr>\n",
       "    <tr>\n",
       "      <th>3</th>\n",
       "      <td>addrState</td>\n",
       "      <td>The state provided by the borrower in the loan...</td>\n",
       "      <td>NaN</td>\n",
       "      <td>NaN</td>\n",
       "      <td>NaN</td>\n",
       "      <td>NaN</td>\n",
       "    </tr>\n",
       "    <tr>\n",
       "      <th>4</th>\n",
       "      <td>all_util</td>\n",
       "      <td>Balance to credit limit on all trades</td>\n",
       "      <td>NaN</td>\n",
       "      <td>NaN</td>\n",
       "      <td>NaN</td>\n",
       "      <td>NaN</td>\n",
       "    </tr>\n",
       "  </tbody>\n",
       "</table>\n",
       "</div>"
      ],
      "text/plain": [
       "     BrowseNotesFile                                        Description  \\\n",
       "0            acceptD    The date which the borrower accepted  the offer   \n",
       "1       accNowDelinq  The number of accounts on which the borrower i...   \n",
       "2  accOpenPast24Mths         Number of trades opened in past 24 months.   \n",
       "3          addrState  The state provided by the borrower in the loan...   \n",
       "4           all_util              Balance to credit limit on all trades   \n",
       "\n",
       "   Unnamed: 2  Unnamed: 3  Unnamed: 4  Unnamed: 5  \n",
       "0         NaN         NaN         NaN         NaN  \n",
       "1         NaN         NaN         NaN         NaN  \n",
       "2         NaN         NaN         NaN         NaN  \n",
       "3         NaN         NaN         NaN         NaN  \n",
       "4         NaN         NaN         NaN         NaN  "
      ]
     },
     "execution_count": 8,
     "metadata": {},
     "output_type": "execute_result"
    }
   ],
   "source": [
    "browse_notes = pd.read_excel('/Users/brianna/Downloads/LCDataDictionary.xlsx',\n",
    "                             engine= 'openpyxl', sheet_name=1) \n",
    "# 대출용어 사전 불러오기, sheet_name = 1 기재해야지 2번째 시트불러옴\n",
    "# 없으면 첫번째 시트 디폴트로 불러옴\n",
    "browse_notes.head()"
   ]
  },
  {
   "cell_type": "markdown",
   "metadata": {
    "id": "5l2LN4GYAXUn"
   },
   "source": [
    "### 1. 데이터 전처리\n",
    "  * 기준정보 데이터와 대출승인 데이터의 정합성 맞추기"
   ]
  },
  {
   "cell_type": "markdown",
   "metadata": {
    "id": "-1ykzrGELEBw"
   },
   "source": [
    "#### 1) 대출용어 사전 결측값 제거"
   ]
  },
  {
   "cell_type": "code",
   "execution_count": 9,
   "metadata": {
    "colab": {
     "base_uri": "https://localhost:8080/"
    },
    "executionInfo": {
     "elapsed": 257,
     "status": "ok",
     "timestamp": 1625484500325,
     "user": {
      "displayName": "Young jun Jang",
      "photoUrl": "",
      "userId": "15364579243826530783"
     },
     "user_tz": -540
    },
    "id": "2SRWUGaHgFsx",
    "outputId": "15aa5dd3-9824-410a-a667-55c03b5bff2c"
   },
   "outputs": [
    {
     "data": {
      "text/plain": [
       "array(['acceptD', 'accNowDelinq', 'accOpenPast24Mths', 'addrState',\n",
       "       'all_util', 'annual_inc_joint', 'annualInc', 'application_type',\n",
       "       'avg_cur_bal', 'bcOpenToBuy', 'bcUtil', 'chargeoff_within_12_mths',\n",
       "       'collections_12_mths_ex_med', 'creditPullD', 'delinq2Yrs',\n",
       "       'delinqAmnt', 'desc', 'dti', 'dti_joint', 'earliestCrLine',\n",
       "       'effective_int_rate', 'emp_title', 'empLength', 'expD',\n",
       "       'expDefaultRate', 'ficoRangeHigh', 'ficoRangeLow', 'fundedAmnt',\n",
       "       'grade', 'homeOwnership', 'id', 'il_util', 'ils_exp_d',\n",
       "       'initialListStatus', 'inq_fi', 'inq_last_12m', 'inqLast6Mths',\n",
       "       'installment', 'intRate', 'isIncV', 'listD', 'loanAmnt',\n",
       "       'max_bal_bc', 'memberId', 'mo_sin_old_rev_tl_op',\n",
       "       'mo_sin_rcnt_rev_tl_op', 'mo_sin_rcnt_tl', 'mortAcc', 'msa',\n",
       "       'mths_since_last_major_derog', 'mths_since_oldest_il_open',\n",
       "       'mths_since_rcnt_il', 'mthsSinceLastDelinq', 'mthsSinceLastRecord',\n",
       "       'mthsSinceMostRecentInq', 'mthsSinceRecentBc',\n",
       "       'mthsSinceRecentLoanDelinq', 'mthsSinceRecentRevolDelinq',\n",
       "       'num_accts_ever_120_pd', 'num_actv_bc_tl', 'num_actv_rev_tl',\n",
       "       'num_bc_sats', 'num_bc_tl', 'num_il_tl', 'num_op_rev_tl',\n",
       "       'num_rev_accts', 'num_rev_tl_bal_gt_0', 'num_sats',\n",
       "       'num_tl_120dpd_2m', 'num_tl_30dpd', 'num_tl_90g_dpd_24m',\n",
       "       'num_tl_op_past_12m', 'open_acc_6m', 'open_il_12m', 'open_il_24m',\n",
       "       'open_il_6m', 'open_rv_12m', 'open_rv_24m', 'openAcc',\n",
       "       'pct_tl_nvr_dlq', 'percentBcGt75', 'pub_rec_bankruptcies',\n",
       "       'pubRec', 'purpose', 'reviewStatus', 'reviewStatusD', 'revolBal',\n",
       "       'revolUtil', 'serviceFeeRate', 'subGrade', 'tax_liens', 'term',\n",
       "       'title', 'tot_coll_amt', 'tot_cur_bal', 'tot_hi_cred_lim',\n",
       "       'total_bal_il', 'total_cu_tl', 'total_il_high_credit_limit',\n",
       "       'total_rev_hi_lim \\xa0', 'totalAcc', 'totalBalExMort',\n",
       "       'totalBcLimit', 'url', 'verified_status_joint', 'zip_code'],\n",
       "      dtype=object)"
      ]
     },
     "execution_count": 9,
     "metadata": {},
     "output_type": "execute_result"
    }
   ],
   "source": [
    "browse_notes['BrowseNotesFile'].dropna().values\n",
    "# drop.na 불러오면서 바로 제거 가능"
   ]
  },
  {
   "cell_type": "code",
   "execution_count": 10,
   "metadata": {
    "id": "ArxVA9o96EGP"
   },
   "outputs": [],
   "source": [
    "browse_feat = browse_notes['BrowseNotesFile'].dropna().values\n",
    "# 결측값 없앤 데이터를 browse_feat으로 넣어줌"
   ]
  },
  {
   "cell_type": "markdown",
   "metadata": {
    "id": "jNaxk7UiL_-c"
   },
   "source": [
    "#### 2) 대출용어 사전과 대출승인 데이터 문자열 규칙 맞추기\n",
    "  * 대문자, 숫자 앞에 '_' 붙여주고 모두 소문자 변환\n",
    "    > re.sub('(?<![0-9_])(?=[A-Z0-9])', '_', x).lower()\n",
    "  * 공백 처리\n",
    "    > .strip()"
   ]
  },
  {
   "cell_type": "code",
   "execution_count": 11,
   "metadata": {
    "id": "my4iyR5jLeo1"
   },
   "outputs": [],
   "source": [
    "### ???\n",
    "browse_feat = [re.sub('(?<![0-9_])(?=[A-Z0-9])', '_', x).lower().strip() for x in browse_feat]"
   ]
  },
  {
   "cell_type": "code",
   "execution_count": 12,
   "metadata": {},
   "outputs": [
    {
     "data": {
      "text/plain": [
       "['accept_d',\n",
       " 'acc_now_delinq',\n",
       " 'acc_open_past_24mths',\n",
       " 'addr_state',\n",
       " 'all_util',\n",
       " 'annual_inc_joint',\n",
       " 'annual_inc',\n",
       " 'application_type',\n",
       " 'avg_cur_bal',\n",
       " 'bc_open_to_buy',\n",
       " 'bc_util',\n",
       " 'chargeoff_within_12_mths',\n",
       " 'collections_12_mths_ex_med',\n",
       " 'credit_pull_d',\n",
       " 'delinq_2yrs',\n",
       " 'delinq_amnt',\n",
       " 'desc',\n",
       " 'dti',\n",
       " 'dti_joint',\n",
       " 'earliest_cr_line',\n",
       " 'effective_int_rate',\n",
       " 'emp_title',\n",
       " 'emp_length',\n",
       " 'exp_d',\n",
       " 'exp_default_rate',\n",
       " 'fico_range_high',\n",
       " 'fico_range_low',\n",
       " 'funded_amnt',\n",
       " 'grade',\n",
       " 'home_ownership',\n",
       " 'id',\n",
       " 'il_util',\n",
       " 'ils_exp_d',\n",
       " 'initial_list_status',\n",
       " 'inq_fi',\n",
       " 'inq_last_12m',\n",
       " 'inq_last_6mths',\n",
       " 'installment',\n",
       " 'int_rate',\n",
       " 'is_inc_v',\n",
       " 'list_d',\n",
       " 'loan_amnt',\n",
       " 'max_bal_bc',\n",
       " 'member_id',\n",
       " 'mo_sin_old_rev_tl_op',\n",
       " 'mo_sin_rcnt_rev_tl_op',\n",
       " 'mo_sin_rcnt_tl',\n",
       " 'mort_acc',\n",
       " 'msa',\n",
       " 'mths_since_last_major_derog',\n",
       " 'mths_since_oldest_il_open',\n",
       " 'mths_since_rcnt_il',\n",
       " 'mths_since_last_delinq',\n",
       " 'mths_since_last_record',\n",
       " 'mths_since_most_recent_inq',\n",
       " 'mths_since_recent_bc',\n",
       " 'mths_since_recent_loan_delinq',\n",
       " 'mths_since_recent_revol_delinq',\n",
       " 'num_accts_ever_120_pd',\n",
       " 'num_actv_bc_tl',\n",
       " 'num_actv_rev_tl',\n",
       " 'num_bc_sats',\n",
       " 'num_bc_tl',\n",
       " 'num_il_tl',\n",
       " 'num_op_rev_tl',\n",
       " 'num_rev_accts',\n",
       " 'num_rev_tl_bal_gt_0',\n",
       " 'num_sats',\n",
       " 'num_tl_120dpd_2m',\n",
       " 'num_tl_30dpd',\n",
       " 'num_tl_90g_dpd_24m',\n",
       " 'num_tl_op_past_12m',\n",
       " 'open_acc_6m',\n",
       " 'open_il_12m',\n",
       " 'open_il_24m',\n",
       " 'open_il_6m',\n",
       " 'open_rv_12m',\n",
       " 'open_rv_24m',\n",
       " 'open_acc',\n",
       " 'pct_tl_nvr_dlq',\n",
       " 'percent_bc_gt_75',\n",
       " 'pub_rec_bankruptcies',\n",
       " 'pub_rec',\n",
       " 'purpose',\n",
       " 'review_status',\n",
       " 'review_status_d',\n",
       " 'revol_bal',\n",
       " 'revol_util',\n",
       " 'service_fee_rate',\n",
       " 'sub_grade',\n",
       " 'tax_liens',\n",
       " 'term',\n",
       " 'title',\n",
       " 'tot_coll_amt',\n",
       " 'tot_cur_bal',\n",
       " 'tot_hi_cred_lim',\n",
       " 'total_bal_il',\n",
       " 'total_cu_tl',\n",
       " 'total_il_high_credit_limit',\n",
       " 'total_rev_hi_lim',\n",
       " 'total_acc',\n",
       " 'total_bal_ex_mort',\n",
       " 'total_bc_limit',\n",
       " 'url',\n",
       " 'verified_status_joint',\n",
       " 'zip_code']"
      ]
     },
     "execution_count": 12,
     "metadata": {},
     "output_type": "execute_result"
    }
   ],
   "source": [
    "browse_feat"
   ]
  },
  {
   "cell_type": "markdown",
   "metadata": {
    "id": "Hjq7_HjFMnpo"
   },
   "source": [
    "#### 3) 대출승인 데이터 컬럼과 대출용어 간의 차이를 확인한다\n",
    "  * np.setdiff1d(ar1, ar2) : ar2 에는 없는 ar1의 고유한 값을 반환\n",
    "  * https://rfriend.tistory.com/355"
   ]
  },
  {
   "cell_type": "code",
   "execution_count": 13,
   "metadata": {
    "colab": {
     "base_uri": "https://localhost:8080/"
    },
    "executionInfo": {
     "elapsed": 253,
     "status": "ok",
     "timestamp": 1625484831675,
     "user": {
      "displayName": "Young jun Jang",
      "photoUrl": "",
      "userId": "15364579243826530783"
     },
     "user_tz": -540
    },
    "id": "5az3i-z670tE",
    "outputId": "45707647-2894-44fa-b2e0-4f699652db2c"
   },
   "outputs": [
    {
     "data": {
      "text/plain": [
       "array(['accept_d', 'credit_pull_d', 'effective_int_rate', 'exp_d',\n",
       "       'exp_default_rate', 'ils_exp_d', 'is_inc_v', 'list_d', 'msa',\n",
       "       'mths_since_most_recent_inq', 'mths_since_oldest_il_open',\n",
       "       'mths_since_recent_loan_delinq', 'open_il_6m', 'review_status',\n",
       "       'review_status_d', 'service_fee_rate', 'verified_status_joint'],\n",
       "      dtype='<U30')"
      ]
     },
     "execution_count": 13,
     "metadata": {},
     "output_type": "execute_result"
    }
   ],
   "source": [
    "data_feat = data.columns.values\n",
    "###### 코드 작성 부분 시작 ######\n",
    "np.setdiff1d(browse_feat, data_feat)\n",
    "###### 코드 작성 부분 마침 ######\n",
    "# !대출용어사전에만 있음!, 대출승인 데이터에는 없는 내용임"
   ]
  },
  {
   "cell_type": "code",
   "execution_count": 14,
   "metadata": {
    "colab": {
     "base_uri": "https://localhost:8080/"
    },
    "executionInfo": {
     "elapsed": 293,
     "status": "ok",
     "timestamp": 1625484873308,
     "user": {
      "displayName": "Young jun Jang",
      "photoUrl": "",
      "userId": "15364579243826530783"
     },
     "user_tz": -540
    },
    "id": "vEXi__jd72eR",
    "outputId": "e61d55f1-14f9-4471-ab2b-bbcd0abf5992"
   },
   "outputs": [
    {
     "data": {
      "text/plain": [
       "array(['collection_recovery_fee', 'debt_settlement_flag',\n",
       "       'debt_settlement_flag_date', 'deferral_term',\n",
       "       'disbursement_method', 'funded_amnt_inv', 'hardship_amount',\n",
       "       'hardship_dpd', 'hardship_end_date', 'hardship_flag',\n",
       "       'hardship_last_payment_amount', 'hardship_length',\n",
       "       'hardship_loan_status', 'hardship_payoff_balance_amount',\n",
       "       'hardship_reason', 'hardship_start_date', 'hardship_status',\n",
       "       'hardship_type', 'issue_d', 'last_credit_pull_d',\n",
       "       'last_fico_range_high', 'last_fico_range_low', 'last_pymnt_amnt',\n",
       "       'last_pymnt_d', 'loan_status', 'mo_sin_old_il_acct',\n",
       "       'mths_since_recent_bc_dlq', 'mths_since_recent_inq',\n",
       "       'next_pymnt_d', 'open_act_il',\n",
       "       'orig_projected_additional_accrued_interest', 'out_prncp',\n",
       "       'out_prncp_inv', 'payment_plan_start_date', 'policy_code',\n",
       "       'pymnt_plan', 'recoveries', 'revol_bal_joint',\n",
       "       'sec_app_chargeoff_within_12_mths',\n",
       "       'sec_app_collections_12_mths_ex_med', 'sec_app_earliest_cr_line',\n",
       "       'sec_app_fico_range_high', 'sec_app_fico_range_low',\n",
       "       'sec_app_inq_last_6mths', 'sec_app_mort_acc',\n",
       "       'sec_app_mths_since_last_major_derog', 'sec_app_num_rev_accts',\n",
       "       'sec_app_open_acc', 'sec_app_open_act_il', 'sec_app_revol_util',\n",
       "       'settlement_amount', 'settlement_date', 'settlement_percentage',\n",
       "       'settlement_status', 'settlement_term', 'total_pymnt',\n",
       "       'total_pymnt_inv', 'total_rec_int', 'total_rec_late_fee',\n",
       "       'total_rec_prncp', 'verification_status',\n",
       "       'verification_status_joint'], dtype=object)"
      ]
     },
     "execution_count": 14,
     "metadata": {},
     "output_type": "execute_result"
    }
   ],
   "source": [
    "np.setdiff1d(data_feat, browse_feat)\n",
    "# 사전 데이터에는 없고, !대출승인데이터에만 있음!"
   ]
  },
  {
   "cell_type": "markdown",
   "metadata": {
    "id": "M5ar9zq4NfOW"
   },
   "source": [
    "#### 4) 대출 시점(대출용어 사전)에서의 용어 중 대출승인 데이터 컬럼과 같은 의미인 용어를 서로 같게 만든다\n",
    "  * 대출 시점(대출용어 사전)에서의 용어 중 대출승인 데이터 컬럼과 의미가 같지만 이름이 다른 컬럼들\n",
    "          ['is_inc_v', 'mths_since_most_recent_inq','mths_since_oldest_il_open','mths_since_recent_loan_delinq', 'verified_status_joint']\n",
    "  * 대출승인 데이터 컬럼에서의 이름들 (예: verified_status_join → verification_status_joint)\n",
    "          ['verification_status', 'mths_since_recent_inq', 'mo_sin_old_il_acct','mths_since_recent_bc_dlq', 'verification_status_joint']\n",
    "  * np.setdiff1d / np.append 사용"
   ]
  },
  {
   "cell_type": "code",
   "execution_count": 15,
   "metadata": {
    "id": "s98zMbPC75zV"
   },
   "outputs": [],
   "source": [
    "# 대출 용어 사전에 있는것들이 틀린것들임\n",
    "wrong = ['is_inc_v', 'mths_since_most_recent_inq', 'mths_since_oldest_il_open',\n",
    "         'mths_since_recent_loan_delinq', 'verified_status_joint']\n",
    "# 대출 승인 데이터들이 맞는것으로 정의\n",
    "correct = ['verification_status', 'mths_since_recent_inq', 'mo_sin_old_il_acct',\n",
    "           'mths_since_recent_bc_dlq', 'verification_status_joint']\n",
    "\n",
    "###### 코드 작성 부분 시작 ######\n",
    "broswse_feat = np.setdiff1d(browse_feat, wrong)\n",
    "###### 코드 작성 부분 마침 ######\n",
    "browse_feat = np.append(browse_feat, correct)"
   ]
  },
  {
   "cell_type": "markdown",
   "metadata": {
    "id": "eOyBkbUdS8UD"
   },
   "source": [
    "#### 5) 대출용어 사전과 대출승인 데이터 컬럼 이름이 같은 것들만 가져온다.\n",
    "  * np.intersect1d(ar1, ar2) : ar1 과 ar2 의 공통된 항목들만 반환한다"
   ]
  },
  {
   "cell_type": "code",
   "execution_count": 16,
   "metadata": {},
   "outputs": [
    {
     "name": "stdout",
     "output_type": "stream",
     "text": [
      "Requirement already satisfied: numpy==1.16.5 in /opt/anaconda3/lib/python3.8/site-packages (1.16.5)\n",
      "Note: you may need to restart the kernel to use updated packages.\n"
     ]
    }
   ],
   "source": [
    "pip install numpy==1.16.5"
   ]
  },
  {
   "cell_type": "code",
   "execution_count": 17,
   "metadata": {
    "colab": {
     "base_uri": "https://localhost:8080/"
    },
    "executionInfo": {
     "elapsed": 1141,
     "status": "ok",
     "timestamp": 1625485074847,
     "user": {
      "displayName": "Young jun Jang",
      "photoUrl": "",
      "userId": "15364579243826530783"
     },
     "user_tz": -540
    },
    "id": "tBUtVL1t785R",
    "outputId": "e0b1048b-7adc-4cfa-d924-3bba90cd48db"
   },
   "outputs": [
    {
     "name": "stdout",
     "output_type": "stream",
     "text": [
      "<class 'pandas.core.frame.DataFrame'>\n",
      "RangeIndex: 495242 entries, 0 to 495241\n",
      "Data columns (total 94 columns):\n",
      "acc_now_delinq                    495242 non-null float64\n",
      "acc_open_past_24mths              495242 non-null float64\n",
      "addr_state                        495242 non-null object\n",
      "all_util                          495113 non-null float64\n",
      "annual_inc                        495242 non-null float64\n",
      "annual_inc_joint                  68985 non-null float64\n",
      "application_type                  495242 non-null object\n",
      "avg_cur_bal                       495202 non-null float64\n",
      "bc_open_to_buy                    488654 non-null float64\n",
      "bc_util                           488439 non-null float64\n",
      "chargeoff_within_12_mths          495242 non-null float64\n",
      "collections_12_mths_ex_med        495242 non-null float64\n",
      "delinq_2yrs                       495242 non-null float64\n",
      "delinq_amnt                       495242 non-null float64\n",
      "desc                              0 non-null object\n",
      "dti                               494110 non-null float64\n",
      "dti_joint                         68985 non-null float64\n",
      "earliest_cr_line                  495242 non-null object\n",
      "emp_length                        453255 non-null object\n",
      "emp_title                         440583 non-null object\n",
      "fico_range_high                   495242 non-null float64\n",
      "fico_range_low                    495242 non-null float64\n",
      "funded_amnt                       495242 non-null float64\n",
      "grade                             495242 non-null object\n",
      "home_ownership                    495242 non-null object\n",
      "id                                495242 non-null object\n",
      "il_util                           414418 non-null float64\n",
      "initial_list_status               495242 non-null object\n",
      "inq_fi                            495242 non-null float64\n",
      "inq_last_12m                      495242 non-null float64\n",
      "inq_last_6mths                    495242 non-null float64\n",
      "installment                       495242 non-null float64\n",
      "int_rate                          495242 non-null float64\n",
      "loan_amnt                         495242 non-null float64\n",
      "max_bal_bc                        495242 non-null float64\n",
      "member_id                         0 non-null float64\n",
      "mo_sin_old_il_acct                476832 non-null float64\n",
      "mo_sin_old_rev_tl_op              495242 non-null float64\n",
      "mo_sin_rcnt_rev_tl_op             495242 non-null float64\n",
      "mo_sin_rcnt_tl                    495242 non-null float64\n",
      "mort_acc                          495242 non-null float64\n",
      "mths_since_last_delinq            218590 non-null float64\n",
      "mths_since_last_major_derog       114833 non-null float64\n",
      "mths_since_last_record            62984 non-null float64\n",
      "mths_since_rcnt_il                476832 non-null float64\n",
      "mths_since_recent_bc              489044 non-null float64\n",
      "mths_since_recent_bc_dlq          98110 non-null float64\n",
      "mths_since_recent_inq             433937 non-null float64\n",
      "mths_since_recent_revol_delinq    142690 non-null float64\n",
      "num_accts_ever_120_pd             495242 non-null float64\n",
      "num_actv_bc_tl                    495242 non-null float64\n",
      "num_actv_rev_tl                   495242 non-null float64\n",
      "num_bc_sats                       495242 non-null float64\n",
      "num_bc_tl                         495242 non-null float64\n",
      "num_il_tl                         495242 non-null float64\n",
      "num_op_rev_tl                     495242 non-null float64\n",
      "num_rev_accts                     495242 non-null float64\n",
      "num_rev_tl_bal_gt_0               495242 non-null float64\n",
      "num_sats                          495242 non-null float64\n",
      "num_tl_120dpd_2m                  482838 non-null float64\n",
      "num_tl_30dpd                      495242 non-null float64\n",
      "num_tl_90g_dpd_24m                495242 non-null float64\n",
      "num_tl_op_past_12m                495242 non-null float64\n",
      "open_acc                          495242 non-null float64\n",
      "open_acc_6m                       495242 non-null float64\n",
      "open_il_12m                       495242 non-null float64\n",
      "open_il_24m                       495242 non-null float64\n",
      "open_rv_12m                       495242 non-null float64\n",
      "open_rv_24m                       495242 non-null float64\n",
      "pct_tl_nvr_dlq                    495240 non-null float64\n",
      "percent_bc_gt_75                  488646 non-null float64\n",
      "pub_rec                           495242 non-null float64\n",
      "pub_rec_bankruptcies              495242 non-null float64\n",
      "purpose                           495242 non-null object\n",
      "revol_bal                         495242 non-null float64\n",
      "revol_util                        494650 non-null float64\n",
      "sub_grade                         495242 non-null object\n",
      "tax_liens                         495242 non-null float64\n",
      "term                              495242 non-null object\n",
      "title                             495242 non-null object\n",
      "tot_coll_amt                      495242 non-null float64\n",
      "tot_cur_bal                       495242 non-null float64\n",
      "tot_hi_cred_lim                   495242 non-null float64\n",
      "total_acc                         495242 non-null float64\n",
      "total_bal_ex_mort                 495242 non-null float64\n",
      "total_bal_il                      495242 non-null float64\n",
      "total_bc_limit                    495242 non-null float64\n",
      "total_cu_tl                       495242 non-null float64\n",
      "total_il_high_credit_limit        495242 non-null float64\n",
      "total_rev_hi_lim                  495242 non-null float64\n",
      "url                               495242 non-null object\n",
      "verification_status               495242 non-null object\n",
      "verification_status_joint         64011 non-null object\n",
      "zip_code                          495242 non-null object\n",
      "dtypes: float64(76), object(18)\n",
      "memory usage: 355.2+ MB\n"
     ]
    }
   ],
   "source": [
    "###### 코드 작성 부분 시작 ######\n",
    "avail_feat = np.intersect1d(browse_feat, data_feat)\n",
    "X = data[avail_feat].copy()\n",
    "X.info()\n",
    "###### 코드 작성 부분 마침 ######"
   ]
  },
  {
   "cell_type": "markdown",
   "metadata": {
    "id": "FvrG2cs48AQ7"
   },
   "source": [
    "### 2. 데이터 타입별 Feature 변환\n",
    "  * 결측값 처리\n",
    "  * 기준정보 데이터와 대출승인 데이터의 정합성 맞추기"
   ]
  },
  {
   "cell_type": "markdown",
   "metadata": {
    "id": "TQyh1AW0ZB_Y"
   },
   "source": [
    "#### 1) 범주형 데이터 확인\n",
    "  * pandas 의 select_dtypes('object') 사용\n",
    "  * https://brunch.co.kr/@brunch92ny/4"
   ]
  },
  {
   "cell_type": "code",
   "execution_count": 18,
   "metadata": {
    "colab": {
     "base_uri": "https://localhost:8080/",
     "height": 309
    },
    "executionInfo": {
     "elapsed": 251,
     "status": "ok",
     "timestamp": 1625485841385,
     "user": {
      "displayName": "Young jun Jang",
      "photoUrl": "",
      "userId": "15364579243826530783"
     },
     "user_tz": -540
    },
    "id": "gbAOYLVj8Amk",
    "outputId": "f772e890-2e9c-49f1-8c6c-ad18321062df"
   },
   "outputs": [
    {
     "data": {
      "text/html": [
       "<div>\n",
       "<style scoped>\n",
       "    .dataframe tbody tr th:only-of-type {\n",
       "        vertical-align: middle;\n",
       "    }\n",
       "\n",
       "    .dataframe tbody tr th {\n",
       "        vertical-align: top;\n",
       "    }\n",
       "\n",
       "    .dataframe thead th {\n",
       "        text-align: right;\n",
       "    }\n",
       "</style>\n",
       "<table border=\"1\" class=\"dataframe\">\n",
       "  <thead>\n",
       "    <tr style=\"text-align: right;\">\n",
       "      <th></th>\n",
       "      <th>addr_state</th>\n",
       "      <th>application_type</th>\n",
       "      <th>desc</th>\n",
       "      <th>earliest_cr_line</th>\n",
       "      <th>emp_length</th>\n",
       "      <th>emp_title</th>\n",
       "      <th>grade</th>\n",
       "      <th>home_ownership</th>\n",
       "      <th>id</th>\n",
       "      <th>initial_list_status</th>\n",
       "      <th>purpose</th>\n",
       "      <th>sub_grade</th>\n",
       "      <th>term</th>\n",
       "      <th>title</th>\n",
       "      <th>url</th>\n",
       "      <th>verification_status</th>\n",
       "      <th>verification_status_joint</th>\n",
       "      <th>zip_code</th>\n",
       "    </tr>\n",
       "  </thead>\n",
       "  <tbody>\n",
       "    <tr>\n",
       "      <th>0</th>\n",
       "      <td>OK</td>\n",
       "      <td>Individual</td>\n",
       "      <td>NaN</td>\n",
       "      <td>Jan-2009</td>\n",
       "      <td>8 years</td>\n",
       "      <td>General Manager</td>\n",
       "      <td>D</td>\n",
       "      <td>RENT</td>\n",
       "      <td>130954621</td>\n",
       "      <td>w</td>\n",
       "      <td>other</td>\n",
       "      <td>D4</td>\n",
       "      <td>36 months</td>\n",
       "      <td>Other</td>\n",
       "      <td>https://lendingclub.com/browse/loanDetail.acti...</td>\n",
       "      <td>Verified</td>\n",
       "      <td>NaN</td>\n",
       "      <td>740xx</td>\n",
       "    </tr>\n",
       "    <tr>\n",
       "      <th>1</th>\n",
       "      <td>FL</td>\n",
       "      <td>Individual</td>\n",
       "      <td>NaN</td>\n",
       "      <td>Jul-1998</td>\n",
       "      <td>2 years</td>\n",
       "      <td>IT Director</td>\n",
       "      <td>B</td>\n",
       "      <td>OWN</td>\n",
       "      <td>130964697</td>\n",
       "      <td>w</td>\n",
       "      <td>debt_consolidation</td>\n",
       "      <td>B2</td>\n",
       "      <td>36 months</td>\n",
       "      <td>Debt consolidation</td>\n",
       "      <td>https://lendingclub.com/browse/loanDetail.acti...</td>\n",
       "      <td>Source Verified</td>\n",
       "      <td>NaN</td>\n",
       "      <td>337xx</td>\n",
       "    </tr>\n",
       "    <tr>\n",
       "      <th>2</th>\n",
       "      <td>NH</td>\n",
       "      <td>Joint App</td>\n",
       "      <td>NaN</td>\n",
       "      <td>Jul-2007</td>\n",
       "      <td>&lt; 1 year</td>\n",
       "      <td>Client services</td>\n",
       "      <td>G</td>\n",
       "      <td>RENT</td>\n",
       "      <td>130955326</td>\n",
       "      <td>w</td>\n",
       "      <td>medical</td>\n",
       "      <td>G1</td>\n",
       "      <td>60 months</td>\n",
       "      <td>Medical expenses</td>\n",
       "      <td>https://lendingclub.com/browse/loanDetail.acti...</td>\n",
       "      <td>Not Verified</td>\n",
       "      <td>Not Verified</td>\n",
       "      <td>030xx</td>\n",
       "    </tr>\n",
       "    <tr>\n",
       "      <th>3</th>\n",
       "      <td>AL</td>\n",
       "      <td>Individual</td>\n",
       "      <td>NaN</td>\n",
       "      <td>Mar-1995</td>\n",
       "      <td>10+ years</td>\n",
       "      <td>Asphalt Supervisor</td>\n",
       "      <td>D</td>\n",
       "      <td>MORTGAGE</td>\n",
       "      <td>130504052</td>\n",
       "      <td>w</td>\n",
       "      <td>debt_consolidation</td>\n",
       "      <td>D5</td>\n",
       "      <td>60 months</td>\n",
       "      <td>Debt consolidation</td>\n",
       "      <td>https://lendingclub.com/browse/loanDetail.acti...</td>\n",
       "      <td>Source Verified</td>\n",
       "      <td>NaN</td>\n",
       "      <td>361xx</td>\n",
       "    </tr>\n",
       "    <tr>\n",
       "      <th>4</th>\n",
       "      <td>WA</td>\n",
       "      <td>Individual</td>\n",
       "      <td>NaN</td>\n",
       "      <td>Jan-1998</td>\n",
       "      <td>9 years</td>\n",
       "      <td>Scale Technician</td>\n",
       "      <td>A</td>\n",
       "      <td>RENT</td>\n",
       "      <td>130956066</td>\n",
       "      <td>w</td>\n",
       "      <td>major_purchase</td>\n",
       "      <td>A4</td>\n",
       "      <td>36 months</td>\n",
       "      <td>Major purchase</td>\n",
       "      <td>https://lendingclub.com/browse/loanDetail.acti...</td>\n",
       "      <td>Source Verified</td>\n",
       "      <td>NaN</td>\n",
       "      <td>988xx</td>\n",
       "    </tr>\n",
       "  </tbody>\n",
       "</table>\n",
       "</div>"
      ],
      "text/plain": [
       "  addr_state application_type desc earliest_cr_line emp_length  \\\n",
       "0         OK       Individual  NaN         Jan-2009    8 years   \n",
       "1         FL       Individual  NaN         Jul-1998    2 years   \n",
       "2         NH        Joint App  NaN         Jul-2007   < 1 year   \n",
       "3         AL       Individual  NaN         Mar-1995  10+ years   \n",
       "4         WA       Individual  NaN         Jan-1998    9 years   \n",
       "\n",
       "            emp_title grade home_ownership         id initial_list_status  \\\n",
       "0     General Manager     D           RENT  130954621                   w   \n",
       "1        IT Director      B            OWN  130964697                   w   \n",
       "2    Client services      G           RENT  130955326                   w   \n",
       "3  Asphalt Supervisor     D       MORTGAGE  130504052                   w   \n",
       "4    Scale Technician     A           RENT  130956066                   w   \n",
       "\n",
       "              purpose sub_grade        term               title  \\\n",
       "0               other        D4   36 months               Other   \n",
       "1  debt_consolidation        B2   36 months  Debt consolidation   \n",
       "2             medical        G1   60 months    Medical expenses   \n",
       "3  debt_consolidation        D5   60 months  Debt consolidation   \n",
       "4      major_purchase        A4   36 months      Major purchase   \n",
       "\n",
       "                                                 url verification_status  \\\n",
       "0  https://lendingclub.com/browse/loanDetail.acti...            Verified   \n",
       "1  https://lendingclub.com/browse/loanDetail.acti...     Source Verified   \n",
       "2  https://lendingclub.com/browse/loanDetail.acti...        Not Verified   \n",
       "3  https://lendingclub.com/browse/loanDetail.acti...     Source Verified   \n",
       "4  https://lendingclub.com/browse/loanDetail.acti...     Source Verified   \n",
       "\n",
       "  verification_status_joint zip_code  \n",
       "0                       NaN    740xx  \n",
       "1                       NaN    337xx  \n",
       "2              Not Verified    030xx  \n",
       "3                       NaN    361xx  \n",
       "4                       NaN    988xx  "
      ]
     },
     "execution_count": 18,
     "metadata": {},
     "output_type": "execute_result"
    }
   ],
   "source": [
    "###### 코드 작성 부분 시작 ######\n",
    "X.select_dtypes('object').head()\n",
    "# select_dtypes() 범주형 데이터 인것만 가져옴!!\n",
    "###### 코드 작성 부분 마침 ######\n",
    "\n",
    "# earliest_cr_line > 대출시작한달\u001c"
   ]
  },
  {
   "cell_type": "markdown",
   "metadata": {
    "id": "0RvphBPZZIrC"
   },
   "source": [
    "#### 2) 범주형 문자열 데이터 중 날짜/기간/고유ID 데이터 처리\n",
    "  * pandas 의 to_datetime 사용\n",
    "  * .str.extract('(\\d+)').astype('float') 사용"
   ]
  },
  {
   "cell_type": "code",
   "execution_count": 19,
   "metadata": {
    "id": "-BiCpeDa8JWo"
   },
   "outputs": [],
   "source": [
    "X['earliest_cr_line'] = pd.to_datetime(X['earliest_cr_line'], infer_datetime_format=True)"
   ]
  },
  {
   "cell_type": "code",
   "execution_count": 20,
   "metadata": {
    "colab": {
     "base_uri": "https://localhost:8080/"
    },
    "executionInfo": {
     "elapsed": 301,
     "status": "ok",
     "timestamp": 1625485938248,
     "user": {
      "displayName": "Young jun Jang",
      "photoUrl": "",
      "userId": "15364579243826530783"
     },
     "user_tz": -540
    },
    "id": "i02n6hffBlOK",
    "outputId": "d461da28-90b0-4120-ee9f-d1e842b4e391"
   },
   "outputs": [
    {
     "data": {
      "text/plain": [
       "array(['8 years', '2 years', '< 1 year', '10+ years', '9 years', nan,\n",
       "       '5 years', '4 years', '1 year', '7 years', '3 years', '6 years'],\n",
       "      dtype=object)"
      ]
     },
     "execution_count": 20,
     "metadata": {},
     "output_type": "execute_result"
    }
   ],
   "source": [
    "X['emp_length'].unique()\n",
    "# emp_length 근속연수임\n",
    "# 숫자 , 문자, 부등호 포함되어 있음"
   ]
  },
  {
   "cell_type": "code",
   "execution_count": 21,
   "metadata": {
    "id": "tWOukY5LCkEX"
   },
   "outputs": [
    {
     "data": {
      "text/plain": [
       "0         130954621\n",
       "1         130964697\n",
       "2         130955326\n",
       "3         130504052\n",
       "4         130956066\n",
       "            ...    \n",
       "495237    130135401\n",
       "495238    129961614\n",
       "495239    130056422\n",
       "495240    130065381\n",
       "495241    129555354\n",
       "Name: id, Length: 495242, dtype: object"
      ]
     },
     "execution_count": 21,
     "metadata": {},
     "output_type": "execute_result"
    }
   ],
   "source": [
    "X['id']"
   ]
  },
  {
   "cell_type": "code",
   "execution_count": 22,
   "metadata": {
    "id": "f1tie9EO8CNl"
   },
   "outputs": [],
   "source": [
    "# \\d+ 정수 다음에 오는 문자들을 가져와서 float형식으로 바꿈\n",
    "X['emp_length'] = X['emp_length'].replace({'< 1 year': '0 years', '10+ years': '11 years'})\n",
    "X['emp_length'] = X['emp_length'].str.extract('(\\d+)').astype('float')\n",
    "X['id'] = X['id'].astype('float')"
   ]
  },
  {
   "cell_type": "markdown",
   "metadata": {
    "id": "xLpHYVf3hCGj"
   },
   "source": [
    "### 3. 결측값 처리\n",
    "  * 결측값 처리\n",
    "  * 기준정보 데이터와 대출승인 데이터의 정합성 맞추기"
   ]
  },
  {
   "cell_type": "markdown",
   "metadata": {
    "id": "YwRe3OfT284L"
   },
   "source": [
    "#### 1) 컬럼별 결측값 비율 구한 후, 비율=1 인 컬럼 제거\n",
    "  * .isna().mean()\n",
    "  * 컬럼별 결측값 비율이 0 인 항목을 제외한 나머지 항목들을 pandas 의 sort_values() 사용하여 정렬\n",
    "  * 비율=1 인 항목을 확인하여 pandas 의 drop 으로 제거"
   ]
  },
  {
   "cell_type": "code",
   "execution_count": 23,
   "metadata": {},
   "outputs": [
    {
     "data": {
      "text/html": [
       "<div>\n",
       "<style scoped>\n",
       "    .dataframe tbody tr th:only-of-type {\n",
       "        vertical-align: middle;\n",
       "    }\n",
       "\n",
       "    .dataframe tbody tr th {\n",
       "        vertical-align: top;\n",
       "    }\n",
       "\n",
       "    .dataframe thead th {\n",
       "        text-align: right;\n",
       "    }\n",
       "</style>\n",
       "<table border=\"1\" class=\"dataframe\">\n",
       "  <thead>\n",
       "    <tr style=\"text-align: right;\">\n",
       "      <th></th>\n",
       "      <th>acc_now_delinq</th>\n",
       "      <th>acc_open_past_24mths</th>\n",
       "      <th>addr_state</th>\n",
       "      <th>all_util</th>\n",
       "      <th>annual_inc</th>\n",
       "      <th>annual_inc_joint</th>\n",
       "      <th>application_type</th>\n",
       "      <th>avg_cur_bal</th>\n",
       "      <th>bc_open_to_buy</th>\n",
       "      <th>bc_util</th>\n",
       "      <th>...</th>\n",
       "      <th>total_bal_ex_mort</th>\n",
       "      <th>total_bal_il</th>\n",
       "      <th>total_bc_limit</th>\n",
       "      <th>total_cu_tl</th>\n",
       "      <th>total_il_high_credit_limit</th>\n",
       "      <th>total_rev_hi_lim</th>\n",
       "      <th>url</th>\n",
       "      <th>verification_status</th>\n",
       "      <th>verification_status_joint</th>\n",
       "      <th>zip_code</th>\n",
       "    </tr>\n",
       "  </thead>\n",
       "  <tbody>\n",
       "    <tr>\n",
       "      <th>0</th>\n",
       "      <td>False</td>\n",
       "      <td>False</td>\n",
       "      <td>False</td>\n",
       "      <td>False</td>\n",
       "      <td>False</td>\n",
       "      <td>True</td>\n",
       "      <td>False</td>\n",
       "      <td>False</td>\n",
       "      <td>False</td>\n",
       "      <td>False</td>\n",
       "      <td>...</td>\n",
       "      <td>False</td>\n",
       "      <td>False</td>\n",
       "      <td>False</td>\n",
       "      <td>False</td>\n",
       "      <td>False</td>\n",
       "      <td>False</td>\n",
       "      <td>False</td>\n",
       "      <td>False</td>\n",
       "      <td>True</td>\n",
       "      <td>False</td>\n",
       "    </tr>\n",
       "    <tr>\n",
       "      <th>1</th>\n",
       "      <td>False</td>\n",
       "      <td>False</td>\n",
       "      <td>False</td>\n",
       "      <td>False</td>\n",
       "      <td>False</td>\n",
       "      <td>True</td>\n",
       "      <td>False</td>\n",
       "      <td>False</td>\n",
       "      <td>False</td>\n",
       "      <td>False</td>\n",
       "      <td>...</td>\n",
       "      <td>False</td>\n",
       "      <td>False</td>\n",
       "      <td>False</td>\n",
       "      <td>False</td>\n",
       "      <td>False</td>\n",
       "      <td>False</td>\n",
       "      <td>False</td>\n",
       "      <td>False</td>\n",
       "      <td>True</td>\n",
       "      <td>False</td>\n",
       "    </tr>\n",
       "    <tr>\n",
       "      <th>2</th>\n",
       "      <td>False</td>\n",
       "      <td>False</td>\n",
       "      <td>False</td>\n",
       "      <td>False</td>\n",
       "      <td>False</td>\n",
       "      <td>False</td>\n",
       "      <td>False</td>\n",
       "      <td>False</td>\n",
       "      <td>False</td>\n",
       "      <td>False</td>\n",
       "      <td>...</td>\n",
       "      <td>False</td>\n",
       "      <td>False</td>\n",
       "      <td>False</td>\n",
       "      <td>False</td>\n",
       "      <td>False</td>\n",
       "      <td>False</td>\n",
       "      <td>False</td>\n",
       "      <td>False</td>\n",
       "      <td>False</td>\n",
       "      <td>False</td>\n",
       "    </tr>\n",
       "    <tr>\n",
       "      <th>3</th>\n",
       "      <td>False</td>\n",
       "      <td>False</td>\n",
       "      <td>False</td>\n",
       "      <td>False</td>\n",
       "      <td>False</td>\n",
       "      <td>True</td>\n",
       "      <td>False</td>\n",
       "      <td>False</td>\n",
       "      <td>False</td>\n",
       "      <td>False</td>\n",
       "      <td>...</td>\n",
       "      <td>False</td>\n",
       "      <td>False</td>\n",
       "      <td>False</td>\n",
       "      <td>False</td>\n",
       "      <td>False</td>\n",
       "      <td>False</td>\n",
       "      <td>False</td>\n",
       "      <td>False</td>\n",
       "      <td>True</td>\n",
       "      <td>False</td>\n",
       "    </tr>\n",
       "    <tr>\n",
       "      <th>4</th>\n",
       "      <td>False</td>\n",
       "      <td>False</td>\n",
       "      <td>False</td>\n",
       "      <td>False</td>\n",
       "      <td>False</td>\n",
       "      <td>True</td>\n",
       "      <td>False</td>\n",
       "      <td>False</td>\n",
       "      <td>False</td>\n",
       "      <td>False</td>\n",
       "      <td>...</td>\n",
       "      <td>False</td>\n",
       "      <td>False</td>\n",
       "      <td>False</td>\n",
       "      <td>False</td>\n",
       "      <td>False</td>\n",
       "      <td>False</td>\n",
       "      <td>False</td>\n",
       "      <td>False</td>\n",
       "      <td>True</td>\n",
       "      <td>False</td>\n",
       "    </tr>\n",
       "    <tr>\n",
       "      <th>...</th>\n",
       "      <td>...</td>\n",
       "      <td>...</td>\n",
       "      <td>...</td>\n",
       "      <td>...</td>\n",
       "      <td>...</td>\n",
       "      <td>...</td>\n",
       "      <td>...</td>\n",
       "      <td>...</td>\n",
       "      <td>...</td>\n",
       "      <td>...</td>\n",
       "      <td>...</td>\n",
       "      <td>...</td>\n",
       "      <td>...</td>\n",
       "      <td>...</td>\n",
       "      <td>...</td>\n",
       "      <td>...</td>\n",
       "      <td>...</td>\n",
       "      <td>...</td>\n",
       "      <td>...</td>\n",
       "      <td>...</td>\n",
       "      <td>...</td>\n",
       "    </tr>\n",
       "    <tr>\n",
       "      <th>495237</th>\n",
       "      <td>False</td>\n",
       "      <td>False</td>\n",
       "      <td>False</td>\n",
       "      <td>False</td>\n",
       "      <td>False</td>\n",
       "      <td>True</td>\n",
       "      <td>False</td>\n",
       "      <td>False</td>\n",
       "      <td>False</td>\n",
       "      <td>False</td>\n",
       "      <td>...</td>\n",
       "      <td>False</td>\n",
       "      <td>False</td>\n",
       "      <td>False</td>\n",
       "      <td>False</td>\n",
       "      <td>False</td>\n",
       "      <td>False</td>\n",
       "      <td>False</td>\n",
       "      <td>False</td>\n",
       "      <td>True</td>\n",
       "      <td>False</td>\n",
       "    </tr>\n",
       "    <tr>\n",
       "      <th>495238</th>\n",
       "      <td>False</td>\n",
       "      <td>False</td>\n",
       "      <td>False</td>\n",
       "      <td>False</td>\n",
       "      <td>False</td>\n",
       "      <td>True</td>\n",
       "      <td>False</td>\n",
       "      <td>False</td>\n",
       "      <td>False</td>\n",
       "      <td>False</td>\n",
       "      <td>...</td>\n",
       "      <td>False</td>\n",
       "      <td>False</td>\n",
       "      <td>False</td>\n",
       "      <td>False</td>\n",
       "      <td>False</td>\n",
       "      <td>False</td>\n",
       "      <td>False</td>\n",
       "      <td>False</td>\n",
       "      <td>True</td>\n",
       "      <td>False</td>\n",
       "    </tr>\n",
       "    <tr>\n",
       "      <th>495239</th>\n",
       "      <td>False</td>\n",
       "      <td>False</td>\n",
       "      <td>False</td>\n",
       "      <td>False</td>\n",
       "      <td>False</td>\n",
       "      <td>True</td>\n",
       "      <td>False</td>\n",
       "      <td>False</td>\n",
       "      <td>False</td>\n",
       "      <td>False</td>\n",
       "      <td>...</td>\n",
       "      <td>False</td>\n",
       "      <td>False</td>\n",
       "      <td>False</td>\n",
       "      <td>False</td>\n",
       "      <td>False</td>\n",
       "      <td>False</td>\n",
       "      <td>False</td>\n",
       "      <td>False</td>\n",
       "      <td>True</td>\n",
       "      <td>False</td>\n",
       "    </tr>\n",
       "    <tr>\n",
       "      <th>495240</th>\n",
       "      <td>False</td>\n",
       "      <td>False</td>\n",
       "      <td>False</td>\n",
       "      <td>False</td>\n",
       "      <td>False</td>\n",
       "      <td>True</td>\n",
       "      <td>False</td>\n",
       "      <td>False</td>\n",
       "      <td>False</td>\n",
       "      <td>False</td>\n",
       "      <td>...</td>\n",
       "      <td>False</td>\n",
       "      <td>False</td>\n",
       "      <td>False</td>\n",
       "      <td>False</td>\n",
       "      <td>False</td>\n",
       "      <td>False</td>\n",
       "      <td>False</td>\n",
       "      <td>False</td>\n",
       "      <td>True</td>\n",
       "      <td>False</td>\n",
       "    </tr>\n",
       "    <tr>\n",
       "      <th>495241</th>\n",
       "      <td>False</td>\n",
       "      <td>False</td>\n",
       "      <td>False</td>\n",
       "      <td>False</td>\n",
       "      <td>False</td>\n",
       "      <td>True</td>\n",
       "      <td>False</td>\n",
       "      <td>False</td>\n",
       "      <td>False</td>\n",
       "      <td>False</td>\n",
       "      <td>...</td>\n",
       "      <td>False</td>\n",
       "      <td>False</td>\n",
       "      <td>False</td>\n",
       "      <td>False</td>\n",
       "      <td>False</td>\n",
       "      <td>False</td>\n",
       "      <td>False</td>\n",
       "      <td>False</td>\n",
       "      <td>True</td>\n",
       "      <td>False</td>\n",
       "    </tr>\n",
       "  </tbody>\n",
       "</table>\n",
       "<p>495242 rows × 94 columns</p>\n",
       "</div>"
      ],
      "text/plain": [
       "        acc_now_delinq  acc_open_past_24mths  addr_state  all_util  \\\n",
       "0                False                 False       False     False   \n",
       "1                False                 False       False     False   \n",
       "2                False                 False       False     False   \n",
       "3                False                 False       False     False   \n",
       "4                False                 False       False     False   \n",
       "...                ...                   ...         ...       ...   \n",
       "495237           False                 False       False     False   \n",
       "495238           False                 False       False     False   \n",
       "495239           False                 False       False     False   \n",
       "495240           False                 False       False     False   \n",
       "495241           False                 False       False     False   \n",
       "\n",
       "        annual_inc  annual_inc_joint  application_type  avg_cur_bal  \\\n",
       "0            False              True             False        False   \n",
       "1            False              True             False        False   \n",
       "2            False             False             False        False   \n",
       "3            False              True             False        False   \n",
       "4            False              True             False        False   \n",
       "...            ...               ...               ...          ...   \n",
       "495237       False              True             False        False   \n",
       "495238       False              True             False        False   \n",
       "495239       False              True             False        False   \n",
       "495240       False              True             False        False   \n",
       "495241       False              True             False        False   \n",
       "\n",
       "        bc_open_to_buy  bc_util  ...  total_bal_ex_mort  total_bal_il  \\\n",
       "0                False    False  ...              False         False   \n",
       "1                False    False  ...              False         False   \n",
       "2                False    False  ...              False         False   \n",
       "3                False    False  ...              False         False   \n",
       "4                False    False  ...              False         False   \n",
       "...                ...      ...  ...                ...           ...   \n",
       "495237           False    False  ...              False         False   \n",
       "495238           False    False  ...              False         False   \n",
       "495239           False    False  ...              False         False   \n",
       "495240           False    False  ...              False         False   \n",
       "495241           False    False  ...              False         False   \n",
       "\n",
       "        total_bc_limit  total_cu_tl  total_il_high_credit_limit  \\\n",
       "0                False        False                       False   \n",
       "1                False        False                       False   \n",
       "2                False        False                       False   \n",
       "3                False        False                       False   \n",
       "4                False        False                       False   \n",
       "...                ...          ...                         ...   \n",
       "495237           False        False                       False   \n",
       "495238           False        False                       False   \n",
       "495239           False        False                       False   \n",
       "495240           False        False                       False   \n",
       "495241           False        False                       False   \n",
       "\n",
       "        total_rev_hi_lim    url  verification_status  \\\n",
       "0                  False  False                False   \n",
       "1                  False  False                False   \n",
       "2                  False  False                False   \n",
       "3                  False  False                False   \n",
       "4                  False  False                False   \n",
       "...                  ...    ...                  ...   \n",
       "495237             False  False                False   \n",
       "495238             False  False                False   \n",
       "495239             False  False                False   \n",
       "495240             False  False                False   \n",
       "495241             False  False                False   \n",
       "\n",
       "        verification_status_joint  zip_code  \n",
       "0                            True     False  \n",
       "1                            True     False  \n",
       "2                           False     False  \n",
       "3                            True     False  \n",
       "4                            True     False  \n",
       "...                           ...       ...  \n",
       "495237                       True     False  \n",
       "495238                       True     False  \n",
       "495239                       True     False  \n",
       "495240                       True     False  \n",
       "495241                       True     False  \n",
       "\n",
       "[495242 rows x 94 columns]"
      ]
     },
     "execution_count": 23,
     "metadata": {},
     "output_type": "execute_result"
    }
   ],
   "source": [
    "X.isna()"
   ]
  },
  {
   "cell_type": "code",
   "execution_count": 24,
   "metadata": {
    "colab": {
     "base_uri": "https://localhost:8080/"
    },
    "executionInfo": {
     "elapsed": 891,
     "status": "ok",
     "timestamp": 1625486153776,
     "user": {
      "displayName": "Young jun Jang",
      "photoUrl": "",
      "userId": "15364579243826530783"
     },
     "user_tz": -540
    },
    "id": "zPuUAY22C5n4",
    "outputId": "16330959-ac08-4947-af36-7ef068b96454"
   },
   "outputs": [
    {
     "data": {
      "text/plain": [
       "acc_now_delinq               0.000000\n",
       "acc_open_past_24mths         0.000000\n",
       "addr_state                   0.000000\n",
       "all_util                     0.000260\n",
       "annual_inc                   0.000000\n",
       "                               ...   \n",
       "total_rev_hi_lim             0.000000\n",
       "url                          0.000000\n",
       "verification_status          0.000000\n",
       "verification_status_joint    0.870748\n",
       "zip_code                     0.000000\n",
       "Length: 94, dtype: float64"
      ]
     },
     "execution_count": 24,
     "metadata": {},
     "output_type": "execute_result"
    }
   ],
   "source": [
    "X.isna().mean()\n",
    "# 각 컬럼별로 na개수 비율 평균"
   ]
  },
  {
   "cell_type": "code",
   "execution_count": 25,
   "metadata": {
    "colab": {
     "base_uri": "https://localhost:8080/"
    },
    "executionInfo": {
     "elapsed": 621,
     "status": "ok",
     "timestamp": 1625486993885,
     "user": {
      "displayName": "Young jun Jang",
      "photoUrl": "",
      "userId": "15364579243826530783"
     },
     "user_tz": -540
    },
    "id": "esGeKWrI77GU",
    "outputId": "a249adac-c629-4d45-9667-cbf0823a4687",
    "scrolled": true
   },
   "outputs": [
    {
     "data": {
      "text/plain": [
       "pct_tl_nvr_dlq                    0.000004\n",
       "avg_cur_bal                       0.000081\n",
       "all_util                          0.000260\n",
       "revol_util                        0.001195\n",
       "dti                               0.002286\n",
       "mths_since_recent_bc              0.012515\n",
       "bc_open_to_buy                    0.013303\n",
       "percent_bc_gt_75                  0.013319\n",
       "bc_util                           0.013737\n",
       "num_tl_120dpd_2m                  0.025046\n",
       "mths_since_rcnt_il                0.037174\n",
       "mo_sin_old_il_acct                0.037174\n",
       "emp_length                        0.084781\n",
       "emp_title                         0.110368\n",
       "mths_since_recent_inq             0.123788\n",
       "il_util                           0.163201\n",
       "mths_since_last_delinq            0.558620\n",
       "mths_since_recent_revol_delinq    0.711878\n",
       "mths_since_last_major_derog       0.768128\n",
       "mths_since_recent_bc_dlq          0.801895\n",
       "dti_joint                         0.860704\n",
       "annual_inc_joint                  0.860704\n",
       "verification_status_joint         0.870748\n",
       "mths_since_last_record            0.872822\n",
       "desc                              1.000000\n",
       "member_id                         1.000000\n",
       "dtype: float64"
      ]
     },
     "execution_count": 25,
     "metadata": {},
     "output_type": "execute_result"
    }
   ],
   "source": [
    "nan_mean = X.isna().mean()\n",
    "nan_mean = nan_mean[nan_mean != 0].sort_values()\n",
    "nan_mean # 1이 었던 항목 제거됨"
   ]
  },
  {
   "cell_type": "code",
   "execution_count": 26,
   "metadata": {
    "id": "vC3NKkFq736D"
   },
   "outputs": [],
   "source": [
    "# 모두 결측값인 컬럼 제거 desc, member_id\n",
    "# axis =1 > 열에 대해서 제거\n",
    "X = X.drop(['desc', 'member_id'], axis=1, errors='ignore')"
   ]
  },
  {
   "cell_type": "markdown",
   "metadata": {
    "id": "VmB6mEgFeIP3"
   },
   "source": [
    "#### 2) 결측값 채우기\n",
    "  * 범주형 데이터의 결측값은 공백('')으로 채운다\n",
    "   * 값이 커졌을때 대출위험도가 커지지 않으면 -> 최대값으로 채우고, 값이 커졌을때 대출위험도가 커지면 최소값으로 채움\n",
    "  * 숫자형 데이터의 결측값은 대출 데이터 특성에 따라 데이터의 최대값, 최소값으로 각각 채운다\n",
    "  * 최대값으로 채우는 경우(값이 커졌을때 대출 위험도가 줄어듬> 최대값으로 채움)\n",
    "            'bc_open_to_buy', 'mo_sin_old_il_acct', 'mths_since_last_delinq',\n",
    "            'mths_since_last_major_derog', 'mths_since_last_record',\n",
    "            'mths_since_rcnt_il', 'mths_since_recent_bc', 'mths_since_recent_bc_dlq',\n",
    "            'mths_since_recent_inq', 'mths_since_recent_revol_delinq',\n",
    "            'pct_tl_nvr_dlq'\n",
    "  * 최대값 이외에는 최소값으로 채운다"
   ]
  },
  {
   "cell_type": "code",
   "execution_count": 27,
   "metadata": {
    "id": "JJbgTdGb7yHe"
   },
   "outputs": [],
   "source": [
    "fill_empty = ['emp_title', 'verification_status_joint']\n",
    "\n",
    "# 데이터 설명 시트의 빨간색 항목 참조\n",
    "# 최대값으로 해서 해당 항목으로 인해 부실 대출 방향으로 판단하지 않도록 함\n",
    "fill_max = ['bc_open_to_buy', 'mo_sin_old_il_acct', 'mths_since_last_delinq',\n",
    "            'mths_since_last_major_derog', 'mths_since_last_record',\n",
    "            'mths_since_rcnt_il', 'mths_since_recent_bc', 'mths_since_recent_bc_dlq',\n",
    "            'mths_since_recent_inq', 'mths_since_recent_revol_delinq',\n",
    "            'pct_tl_nvr_dlq']\n",
    "\n",
    "fill_min = np.setdiff1d(X.columns.values, np.append(fill_empty, fill_max))\n",
    "\n",
    "X[fill_empty] = X[fill_empty].fillna('')\n",
    "###### 코드 작성 부분 시작 ######\n",
    "X[fill_max] = X[fill_max].fillna(X[fill_max].max())\n",
    "X[fill_min] = X[fill_min].fillna(X[fill_min].min())\n",
    "###### 코드 작성 부분 마침 ######"
   ]
  },
  {
   "cell_type": "markdown",
   "metadata": {
    "id": "TrMJaJ6VhYbs"
   },
   "source": [
    "### 4. 변수 간 상관성에 따른 데이터 정제"
   ]
  },
  {
   "cell_type": "markdown",
   "metadata": {
    "id": "lYOrOm7zfp1P"
   },
   "source": [
    "#### 1) 숫자형 컬럼 데이터의 유일한 값 개수 확인\n",
    "  * pandas 의 select_dtypes('number') 사용\n",
    "  * pandas 의 nunique().sort_values() 사용\n",
    "  * 유일한 값이 1개인 경우/모든 행의 값이 다른 경우 둘 다 제거한다"
   ]
  },
  {
   "cell_type": "code",
   "execution_count": 28,
   "metadata": {
    "id": "QUnt4eBzhJbm"
   },
   "outputs": [],
   "source": [
    "###### 코드 작성 부분 시작 ######\n",
    "num_feat = X.select_dtypes('number').columns.values   \n",
    "###### 코드 작성 부분 마침 ######\n",
    "\n",
    "# id는 분석에 도움되지 않음!\n",
    "# num_tl_120dpd_2m 모든 데이터가 같은 것도 필요 없음!"
   ]
  },
  {
   "cell_type": "code",
   "execution_count": 29,
   "metadata": {
    "colab": {
     "base_uri": "https://localhost:8080/"
    },
    "executionInfo": {
     "elapsed": 1021,
     "status": "ok",
     "timestamp": 1625487010979,
     "user": {
      "displayName": "Young jun Jang",
      "photoUrl": "",
      "userId": "15364579243826530783"
     },
     "user_tz": -540
    },
    "id": "Ug4WC6bUkBub",
    "outputId": "90537744-de4a-4c61-8c4a-289c67eaeb41"
   },
   "outputs": [
    {
     "data": {
      "text/plain": [
       "num_tl_120dpd_2m                   1\n",
       "acc_now_delinq                     2\n",
       "num_tl_30dpd                       2\n",
       "inq_last_6mths                     6\n",
       "pub_rec_bankruptcies               8\n",
       "                               ...  \n",
       "total_il_high_credit_limit    128691\n",
       "total_bal_ex_mort             139900\n",
       "tot_cur_bal                   254794\n",
       "tot_hi_cred_lim               266282\n",
       "id                            495242\n",
       "Length: 77, dtype: int64"
      ]
     },
     "execution_count": 29,
     "metadata": {},
     "output_type": "execute_result"
    }
   ],
   "source": [
    "X[num_feat].nunique().sort_values()"
   ]
  },
  {
   "cell_type": "code",
   "execution_count": 30,
   "metadata": {
    "id": "W6tI9saYhZ9X"
   },
   "outputs": [],
   "source": [
    "X = X.drop(['num_tl_120dpd_2m', 'id'], axis=1, errors='ignore')"
   ]
  },
  {
   "cell_type": "markdown",
   "metadata": {
    "id": "zyb2K68VhfEP"
   },
   "source": [
    "#### 2) 숫자형 데이터 상관도에 따른 컬럼 제거\n",
    "  * 숫자형 컬럼들 간 Pearson R 상관 계수를 구한다\n",
    "  * 상관 계수가 0.9 이상인 컬럼들 중 가장 큰 컬럼을 제거해 본다\n",
    "  * 컬럼들 간 조합 생성 : comb_num_feat = np.array(list(combinations(num_feat, 2)))\n",
    "  * Pearson R 상관 계수 구하기 : pearsonr(x1, x2)[0]"
   ]
  },
  {
   "cell_type": "code",
   "execution_count": 31,
   "metadata": {
    "id": "4VyLUrnuhdpU"
   },
   "outputs": [],
   "source": [
    "num_feat = X.select_dtypes('number').columns.values\n",
    "# (num_feat, 2) > 숫자형 데이터 타입의 모든 컬럼들의 값들의 집합 2개씩 뽑은 조합들을 리스트화시킨것을 연결해달라\n",
    "comb_num_feat = np.array(list(combinations(num_feat, 2)))\n",
    "corr_num_feat = np.array([])\n",
    "for comb in comb_num_feat:\n",
    "    ###### 코드 작성 부분 시작 ######\n",
    "    corr = pearsonr(X[comb[0]], X[comb[1]])[0]\n",
    "    ###### 코드 작성 부분 마침 ######\n",
    "    corr_num_feat = np.append(corr_num_feat, corr)"
   ]
  },
  {
   "cell_type": "code",
   "execution_count": 32,
   "metadata": {
    "colab": {
     "base_uri": "https://localhost:8080/"
    },
    "executionInfo": {
     "elapsed": 292,
     "status": "ok",
     "timestamp": 1625487076218,
     "user": {
      "displayName": "Young jun Jang",
      "photoUrl": "",
      "userId": "15364579243826530783"
     },
     "user_tz": -540
    },
    "id": "-ixNerJChgUe",
    "outputId": "85c063a0-49d2-4ad2-d626-7f825b15861d"
   },
   "outputs": [
    {
     "data": {
      "text/plain": [
       "array([['acc_now_delinq', 'num_tl_30dpd'],\n",
       "       ['fico_range_high', 'fico_range_low'],\n",
       "       ['funded_amnt', 'installment'],\n",
       "       ['funded_amnt', 'loan_amnt'],\n",
       "       ['installment', 'loan_amnt'],\n",
       "       ['mo_sin_old_il_acct', 'mths_since_rcnt_il'],\n",
       "       ['num_actv_rev_tl', 'num_rev_tl_bal_gt_0'],\n",
       "       ['num_sats', 'open_acc'],\n",
       "       ['tot_cur_bal', 'tot_hi_cred_lim'],\n",
       "       ['total_bal_ex_mort', 'total_bal_il'],\n",
       "       ['total_bal_il', 'total_il_high_credit_limit']], dtype='<U30')"
      ]
     },
     "execution_count": 32,
     "metadata": {},
     "output_type": "execute_result"
    }
   ],
   "source": [
    "###### 코드 작성 부분 시작 ######\n",
    "high_corr_num = comb_num_feat[np.abs(corr_num_feat) >= 0.9]\n",
    "# np.abs()> 절대값 \n",
    "###### 코드 작성 부분 마침 ######\n",
    "high_corr_num"
   ]
  },
  {
   "cell_type": "code",
   "execution_count": 33,
   "metadata": {
    "id": "abktpFg1hoSR"
   },
   "outputs": [],
   "source": [
    "# 가장 큰값은 제거함\n",
    "X = X.drop(np.unique(high_corr_num[:, 0]), axis=1, errors='ignore')"
   ]
  },
  {
   "cell_type": "markdown",
   "metadata": {
    "id": "lEtak3pchsr6"
   },
   "source": [
    "#### 3) 범주형 데이터의 유일한 값 개수 확인\n",
    "  * pandas 의 select_dtypes('object') 사용\n",
    "  * pandas 의 nunique().sort_values() 사용\n",
    "  * 유일한 값이 1개인 경우/모든 행의 값이 다른 경우 둘 다 제거한다\n",
    "  * 범주형 데이터의 경우 Encoding 시 메모리 오류를 방지하기 위해 유일한 값이 많은 경우는 제거하는 것이 좋다"
   ]
  },
  {
   "cell_type": "code",
   "execution_count": 34,
   "metadata": {
    "colab": {
     "base_uri": "https://localhost:8080/"
    },
    "executionInfo": {
     "elapsed": 1112,
     "status": "ok",
     "timestamp": 1625487131394,
     "user": {
      "displayName": "Young jun Jang",
      "photoUrl": "",
      "userId": "15364579243826530783"
     },
     "user_tz": -540
    },
    "id": "d5WDAgvbhrx3",
    "outputId": "dcc996c7-8d01-4d0f-cc5b-92f1ce6ce758"
   },
   "outputs": [
    {
     "data": {
      "text/plain": [
       "application_type                  2\n",
       "initial_list_status               2\n",
       "term                              2\n",
       "verification_status               3\n",
       "home_ownership                    4\n",
       "verification_status_joint         4\n",
       "grade                             7\n",
       "title                            12\n",
       "purpose                          13\n",
       "sub_grade                        35\n",
       "addr_state                       50\n",
       "zip_code                        897\n",
       "emp_title                    129450\n",
       "url                          495242\n",
       "dtype: int64"
      ]
     },
     "execution_count": 34,
     "metadata": {},
     "output_type": "execute_result"
    }
   ],
   "source": [
    "cat_feat = X.select_dtypes('object').columns.values\n",
    "X[cat_feat].nunique().sort_values()"
   ]
  },
  {
   "cell_type": "code",
   "execution_count": 35,
   "metadata": {
    "id": "-OonALce1d4x"
   },
   "outputs": [],
   "source": [
    "# emp_title, url 범주형 데이터 활용도 낮은컬럼 2개 제거\n",
    "X = X.drop(['url', 'emp_title'], axis=1, errors='ignore')"
   ]
  },
  {
   "cell_type": "markdown",
   "metadata": {
    "id": "zdnsMhgehzsP"
   },
   "source": [
    "#### 4) 범주형 데이터 상관도에 따른 컬럼 제거\n",
    "  * 범주형 컬럼들 간 카이제곱 통계량을 사용하는 Crammer 의 V 상관 계수를 구한다\n",
    "  * Crammer 의 V 상관계수 식 구하는 방법\n",
    "\n",
    "\n",
    "```\n",
    "  table = pd.pivot_table(X, values='loan_amnt', index=comb[0], columns=comb[1], aggfunc='count').fillna(0)\n",
    "  corr = np.sqrt(chi2_contingency(table)[0] / (table.values.sum() * (np.min(table.shape) - 1) ) )\n",
    "```\n",
    "\n",
    "\n",
    "  * 상관 계수가 0.9 이상인 컬럼들 중 머신러닝 모델 생성 시 예측 변수의 조건으로 활용할 grade 를 제외한 후 가장 높은 컬럼을 제거한다.\n",
    "  * 컬럼들 간 조합 생성 : comb_cat_feat = np.array(list(combinations(cat_feat, 2)))"
   ]
  },
  {
   "cell_type": "code",
   "execution_count": 36,
   "metadata": {
    "id": "CNHN1w0ZhtyM"
   },
   "outputs": [],
   "source": [
    "cat_feat = X.select_dtypes('object').columns.values\n",
    "comb_cat_feat = np.array(list(combinations(cat_feat, 2)))\n",
    "corr_cat_feat = np.array([])\n",
    "for comb in comb_cat_feat:\n",
    "    table = pd.pivot_table(X, values='loan_amnt', index=comb[0], columns=comb[1], aggfunc='count').fillna(0)\n",
    "    corr = np.sqrt(chi2_contingency(table)[0] / (table.values.sum() * (np.min(table.shape) - 1) ) )\n",
    "    corr_cat_feat = np.append(corr_cat_feat, corr)"
   ]
  },
  {
   "cell_type": "code",
   "execution_count": 37,
   "metadata": {
    "colab": {
     "base_uri": "https://localhost:8080/"
    },
    "executionInfo": {
     "elapsed": 253,
     "status": "ok",
     "timestamp": 1625487273355,
     "user": {
      "displayName": "Young jun Jang",
      "photoUrl": "",
      "userId": "15364579243826530783"
     },
     "user_tz": -540
    },
    "id": "mfzR0gezh3mg",
    "outputId": "38ed8db3-2cc9-4d76-fc78-112e8562ef67"
   },
   "outputs": [
    {
     "data": {
      "text/plain": [
       "array([['addr_state', 'zip_code'],\n",
       "       ['application_type', 'verification_status_joint'],\n",
       "       ['grade', 'sub_grade'],\n",
       "       ['purpose', 'title']], dtype='<U25')"
      ]
     },
     "execution_count": 37,
     "metadata": {},
     "output_type": "execute_result"
    }
   ],
   "source": [
    "high_corr_cat = comb_cat_feat[corr_cat_feat >= 0.9]\n",
    "high_corr_cat"
   ]
  },
  {
   "cell_type": "code",
   "execution_count": 38,
   "metadata": {
    "id": "pKChsCWIh7YU"
   },
   "outputs": [],
   "source": [
    "X = X.drop(np.unique(high_corr_cat[:, 1]), axis=1, errors='ignore')"
   ]
  },
  {
   "cell_type": "markdown",
   "metadata": {
    "id": "pQy4ON7Il-LZ"
   },
   "source": [
    "### 5. 예측 변수 Feature 생성"
   ]
  },
  {
   "cell_type": "markdown",
   "metadata": {
    "id": "D8bmnUnHmnQT"
   },
   "source": [
    "#### 대출 상태를 보여주는 'loan_status' 를 예측 변수 Feature 로 한다\n",
    "  * loan_status 의 항목별 개수를 확인한다\n",
    "  * 건전한 상태를 나타내는 'Current, Fully Paid, In Grace Period' 를 1 로 나타낸다.\n",
    "  * 그 외는 부실한 상태를 나타내는 0 으로 나타낸다."
   ]
  },
  {
   "cell_type": "code",
   "execution_count": 39,
   "metadata": {
    "colab": {
     "base_uri": "https://localhost:8080/"
    },
    "executionInfo": {
     "elapsed": 253,
     "status": "ok",
     "timestamp": 1625487541429,
     "user": {
      "displayName": "Young jun Jang",
      "photoUrl": "",
      "userId": "15364579243826530783"
     },
     "user_tz": -540
    },
    "id": "XL2yV6g22Afi",
    "outputId": "f48f909f-fd16-4d01-964f-c455d2f2f185"
   },
   "outputs": [
    {
     "data": {
      "text/plain": [
       "Current               427181\n",
       "Fully Paid             47444\n",
       "Charged Off             8867\n",
       "Late (31-120 days)      7221\n",
       "In Grace Period         2919\n",
       "Late (16-30 days)       1603\n",
       "Default                    7\n",
       "Name: loan_status, dtype: int64"
      ]
     },
     "execution_count": 39,
     "metadata": {},
     "output_type": "execute_result"
    }
   ],
   "source": [
    "data['loan_status'].value_counts()"
   ]
  },
  {
   "cell_type": "code",
   "execution_count": 40,
   "metadata": {
    "colab": {
     "base_uri": "https://localhost:8080/"
    },
    "executionInfo": {
     "elapsed": 339,
     "status": "ok",
     "timestamp": 1625487543014,
     "user": {
      "displayName": "Young jun Jang",
      "photoUrl": "",
      "userId": "15364579243826530783"
     },
     "user_tz": -540
    },
    "id": "L5h0ri3c2D5x",
    "outputId": "2ec17c05-e5af-495d-b3e2-e2069d6ff55b"
   },
   "outputs": [
    {
     "data": {
      "text/plain": [
       "1    477544\n",
       "0     17698\n",
       "Name: loan_status, dtype: int64"
      ]
     },
     "execution_count": 40,
     "metadata": {},
     "output_type": "execute_result"
    }
   ],
   "source": [
    "y = data['loan_status'].copy()\n",
    "y = y.isin(['Current', 'Fully Paid', 'In Grace Period']).astype(int)\n",
    "# y에 isin'Current', 'Fully Paid', 'In Grace Period' 가 포함되어 있다면 True(1) , 아니면 False(0)\n",
    "y.value_counts()"
   ]
  },
  {
   "cell_type": "markdown",
   "metadata": {
    "id": "iCotNgPY2Ivb"
   },
   "source": [
    "## 03. 모델링"
   ]
  },
  {
   "cell_type": "code",
   "execution_count": 60,
   "metadata": {},
   "outputs": [
    {
     "name": "stdout",
     "output_type": "stream",
     "text": [
      "<class 'pandas.core.frame.DataFrame'>\n",
      "RangeIndex: 495242 entries, 0 to 495241\n",
      "Data columns (total 74 columns):\n",
      "acc_open_past_24mths              495242 non-null float64\n",
      "addr_state                        495242 non-null object\n",
      "all_util                          495242 non-null float64\n",
      "annual_inc                        495242 non-null float64\n",
      "annual_inc_joint                  495242 non-null float64\n",
      "application_type                  495242 non-null object\n",
      "avg_cur_bal                       495242 non-null float64\n",
      "bc_open_to_buy                    495242 non-null float64\n",
      "bc_util                           495242 non-null float64\n",
      "chargeoff_within_12_mths          495242 non-null float64\n",
      "collections_12_mths_ex_med        495242 non-null float64\n",
      "delinq_2yrs                       495242 non-null float64\n",
      "delinq_amnt                       495242 non-null float64\n",
      "dti                               495242 non-null float64\n",
      "dti_joint                         495242 non-null float64\n",
      "earliest_cr_line                  495242 non-null datetime64[ns]\n",
      "emp_length                        495242 non-null float64\n",
      "fico_range_low                    495242 non-null float64\n",
      "grade                             495242 non-null object\n",
      "home_ownership                    495242 non-null object\n",
      "il_util                           495242 non-null float64\n",
      "initial_list_status               495242 non-null object\n",
      "inq_fi                            495242 non-null float64\n",
      "inq_last_12m                      495242 non-null float64\n",
      "inq_last_6mths                    495242 non-null float64\n",
      "int_rate                          495242 non-null float64\n",
      "loan_amnt                         495242 non-null float64\n",
      "max_bal_bc                        495242 non-null float64\n",
      "mo_sin_old_rev_tl_op              495242 non-null float64\n",
      "mo_sin_rcnt_rev_tl_op             495242 non-null float64\n",
      "mo_sin_rcnt_tl                    495242 non-null float64\n",
      "mort_acc                          495242 non-null float64\n",
      "mths_since_last_delinq            495242 non-null float64\n",
      "mths_since_last_major_derog       495242 non-null float64\n",
      "mths_since_last_record            495242 non-null float64\n",
      "mths_since_rcnt_il                495242 non-null float64\n",
      "mths_since_recent_bc              495242 non-null float64\n",
      "mths_since_recent_bc_dlq          495242 non-null float64\n",
      "mths_since_recent_inq             495242 non-null float64\n",
      "mths_since_recent_revol_delinq    495242 non-null float64\n",
      "num_accts_ever_120_pd             495242 non-null float64\n",
      "num_actv_bc_tl                    495242 non-null float64\n",
      "num_bc_sats                       495242 non-null float64\n",
      "num_bc_tl                         495242 non-null float64\n",
      "num_il_tl                         495242 non-null float64\n",
      "num_op_rev_tl                     495242 non-null float64\n",
      "num_rev_accts                     495242 non-null float64\n",
      "num_rev_tl_bal_gt_0               495242 non-null float64\n",
      "num_tl_30dpd                      495242 non-null float64\n",
      "num_tl_90g_dpd_24m                495242 non-null float64\n",
      "num_tl_op_past_12m                495242 non-null float64\n",
      "open_acc                          495242 non-null float64\n",
      "open_acc_6m                       495242 non-null float64\n",
      "open_il_12m                       495242 non-null float64\n",
      "open_il_24m                       495242 non-null float64\n",
      "open_rv_12m                       495242 non-null float64\n",
      "open_rv_24m                       495242 non-null float64\n",
      "pct_tl_nvr_dlq                    495242 non-null float64\n",
      "percent_bc_gt_75                  495242 non-null float64\n",
      "pub_rec                           495242 non-null float64\n",
      "pub_rec_bankruptcies              495242 non-null float64\n",
      "purpose                           495242 non-null object\n",
      "revol_bal                         495242 non-null float64\n",
      "revol_util                        495242 non-null float64\n",
      "tax_liens                         495242 non-null float64\n",
      "term                              495242 non-null object\n",
      "tot_coll_amt                      495242 non-null float64\n",
      "tot_hi_cred_lim                   495242 non-null float64\n",
      "total_acc                         495242 non-null float64\n",
      "total_bc_limit                    495242 non-null float64\n",
      "total_cu_tl                       495242 non-null float64\n",
      "total_il_high_credit_limit        495242 non-null float64\n",
      "total_rev_hi_lim                  495242 non-null float64\n",
      "verification_status               495242 non-null object\n",
      "dtypes: datetime64[ns](1), float64(65), object(8)\n",
      "memory usage: 279.6+ MB\n"
     ]
    }
   ],
   "source": [
    "X.info()"
   ]
  },
  {
   "cell_type": "markdown",
   "metadata": {
    "id": "lv3FXDlzpBOP"
   },
   "source": [
    "#### 1) 분석 목표는 '고위험/고금리 대출 중 양호한 대출을 예측하는 것'\n",
    "  * 위험도를 나타내는 grade 컬럼에서 가장 위험한 상태인 'E' 에 해당하는 데이터만 가져온다.\n",
    "  * 위험도에 따라 설정되는 int_rate 컬럼은 제거한다.\n",
    "  * 'A' 해당하는 데이터는 위험도가 낮은것임"
   ]
  },
  {
   "cell_type": "code",
   "execution_count": 41,
   "metadata": {
    "id": "qEIDF8P7pqut"
   },
   "outputs": [],
   "source": [
    "# 위험한 등급만 해당되는 X_mod에 변수저장\n",
    "X_mod = X[X.grade == 'E'].copy()\n",
    "# grade에 따라서 int_rate 자동적으로 따라가서 제거함\n",
    "# axis = 열삭제\n",
    "X_mod = X_mod.drop(['grade', 'int_rate'], axis=1, errors='ignore')\n",
    "y_mod = y[X_mod.index]### X_mod인덱스에 따라서 Y_mod도 같이 변해야함"
   ]
  },
  {
   "cell_type": "code",
   "execution_count": 63,
   "metadata": {},
   "outputs": [
    {
     "name": "stdout",
     "output_type": "stream",
     "text": [
      "<class 'pandas.core.frame.DataFrame'>\n",
      "Int64Index: 18958 entries, 53 to 495211\n",
      "Data columns (total 72 columns):\n",
      "acc_open_past_24mths              18958 non-null float64\n",
      "addr_state                        18958 non-null object\n",
      "all_util                          18958 non-null float64\n",
      "annual_inc                        18958 non-null float64\n",
      "annual_inc_joint                  18958 non-null float64\n",
      "application_type                  18958 non-null object\n",
      "avg_cur_bal                       18958 non-null float64\n",
      "bc_open_to_buy                    18958 non-null float64\n",
      "bc_util                           18958 non-null float64\n",
      "chargeoff_within_12_mths          18958 non-null float64\n",
      "collections_12_mths_ex_med        18958 non-null float64\n",
      "delinq_2yrs                       18958 non-null float64\n",
      "delinq_amnt                       18958 non-null float64\n",
      "dti                               18958 non-null float64\n",
      "dti_joint                         18958 non-null float64\n",
      "earliest_cr_line                  18958 non-null datetime64[ns]\n",
      "emp_length                        18958 non-null float64\n",
      "fico_range_low                    18958 non-null float64\n",
      "home_ownership                    18958 non-null object\n",
      "il_util                           18958 non-null float64\n",
      "initial_list_status               18958 non-null object\n",
      "inq_fi                            18958 non-null float64\n",
      "inq_last_12m                      18958 non-null float64\n",
      "inq_last_6mths                    18958 non-null float64\n",
      "loan_amnt                         18958 non-null float64\n",
      "max_bal_bc                        18958 non-null float64\n",
      "mo_sin_old_rev_tl_op              18958 non-null float64\n",
      "mo_sin_rcnt_rev_tl_op             18958 non-null float64\n",
      "mo_sin_rcnt_tl                    18958 non-null float64\n",
      "mort_acc                          18958 non-null float64\n",
      "mths_since_last_delinq            18958 non-null float64\n",
      "mths_since_last_major_derog       18958 non-null float64\n",
      "mths_since_last_record            18958 non-null float64\n",
      "mths_since_rcnt_il                18958 non-null float64\n",
      "mths_since_recent_bc              18958 non-null float64\n",
      "mths_since_recent_bc_dlq          18958 non-null float64\n",
      "mths_since_recent_inq             18958 non-null float64\n",
      "mths_since_recent_revol_delinq    18958 non-null float64\n",
      "num_accts_ever_120_pd             18958 non-null float64\n",
      "num_actv_bc_tl                    18958 non-null float64\n",
      "num_bc_sats                       18958 non-null float64\n",
      "num_bc_tl                         18958 non-null float64\n",
      "num_il_tl                         18958 non-null float64\n",
      "num_op_rev_tl                     18958 non-null float64\n",
      "num_rev_accts                     18958 non-null float64\n",
      "num_rev_tl_bal_gt_0               18958 non-null float64\n",
      "num_tl_30dpd                      18958 non-null float64\n",
      "num_tl_90g_dpd_24m                18958 non-null float64\n",
      "num_tl_op_past_12m                18958 non-null float64\n",
      "open_acc                          18958 non-null float64\n",
      "open_acc_6m                       18958 non-null float64\n",
      "open_il_12m                       18958 non-null float64\n",
      "open_il_24m                       18958 non-null float64\n",
      "open_rv_12m                       18958 non-null float64\n",
      "open_rv_24m                       18958 non-null float64\n",
      "pct_tl_nvr_dlq                    18958 non-null float64\n",
      "percent_bc_gt_75                  18958 non-null float64\n",
      "pub_rec                           18958 non-null float64\n",
      "pub_rec_bankruptcies              18958 non-null float64\n",
      "purpose                           18958 non-null object\n",
      "revol_bal                         18958 non-null float64\n",
      "revol_util                        18958 non-null float64\n",
      "tax_liens                         18958 non-null float64\n",
      "term                              18958 non-null object\n",
      "tot_coll_amt                      18958 non-null float64\n",
      "tot_hi_cred_lim                   18958 non-null float64\n",
      "total_acc                         18958 non-null float64\n",
      "total_bc_limit                    18958 non-null float64\n",
      "total_cu_tl                       18958 non-null float64\n",
      "total_il_high_credit_limit        18958 non-null float64\n",
      "total_rev_hi_lim                  18958 non-null float64\n",
      "verification_status               18958 non-null object\n",
      "dtypes: datetime64[ns](1), float64(64), object(7)\n",
      "memory usage: 10.6+ MB\n"
     ]
    }
   ],
   "source": [
    "X_mod.info()"
   ]
  },
  {
   "cell_type": "code",
   "execution_count": 56,
   "metadata": {},
   "outputs": [
    {
     "data": {
      "text/plain": [
       "53        1\n",
       "61        1\n",
       "102       1\n",
       "110       1\n",
       "118       1\n",
       "         ..\n",
       "495066    0\n",
       "495100    1\n",
       "495151    1\n",
       "495160    1\n",
       "495211    1\n",
       "Name: loan_status, Length: 18958, dtype: int64"
      ]
     },
     "execution_count": 56,
     "metadata": {},
     "output_type": "execute_result"
    }
   ],
   "source": [
    "y_mod"
   ]
  },
  {
   "cell_type": "markdown",
   "metadata": {
    "id": "f9XgvEGBsHyy"
   },
   "source": [
    "  * 훈련 데이터와 테스트 데이터를 먼저 나눈다\n",
    "  * 모델링에 사용할 훈련/검증 데이터를 그 이후에 나눈다\n",
    "  * https://yeko90.tistory.com/entry/what-is-stratify-in-traintestsplit"
   ]
  },
  {
   "cell_type": "code",
   "execution_count": 42,
   "metadata": {
    "id": "7d1dvQlm2GxU"
   },
   "outputs": [],
   "source": [
    "# stratify = y_mod > y_mod 클래스 분포 비율에 따라 맞춤\n",
    "X_train, X_test, y_train, y_test = train_test_split(X_mod, y_mod, stratify=y_mod, random_state=0)\n",
    "X_train, X_val, y_train, y_val = train_test_split(X_train, y_train, stratify=y_train, random_state=0)"
   ]
  },
  {
   "cell_type": "markdown",
   "metadata": {
    "id": "L34Pys5-teGI"
   },
   "source": [
    "#### 2) 머신러닝 기법은 'CatBoost' 를 사용한다.\n",
    "  * CatBoost 는 범주가 많은 범주형 Feature 를 포함하는 데이터셋에 매우 효율적이다.\n",
    "  * CatBoost 는 범주형 데이터를 숫자형으로 변환하게 되고, 기본 설정으로 Mean Encoding 을 사용하는데 단순하게 평균을 사용하게 되면 Data Leakage 문제(우리가 예측해야 하는 값이 훈련 데이터의 Feature 에 들어가는 문제) 가 나타나게 되는데 이전 데이터들의 평균을 활용하는 방법을 사용하여 이를 해결해 준다\n",
    "  * Pool 을 사용하여 학습 데이터를 CatBoost 에 맞게 변환해 준다\n",
    "  * CatBoost 는 Ordered Boosting 과 Random Permutation 등의 Overfitting 을 방지하기 위한 내장 알고리즘이 있어서, 비교적 다른 Gradient Boosting 방법들에 비해 Hyper Parameter Tuning 에 자유로운 알고리즘\n",
    "  * https://dailyheumsi.tistory.com/120"
   ]
  },
  {
   "cell_type": "code",
   "execution_count": 1,
   "metadata": {
    "colab": {
     "base_uri": "https://localhost:8080/",
     "height": 53,
     "referenced_widgets": [
      "119ef399b02f4245aee5ab53431674fb"
     ]
    },
    "executionInfo": {
     "elapsed": 33024,
     "status": "ok",
     "timestamp": 1625489284982,
     "user": {
      "displayName": "Young jun Jang",
      "photoUrl": "",
      "userId": "15364579243826530783"
     },
     "user_tz": -540
    },
    "id": "f2_dttdM2NdJ",
    "outputId": "a42ef489-d335-4fa6-900b-f07fdcfa5b84"
   },
   "outputs": [
    {
     "ename": "NameError",
     "evalue": "name 'X_train' is not defined",
     "output_type": "error",
     "traceback": [
      "\u001b[0;31m---------------------------------------------------------------------------\u001b[0m",
      "\u001b[0;31mNameError\u001b[0m                                 Traceback (most recent call last)",
      "\u001b[0;32m<ipython-input-1-2ba3fa0b55b5>\u001b[0m in \u001b[0;36m<module>\u001b[0;34m\u001b[0m\n\u001b[0;32m----> 1\u001b[0;31m \u001b[0mcat_feat_ind\u001b[0m \u001b[0;34m=\u001b[0m \u001b[0;34m(\u001b[0m\u001b[0mX_train\u001b[0m\u001b[0;34m.\u001b[0m\u001b[0mdtypes\u001b[0m \u001b[0;34m==\u001b[0m \u001b[0;34m'object'\u001b[0m\u001b[0;34m)\u001b[0m\u001b[0;34m.\u001b[0m\u001b[0mnonzero\u001b[0m\u001b[0;34m(\u001b[0m\u001b[0;34m)\u001b[0m\u001b[0;34m[\u001b[0m\u001b[0;36m0\u001b[0m\u001b[0;34m]\u001b[0m\u001b[0;34m\u001b[0m\u001b[0;34m\u001b[0m\u001b[0m\n\u001b[0m\u001b[1;32m      2\u001b[0m \u001b[0mpool_train\u001b[0m \u001b[0;34m=\u001b[0m \u001b[0mPool\u001b[0m\u001b[0;34m(\u001b[0m\u001b[0mX_train\u001b[0m\u001b[0;34m,\u001b[0m \u001b[0my_train\u001b[0m\u001b[0;34m,\u001b[0m \u001b[0mcat_features\u001b[0m\u001b[0;34m=\u001b[0m\u001b[0mcat_feat_ind\u001b[0m\u001b[0;34m)\u001b[0m\u001b[0;34m\u001b[0m\u001b[0;34m\u001b[0m\u001b[0m\n\u001b[1;32m      3\u001b[0m \u001b[0mpool_val\u001b[0m \u001b[0;34m=\u001b[0m \u001b[0mPool\u001b[0m\u001b[0;34m(\u001b[0m\u001b[0mX_val\u001b[0m\u001b[0;34m,\u001b[0m \u001b[0my_val\u001b[0m\u001b[0;34m,\u001b[0m \u001b[0mcat_features\u001b[0m\u001b[0;34m=\u001b[0m\u001b[0mcat_feat_ind\u001b[0m\u001b[0;34m)\u001b[0m\u001b[0;34m\u001b[0m\u001b[0;34m\u001b[0m\u001b[0m\n\u001b[1;32m      4\u001b[0m \u001b[0mpool_test\u001b[0m \u001b[0;34m=\u001b[0m \u001b[0mPool\u001b[0m\u001b[0;34m(\u001b[0m\u001b[0mX_test\u001b[0m\u001b[0;34m,\u001b[0m \u001b[0my_test\u001b[0m\u001b[0;34m,\u001b[0m \u001b[0mcat_features\u001b[0m\u001b[0;34m=\u001b[0m\u001b[0mcat_feat_ind\u001b[0m\u001b[0;34m)\u001b[0m\u001b[0;34m\u001b[0m\u001b[0;34m\u001b[0m\u001b[0m\n\u001b[1;32m      5\u001b[0m \u001b[0;34m\u001b[0m\u001b[0m\n",
      "\u001b[0;31mNameError\u001b[0m: name 'X_train' is not defined"
     ]
    }
   ],
   "source": [
    "cat_feat_ind = (X_train.dtypes == 'object').nonzero()[0]\n",
    "pool_train = Pool(X_train, y_train, cat_features=cat_feat_ind)\n",
    "pool_val = Pool(X_val, y_val, cat_features=cat_feat_ind)\n",
    "pool_test = Pool(X_test, y_test, cat_features=cat_feat_ind)\n",
    "\n",
    "n = y_train.value_counts()\n",
    "###### 코드 작성 부분 시작 ######\n",
    "# verbose 함수 수행시 발생하는 상세 정보 표시여부\n",
    "model = CatBoostClassifier(learning_rate = 0.03, \n",
    "                           verbose = False, \n",
    "                           random_state=0)\n",
    "###### 코드 작성 부분 마침 ######\n",
    "model.fit(pool_train, eval_set = pool_val, plot=True)"
   ]
  },
  {
   "cell_type": "markdown",
   "metadata": {
    "id": "yH9r21l42SEN"
   },
   "source": [
    "#### 3) 모델 평가\n",
    "  * Accuracy, Precision, Recall 을 사용한다\n",
    "  * Accuracy(정확도) : (실제 데이터가 예측 데이터인 수) / (전체 데이터 수) → 모델이 얼마나 정확하게 분류하는가?\n",
    "  * Precision(정밀도) : (A라고 예측한 데이터가 실제 A인 데이터 수) / (A라고 예측한 데이터 수) → 모델이 찾은 A는 얼마나 정확한가? \"일반 메일을 스팸 메일로 분류해서는 안된다\"\n",
    "  * Recall(재현율) : (A라고 예측한 데이터 수) / (실제 A인 데이터 수) → 모델이 얼마나 정확하게 A를 찾는가? \"실제 암환자인 경우 반드시 양성으로 판단해야 한다\"\n",
    "  * https://yeko90.tistory.com/entry/%EB%A8%B8%EC%8B%A0-%EB%9F%AC%EB%8B%9D-%EA%B8%B0%EC%B4%88-%EC%A0%95%EB%B0%80%EB%8F%84Precision-%EC%9E%AC%ED%98%84%EC%9C%A8Recall-%EA%B0%9C%EB%85%90"
   ]
  },
  {
   "cell_type": "code",
   "execution_count": 47,
   "metadata": {
    "colab": {
     "base_uri": "https://localhost:8080/",
     "height": 333
    },
    "executionInfo": {
     "elapsed": 625,
     "status": "ok",
     "timestamp": 1625489335628,
     "user": {
      "displayName": "Young jun Jang",
      "photoUrl": "",
      "userId": "15364579243826530783"
     },
     "user_tz": -540
    },
    "id": "fsmR7Z3s2Qsp",
    "outputId": "0112c565-72d2-4961-93c4-b590f04e6c0c"
   },
   "outputs": [
    {
     "name": "stderr",
     "output_type": "stream",
     "text": [
      "findfont: Font family ['NanumBarunGothic'] not found. Falling back to DejaVu Sans.\n"
     ]
    },
    {
     "name": "stdout",
     "output_type": "stream",
     "text": [
      "Accuracy (test): 0.909\n",
      "Precision (test): 0.909\n",
      "Recall (test): 1.000\n"
     ]
    },
    {
     "data": {
      "image/png": "[encoded data removed]",
      "text/plain": [
       "<Figure size 432x288 with 2 Axes>"
      ]
     },
     "metadata": {
      "needs_background": "light"
     },
     "output_type": "display_data"
    }
   ],
   "source": [
    "y_pred_test = model.predict(pool_test)\n",
    "\n",
    "acc_test = accuracy_score(y_test, y_pred_test)\n",
    "prec_test = precision_score(y_test, y_pred_test)\n",
    "rec_test = recall_score(y_test, y_pred_test)\n",
    "print(f'''Accuracy (test): {acc_test:.3f}\n",
    "Precision (test): {prec_test:.3f}\n",
    "Recall (test): {rec_test:.3f}''')\n",
    "\n",
    "###### 코드 작성 부분 시작 ######\n",
    "cm = confusion_matrix(y_test, y_pred_test)\n",
    "###### 코드 작성 부분 마침 ######\n",
    "ax = sns.heatmap(cm, cmap='viridis_r', annot=True, fmt='d', square=True)\n",
    "ax.set_xlabel('Predictive Values')\n",
    "ax.set_ylabel('Actual Values');"
   ]
  },
  {
   "cell_type": "markdown",
   "metadata": {
    "id": "a_mZlDD22Ypz"
   },
   "source": [
    "## 04. Feature Importances"
   ]
  },
  {
   "cell_type": "markdown",
   "metadata": {
    "id": "9vsoSjMnEGzK"
   },
   "source": [
    "#### 1) Feature Importances 그래프 그리기"
   ]
  },
  {
   "cell_type": "code",
   "execution_count": 50,
   "metadata": {},
   "outputs": [
    {
     "data": {
      "text/plain": [
       "['acc_open_past_24mths',\n",
       " 'addr_state',\n",
       " 'all_util',\n",
       " 'annual_inc',\n",
       " 'annual_inc_joint',\n",
       " 'application_type',\n",
       " 'avg_cur_bal',\n",
       " 'bc_open_to_buy',\n",
       " 'bc_util',\n",
       " 'chargeoff_within_12_mths',\n",
       " 'collections_12_mths_ex_med',\n",
       " 'delinq_2yrs',\n",
       " 'delinq_amnt',\n",
       " 'dti',\n",
       " 'dti_joint',\n",
       " 'earliest_cr_line',\n",
       " 'emp_length',\n",
       " 'fico_range_low',\n",
       " 'home_ownership',\n",
       " 'il_util',\n",
       " 'initial_list_status',\n",
       " 'inq_fi',\n",
       " 'inq_last_12m',\n",
       " 'inq_last_6mths',\n",
       " 'loan_amnt',\n",
       " 'max_bal_bc',\n",
       " 'mo_sin_old_rev_tl_op',\n",
       " 'mo_sin_rcnt_rev_tl_op',\n",
       " 'mo_sin_rcnt_tl',\n",
       " 'mort_acc',\n",
       " 'mths_since_last_delinq',\n",
       " 'mths_since_last_major_derog',\n",
       " 'mths_since_last_record',\n",
       " 'mths_since_rcnt_il',\n",
       " 'mths_since_recent_bc',\n",
       " 'mths_since_recent_bc_dlq',\n",
       " 'mths_since_recent_inq',\n",
       " 'mths_since_recent_revol_delinq',\n",
       " 'num_accts_ever_120_pd',\n",
       " 'num_actv_bc_tl',\n",
       " 'num_bc_sats',\n",
       " 'num_bc_tl',\n",
       " 'num_il_tl',\n",
       " 'num_op_rev_tl',\n",
       " 'num_rev_accts',\n",
       " 'num_rev_tl_bal_gt_0',\n",
       " 'num_tl_30dpd',\n",
       " 'num_tl_90g_dpd_24m',\n",
       " 'num_tl_op_past_12m',\n",
       " 'open_acc',\n",
       " 'open_acc_6m',\n",
       " 'open_il_12m',\n",
       " 'open_il_24m',\n",
       " 'open_rv_12m',\n",
       " 'open_rv_24m',\n",
       " 'pct_tl_nvr_dlq',\n",
       " 'percent_bc_gt_75',\n",
       " 'pub_rec',\n",
       " 'pub_rec_bankruptcies',\n",
       " 'purpose',\n",
       " 'revol_bal',\n",
       " 'revol_util',\n",
       " 'tax_liens',\n",
       " 'term',\n",
       " 'tot_coll_amt',\n",
       " 'tot_hi_cred_lim',\n",
       " 'total_acc',\n",
       " 'total_bc_limit',\n",
       " 'total_cu_tl',\n",
       " 'total_il_high_credit_limit',\n",
       " 'total_rev_hi_lim',\n",
       " 'verification_status']"
      ]
     },
     "execution_count": 50,
     "metadata": {},
     "output_type": "execute_result"
    }
   ],
   "source": [
    "model.feature_names_"
   ]
  },
  {
   "cell_type": "code",
   "execution_count": 49,
   "metadata": {},
   "outputs": [
    {
     "data": {
      "text/plain": [
       "array([0.73703484, 4.30077357, 1.86682089, 1.85557071, 2.36084602,\n",
       "       0.10741073, 0.56538429, 1.91654151, 1.29439395, 0.31460168,\n",
       "       0.06024143, 0.79222281, 0.02959255, 1.39056067, 0.85858202,\n",
       "       1.59111733, 2.18089326, 1.26576655, 0.85848299, 1.11667995,\n",
       "       2.16192132, 0.43746733, 2.38725193, 2.56043208, 9.58927322,\n",
       "       1.54602496, 2.24785243, 0.66332153, 0.82255255, 1.09796782,\n",
       "       1.61985972, 1.11394995, 1.57908052, 1.04762705, 0.6472417 ,\n",
       "       1.10175518, 5.10749169, 0.9469049 , 0.27511532, 1.20799178,\n",
       "       0.94439161, 1.02727717, 1.67795299, 1.99868995, 1.02979406,\n",
       "       1.83969753, 0.        , 0.63958854, 0.57428537, 0.9282611 ,\n",
       "       0.68274631, 0.85573721, 0.40296126, 0.38791974, 0.73879815,\n",
       "       1.16993591, 1.56672235, 0.18621971, 0.13663997, 1.87212925,\n",
       "       1.36328367, 2.3002603 , 0.25163789, 3.96872956, 0.98787348,\n",
       "       1.42668956, 0.97617889, 1.65484195, 0.47678895, 1.54618319,\n",
       "       1.63090924, 1.13227439])"
      ]
     },
     "execution_count": 49,
     "metadata": {},
     "output_type": "execute_result"
    }
   ],
   "source": [
    "model.feature_importances_"
   ]
  },
  {
   "cell_type": "code",
   "execution_count": 48,
   "metadata": {
    "colab": {
     "base_uri": "https://localhost:8080/",
     "height": 279
    },
    "executionInfo": {
     "elapsed": 382,
     "status": "ok",
     "timestamp": 1625489979931,
     "user": {
      "displayName": "Young jun Jang",
      "photoUrl": "",
      "userId": "15364579243826530783"
     },
     "user_tz": -540
    },
    "id": "JhdKJ9Jb2Wb-",
    "outputId": "1564d4fd-0e47-4da7-f3b1-1a2725bfa558"
   },
   "outputs": [
    {
     "data": {
      "image/png": "[encoded data removed]",
      "text/plain": [
       "<Figure size 432x288 with 1 Axes>"
      ]
     },
     "metadata": {
      "needs_background": "light"
     },
     "output_type": "display_data"
    }
   ],
   "source": [
    "feat = model.feature_names_\n",
    "###### 코드 작성 부분 시작 ######\n",
    "imp = model.feature_importances_\n",
    "###### 코드 작성 부분 마침 ######\n",
    "# dataframe 하나 만들고,\n",
    "df = pd.DataFrame({'Feature': feat, 'Importance': imp})\n",
    "# dataframe을 importance순으로 상위 10개만 반환\n",
    "df = df.sort_values('Importance', ascending=False)[:10]\n",
    "sns.barplot(x='Importance', y='Feature', data=df);\n",
    "# 고위험, 고금리 대출 양호도를 판단하는데 가장 잘 나타나변수1)대출금액, 2) 최근 대출 문의 3) 대출시청시 대출 차용인이 제공한 상태\n",
    "# 4) term 대출을 하고나서 대출 지급 회수, 5) 지난 6개월간 문의 건수"
   ]
  },
  {
   "cell_type": "markdown",
   "metadata": {
    "id": "rKlrRCXf2fkV"
   },
   "source": [
    "#### 2) 주요 3개 Feature 와 건전/부실 대출 간 관계"
   ]
  },
  {
   "cell_type": "markdown",
   "metadata": {
    "id": "ne0zQFlxFVn7"
   },
   "source": [
    "* 대출액 히스토그램 상에서의 건전/부실 대출"
   ]
  },
  {
   "cell_type": "code",
   "execution_count": 51,
   "metadata": {
    "colab": {
     "base_uri": "https://localhost:8080/",
     "height": 347
    },
    "executionInfo": {
     "elapsed": 655,
     "status": "ok",
     "timestamp": 1625490178646,
     "user": {
      "displayName": "Young jun Jang",
      "photoUrl": "",
      "userId": "15364579243826530783"
     },
     "user_tz": -540
    },
    "id": "GJsDX-j-2eG6",
    "outputId": "2e03a47c-27ae-4037-abb2-0cfe70d3ac8e",
    "scrolled": true
   },
   "outputs": [
    {
     "name": "stderr",
     "output_type": "stream",
     "text": [
      "/opt/anaconda3/lib/python3.8/site-packages/seaborn/distributions.py:2557: FutureWarning: `distplot` is a deprecated function and will be removed in a future version. Please adapt your code to use either `displot` (a figure-level function with similar flexibility) or `histplot` (an axes-level function for histograms).\n",
      "  warnings.warn(msg, FutureWarning)\n"
     ]
    },
    {
     "data": {
      "image/png": "[encoded data removed]",
      "text/plain": [
       "<Figure size 432x288 with 1 Axes>"
      ]
     },
     "metadata": {
      "needs_background": "light"
     },
     "output_type": "display_data"
    }
   ],
   "source": [
    "good = X_mod.loc[y_mod == 1, 'loan_amnt']\n",
    "bad = X_mod.loc[y_mod == 0, 'loan_amnt']\n",
    "\n",
    "bins = 20\n",
    "sns.distplot(good, bins=bins, label='Good loans', kde=False, norm_hist=True)\n",
    "ax = sns.distplot(bad, bins=bins, label='Bad loans', kde=False, norm_hist=True)\n",
    "ax.set_ylabel('Density')\n",
    "ax.legend();\n",
    "\n",
    "# 대출금액이 적은것들에 good그룹이 다 몰려있음, 대출 많은 것들에는 bad그룹이 몰려있음"
   ]
  },
  {
   "cell_type": "markdown",
   "metadata": {
    "id": "Gbl3aT5O2iqb"
   },
   "source": [
    "* 가장 최근에 대출 문의한 기간 히스토그램 상에서의 건전/부실 대출"
   ]
  },
  {
   "cell_type": "code",
   "execution_count": 52,
   "metadata": {
    "colab": {
     "base_uri": "https://localhost:8080/",
     "height": 336
    },
    "executionInfo": {
     "elapsed": 670,
     "status": "ok",
     "timestamp": 1625490234486,
     "user": {
      "displayName": "Young jun Jang",
      "photoUrl": "",
      "userId": "15364579243826530783"
     },
     "user_tz": -540
    },
    "id": "aRHM2xbk2go2",
    "outputId": "399c7cf3-1e76-4689-f651-d40bbb0ed641"
   },
   "outputs": [
    {
     "data": {
      "image/png": "[encoded data removed]",
      "text/plain": [
       "<Figure size 432x288 with 1 Axes>"
      ]
     },
     "metadata": {
      "needs_background": "light"
     },
     "output_type": "display_data"
    }
   ],
   "source": [
    "good = X_mod.loc[y_mod == 1, 'mths_since_recent_inq']\n",
    "bad = X_mod.loc[y_mod == 0, 'mths_since_recent_inq']\n",
    "\n",
    "bins = 20\n",
    "sns.distplot(good, bins=bins, label='Good loans', kde=False, norm_hist=True)\n",
    "ax = sns.distplot(bad, bins=bins, label='Bad loans', kde=False, norm_hist=True)\n",
    "ax.set_ylabel('Density')\n",
    "ax.legend();\n",
    "# 최근에 대출을 문의하고 얼마나 지났는지? 1개월만에 다시 문의한사람이 양호하지 못한 대출을 가지고 있음"
   ]
  },
  {
   "cell_type": "code",
   "execution_count": 54,
   "metadata": {
    "colab": {
     "base_uri": "https://localhost:8080/",
     "height": 336
    },
    "executionInfo": {
     "elapsed": 758,
     "status": "ok",
     "timestamp": 1625490349897,
     "user": {
      "displayName": "Young jun Jang",
      "photoUrl": "",
      "userId": "15364579243826530783"
     },
     "user_tz": -540
    },
    "id": "QhzI4Lp0xJhZ",
    "outputId": "0aa01fbc-2aef-4d96-b230-ab13d005afee"
   },
   "outputs": [
    {
     "data": {
      "image/png": "[encoded data removed]",
      "text/plain": [
       "<Figure size 432x288 with 1 Axes>"
      ]
     },
     "metadata": {
      "needs_background": "light"
     },
     "output_type": "display_data"
    }
   ],
   "source": [
    "good = X_mod.loc[y_mod == 1, 'revol_util']\n",
    "bad = X_mod.loc[y_mod == 0, 'revol_util']\n",
    "# 리볼빙 신용에 대해서 대출자가 사용중인 신용금액: 몇개월 동안 나눠갚는 형식의 회전율\n",
    "bins = 20\n",
    "sns.distplot(good, bins=bins, label='Good loans', kde=False, norm_hist=True)\n",
    "ax = sns.distplot(bad, bins=bins, label='Bad loans', kde=False, norm_hist=True)\n",
    "ax.set_ylabel('Density')\n",
    "ax.legend();"
   ]
  }
 ],
 "metadata": {
  "colab": {
   "collapsed_sections": [
    "YwRe3OfT284L"
   ],
   "provenance": [
    {
     "file_id": "1db81bVPH1kkCNsbaQpWZ_ObwfbhS7sPT",
     "timestamp": 1625464806336
    }
   ],
   "toc_visible": true
  },
  "kernelspec": {
   "display_name": "Python 3",
   "language": "python",
   "name": "python3"
  },
  "language_info": {
   "codemirror_mode": {
    "name": "ipython",
    "version": 3
   },
   "file_extension": ".py",
   "mimetype": "text/x-python",
   "name": "python",
   "nbconvert_exporter": "python",
   "pygments_lexer": "ipython3",
   "version": "3.8.8"
  },
  "widgets": {
   "application/vnd.jupyter.widget-state+json": {
    "119ef399b02f4245aee5ab53431674fb": {
     "model_module": "catboost-widget",
     "model_module_version": "^1.0.0",
     "model_name": "CatboostWidgetModel",
     "state": {
      "_dom_classes": [],
      "_model_module": "catboost-widget",
      "_model_module_version": "^1.0.0",
      "_model_name": "CatboostWidgetModel",
      "_view_count": null,
      "_view_module": "catboost-widget",
      "_view_module_version": "^1.0.0",
      "_view_name": "CatboostWidgetView",
      "data": {
       "catboost_info": {
        "content": {
         "data": {
          "iterations": [
           {
            "iteration": 0,
            "learn": [
             0.665243412
            ],
            "passed_time": 0.09763499238,
            "remaining_time": 97.53735738,
            "test": [
             0.6653699445
            ]
           },
           {
            "iteration": 1,
            "learn": [
             0.6387810068
            ],
            "passed_time": 0.1270972637,
            "remaining_time": 63.42153457,
            "test": [
             0.639101077
            ]
           },
           {
            "iteration": 2,
            "learn": [
             0.6147747505
            ],
            "passed_time": 0.1589801225,
            "remaining_time": 52.83439405,
            "test": [
             0.6151022024
            ]
           },
           {
            "iteration": 3,
            "learn": [
             0.5924820255
            ],
            "passed_time": 0.1899951436,
            "remaining_time": 47.30879076,
            "test": [
             0.5928461581
            ]
           },
           {
            "iteration": 4,
            "learn": [
             0.5717984632
            ],
            "passed_time": 0.22161915,
            "remaining_time": 44.10221085,
            "test": [
             0.5722429622
            ]
           },
           {
            "iteration": 5,
            "learn": [
             0.5527140086
            ],
            "passed_time": 0.2505087731,
            "remaining_time": 41.50095342,
            "test": [
             0.5531907314
            ]
           },
           {
            "iteration": 6,
            "learn": [
             0.5348869494
            ],
            "passed_time": 0.2853721842,
            "remaining_time": 40.4820827,
            "test": [
             0.5354045623
            ]
           },
           {
            "iteration": 7,
            "learn": [
             0.5182369553
            ],
            "passed_time": 0.3196964192,
            "remaining_time": 39.64235598,
            "test": [
             0.5189170722
            ]
           },
           {
            "iteration": 8,
            "learn": [
             0.5030219544
            ],
            "passed_time": 0.3534768398,
            "remaining_time": 38.92172758,
            "test": [
             0.5037603901
            ]
           },
           {
            "iteration": 9,
            "learn": [
             0.4887580925
            ],
            "passed_time": 0.3856562442,
            "remaining_time": 38.17996818,
            "test": [
             0.4896349053
            ]
           },
           {
            "iteration": 10,
            "learn": [
             0.4755488716
            ],
            "passed_time": 0.4157848209,
            "remaining_time": 37.38283526,
            "test": [
             0.4765847701
            ]
           },
           {
            "iteration": 11,
            "learn": [
             0.4634190414
            ],
            "passed_time": 0.4446982634,
            "remaining_time": 36.61349035,
            "test": [
             0.4645487803
            ]
           },
           {
            "iteration": 12,
            "learn": [
             0.4520295665
            ],
            "passed_time": 0.4802649296,
            "remaining_time": 36.46319119,
            "test": [
             0.4532717512
            ]
           },
           {
            "iteration": 13,
            "learn": [
             0.4416919049
            ],
            "passed_time": 0.4903408311,
            "remaining_time": 34.53400425,
            "test": [
             0.4429387563
            ]
           },
           {
            "iteration": 14,
            "learn": [
             0.4321042886
            ],
            "passed_time": 0.4975869847,
            "remaining_time": 32.67487866,
            "test": [
             0.4333514274
            ]
           },
           {
            "iteration": 15,
            "learn": [
             0.423177797
            ],
            "passed_time": 0.5216778269,
            "remaining_time": 32.08318636,
            "test": [
             0.4244219885
            ]
           },
           {
            "iteration": 16,
            "learn": [
             0.4148336788
            ],
            "passed_time": 0.5519190701,
            "remaining_time": 31.91390858,
            "test": [
             0.41613697
            ]
           },
           {
            "iteration": 17,
            "learn": [
             0.4068902034
            ],
            "passed_time": 0.5837504763,
            "remaining_time": 31.84683154,
            "test": [
             0.4082370611
            ]
           },
           {
            "iteration": 18,
            "learn": [
             0.3995640536
            ],
            "passed_time": 0.614141863,
            "remaining_time": 31.70911409,
            "test": [
             0.4009507891
            ]
           },
           {
            "iteration": 19,
            "learn": [
             0.3927809567
            ],
            "passed_time": 0.6491876076,
            "remaining_time": 31.81019277,
            "test": [
             0.3943426428
            ]
           },
           {
            "iteration": 20,
            "learn": [
             0.3863931691
            ],
            "passed_time": 0.6802338075,
            "remaining_time": 31.71185227,
            "test": [
             0.3879998832
            ]
           },
           {
            "iteration": 21,
            "learn": [
             0.3805449772
            ],
            "passed_time": 0.707939296,
            "remaining_time": 31.47111961,
            "test": [
             0.3822353332
            ]
           },
           {
            "iteration": 22,
            "learn": [
             0.3752272094
            ],
            "passed_time": 0.7305903392,
            "remaining_time": 31.03420702,
            "test": [
             0.3769311001
            ]
           },
           {
            "iteration": 23,
            "learn": [
             0.3701717966
            ],
            "passed_time": 0.7603721806,
            "remaining_time": 30.92180201,
            "test": [
             0.3719021432
            ]
           },
           {
            "iteration": 24,
            "learn": [
             0.3654961915
            ],
            "passed_time": 0.7886790863,
            "remaining_time": 30.75848436,
            "test": [
             0.3672311329
            ]
           },
           {
            "iteration": 25,
            "learn": [
             0.3612618328
            ],
            "passed_time": 0.8081914725,
            "remaining_time": 30.27609593,
            "test": [
             0.3630234029
            ]
           },
           {
            "iteration": 26,
            "learn": [
             0.3571953347
            ],
            "passed_time": 0.838152619,
            "remaining_time": 30.20453697,
            "test": [
             0.3590622817
            ]
           },
           {
            "iteration": 27,
            "learn": [
             0.3531525357
            ],
            "passed_time": 0.8775600848,
            "remaining_time": 30.46387152,
            "test": [
             0.3552213603
            ]
           },
           {
            "iteration": 28,
            "learn": [
             0.3495572443
            ],
            "passed_time": 0.9090273547,
            "remaining_time": 30.4367435,
            "test": [
             0.3516814376
            ]
           },
           {
            "iteration": 29,
            "learn": [
             0.3463633316
            ],
            "passed_time": 0.9517193134,
            "remaining_time": 30.7722578,
            "test": [
             0.3485085903
            ]
           },
           {
            "iteration": 30,
            "learn": [
             0.3433749494
            ],
            "passed_time": 0.9901128533,
            "remaining_time": 30.94901145,
            "test": [
             0.3455746064
            ]
           },
           {
            "iteration": 31,
            "learn": [
             0.3404582897
            ],
            "passed_time": 1.02030339,
            "remaining_time": 30.86417756,
            "test": [
             0.3426904067
            ]
           },
           {
            "iteration": 32,
            "learn": [
             0.3379217329
            ],
            "passed_time": 1.027497317,
            "remaining_time": 30.10878503,
            "test": [
             0.3401552724
            ]
           },
           {
            "iteration": 33,
            "learn": [
             0.3354167407
            ],
            "passed_time": 1.057522894,
            "remaining_time": 30.04609164,
            "test": [
             0.337713833
            ]
           },
           {
            "iteration": 34,
            "learn": [
             0.3330581095
            ],
            "passed_time": 1.086856215,
            "remaining_time": 29.96617849,
            "test": [
             0.3353887754
            ]
           },
           {
            "iteration": 35,
            "learn": [
             0.3310036405
            ],
            "passed_time": 1.109491938,
            "remaining_time": 29.70972858,
            "test": [
             0.333329664
            ]
           },
           {
            "iteration": 36,
            "learn": [
             0.3290192425
            ],
            "passed_time": 1.137869146,
            "remaining_time": 29.615351,
            "test": [
             0.3313661021
            ]
           },
           {
            "iteration": 37,
            "learn": [
             0.3270873124
            ],
            "passed_time": 1.169250392,
            "remaining_time": 29.60049675,
            "test": [
             0.3295873938
            ]
           },
           {
            "iteration": 38,
            "learn": [
             0.3253156577
            ],
            "passed_time": 1.19733962,
            "remaining_time": 29.50367628,
            "test": [
             0.3278792024
            ]
           },
           {
            "iteration": 39,
            "learn": [
             0.3236223049
            ],
            "passed_time": 1.228532662,
            "remaining_time": 29.48478388,
            "test": [
             0.3262452731
            ]
           },
           {
            "iteration": 40,
            "learn": [
             0.3221217237
            ],
            "passed_time": 1.251095075,
            "remaining_time": 29.26341894,
            "test": [
             0.3247970328
            ]
           },
           {
            "iteration": 41,
            "learn": [
             0.3204440754
            ],
            "passed_time": 1.283244456,
            "remaining_time": 29.27019498,
            "test": [
             0.3232137439
            ]
           },
           {
            "iteration": 42,
            "learn": [
             0.3188878596
            ],
            "passed_time": 1.321053081,
            "remaining_time": 29.40111159,
            "test": [
             0.3217689161
            ]
           },
           {
            "iteration": 43,
            "learn": [
             0.3175791953
            ],
            "passed_time": 1.363131199,
            "remaining_time": 29.61712333,
            "test": [
             0.3205211025
            ]
           },
           {
            "iteration": 44,
            "learn": [
             0.3163495952
            ],
            "passed_time": 1.394158694,
            "remaining_time": 29.58714561,
            "test": [
             0.3193455103
            ]
           },
           {
            "iteration": 45,
            "learn": [
             0.3151456439
            ],
            "passed_time": 1.423178986,
            "remaining_time": 29.51549463,
            "test": [
             0.3182614801
            ]
           },
           {
            "iteration": 46,
            "learn": [
             0.3139180308
            ],
            "passed_time": 1.452811828,
            "remaining_time": 29.45807813,
            "test": [
             0.3171241114
            ]
           },
           {
            "iteration": 47,
            "learn": [
             0.3127089393
            ],
            "passed_time": 1.484960544,
            "remaining_time": 29.45171745,
            "test": [
             0.3160921389
            ]
           },
           {
            "iteration": 48,
            "learn": [
             0.3118277905
            ],
            "passed_time": 1.514258029,
            "remaining_time": 29.38896704,
            "test": [
             0.3153038847
            ]
           },
           {
            "iteration": 49,
            "learn": [
             0.3107962972
            ],
            "passed_time": 1.544861687,
            "remaining_time": 29.35237206,
            "test": [
             0.3143722958
            ]
           },
           {
            "iteration": 50,
            "learn": [
             0.3098229313
            ],
            "passed_time": 1.579723055,
            "remaining_time": 29.3952388,
            "test": [
             0.3136381738
            ]
           },
           {
            "iteration": 51,
            "learn": [
             0.30887179
            ],
            "passed_time": 1.609960928,
            "remaining_time": 29.35082615,
            "test": [
             0.3128267225
            ]
           },
           {
            "iteration": 52,
            "learn": [
             0.3082427324
            ],
            "passed_time": 1.623704735,
            "remaining_time": 29.01223366,
            "test": [
             0.3122091779
            ]
           },
           {
            "iteration": 53,
            "learn": [
             0.307399339
            ],
            "passed_time": 1.654902954,
            "remaining_time": 28.99144804,
            "test": [
             0.3115067449
            ]
           },
           {
            "iteration": 54,
            "learn": [
             0.306768512
            ],
            "passed_time": 1.68490965,
            "remaining_time": 28.94981127,
            "test": [
             0.3109564435
            ]
           },
           {
            "iteration": 55,
            "learn": [
             0.3059885534
            ],
            "passed_time": 1.716012827,
            "remaining_time": 28.92707338,
            "test": [
             0.3103249315
            ]
           },
           {
            "iteration": 56,
            "learn": [
             0.3051730701
            ],
            "passed_time": 1.746009816,
            "remaining_time": 28.88574135,
            "test": [
             0.3096602507
            ]
           },
           {
            "iteration": 57,
            "learn": [
             0.3044486814
            ],
            "passed_time": 1.778297734,
            "remaining_time": 28.88200802,
            "test": [
             0.3091299459
            ]
           },
           {
            "iteration": 58,
            "learn": [
             0.3038736189
            ],
            "passed_time": 1.810076496,
            "remaining_time": 28.86918615,
            "test": [
             0.3087006126
            ]
           },
           {
            "iteration": 59,
            "learn": [
             0.3034213548
            ],
            "passed_time": 1.838356113,
            "remaining_time": 28.80091244,
            "test": [
             0.308311277
            ]
           },
           {
            "iteration": 60,
            "learn": [
             0.3029492255
            ],
            "passed_time": 1.869753661,
            "remaining_time": 28.7819457,
            "test": [
             0.3079599405
            ]
           },
           {
            "iteration": 61,
            "learn": [
             0.3025523821
            ],
            "passed_time": 1.900968732,
            "remaining_time": 28.75981726,
            "test": [
             0.3076124607
            ]
           },
           {
            "iteration": 62,
            "learn": [
             0.302081494
            ],
            "passed_time": 1.934927965,
            "remaining_time": 28.77821433,
            "test": [
             0.3072353454
            ]
           },
           {
            "iteration": 63,
            "learn": [
             0.3017439107
            ],
            "passed_time": 1.969285759,
            "remaining_time": 28.80080423,
            "test": [
             0.3069255453
            ]
           },
           {
            "iteration": 64,
            "learn": [
             0.3012283857
            ],
            "passed_time": 2.00211518,
            "remaining_time": 28.79965682,
            "test": [
             0.3065044792
            ]
           },
           {
            "iteration": 65,
            "learn": [
             0.3007154091
            ],
            "passed_time": 2.030441173,
            "remaining_time": 28.73381903,
            "test": [
             0.3060783219
            ]
           },
           {
            "iteration": 66,
            "learn": [
             0.3002913605
            ],
            "passed_time": 2.060601657,
            "remaining_time": 28.69464696,
            "test": [
             0.3057560267
            ]
           },
           {
            "iteration": 67,
            "learn": [
             0.299914479
            ],
            "passed_time": 2.097842597,
            "remaining_time": 28.75278383,
            "test": [
             0.3055620949
            ]
           },
           {
            "iteration": 68,
            "learn": [
             0.299478084
            ],
            "passed_time": 2.128433244,
            "remaining_time": 28.71842536,
            "test": [
             0.3053279902
            ]
           },
           {
            "iteration": 69,
            "learn": [
             0.2990208773
            ],
            "passed_time": 2.159015439,
            "remaining_time": 28.68406226,
            "test": [
             0.3050674251
            ]
           },
           {
            "iteration": 70,
            "learn": [
             0.2986128278
            ],
            "passed_time": 2.1899868,
            "remaining_time": 28.65489771,
            "test": [
             0.3048335672
            ]
           },
           {
            "iteration": 71,
            "learn": [
             0.298306603
            ],
            "passed_time": 2.218541034,
            "remaining_time": 28.59452888,
            "test": [
             0.3045994466
            ]
           },
           {
            "iteration": 72,
            "learn": [
             0.2980047951
            ],
            "passed_time": 2.248577535,
            "remaining_time": 28.55385445,
            "test": [
             0.3043813146
            ]
           },
           {
            "iteration": 73,
            "learn": [
             0.2978619675
            ],
            "passed_time": 2.255528653,
            "remaining_time": 28.22458828,
            "test": [
             0.3042393932
            ]
           },
           {
            "iteration": 74,
            "learn": [
             0.2973412756
            ],
            "passed_time": 2.286688123,
            "remaining_time": 28.20248684,
            "test": [
             0.3039669504
            ]
           },
           {
            "iteration": 75,
            "learn": [
             0.2970670039
            ],
            "passed_time": 2.317240584,
            "remaining_time": 28.1727671,
            "test": [
             0.3037876781
            ]
           },
           {
            "iteration": 76,
            "learn": [
             0.2968153472
            ],
            "passed_time": 2.353550614,
            "remaining_time": 28.21204177,
            "test": [
             0.3036107026
            ]
           },
           {
            "iteration": 77,
            "learn": [
             0.2964227115
            ],
            "passed_time": 2.386069911,
            "remaining_time": 28.20456997,
            "test": [
             0.3033703559
            ]
           },
           {
            "iteration": 78,
            "learn": [
             0.2962068021
            ],
            "passed_time": 2.41483767,
            "remaining_time": 28.15272777,
            "test": [
             0.3032348026
            ]
           },
           {
            "iteration": 79,
            "learn": [
             0.2957797639
            ],
            "passed_time": 2.446810983,
            "remaining_time": 28.1383263,
            "test": [
             0.3030295744
            ]
           },
           {
            "iteration": 80,
            "learn": [
             0.295474181
            ],
            "passed_time": 2.476330643,
            "remaining_time": 28.0956526,
            "test": [
             0.3027835443
            ]
           },
           {
            "iteration": 81,
            "learn": [
             0.295142
            ],
            "passed_time": 2.505257889,
            "remaining_time": 28.04666759,
            "test": [
             0.3026126994
            ]
           },
           {
            "iteration": 82,
            "learn": [
             0.294771767
            ],
            "passed_time": 2.537832804,
            "remaining_time": 28.03846604,
            "test": [
             0.302578626
            ]
           },
           {
            "iteration": 83,
            "learn": [
             0.2945393244
            ],
            "passed_time": 2.567749983,
            "remaining_time": 28.0007022,
            "test": [
             0.3023786461
            ]
           },
           {
            "iteration": 84,
            "learn": [
             0.2942306178
            ],
            "passed_time": 2.600033951,
            "remaining_time": 27.98860077,
            "test": [
             0.302234662
            ]
           },
           {
            "iteration": 85,
            "learn": [
             0.293984101
            ],
            "passed_time": 2.630514536,
            "remaining_time": 27.95686379,
            "test": [
             0.3021405654
            ]
           },
           {
            "iteration": 86,
            "learn": [
             0.2936675536
            ],
            "passed_time": 2.663323975,
            "remaining_time": 27.94959528,
            "test": [
             0.3019937337
            ]
           },
           {
            "iteration": 87,
            "learn": [
             0.2935894178
            ],
            "passed_time": 2.676037589,
            "remaining_time": 27.73348047,
            "test": [
             0.3018996424
            ]
           },
           {
            "iteration": 88,
            "learn": [
             0.2933954588
            ],
            "passed_time": 2.708382213,
            "remaining_time": 27.72287861,
            "test": [
             0.3017434941
            ]
           },
           {
            "iteration": 89,
            "learn": [
             0.2932101411
            ],
            "passed_time": 2.74018939,
            "remaining_time": 27.70635939,
            "test": [
             0.3017046933
            ]
           },
           {
            "iteration": 90,
            "learn": [
             0.2928788505
            ],
            "passed_time": 2.771418027,
            "remaining_time": 27.68372513,
            "test": [
             0.3016176212
            ]
           },
           {
            "iteration": 91,
            "learn": [
             0.2926315006
            ],
            "passed_time": 2.804734747,
            "remaining_time": 27.68151251,
            "test": [
             0.3014874501
            ]
           },
           {
            "iteration": 92,
            "learn": [
             0.2924399723
            ],
            "passed_time": 2.834060094,
            "remaining_time": 27.63970436,
            "test": [
             0.3014269001
            ]
           },
           {
            "iteration": 93,
            "learn": [
             0.2921874177
            ],
            "passed_time": 2.865077195,
            "remaining_time": 27.61446743,
            "test": [
             0.3013485851
            ]
           },
           {
            "iteration": 94,
            "learn": [
             0.292079713
            ],
            "passed_time": 2.893063604,
            "remaining_time": 27.56023749,
            "test": [
             0.301293458
            ]
           },
           {
            "iteration": 95,
            "learn": [
             0.2918211875
            ],
            "passed_time": 2.928551152,
            "remaining_time": 27.57719002,
            "test": [
             0.3012156726
            ]
           },
           {
            "iteration": 96,
            "learn": [
             0.2915795211
            ],
            "passed_time": 2.967664102,
            "remaining_time": 27.62681118,
            "test": [
             0.3010859709
            ]
           },
           {
            "iteration": 97,
            "learn": [
             0.2913957168
            ],
            "passed_time": 2.996893488,
            "remaining_time": 27.58365231,
            "test": [
             0.3010912657
            ]
           },
           {
            "iteration": 98,
            "learn": [
             0.2910903234
            ],
            "passed_time": 3.028081759,
            "remaining_time": 27.55860268,
            "test": [
             0.3009749391
            ]
           },
           {
            "iteration": 99,
            "learn": [
             0.2907950785
            ],
            "passed_time": 3.059956481,
            "remaining_time": 27.53960833,
            "test": [
             0.3008690752
            ]
           },
           {
            "iteration": 100,
            "learn": [
             0.2906072395
            ],
            "passed_time": 3.092520098,
            "remaining_time": 27.52649077,
            "test": [
             0.3008186899
            ]
           },
           {
            "iteration": 101,
            "learn": [
             0.2904849936
            ],
            "passed_time": 3.122110508,
            "remaining_time": 27.48681604,
            "test": [
             0.3007889464
            ]
           },
           {
            "iteration": 102,
            "learn": [
             0.2902546657
            ],
            "passed_time": 3.153620485,
            "remaining_time": 27.46405413,
            "test": [
             0.3006440498
            ]
           },
           {
            "iteration": 103,
            "learn": [
             0.289993776
            ],
            "passed_time": 3.184630079,
            "remaining_time": 27.43681299,
            "test": [
             0.3006328069
            ]
           },
           {
            "iteration": 104,
            "learn": [
             0.289759739
            ],
            "passed_time": 3.219953414,
            "remaining_time": 27.44626958,
            "test": [
             0.3005509368
            ]
           },
           {
            "iteration": 105,
            "learn": [
             0.2894765777
            ],
            "passed_time": 3.251305883,
            "remaining_time": 27.42139113,
            "test": [
             0.3003672499
            ]
           },
           {
            "iteration": 106,
            "learn": [
             0.2893330778
            ],
            "passed_time": 3.281937764,
            "remaining_time": 27.39037778,
            "test": [
             0.3003869518
            ]
           },
           {
            "iteration": 107,
            "learn": [
             0.2891578641
            ],
            "passed_time": 3.311251153,
            "remaining_time": 27.34848175,
            "test": [
             0.3003949615
            ]
           },
           {
            "iteration": 108,
            "learn": [
             0.2890578453
            ],
            "passed_time": 3.340828055,
            "remaining_time": 27.30897061,
            "test": [
             0.3004195796
            ]
           },
           {
            "iteration": 109,
            "learn": [
             0.2888664519
            ],
            "passed_time": 3.384076484,
            "remaining_time": 27.38025519,
            "test": [
             0.3004058124
            ]
           },
           {
            "iteration": 110,
            "learn": [
             0.2886632985
            ],
            "passed_time": 3.416581126,
            "remaining_time": 27.36342902,
            "test": [
             0.3003470924
            ]
           },
           {
            "iteration": 111,
            "learn": [
             0.2885301013
            ],
            "passed_time": 3.447429732,
            "remaining_time": 27.33319288,
            "test": [
             0.300303661
            ]
           },
           {
            "iteration": 112,
            "learn": [
             0.2882678196
            ],
            "passed_time": 3.4794316,
            "remaining_time": 27.31199849,
            "test": [
             0.3001712429
            ]
           },
           {
            "iteration": 113,
            "learn": [
             0.2880697882
            ],
            "passed_time": 3.50785472,
            "remaining_time": 27.26280072,
            "test": [
             0.3001106345
            ]
           },
           {
            "iteration": 114,
            "learn": [
             0.2878060925
            ],
            "passed_time": 3.538118754,
            "remaining_time": 27.22813128,
            "test": [
             0.2999909935
            ]
           },
           {
            "iteration": 115,
            "learn": [
             0.2875557137
            ],
            "passed_time": 3.571446259,
            "remaining_time": 27.21688356,
            "test": [
             0.3000109345
            ]
           },
           {
            "iteration": 116,
            "learn": [
             0.287372613
            ],
            "passed_time": 3.602138915,
            "remaining_time": 27.18537318,
            "test": [
             0.3000375815
            ]
           },
           {
            "iteration": 117,
            "learn": [
             0.2871563238
            ],
            "passed_time": 3.63103538,
            "remaining_time": 27.14045089,
            "test": [
             0.3000026103
            ]
           },
           {
            "iteration": 118,
            "learn": [
             0.2870292142
            ],
            "passed_time": 3.662059301,
            "remaining_time": 27.11154827,
            "test": [
             0.2999851461
            ]
           },
           {
            "iteration": 119,
            "learn": [
             0.2867428639
            ],
            "passed_time": 3.691921147,
            "remaining_time": 27.07408841,
            "test": [
             0.299913669
            ]
           },
           {
            "iteration": 120,
            "learn": [
             0.286490286
            ],
            "passed_time": 3.722308873,
            "remaining_time": 27.04057437,
            "test": [
             0.2998383912
            ]
           },
           {
            "iteration": 121,
            "learn": [
             0.2862419944
            ],
            "passed_time": 3.755161405,
            "remaining_time": 27.02485011,
            "test": [
             0.2998059347
            ]
           },
           {
            "iteration": 122,
            "learn": [
             0.2861711138
            ],
            "passed_time": 3.783627449,
            "remaining_time": 26.97757132,
            "test": [
             0.2997810006
            ]
           },
           {
            "iteration": 123,
            "learn": [
             0.2861307038
            ],
            "passed_time": 3.813055803,
            "remaining_time": 26.93739422,
            "test": [
             0.2997852438
            ]
           },
           {
            "iteration": 124,
            "learn": [
             0.2859597961
            ],
            "passed_time": 3.843914015,
            "remaining_time": 26.9073981,
            "test": [
             0.2997892095
            ]
           },
           {
            "iteration": 125,
            "learn": [
             0.285864065
            ],
            "passed_time": 3.875836335,
            "remaining_time": 26.8847695,
            "test": [
             0.299739661
            ]
           },
           {
            "iteration": 126,
            "learn": [
             0.2857124278
            ],
            "passed_time": 3.90938307,
            "remaining_time": 26.87316079,
            "test": [
             0.2997267199
            ]
           },
           {
            "iteration": 127,
            "learn": [
             0.2855408804
            ],
            "passed_time": 3.938338477,
            "remaining_time": 26.82993087,
            "test": [
             0.2996767286
            ]
           },
           {
            "iteration": 128,
            "learn": [
             0.2854333367
            ],
            "passed_time": 3.983851286,
            "remaining_time": 26.89871682,
            "test": [
             0.2996668703
            ]
           },
           {
            "iteration": 129,
            "learn": [
             0.2853783999
            ],
            "passed_time": 4.01600352,
            "remaining_time": 26.87633125,
            "test": [
             0.2996716051
            ]
           },
           {
            "iteration": 130,
            "learn": [
             0.2851576
            ],
            "passed_time": 4.047352186,
            "remaining_time": 26.84846603,
            "test": [
             0.2996352614
            ]
           },
           {
            "iteration": 131,
            "learn": [
             0.2850419474
            ],
            "passed_time": 4.077305938,
            "remaining_time": 26.81137541,
            "test": [
             0.2996005583
            ]
           },
           {
            "iteration": 132,
            "learn": [
             0.2848982298
            ],
            "passed_time": 4.107790049,
            "remaining_time": 26.77784942,
            "test": [
             0.2995750816
            ]
           },
           {
            "iteration": 133,
            "learn": [
             0.284851234
            ],
            "passed_time": 4.13723894,
            "remaining_time": 26.73767852,
            "test": [
             0.2995631648
            ]
           },
           {
            "iteration": 134,
            "learn": [
             0.2847229223
            ],
            "passed_time": 4.164660267,
            "remaining_time": 26.68467505,
            "test": [
             0.299541508
            ]
           },
           {
            "iteration": 135,
            "learn": [
             0.2845997669
            ],
            "passed_time": 4.19481591,
            "remaining_time": 26.64941872,
            "test": [
             0.2995536564
            ]
           },
           {
            "iteration": 136,
            "learn": [
             0.2845114763
            ],
            "passed_time": 4.22553517,
            "remaining_time": 26.61778724,
            "test": [
             0.2995547177
            ]
           },
           {
            "iteration": 137,
            "learn": [
             0.284438743
            ],
            "passed_time": 4.259087619,
            "remaining_time": 26.60386614,
            "test": [
             0.2995410508
            ]
           },
           {
            "iteration": 138,
            "learn": [
             0.2843969386
            ],
            "passed_time": 4.28839852,
            "remaining_time": 26.56338939,
            "test": [
             0.2995520395
            ]
           },
           {
            "iteration": 139,
            "learn": [
             0.2841582638
            ],
            "passed_time": 4.318751488,
            "remaining_time": 26.52947342,
            "test": [
             0.2996031762
            ]
           },
           {
            "iteration": 140,
            "learn": [
             0.2840008455
            ],
            "passed_time": 4.352993705,
            "remaining_time": 26.51930207,
            "test": [
             0.299523454
            ]
           },
           {
            "iteration": 141,
            "learn": [
             0.2839745088
            ],
            "passed_time": 4.372721845,
            "remaining_time": 26.42109396,
            "test": [
             0.2995210691
            ]
           },
           {
            "iteration": 142,
            "learn": [
             0.2838111004
            ],
            "passed_time": 4.407893636,
            "remaining_time": 26.41653739,
            "test": [
             0.2995005431
            ]
           },
           {
            "iteration": 143,
            "learn": [
             0.2837810291
            ],
            "passed_time": 4.424612023,
            "remaining_time": 26.30186036,
            "test": [
             0.2995154982
            ]
           },
           {
            "iteration": 144,
            "learn": [
             0.2837127838
            ],
            "passed_time": 4.452521499,
            "remaining_time": 26.25452332,
            "test": [
             0.2995260062
            ]
           },
           {
            "iteration": 145,
            "learn": [
             0.2834909894
            ],
            "passed_time": 4.482554279,
            "remaining_time": 26.21987229,
            "test": [
             0.29953281
            ]
           },
           {
            "iteration": 146,
            "learn": [
             0.2834106066
            ],
            "passed_time": 4.515130507,
            "remaining_time": 26.20004301,
            "test": [
             0.2995173112
            ]
           },
           {
            "iteration": 147,
            "learn": [
             0.283358294
            ],
            "passed_time": 4.545794978,
            "remaining_time": 26.16903595,
            "test": [
             0.2995538168
            ]
           },
           {
            "iteration": 148,
            "learn": [
             0.2832641762
            ],
            "passed_time": 4.577099299,
            "remaining_time": 26.14168794,
            "test": [
             0.2995729803
            ]
           },
           {
            "iteration": 149,
            "learn": [
             0.2831598812
            ],
            "passed_time": 4.605618017,
            "remaining_time": 26.09850209,
            "test": [
             0.2995853695
            ]
           },
           {
            "iteration": 150,
            "learn": [
             0.2829101795
            ],
            "passed_time": 4.635234826,
            "remaining_time": 26.06168455,
            "test": [
             0.2995769919
            ]
           },
           {
            "iteration": 151,
            "learn": [
             0.2827604315
            ],
            "passed_time": 4.666560982,
            "remaining_time": 26.03449811,
            "test": [
             0.299587071
            ]
           },
           {
            "iteration": 152,
            "learn": [
             0.2826690678
            ],
            "passed_time": 4.69728991,
            "remaining_time": 26.00395133,
            "test": [
             0.299615903
            ]
           },
           {
            "iteration": 153,
            "learn": [
             0.2825646806
            ],
            "passed_time": 4.727216666,
            "remaining_time": 25.96899545,
            "test": [
             0.2996366889
            ]
           },
           {
            "iteration": 154,
            "learn": [
             0.2824535969
            ],
            "passed_time": 4.756286399,
            "remaining_time": 25.9294323,
            "test": [
             0.2996323004
            ]
           },
           {
            "iteration": 155,
            "learn": [
             0.2823324931
            ],
            "passed_time": 4.780300982,
            "remaining_time": 25.86265403,
            "test": [
             0.2996320868
            ]
           },
           {
            "iteration": 156,
            "learn": [
             0.2822224783
            ],
            "passed_time": 4.812121032,
            "remaining_time": 25.8383314,
            "test": [
             0.2995912189
            ]
           },
           {
            "iteration": 157,
            "learn": [
             0.2820114474
            ],
            "passed_time": 4.844473036,
            "remaining_time": 25.81674871,
            "test": [
             0.2995638741
            ]
           },
           {
            "iteration": 158,
            "learn": [
             0.2818981668
            ],
            "passed_time": 4.87652021,
            "remaining_time": 25.79341822,
            "test": [
             0.2995487835
            ]
           },
           {
            "iteration": 159,
            "learn": [
             0.2817419143
            ],
            "passed_time": 4.906472588,
            "remaining_time": 25.75898109,
            "test": [
             0.2994777655
            ]
           },
           {
            "iteration": 160,
            "learn": [
             0.2815630772
            ],
            "passed_time": 4.935844709,
            "remaining_time": 25.72157584,
            "test": [
             0.2994508694
            ]
           },
           {
            "iteration": 161,
            "learn": [
             0.2813570825
            ],
            "passed_time": 4.96700248,
            "remaining_time": 25.69350666,
            "test": [
             0.2994338626
            ]
           },
           {
            "iteration": 162,
            "learn": [
             0.281262232
            ],
            "passed_time": 5.017509298,
            "remaining_time": 25.76475633,
            "test": [
             0.2994397031
            ]
           },
           {
            "iteration": 163,
            "learn": [
             0.2811086543
            ],
            "passed_time": 5.049468718,
            "remaining_time": 25.73997468,
            "test": [
             0.2993541196
            ]
           },
           {
            "iteration": 164,
            "learn": [
             0.2809654578
            ],
            "passed_time": 5.083341093,
            "remaining_time": 25.72478674,
            "test": [
             0.2993453749
            ]
           },
           {
            "iteration": 165,
            "learn": [
             0.2808284474
            ],
            "passed_time": 5.118752328,
            "remaining_time": 25.71710507,
            "test": [
             0.2993302115
            ]
           },
           {
            "iteration": 166,
            "learn": [
             0.2808106157
            ],
            "passed_time": 5.136955699,
            "remaining_time": 25.62325807,
            "test": [
             0.299330741
            ]
           },
           {
            "iteration": 167,
            "learn": [
             0.2806039537
            ],
            "passed_time": 5.16745976,
            "remaining_time": 25.59122929,
            "test": [
             0.2992882614
            ]
           },
           {
            "iteration": 168,
            "learn": [
             0.2805227504
            ],
            "passed_time": 5.197914058,
            "remaining_time": 25.55897386,
            "test": [
             0.2993042974
            ]
           },
           {
            "iteration": 169,
            "learn": [
             0.2803263303
            ],
            "passed_time": 5.229133232,
            "remaining_time": 25.53047401,
            "test": [
             0.2992991846
            ]
           },
           {
            "iteration": 170,
            "learn": [
             0.2802577525
            ],
            "passed_time": 5.260769317,
            "remaining_time": 25.50396353,
            "test": [
             0.2992838683
            ]
           },
           {
            "iteration": 171,
            "learn": [
             0.2801336814
            ],
            "passed_time": 5.291125328,
            "remaining_time": 25.47123123,
            "test": [
             0.2992579669
            ]
           },
           {
            "iteration": 172,
            "learn": [
             0.2800614757
            ],
            "passed_time": 5.319731827,
            "remaining_time": 25.43016313,
            "test": [
             0.2993291597
            ]
           },
           {
            "iteration": 173,
            "learn": [
             0.2800014248
            ],
            "passed_time": 5.35163315,
            "remaining_time": 25.40487921,
            "test": [
             0.2993452074
            ]
           },
           {
            "iteration": 174,
            "learn": [
             0.2799446513
            ],
            "passed_time": 5.395944482,
            "remaining_time": 25.43802399,
            "test": [
             0.2993644154
            ]
           },
           {
            "iteration": 175,
            "learn": [
             0.2796881525
            ],
            "passed_time": 5.428917887,
            "remaining_time": 25.41720647,
            "test": [
             0.2993234929
            ]
           },
           {
            "iteration": 176,
            "learn": [
             0.2796185087
            ],
            "passed_time": 5.459577893,
            "remaining_time": 25.38549495,
            "test": [
             0.2992944003
            ]
           },
           {
            "iteration": 177,
            "learn": [
             0.279534951
            ],
            "passed_time": 5.489771013,
            "remaining_time": 25.35163917,
            "test": [
             0.2993000165
            ]
           },
           {
            "iteration": 178,
            "learn": [
             0.2794038742
            ],
            "passed_time": 5.520627562,
            "remaining_time": 25.3208672,
            "test": [
             0.2992962244
            ]
           },
           {
            "iteration": 179,
            "learn": [
             0.2792981199
            ],
            "passed_time": 5.550617349,
            "remaining_time": 25.2861457,
            "test": [
             0.2993037525
            ]
           },
           {
            "iteration": 180,
            "learn": [
             0.2791349488
            ],
            "passed_time": 5.580839803,
            "remaining_time": 25.25252928,
            "test": [
             0.2992093852
            ]
           },
           {
            "iteration": 181,
            "learn": [
             0.2789215032
            ],
            "passed_time": 5.613709484,
            "remaining_time": 25.23084812,
            "test": [
             0.2991856651
            ]
           },
           {
            "iteration": 182,
            "learn": [
             0.2788209169
            ],
            "passed_time": 5.643772771,
            "remaining_time": 25.19651559,
            "test": [
             0.2991674416
            ]
           },
           {
            "iteration": 183,
            "learn": [
             0.2787932846
            ],
            "passed_time": 5.664984244,
            "remaining_time": 25.1229736,
            "test": [
             0.2991764108
            ]
           },
           {
            "iteration": 184,
            "learn": [
             0.2785944948
            ],
            "passed_time": 5.694642194,
            "remaining_time": 25.0872075,
            "test": [
             0.2991179651
            ]
           },
           {
            "iteration": 185,
            "learn": [
             0.2784570211
            ],
            "passed_time": 5.725002159,
            "remaining_time": 25.05457934,
            "test": [
             0.299139583
            ]
           },
           {
            "iteration": 186,
            "learn": [
             0.2783852961
            ],
            "passed_time": 5.755557157,
            "remaining_time": 25.02282336,
            "test": [
             0.2991290883
            ]
           },
           {
            "iteration": 187,
            "learn": [
             0.2783061274
            ],
            "passed_time": 5.785999884,
            "remaining_time": 24.99059524,
            "test": [
             0.299139051
            ]
           },
           {
            "iteration": 188,
            "learn": [
             0.2782941378
            ],
            "passed_time": 5.800794158,
            "remaining_time": 24.89123842,
            "test": [
             0.2991414082
            ]
           },
           {
            "iteration": 189,
            "learn": [
             0.2781848832
            ],
            "passed_time": 5.83290331,
            "remaining_time": 24.86658779,
            "test": [
             0.2991153622
            ]
           },
           {
            "iteration": 190,
            "learn": [
             0.2780551497
            ],
            "passed_time": 5.864318155,
            "remaining_time": 24.83891826,
            "test": [
             0.2991052483
            ]
           },
           {
            "iteration": 191,
            "learn": [
             0.2778883906
            ],
            "passed_time": 5.893883525,
            "remaining_time": 24.8034265,
            "test": [
             0.2990192836
            ]
           },
           {
            "iteration": 192,
            "learn": [
             0.2778273989
            ],
            "passed_time": 5.921900916,
            "remaining_time": 24.76152352,
            "test": [
             0.2990413971
            ]
           },
           {
            "iteration": 193,
            "learn": [
             0.2776802542
            ],
            "passed_time": 5.95456485,
            "remaining_time": 24.7390684,
            "test": [
             0.2989710895
            ]
           },
           {
            "iteration": 194,
            "learn": [
             0.2776343241
            ],
            "passed_time": 5.985545955,
            "remaining_time": 24.70956151,
            "test": [
             0.2989642971
            ]
           },
           {
            "iteration": 195,
            "learn": [
             0.2774191246
            ],
            "passed_time": 6.039910956,
            "remaining_time": 24.77596127,
            "test": [
             0.298957535
            ]
           },
           {
            "iteration": 196,
            "learn": [
             0.2773596319
            ],
            "passed_time": 6.070786934,
            "remaining_time": 24.74539039,
            "test": [
             0.2989385677
            ]
           },
           {
            "iteration": 197,
            "learn": [
             0.277282806
            ],
            "passed_time": 6.100728964,
            "remaining_time": 24.71103348,
            "test": [
             0.2989326877
            ]
           },
           {
            "iteration": 198,
            "learn": [
             0.2771333595
            ],
            "passed_time": 6.13250651,
            "remaining_time": 24.68410912,
            "test": [
             0.2989569497
            ]
           },
           {
            "iteration": 199,
            "learn": [
             0.2769909821
            ],
            "passed_time": 6.164003544,
            "remaining_time": 24.65601418,
            "test": [
             0.2989847985
            ]
           },
           {
            "iteration": 200,
            "learn": [
             0.276942925
            ],
            "passed_time": 6.194487999,
            "remaining_time": 24.62386026,
            "test": [
             0.2989731003
            ]
           },
           {
            "iteration": 201,
            "learn": [
             0.2767664421
            ],
            "passed_time": 6.227126431,
            "remaining_time": 24.60023214,
            "test": [
             0.2989922387
            ]
           },
           {
            "iteration": 202,
            "learn": [
             0.2765581737
            ],
            "passed_time": 6.260654423,
            "remaining_time": 24.58000776,
            "test": [
             0.2989377288
            ]
           },
           {
            "iteration": 203,
            "learn": [
             0.2764436609
            ],
            "passed_time": 6.297553488,
            "remaining_time": 24.57280675,
            "test": [
             0.2989531634
            ]
           },
           {
            "iteration": 204,
            "learn": [
             0.2763489489
            ],
            "passed_time": 6.32962881,
            "remaining_time": 24.54660929,
            "test": [
             0.2989550938
            ]
           },
           {
            "iteration": 205,
            "learn": [
             0.2761921389
            ],
            "passed_time": 6.364497154,
            "remaining_time": 24.5311201,
            "test": [
             0.2989559473
            ]
           },
           {
            "iteration": 206,
            "learn": [
             0.2761132605
            ],
            "passed_time": 6.400727773,
            "remaining_time": 24.52066243,
            "test": [
             0.2989753324
            ]
           },
           {
            "iteration": 207,
            "learn": [
             0.2760006667
            ],
            "passed_time": 6.434579107,
            "remaining_time": 24.50089737,
            "test": [
             0.2989292967
            ]
           },
           {
            "iteration": 208,
            "learn": [
             0.2758051533
            ],
            "passed_time": 6.466195559,
            "remaining_time": 24.47253917,
            "test": [
             0.2989104472
            ]
           },
           {
            "iteration": 209,
            "learn": [
             0.2757015733
            ],
            "passed_time": 6.495037143,
            "remaining_time": 24.43371116,
            "test": [
             0.298901557
            ]
           },
           {
            "iteration": 210,
            "learn": [
             0.2756557609
            ],
            "passed_time": 6.524734564,
            "remaining_time": 24.39817806,
            "test": [
             0.2988977521
            ]
           },
           {
            "iteration": 211,
            "learn": [
             0.2755329865
            ],
            "passed_time": 6.554202072,
            "remaining_time": 24.36184544,
            "test": [
             0.2988851575
            ]
           },
           {
            "iteration": 212,
            "learn": [
             0.2754481323
            ],
            "passed_time": 6.583193417,
            "remaining_time": 24.32381793,
            "test": [
             0.2988751724
            ]
           },
           {
            "iteration": 213,
            "learn": [
             0.2752460112
            ],
            "passed_time": 6.612626021,
            "remaining_time": 24.28749557,
            "test": [
             0.2988530922
            ]
           },
           {
            "iteration": 214,
            "learn": [
             0.2751554263
            ],
            "passed_time": 6.642693207,
            "remaining_time": 24.25355427,
            "test": [
             0.2988802001
            ]
           },
           {
            "iteration": 215,
            "learn": [
             0.2750268995
            ],
            "passed_time": 6.672519677,
            "remaining_time": 24.21877513,
            "test": [
             0.2988733469
            ]
           },
           {
            "iteration": 216,
            "learn": [
             0.2749779092
            ],
            "passed_time": 6.702562294,
            "remaining_time": 24.18482155,
            "test": [
             0.2988717473
            ]
           },
           {
            "iteration": 217,
            "learn": [
             0.2748513033
            ],
            "passed_time": 6.730943811,
            "remaining_time": 24.14494523,
            "test": [
             0.2988553382
            ]
           },
           {
            "iteration": 218,
            "learn": [
             0.2746669057
            ],
            "passed_time": 6.761282568,
            "remaining_time": 24.11215382,
            "test": [
             0.2987835306
            ]
           },
           {
            "iteration": 219,
            "learn": [
             0.2746312775
            ],
            "passed_time": 6.791954385,
            "remaining_time": 24.08056555,
            "test": [
             0.2987805635
            ]
           },
           {
            "iteration": 220,
            "learn": [
             0.2745311761
            ],
            "passed_time": 6.822849863,
            "remaining_time": 24.04977395,
            "test": [
             0.2987672267
            ]
           },
           {
            "iteration": 221,
            "learn": [
             0.2744102373
            ],
            "passed_time": 6.852020883,
            "remaining_time": 24.01293805,
            "test": [
             0.2987488473
            ]
           },
           {
            "iteration": 222,
            "learn": [
             0.2742770832
            ],
            "passed_time": 6.88546882,
            "remaining_time": 23.99107297,
            "test": [
             0.2987081567
            ]
           },
           {
            "iteration": 223,
            "learn": [
             0.2740910554
            ],
            "passed_time": 6.916854463,
            "remaining_time": 23.96196011,
            "test": [
             0.2987136274
            ]
           },
           {
            "iteration": 224,
            "learn": [
             0.2740127781
            ],
            "passed_time": 6.945252804,
            "remaining_time": 23.92253744,
            "test": [
             0.2986582018
            ]
           },
           {
            "iteration": 225,
            "learn": [
             0.2738337915
            ],
            "passed_time": 6.975176153,
            "remaining_time": 23.88843514,
            "test": [
             0.2986537943
            ]
           },
           {
            "iteration": 226,
            "learn": [
             0.2738168905
            ],
            "passed_time": 6.989514509,
            "remaining_time": 23.8012983,
            "test": [
             0.2986571571
            ]
           },
           {
            "iteration": 227,
            "learn": [
             0.2737543964
            ],
            "passed_time": 7.018760758,
            "remaining_time": 23.76527765,
            "test": [
             0.2986648185
            ]
           },
           {
            "iteration": 228,
            "learn": [
             0.2735865215
            ],
            "passed_time": 7.073650445,
            "remaining_time": 23.81565281,
            "test": [
             0.2985992634
            ]
           },
           {
            "iteration": 229,
            "learn": [
             0.273499675
            ],
            "passed_time": 7.103509262,
            "remaining_time": 23.78131362,
            "test": [
             0.2986011768
            ]
           },
           {
            "iteration": 230,
            "learn": [
             0.2734827967
            ],
            "passed_time": 7.118164121,
            "remaining_time": 23.69639917,
            "test": [
             0.2985768794
            ]
           },
           {
            "iteration": 231,
            "learn": [
             0.273458038
            ],
            "passed_time": 7.147638077,
            "remaining_time": 23.66114674,
            "test": [
             0.2985983336
            ]
           },
           {
            "iteration": 232,
            "learn": [
             0.273394153
            ],
            "passed_time": 7.177852821,
            "remaining_time": 23.62838246,
            "test": [
             0.2985937765
            ]
           },
           {
            "iteration": 233,
            "learn": [
             0.273210609
            ],
            "passed_time": 7.210067629,
            "remaining_time": 23.6021872,
            "test": [
             0.2985864206
            ]
           },
           {
            "iteration": 234,
            "learn": [
             0.2730940956
            ],
            "passed_time": 7.237496413,
            "remaining_time": 23.56036066,
            "test": [
             0.2986302283
            ]
           },
           {
            "iteration": 235,
            "learn": [
             0.2729479464
            ],
            "passed_time": 7.266962073,
            "remaining_time": 23.5252501,
            "test": [
             0.2986196979
            ]
           },
           {
            "iteration": 236,
            "learn": [
             0.272875836
            ],
            "passed_time": 7.295761917,
            "remaining_time": 23.48804364,
            "test": [
             0.2985439575
            ]
           },
           {
            "iteration": 237,
            "learn": [
             0.2727633519
            ],
            "passed_time": 7.331618303,
            "remaining_time": 23.47350062,
            "test": [
             0.298578988
            ]
           },
           {
            "iteration": 238,
            "learn": [
             0.2727024592
            ],
            "passed_time": 7.361061896,
            "remaining_time": 23.43836026,
            "test": [
             0.2986232594
            ]
           },
           {
            "iteration": 239,
            "learn": [
             0.2726431403
            ],
            "passed_time": 7.390281723,
            "remaining_time": 23.40255879,
            "test": [
             0.298629776
            ]
           },
           {
            "iteration": 240,
            "learn": [
             0.2725191346
            ],
            "passed_time": 7.429376725,
            "remaining_time": 23.39791259,
            "test": [
             0.2985996059
            ]
           },
           {
            "iteration": 241,
            "learn": [
             0.2723714551
            ],
            "passed_time": 7.460384562,
            "remaining_time": 23.36765082,
            "test": [
             0.2986608896
            ]
           },
           {
            "iteration": 242,
            "learn": [
             0.2722543354
            ],
            "passed_time": 7.49042672,
            "remaining_time": 23.3343746,
            "test": [
             0.2986262755
            ]
           },
           {
            "iteration": 243,
            "learn": [
             0.2721051545
            ],
            "passed_time": 7.521999611,
            "remaining_time": 23.30586765,
            "test": [
             0.2986487075
            ]
           },
           {
            "iteration": 244,
            "learn": [
             0.272020871
            ],
            "passed_time": 7.553017106,
            "remaining_time": 23.27562414,
            "test": [
             0.2986414478
            ]
           },
           {
            "iteration": 245,
            "learn": [
             0.2719506493
            ],
            "passed_time": 7.582460262,
            "remaining_time": 23.24054893,
            "test": [
             0.2986355054
            ]
           },
           {
            "iteration": 246,
            "learn": [
             0.2719273206
            ],
            "passed_time": 7.610625981,
            "remaining_time": 23.20162495,
            "test": [
             0.2986351599
            ]
           },
           {
            "iteration": 247,
            "learn": [
             0.2718977084
            ],
            "passed_time": 7.638051455,
            "remaining_time": 23.16054312,
            "test": [
             0.2985962255
            ]
           },
           {
            "iteration": 248,
            "learn": [
             0.2718504395
            ],
            "passed_time": 7.667799949,
            "remaining_time": 23.12657736,
            "test": [
             0.2986129595
            ]
           },
           {
            "iteration": 249,
            "learn": [
             0.2717434992
            ],
            "passed_time": 7.699552816,
            "remaining_time": 23.09865845,
            "test": [
             0.2985978668
            ]
           },
           {
            "iteration": 250,
            "learn": [
             0.2716855898
            ],
            "passed_time": 7.729268597,
            "remaining_time": 23.0646302,
            "test": [
             0.2986194186
            ]
           },
           {
            "iteration": 251,
            "learn": [
             0.2716155062
            ],
            "passed_time": 7.759934333,
            "remaining_time": 23.03345588,
            "test": [
             0.2986306049
            ]
           },
           {
            "iteration": 252,
            "learn": [
             0.2716077853
            ],
            "passed_time": 7.771052361,
            "remaining_time": 22.94456962,
            "test": [
             0.2986388053
            ]
           },
           {
            "iteration": 253,
            "learn": [
             0.2715371877
            ],
            "passed_time": 7.80156808,
            "remaining_time": 22.91326688,
            "test": [
             0.2986659259
            ]
           },
           {
            "iteration": 254,
            "learn": [
             0.2714659047
            ],
            "passed_time": 7.831790765,
            "remaining_time": 22.8811142,
            "test": [
             0.2986551929
            ]
           },
           {
            "iteration": 255,
            "learn": [
             0.271378646
            ],
            "passed_time": 7.861589393,
            "remaining_time": 22.84774417,
            "test": [
             0.2986867292
            ]
           },
           {
            "iteration": 256,
            "learn": [
             0.2712957252
            ],
            "passed_time": 7.88969479,
            "remaining_time": 22.80950673,
            "test": [
             0.2987214057
            ]
           },
           {
            "iteration": 257,
            "learn": [
             0.271167491
            ],
            "passed_time": 7.918202908,
            "remaining_time": 22.77250604,
            "test": [
             0.298696682
            ]
           },
           {
            "iteration": 258,
            "learn": [
             0.2711166715
            ],
            "passed_time": 7.948149257,
            "remaining_time": 22.73968571,
            "test": [
             0.2986828901
            ]
           },
           {
            "iteration": 259,
            "learn": [
             0.2710278203
            ],
            "passed_time": 7.976788176,
            "remaining_time": 22.70316635,
            "test": [
             0.2986721932
            ]
           },
           {
            "iteration": 260,
            "learn": [
             0.2709826296
            ],
            "passed_time": 8.006710642,
            "remaining_time": 22.67034163,
            "test": [
             0.2986759269
            ]
           },
           {
            "iteration": 261,
            "learn": [
             0.2708260463
            ],
            "passed_time": 8.039116246,
            "remaining_time": 22.64453355,
            "test": [
             0.2987026143
            ]
           },
           {
            "iteration": 262,
            "learn": [
             0.2707640046
            ],
            "passed_time": 8.095920341,
            "remaining_time": 22.68704673,
            "test": [
             0.2987056669
            ]
           },
           {
            "iteration": 263,
            "learn": [
             0.2705441203
            ],
            "passed_time": 8.13028843,
            "remaining_time": 22.66625865,
            "test": [
             0.2987089585
            ]
           },
           {
            "iteration": 264,
            "learn": [
             0.270445285
            ],
            "passed_time": 8.16070343,
            "remaining_time": 22.63440385,
            "test": [
             0.2986950446
            ]
           },
           {
            "iteration": 265,
            "learn": [
             0.27023465
            ],
            "passed_time": 8.193504019,
            "remaining_time": 22.60914267,
            "test": [
             0.2987135021
            ]
           },
           {
            "iteration": 266,
            "learn": [
             0.2701360425
            ],
            "passed_time": 8.223774838,
            "remaining_time": 22.57687999,
            "test": [
             0.2987180875
            ]
           },
           {
            "iteration": 267,
            "learn": [
             0.2700691389
            ],
            "passed_time": 8.262720372,
            "remaining_time": 22.56832579,
            "test": [
             0.2987067114
            ]
           },
           {
            "iteration": 268,
            "learn": [
             0.2700295775
            ],
            "passed_time": 8.297308602,
            "remaining_time": 22.54770479,
            "test": [
             0.2986872142
            ]
           },
           {
            "iteration": 269,
            "learn": [
             0.2698983168
            ],
            "passed_time": 8.32807919,
            "remaining_time": 22.51665855,
            "test": [
             0.2987064819
            ]
           },
           {
            "iteration": 270,
            "learn": [
             0.2698501577
            ],
            "passed_time": 8.356053932,
            "remaining_time": 22.47809342,
            "test": [
             0.2987268465
            ]
           },
           {
            "iteration": 271,
            "learn": [
             0.2697324095
            ],
            "passed_time": 8.387024109,
            "remaining_time": 22.44762335,
            "test": [
             0.298726451
            ]
           },
           {
            "iteration": 272,
            "learn": [
             0.2696823982
            ],
            "passed_time": 8.42390815,
            "remaining_time": 22.43289826,
            "test": [
             0.2987285064
            ]
           },
           {
            "iteration": 273,
            "learn": [
             0.269622907
            ],
            "passed_time": 8.458719493,
            "remaining_time": 22.41251953,
            "test": [
             0.298735548
            ]
           },
           {
            "iteration": 274,
            "learn": [
             0.2693990678
            ],
            "passed_time": 8.488231077,
            "remaining_time": 22.37806375,
            "test": [
             0.2988076221
            ]
           },
           {
            "iteration": 275,
            "learn": [
             0.2693592253
            ],
            "passed_time": 8.517599749,
            "remaining_time": 22.34326891,
            "test": [
             0.2988051313
            ]
           },
           {
            "iteration": 276,
            "learn": [
             0.2691945871
            ],
            "passed_time": 8.548338343,
            "remaining_time": 22.31208889,
            "test": [
             0.2988315195
            ]
           },
           {
            "iteration": 277,
            "learn": [
             0.2691019391
            ],
            "passed_time": 8.578278109,
            "remaining_time": 22.27883739,
            "test": [
             0.2988367131
            ]
           },
           {
            "iteration": 278,
            "learn": [
             0.2690259572
            ],
            "passed_time": 8.606845993,
            "remaining_time": 22.24206438,
            "test": [
             0.2988079023
            ]
           },
           {
            "iteration": 279,
            "learn": [
             0.2688623024
            ],
            "passed_time": 8.635541476,
            "remaining_time": 22.20567808,
            "test": [
             0.2987855987
            ]
           },
           {
            "iteration": 280,
            "learn": [
             0.268843933
            ],
            "passed_time": 8.658622754,
            "remaining_time": 22.15498135,
            "test": [
             0.2987908147
            ]
           },
           {
            "iteration": 281,
            "learn": [
             0.2686683592
            ],
            "passed_time": 8.688800351,
            "remaining_time": 22.12254841,
            "test": [
             0.2987846916
            ]
           },
           {
            "iteration": 282,
            "learn": [
             0.2685486787
            ],
            "passed_time": 8.71952092,
            "remaining_time": 22.09150707,
            "test": [
             0.2987902991
            ]
           },
           {
            "iteration": 283,
            "learn": [
             0.2684936624
            ],
            "passed_time": 8.749325175,
            "remaining_time": 22.05815783,
            "test": [
             0.2987884586
            ]
           },
           {
            "iteration": 284,
            "learn": [
             0.2684439133
            ],
            "passed_time": 8.780978311,
            "remaining_time": 22.0294719,
            "test": [
             0.2987933378
            ]
           },
           {
            "iteration": 285,
            "learn": [
             0.2683079461
            ],
            "passed_time": 8.811072554,
            "remaining_time": 21.99687344,
            "test": [
             0.2988005404
            ]
           },
           {
            "iteration": 286,
            "learn": [
             0.2681404258
            ],
            "passed_time": 8.840543191,
            "remaining_time": 21.96274319,
            "test": [
             0.2988883124
            ]
           },
           {
            "iteration": 287,
            "learn": [
             0.2680465234
            ],
            "passed_time": 8.870672382,
            "remaining_time": 21.93027339,
            "test": [
             0.2988636814
            ]
           },
           {
            "iteration": 288,
            "learn": [
             0.2680048082
            ],
            "passed_time": 8.89983249,
            "remaining_time": 21.89543564,
            "test": [
             0.2988739056
            ]
           },
           {
            "iteration": 289,
            "learn": [
             0.2678804544
            ],
            "passed_time": 8.929986101,
            "remaining_time": 21.86306942,
            "test": [
             0.2988830516
            ]
           },
           {
            "iteration": 290,
            "learn": [
             0.2678049151
            ],
            "passed_time": 8.963344778,
            "remaining_time": 21.83852731,
            "test": [
             0.2989095564
            ]
           },
           {
            "iteration": 291,
            "learn": [
             0.2677061493
            ],
            "passed_time": 8.991693897,
            "remaining_time": 21.80177835,
            "test": [
             0.2989023302
            ]
           },
           {
            "iteration": 292,
            "learn": [
             0.2676858138
            ],
            "passed_time": 9.020818186,
            "remaining_time": 21.76695719,
            "test": [
             0.2988994937
            ]
           },
           {
            "iteration": 293,
            "learn": [
             0.2676685807
            ],
            "passed_time": 9.042600075,
            "remaining_time": 21.71454304,
            "test": [
             0.2989056183
            ]
           },
           {
            "iteration": 294,
            "learn": [
             0.2675639045
            ],
            "passed_time": 9.071340924,
            "remaining_time": 21.67896729,
            "test": [
             0.2989326192
            ]
           },
           {
            "iteration": 295,
            "learn": [
             0.2674869413
            ],
            "passed_time": 9.121911581,
            "remaining_time": 21.69535727,
            "test": [
             0.298949203
            ]
           },
           {
            "iteration": 296,
            "learn": [
             0.2673602704
            ],
            "passed_time": 9.162185604,
            "remaining_time": 21.68692417,
            "test": [
             0.2989841023
            ]
           },
           {
            "iteration": 297,
            "learn": [
             0.2671668256
            ],
            "passed_time": 9.191708722,
            "remaining_time": 21.65295142,
            "test": [
             0.2989974983
            ]
           },
           {
            "iteration": 298,
            "learn": [
             0.2671015202
            ],
            "passed_time": 9.2226612,
            "remaining_time": 21.62235954,
            "test": [
             0.299006771
            ]
           },
           {
            "iteration": 299,
            "learn": [
             0.2670127471
            ],
            "passed_time": 9.25250008,
            "remaining_time": 21.58916685,
            "test": [
             0.2990458415
            ]
           },
           {
            "iteration": 300,
            "learn": [
             0.2668657439
            ],
            "passed_time": 9.28336974,
            "remaining_time": 21.55839019,
            "test": [
             0.2989721127
            ]
           },
           {
            "iteration": 301,
            "learn": [
             0.2668336283
            ],
            "passed_time": 9.311181804,
            "remaining_time": 21.52054602,
            "test": [
             0.2989658158
            ]
           },
           {
            "iteration": 302,
            "learn": [
             0.2666591386
            ],
            "passed_time": 9.366044846,
            "remaining_time": 21.54499425,
            "test": [
             0.2989011184
            ]
           },
           {
            "iteration": 303,
            "learn": [
             0.266566452
            ],
            "passed_time": 9.396230544,
            "remaining_time": 21.51242256,
            "test": [
             0.2989034753
            ]
           },
           {
            "iteration": 304,
            "learn": [
             0.2663731824
            ],
            "passed_time": 9.426295207,
            "remaining_time": 21.47959072,
            "test": [
             0.2989330697
            ]
           },
           {
            "iteration": 305,
            "learn": [
             0.266344217
            ],
            "passed_time": 9.469083781,
            "remaining_time": 21.47563446,
            "test": [
             0.298947812
            ]
           },
           {
            "iteration": 306,
            "learn": [
             0.2663022132
            ],
            "passed_time": 9.499167114,
            "remaining_time": 21.44274531,
            "test": [
             0.29895873
            ]
           },
           {
            "iteration": 307,
            "learn": [
             0.2661876376
            ],
            "passed_time": 9.529745883,
            "remaining_time": 21.4109875,
            "test": [
             0.2989467641
            ]
           },
           {
            "iteration": 308,
            "learn": [
             0.2660661711
            ],
            "passed_time": 9.559363837,
            "remaining_time": 21.37708871,
            "test": [
             0.2989792274
            ]
           },
           {
            "iteration": 309,
            "learn": [
             0.2660457402
            ],
            "passed_time": 9.58807475,
            "remaining_time": 21.34119864,
            "test": [
             0.2989759001
            ]
           },
           {
            "iteration": 310,
            "learn": [
             0.2658118137
            ],
            "passed_time": 9.618623185,
            "remaining_time": 21.30942564,
            "test": [
             0.2990245783
            ]
           },
           {
            "iteration": 311,
            "learn": [
             0.2656747575
            ],
            "passed_time": 9.649436267,
            "remaining_time": 21.27824408,
            "test": [
             0.2990421219
            ]
           },
           {
            "iteration": 312,
            "learn": [
             0.2655201221
            ],
            "passed_time": 9.680460873,
            "remaining_time": 21.24752914,
            "test": [
             0.2990836331
            ]
           },
           {
            "iteration": 313,
            "learn": [
             0.2653775167
            ],
            "passed_time": 9.711345106,
            "remaining_time": 21.21650555,
            "test": [
             0.2990554634
            ]
           },
           {
            "iteration": 314,
            "learn": [
             0.2652614235
            ],
            "passed_time": 9.740729512,
            "remaining_time": 21.18222132,
            "test": [
             0.2990588746
            ]
           },
           {
            "iteration": 315,
            "learn": [
             0.2650761188
            ],
            "passed_time": 9.771116004,
            "remaining_time": 21.15013717,
            "test": [
             0.2990047918
            ]
           },
           {
            "iteration": 316,
            "learn": [
             0.2649339998
            ],
            "passed_time": 9.802308439,
            "remaining_time": 21.1198002,
            "test": [
             0.2990380324
            ]
           },
           {
            "iteration": 317,
            "learn": [
             0.264888218
            ],
            "passed_time": 9.831544734,
            "remaining_time": 21.08526261,
            "test": [
             0.2990898637
            ]
           },
           {
            "iteration": 318,
            "learn": [
             0.2648451193
            ],
            "passed_time": 9.861315256,
            "remaining_time": 21.05189871,
            "test": [
             0.2990912845
            ]
           },
           {
            "iteration": 319,
            "learn": [
             0.2648345021
            ],
            "passed_time": 9.889297208,
            "remaining_time": 21.01475657,
            "test": [
             0.2990888259
            ]
           },
           {
            "iteration": 320,
            "learn": [
             0.2647359325
            ],
            "passed_time": 9.919915627,
            "remaining_time": 20.98324832,
            "test": [
             0.2991100514
            ]
           },
           {
            "iteration": 321,
            "learn": [
             0.264483814
            ],
            "passed_time": 9.950822884,
            "remaining_time": 20.95235378,
            "test": [
             0.2991400969
            ]
           },
           {
            "iteration": 322,
            "learn": [
             0.2643593916
            ],
            "passed_time": 9.979234615,
            "remaining_time": 20.91622859,
            "test": [
             0.2991055647
            ]
           },
           {
            "iteration": 323,
            "learn": [
             0.2643038188
            ],
            "passed_time": 10.00944177,
            "remaining_time": 20.88389702,
            "test": [
             0.2991139476
            ]
           },
           {
            "iteration": 324,
            "learn": [
             0.2641838036
            ],
            "passed_time": 10.03935361,
            "remaining_time": 20.85096518,
            "test": [
             0.2990935444
            ]
           },
           {
            "iteration": 325,
            "learn": [
             0.2641696241
            ],
            "passed_time": 10.0675145,
            "remaining_time": 20.81443182,
            "test": [
             0.2990992186
            ]
           },
           {
            "iteration": 326,
            "learn": [
             0.2641284741
            ],
            "passed_time": 10.09793005,
            "remaining_time": 20.78258998,
            "test": [
             0.2990914935
            ]
           },
           {
            "iteration": 327,
            "learn": [
             0.2641233743
            ],
            "passed_time": 10.11076123,
            "remaining_time": 20.71473032,
            "test": [
             0.299091221
            ]
           },
           {
            "iteration": 328,
            "learn": [
             0.2640324745
            ],
            "passed_time": 10.17373788,
            "remaining_time": 20.74947755,
            "test": [
             0.2991115632
            ]
           },
           {
            "iteration": 329,
            "learn": [
             0.2637880032
            ],
            "passed_time": 10.20694993,
            "remaining_time": 20.72320137,
            "test": [
             0.2991549931
            ]
           },
           {
            "iteration": 330,
            "learn": [
             0.2637162261
            ],
            "passed_time": 10.23855983,
            "remaining_time": 20.69364509,
            "test": [
             0.2991688331
            ]
           },
           {
            "iteration": 331,
            "learn": [
             0.2635629719
            ],
            "passed_time": 10.26966761,
            "remaining_time": 20.66306616,
            "test": [
             0.2991501834
            ]
           },
           {
            "iteration": 332,
            "learn": [
             0.2635435457
            ],
            "passed_time": 10.29704507,
            "remaining_time": 20.62501219,
            "test": [
             0.299151743
            ]
           },
           {
            "iteration": 333,
            "learn": [
             0.2634647874
            ],
            "passed_time": 10.32948461,
            "remaining_time": 20.59711601,
            "test": [
             0.2991409217
            ]
           },
           {
            "iteration": 334,
            "learn": [
             0.263352057
            ],
            "passed_time": 10.36126361,
            "remaining_time": 20.56788149,
            "test": [
             0.2991155339
            ]
           },
           {
            "iteration": 335,
            "learn": [
             0.2632535209
            ],
            "passed_time": 10.39092129,
            "remaining_time": 20.53443969,
            "test": [
             0.299058005
            ]
           },
           {
            "iteration": 336,
            "learn": [
             0.2630581664
            ],
            "passed_time": 10.4196641,
            "remaining_time": 20.49922046,
            "test": [
             0.2990667865
            ]
           },
           {
            "iteration": 337,
            "learn": [
             0.2629592548
            ],
            "passed_time": 10.45728363,
            "remaining_time": 20.48142534,
            "test": [
             0.2990624568
            ]
           },
           {
            "iteration": 338,
            "learn": [
             0.262888093
            ],
            "passed_time": 10.49142449,
            "remaining_time": 20.45673034,
            "test": [
             0.2990670892
            ]
           },
           {
            "iteration": 339,
            "learn": [
             0.2628053456
            ],
            "passed_time": 10.52048677,
            "remaining_time": 20.42212138,
            "test": [
             0.2990499223
            ]
           },
           {
            "iteration": 340,
            "learn": [
             0.2627246834
            ],
            "passed_time": 10.5495152,
            "remaining_time": 20.38747953,
            "test": [
             0.2990265857
            ]
           },
           {
            "iteration": 341,
            "learn": [
             0.2627204994
            ],
            "passed_time": 10.56247163,
            "remaining_time": 20.32194835,
            "test": [
             0.2990272456
            ]
           },
           {
            "iteration": 342,
            "learn": [
             0.2626235897
            ],
            "passed_time": 10.59060071,
            "remaining_time": 20.2857862,
            "test": [
             0.2990120376
            ]
           },
           {
            "iteration": 343,
            "learn": [
             0.2625036836
            ],
            "passed_time": 10.61957034,
            "remaining_time": 20.25127368,
            "test": [
             0.2990334406
            ]
           },
           {
            "iteration": 344,
            "learn": [
             0.2624547057
            ],
            "passed_time": 10.65023576,
            "remaining_time": 20.22001282,
            "test": [
             0.2990626622
            ]
           },
           {
            "iteration": 345,
            "learn": [
             0.2624451898
            ],
            "passed_time": 10.67968038,
            "remaining_time": 20.18644789,
            "test": [
             0.2990629302
            ]
           },
           {
            "iteration": 346,
            "learn": [
             0.2623252954
            ],
            "passed_time": 10.70850975,
            "remaining_time": 20.1517489,
            "test": [
             0.2991397315
            ]
           },
           {
            "iteration": 347,
            "learn": [
             0.2622562436
            ],
            "passed_time": 10.73971568,
            "remaining_time": 20.12153627,
            "test": [
             0.299093728
            ]
           },
           {
            "iteration": 348,
            "learn": [
             0.2620876803
            ],
            "passed_time": 10.77152668,
            "remaining_time": 20.09244661,
            "test": [
             0.2991105317
            ]
           },
           {
            "iteration": 349,
            "learn": [
             0.2618883399
            ],
            "passed_time": 10.80343098,
            "remaining_time": 20.06351468,
            "test": [
             0.2991124433
            ]
           },
           {
            "iteration": 350,
            "learn": [
             0.2618343214
            ],
            "passed_time": 10.83420758,
            "remaining_time": 20.03248069,
            "test": [
             0.2991117331
            ]
           },
           {
            "iteration": 351,
            "learn": [
             0.2615483838
            ],
            "passed_time": 10.8661228,
            "remaining_time": 20.00354424,
            "test": [
             0.2991540235
            ]
           },
           {
            "iteration": 352,
            "learn": [
             0.2613464203
            ],
            "passed_time": 10.89697155,
            "remaining_time": 19.97263624,
            "test": [
             0.2991932686
            ]
           },
           {
            "iteration": 353,
            "learn": [
             0.2612480545
            ],
            "passed_time": 10.92555488,
            "remaining_time": 19.9375945,
            "test": [
             0.2991269862
            ]
           },
           {
            "iteration": 354,
            "learn": [
             0.2611816582
            ],
            "passed_time": 10.95359879,
            "remaining_time": 19.90160908,
            "test": [
             0.2991474648
            ]
           },
           {
            "iteration": 355,
            "learn": [
             0.2609840154
            ],
            "passed_time": 10.98269149,
            "remaining_time": 19.86756551,
            "test": [
             0.2991599193
            ]
           },
           {
            "iteration": 356,
            "learn": [
             0.260967857
            ],
            "passed_time": 11.01142727,
            "remaining_time": 19.83290683,
            "test": [
             0.2991546358
            ]
           },
           {
            "iteration": 357,
            "learn": [
             0.2607405146
            ],
            "passed_time": 11.04352831,
            "remaining_time": 19.80431613,
            "test": [
             0.2992016843
            ]
           },
           {
            "iteration": 358,
            "learn": [
             0.2606510581
            ],
            "passed_time": 11.07733762,
            "remaining_time": 19.77875604,
            "test": [
             0.2991852912
            ]
           },
           {
            "iteration": 359,
            "learn": [
             0.2604814318
            ],
            "passed_time": 11.10593936,
            "remaining_time": 19.7438922,
            "test": [
             0.2991601479
            ]
           },
           {
            "iteration": 360,
            "learn": [
             0.2604492874
            ],
            "passed_time": 11.13405322,
            "remaining_time": 19.70819946,
            "test": [
             0.2991651221
            ]
           },
           {
            "iteration": 361,
            "learn": [
             0.2603153095
            ],
            "passed_time": 11.19917385,
            "remaining_time": 19.73777049,
            "test": [
             0.2991589974
            ]
           },
           {
            "iteration": 362,
            "learn": [
             0.2601207928
            ],
            "passed_time": 11.22770804,
            "remaining_time": 19.70261714,
            "test": [
             0.2992358996
            ]
           },
           {
            "iteration": 363,
            "learn": [
             0.2600748213
            ],
            "passed_time": 11.25743967,
            "remaining_time": 19.66959239,
            "test": [
             0.299197605
            ]
           },
           {
            "iteration": 364,
            "learn": [
             0.2599325591
            ],
            "passed_time": 11.28788638,
            "remaining_time": 19.63782973,
            "test": [
             0.2992436002
            ]
           },
           {
            "iteration": 365,
            "learn": [
             0.2598185658
            ],
            "passed_time": 11.32009029,
            "remaining_time": 19.60911815,
            "test": [
             0.299210139
            ]
           },
           {
            "iteration": 366,
            "learn": [
             0.2597391432
            ],
            "passed_time": 11.34928544,
            "remaining_time": 19.57519805,
            "test": [
             0.2992169591
            ]
           },
           {
            "iteration": 367,
            "learn": [
             0.2596865341
            ],
            "passed_time": 11.37944999,
            "remaining_time": 19.54296845,
            "test": [
             0.2992507256
            ]
           },
           {
            "iteration": 368,
            "learn": [
             0.2595150371
            ],
            "passed_time": 11.40925968,
            "remaining_time": 19.51014324,
            "test": [
             0.2992199788
            ]
           },
           {
            "iteration": 369,
            "learn": [
             0.2595002009
            ],
            "passed_time": 11.43789111,
            "remaining_time": 19.4753281,
            "test": [
             0.2992262205
            ]
           },
           {
            "iteration": 370,
            "learn": [
             0.2593747183
            ],
            "passed_time": 11.47955735,
            "remaining_time": 19.46264575,
            "test": [
             0.2992238088
            ]
           },
           {
            "iteration": 371,
            "learn": [
             0.2592049943
            ],
            "passed_time": 11.51128647,
            "remaining_time": 19.43303199,
            "test": [
             0.2992505912
            ]
           },
           {
            "iteration": 372,
            "learn": [
             0.2590154748
            ],
            "passed_time": 11.54259235,
            "remaining_time": 19.40269545,
            "test": [
             0.2992721208
            ]
           },
           {
            "iteration": 373,
            "learn": [
             0.2587988279
            ],
            "passed_time": 11.5738314,
            "remaining_time": 19.37224186,
            "test": [
             0.2992668947
            ]
           },
           {
            "iteration": 374,
            "learn": [
             0.2586818335
            ],
            "passed_time": 11.60321178,
            "remaining_time": 19.3386863,
            "test": [
             0.2992599025
            ]
           },
           {
            "iteration": 375,
            "learn": [
             0.2585765119
            ],
            "passed_time": 11.63126506,
            "remaining_time": 19.30295052,
            "test": [
             0.2992792576
            ]
           },
           {
            "iteration": 376,
            "learn": [
             0.2584186417
            ],
            "passed_time": 11.66020557,
            "remaining_time": 19.26872167,
            "test": [
             0.2993520213
            ]
           },
           {
            "iteration": 377,
            "learn": [
             0.2583107464
            ],
            "passed_time": 11.69017226,
            "remaining_time": 19.23620938,
            "test": [
             0.2993317542
            ]
           },
           {
            "iteration": 378,
            "learn": [
             0.258164942
            ],
            "passed_time": 11.72071528,
            "remaining_time": 19.20465486,
            "test": [
             0.2993567159
            ]
           },
           {
            "iteration": 379,
            "learn": [
             0.2580069208
            ],
            "passed_time": 11.75085858,
            "remaining_time": 19.17245347,
            "test": [
             0.299331857
            ]
           },
           {
            "iteration": 380,
            "learn": [
             0.2578383766
            ],
            "passed_time": 11.78308794,
            "remaining_time": 19.14365206,
            "test": [
             0.2993632162
            ]
           },
           {
            "iteration": 381,
            "learn": [
             0.2577400839
            ],
            "passed_time": 11.81372121,
            "remaining_time": 19.11225055,
            "test": [
             0.2993658192
            ]
           },
           {
            "iteration": 382,
            "learn": [
             0.2576119084
            ],
            "passed_time": 11.84420577,
            "remaining_time": 19.08061347,
            "test": [
             0.2993519584
            ]
           },
           {
            "iteration": 383,
            "learn": [
             0.2574783923
            ],
            "passed_time": 11.87498693,
            "remaining_time": 19.04945821,
            "test": [
             0.2993583672
            ]
           },
           {
            "iteration": 384,
            "learn": [
             0.2574255225
            ],
            "passed_time": 11.90423523,
            "remaining_time": 19.01585628,
            "test": [
             0.2993557964
            ]
           },
           {
            "iteration": 385,
            "learn": [
             0.2572910328
            ],
            "passed_time": 11.93335927,
            "remaining_time": 18.98207925,
            "test": [
             0.2993963174
            ]
           },
           {
            "iteration": 386,
            "learn": [
             0.25713609
            ],
            "passed_time": 11.96622923,
            "remaining_time": 18.95425974,
            "test": [
             0.299402576
            ]
           },
           {
            "iteration": 387,
            "learn": [
             0.2570806345
            ],
            "passed_time": 11.99572083,
            "remaining_time": 18.92108544,
            "test": [
             0.2993959685
            ]
           },
           {
            "iteration": 388,
            "learn": [
             0.2570378264
            ],
            "passed_time": 12.02491027,
            "remaining_time": 18.88745546,
            "test": [
             0.2993944744
            ]
           },
           {
            "iteration": 389,
            "learn": [
             0.2568548247
            ],
            "passed_time": 12.05396166,
            "remaining_time": 18.85363234,
            "test": [
             0.2994235567
            ]
           },
           {
            "iteration": 390,
            "learn": [
             0.2566406067
            ],
            "passed_time": 12.08215476,
            "remaining_time": 18.81849681,
            "test": [
             0.2994165959
            ]
           },
           {
            "iteration": 391,
            "learn": [
             0.2563510064
            ],
            "passed_time": 12.11189353,
            "remaining_time": 18.78579404,
            "test": [
             0.2994288239
            ]
           },
           {
            "iteration": 392,
            "learn": [
             0.2561271623
            ],
            "passed_time": 12.14381384,
            "remaining_time": 18.75647583,
            "test": [
             0.2993906424
            ]
           },
           {
            "iteration": 393,
            "learn": [
             0.256119204
            ],
            "passed_time": 12.20238078,
            "remaining_time": 18.76812882,
            "test": [
             0.2993900047
            ]
           },
           {
            "iteration": 394,
            "learn": [
             0.25607178
            ],
            "passed_time": 12.23850878,
            "remaining_time": 18.74505774,
            "test": [
             0.299380995
            ]
           },
           {
            "iteration": 395,
            "learn": [
             0.2559259237
            ],
            "passed_time": 12.26985011,
            "remaining_time": 18.71461986,
            "test": [
             0.2993823323
            ]
           },
           {
            "iteration": 396,
            "learn": [
             0.2556508527
            ],
            "passed_time": 12.30075524,
            "remaining_time": 18.68351489,
            "test": [
             0.2993518238
            ]
           },
           {
            "iteration": 397,
            "learn": [
             0.2555331421
            ],
            "passed_time": 12.3323287,
            "remaining_time": 18.6534218,
            "test": [
             0.2993843501
            ]
           },
           {
            "iteration": 398,
            "learn": [
             0.2553756816
            ],
            "passed_time": 12.36375135,
            "remaining_time": 18.62309413,
            "test": [
             0.2994087519
            ]
           },
           {
            "iteration": 399,
            "learn": [
             0.2552321586
            ],
            "passed_time": 12.39489952,
            "remaining_time": 18.59234928,
            "test": [
             0.2993824934
            ]
           },
           {
            "iteration": 400,
            "learn": [
             0.2550839926
            ],
            "passed_time": 12.42595909,
            "remaining_time": 18.56147006,
            "test": [
             0.2993848137
            ]
           },
           {
            "iteration": 401,
            "learn": [
             0.2549186653
            ],
            "passed_time": 12.45714389,
            "remaining_time": 18.53077623,
            "test": [
             0.2994213729
            ]
           },
           {
            "iteration": 402,
            "learn": [
             0.2547983836
            ],
            "passed_time": 12.49516554,
            "remaining_time": 18.510208,
            "test": [
             0.2994195078
            ]
           },
           {
            "iteration": 403,
            "learn": [
             0.2546831417
            ],
            "passed_time": 12.52422098,
            "remaining_time": 18.476326,
            "test": [
             0.2994280617
            ]
           },
           {
            "iteration": 404,
            "learn": [
             0.2545967105
            ],
            "passed_time": 12.55296894,
            "remaining_time": 18.4420161,
            "test": [
             0.2994412524
            ]
           },
           {
            "iteration": 405,
            "learn": [
             0.2544307315
            ],
            "passed_time": 12.58406582,
            "remaining_time": 18.41117019,
            "test": [
             0.2994938986
            ]
           },
           {
            "iteration": 406,
            "learn": [
             0.254332471
            ],
            "passed_time": 12.61600587,
            "remaining_time": 18.38155155,
            "test": [
             0.2995244645
            ]
           },
           {
            "iteration": 407,
            "learn": [
             0.2542498323
            ],
            "passed_time": 12.64495028,
            "remaining_time": 18.34757492,
            "test": [
             0.2995058821
            ]
           },
           {
            "iteration": 408,
            "learn": [
             0.2541059422
            ],
            "passed_time": 12.67539388,
            "remaining_time": 18.3157892,
            "test": [
             0.2995222878
            ]
           },
           {
            "iteration": 409,
            "learn": [
             0.2538187402
            ],
            "passed_time": 12.70722116,
            "remaining_time": 18.28600118,
            "test": [
             0.2995728834
            ]
           },
           {
            "iteration": 410,
            "learn": [
             0.2536719139
            ],
            "passed_time": 12.73750119,
            "remaining_time": 18.25398589,
            "test": [
             0.2995900883
            ]
           },
           {
            "iteration": 411,
            "learn": [
             0.253523932
            ],
            "passed_time": 12.76911796,
            "remaining_time": 18.22388679,
            "test": [
             0.2996276152
            ]
           },
           {
            "iteration": 412,
            "learn": [
             0.2533448853
            ],
            "passed_time": 12.80050527,
            "remaining_time": 18.19345422,
            "test": [
             0.2996537399
            ]
           },
           {
            "iteration": 413,
            "learn": [
             0.2532420066
            ],
            "passed_time": 12.83064993,
            "remaining_time": 18.16125811,
            "test": [
             0.2996323961
            ]
           },
           {
            "iteration": 414,
            "learn": [
             0.2531455601
            ],
            "passed_time": 12.86166696,
            "remaining_time": 18.13030162,
            "test": [
             0.2996413056
            ]
           },
           {
            "iteration": 415,
            "learn": [
             0.2529962615
            ],
            "passed_time": 12.89158919,
            "remaining_time": 18.0978079,
            "test": [
             0.2996843757
            ]
           },
           {
            "iteration": 416,
            "learn": [
             0.2527988325
            ],
            "passed_time": 12.92346344,
            "remaining_time": 18.0680556,
            "test": [
             0.2996435008
            ]
           },
           {
            "iteration": 417,
            "learn": [
             0.2525883491
            ],
            "passed_time": 12.95372097,
            "remaining_time": 18.03604211,
            "test": [
             0.2996667613
            ]
           },
           {
            "iteration": 418,
            "learn": [
             0.2525772308
            ],
            "passed_time": 12.98250035,
            "remaining_time": 18.00198736,
            "test": [
             0.2996749605
            ]
           },
           {
            "iteration": 419,
            "learn": [
             0.2524695469
            ],
            "passed_time": 13.01338222,
            "remaining_time": 17.97086117,
            "test": [
             0.2997050917
            ]
           },
           {
            "iteration": 420,
            "learn": [
             0.2523449228
            ],
            "passed_time": 13.04407613,
            "remaining_time": 17.93947762,
            "test": [
             0.2996830036
            ]
           },
           {
            "iteration": 421,
            "learn": [
             0.2521423842
            ],
            "passed_time": 13.07486946,
            "remaining_time": 17.90823352,
            "test": [
             0.2996589638
            ]
           },
           {
            "iteration": 422,
            "learn": [
             0.2520027305
            ],
            "passed_time": 13.10630113,
            "remaining_time": 17.8778623,
            "test": [
             0.2996829279
            ]
           },
           {
            "iteration": 423,
            "learn": [
             0.2519025893
            ],
            "passed_time": 13.13570106,
            "remaining_time": 17.84472597,
            "test": [
             0.2996696222
            ]
           },
           {
            "iteration": 424,
            "learn": [
             0.2518025539
            ],
            "passed_time": 13.16492525,
            "remaining_time": 17.81136946,
            "test": [
             0.2996862497
            ]
           },
           {
            "iteration": 425,
            "learn": [
             0.2517005136
            ],
            "passed_time": 13.22441964,
            "remaining_time": 17.81881896,
            "test": [
             0.2996669741
            ]
           },
           {
            "iteration": 426,
            "learn": [
             0.25163616
            ],
            "passed_time": 13.26752913,
            "remaining_time": 17.80396767,
            "test": [
             0.2996668001
            ]
           },
           {
            "iteration": 427,
            "learn": [
             0.2515055036
            ],
            "passed_time": 13.29866424,
            "remaining_time": 17.77298118,
            "test": [
             0.2996806182
            ]
           },
           {
            "iteration": 428,
            "learn": [
             0.251395249
            ],
            "passed_time": 13.32891689,
            "remaining_time": 17.74081945,
            "test": [
             0.2996709546
            ]
           },
           {
            "iteration": 429,
            "learn": [
             0.2512945841
            ],
            "passed_time": 13.35685536,
            "remaining_time": 17.70559897,
            "test": [
             0.2996981592
            ]
           },
           {
            "iteration": 430,
            "learn": [
             0.2512045755
            ],
            "passed_time": 13.38569349,
            "remaining_time": 17.67159999,
            "test": [
             0.2997580097
            ]
           },
           {
            "iteration": 431,
            "learn": [
             0.2510036286
            ],
            "passed_time": 13.41677228,
            "remaining_time": 17.64057096,
            "test": [
             0.2997672563
            ]
           },
           {
            "iteration": 432,
            "learn": [
             0.2508956563
            ],
            "passed_time": 13.4489134,
            "remaining_time": 17.61093279,
            "test": [
             0.2997814368
            ]
           },
           {
            "iteration": 433,
            "learn": [
             0.250683366
            ],
            "passed_time": 13.48996355,
            "remaining_time": 17.59290177,
            "test": [
             0.299784172
            ]
           },
           {
            "iteration": 434,
            "learn": [
             0.2504678127
            ],
            "passed_time": 13.52085031,
            "remaining_time": 17.56156419,
            "test": [
             0.2998287137
            ]
           },
           {
            "iteration": 435,
            "learn": [
             0.2502819767
            ],
            "passed_time": 13.55043785,
            "remaining_time": 17.52854804,
            "test": [
             0.2998606009
            ]
           },
           {
            "iteration": 436,
            "learn": [
             0.250144314
            ],
            "passed_time": 13.58464367,
            "remaining_time": 17.50149745,
            "test": [
             0.2998469352
            ]
           },
           {
            "iteration": 437,
            "learn": [
             0.2500402306
            ],
            "passed_time": 13.61399228,
            "remaining_time": 17.46818188,
            "test": [
             0.2998785784
            ]
           },
           {
            "iteration": 438,
            "learn": [
             0.2499467715
            ],
            "passed_time": 13.64231356,
            "remaining_time": 17.43357154,
            "test": [
             0.2998999036
            ]
           },
           {
            "iteration": 439,
            "learn": [
             0.2498538192
            ],
            "passed_time": 13.67187215,
            "remaining_time": 17.40056455,
            "test": [
             0.2999285191
            ]
           },
           {
            "iteration": 440,
            "learn": [
             0.2497706717
            ],
            "passed_time": 13.70034152,
            "remaining_time": 17.36619254,
            "test": [
             0.2999141959
            ]
           },
           {
            "iteration": 441,
            "learn": [
             0.2496158332
            ],
            "passed_time": 13.7294417,
            "remaining_time": 17.33264359,
            "test": [
             0.2999560899
            ]
           },
           {
            "iteration": 442,
            "learn": [
             0.249509265
            ],
            "passed_time": 13.76032001,
            "remaining_time": 17.30135044,
            "test": [
             0.2999789698
            ]
           },
           {
            "iteration": 443,
            "learn": [
             0.2493671572
            ],
            "passed_time": 13.79218704,
            "remaining_time": 17.27129729,
            "test": [
             0.2999434825
            ]
           },
           {
            "iteration": 444,
            "learn": [
             0.2491949163
            ],
            "passed_time": 13.82140756,
            "remaining_time": 17.23793528,
            "test": [
             0.2999438865
            ]
           },
           {
            "iteration": 445,
            "learn": [
             0.2490271667
            ],
            "passed_time": 13.8580033,
            "remaining_time": 17.21375298,
            "test": [
             0.2999438493
            ]
           },
           {
            "iteration": 446,
            "learn": [
             0.248840926
            ],
            "passed_time": 13.88980451,
            "remaining_time": 17.18358365,
            "test": [
             0.2999364573
            ]
           },
           {
            "iteration": 447,
            "learn": [
             0.2487317471
            ],
            "passed_time": 13.92205563,
            "remaining_time": 17.1539614,
            "test": [
             0.2998887082
            ]
           },
           {
            "iteration": 448,
            "learn": [
             0.2486182776
            ],
            "passed_time": 13.95584001,
            "remaining_time": 17.12620901,
            "test": [
             0.2998946535
            ]
           },
           {
            "iteration": 449,
            "learn": [
             0.2483944207
            ],
            "passed_time": 13.9870804,
            "remaining_time": 17.09532049,
            "test": [
             0.2999843619
            ]
           },
           {
            "iteration": 450,
            "learn": [
             0.2482438997
            ],
            "passed_time": 14.01701337,
            "remaining_time": 17.06283889,
            "test": [
             0.3000154555
            ]
           },
           {
            "iteration": 451,
            "learn": [
             0.2481329077
            ],
            "passed_time": 14.05024756,
            "remaining_time": 17.03437093,
            "test": [
             0.3000130699
            ]
           },
           {
            "iteration": 452,
            "learn": [
             0.2479474252
            ],
            "passed_time": 14.08038564,
            "remaining_time": 17.00214337,
            "test": [
             0.2999342073
            ]
           },
           {
            "iteration": 453,
            "learn": [
             0.2479138989
            ],
            "passed_time": 14.10930515,
            "remaining_time": 16.96845949,
            "test": [
             0.2999395223
            ]
           },
           {
            "iteration": 454,
            "learn": [
             0.2478010486
            ],
            "passed_time": 14.13704156,
            "remaining_time": 16.93337945,
            "test": [
             0.2999484571
            ]
           },
           {
            "iteration": 455,
            "learn": [
             0.2477471178
            ],
            "passed_time": 14.16682875,
            "remaining_time": 16.90077816,
            "test": [
             0.299935685
            ]
           },
           {
            "iteration": 456,
            "learn": [
             0.2476521479
            ],
            "passed_time": 14.19552942,
            "remaining_time": 16.8668982,
            "test": [
             0.2999616916
            ]
           },
           {
            "iteration": 457,
            "learn": [
             0.247528158
            ],
            "passed_time": 14.25263855,
            "remaining_time": 16.86665959,
            "test": [
             0.3000301097
            ]
           },
           {
            "iteration": 458,
            "learn": [
             0.2474770189
            ],
            "passed_time": 14.29619081,
            "remaining_time": 16.8501944,
            "test": [
             0.3000595247
            ]
           },
           {
            "iteration": 459,
            "learn": [
             0.247332389
            ],
            "passed_time": 14.32887925,
            "remaining_time": 16.82085825,
            "test": [
             0.3000933045
            ]
           },
           {
            "iteration": 460,
            "learn": [
             0.2472192897
            ],
            "passed_time": 14.35867256,
            "remaining_time": 16.78812258,
            "test": [
             0.3001224691
            ]
           },
           {
            "iteration": 461,
            "learn": [
             0.2471502036
            ],
            "passed_time": 14.3877456,
            "remaining_time": 16.75456089,
            "test": [
             0.3001295157
            ]
           },
           {
            "iteration": 462,
            "learn": [
             0.2470365125
            ],
            "passed_time": 14.41771161,
            "remaining_time": 16.72205428,
            "test": [
             0.3001801941
            ]
           },
           {
            "iteration": 463,
            "learn": [
             0.2469849686
            ],
            "passed_time": 14.4472381,
            "remaining_time": 16.68905091,
            "test": [
             0.3002219179
            ]
           },
           {
            "iteration": 464,
            "learn": [
             0.246908352
            ],
            "passed_time": 14.47570221,
            "remaining_time": 16.65484018,
            "test": [
             0.3002387255
            ]
           },
           {
            "iteration": 465,
            "learn": [
             0.2467990179
            ],
            "passed_time": 14.51516708,
            "remaining_time": 16.63326013,
            "test": [
             0.3002316573
            ]
           },
           {
            "iteration": 466,
            "learn": [
             0.2467452686
            ],
            "passed_time": 14.54367953,
            "remaining_time": 16.59910319,
            "test": [
             0.300190434
            ]
           },
           {
            "iteration": 467,
            "learn": [
             0.2465080609
            ],
            "passed_time": 14.57554103,
            "remaining_time": 16.56877741,
            "test": [
             0.3001681998
            ]
           },
           {
            "iteration": 468,
            "learn": [
             0.2464617797
            ],
            "passed_time": 14.60668672,
            "remaining_time": 16.53763464,
            "test": [
             0.3001347708
            ]
           },
           {
            "iteration": 469,
            "learn": [
             0.2463621493
            ],
            "passed_time": 14.63427738,
            "remaining_time": 16.502483,
            "test": [
             0.300189833
            ]
           },
           {
            "iteration": 470,
            "learn": [
             0.2461407501
            ],
            "passed_time": 14.66355173,
            "remaining_time": 16.46925449,
            "test": [
             0.3001447155
            ]
           },
           {
            "iteration": 471,
            "learn": [
             0.2458551808
            ],
            "passed_time": 14.6940383,
            "remaining_time": 16.43739877,
            "test": [
             0.3001476127
            ]
           },
           {
            "iteration": 472,
            "learn": [
             0.2457936757
            ],
            "passed_time": 14.72226047,
            "remaining_time": 16.40302593,
            "test": [
             0.3001416107
            ]
           },
           {
            "iteration": 473,
            "learn": [
             0.2456027897
            ],
            "passed_time": 14.75118392,
            "remaining_time": 16.36945726,
            "test": [
             0.3001351947
            ]
           },
           {
            "iteration": 474,
            "learn": [
             0.2454931235
            ],
            "passed_time": 14.78178256,
            "remaining_time": 16.33775967,
            "test": [
             0.3001712971
            ]
           },
           {
            "iteration": 475,
            "learn": [
             0.2452971656
            ],
            "passed_time": 14.81118742,
            "remaining_time": 16.30475254,
            "test": [
             0.3001814642
            ]
           },
           {
            "iteration": 476,
            "learn": [
             0.2452004023
            ],
            "passed_time": 14.84261049,
            "remaining_time": 16.27397335,
            "test": [
             0.3001608746
            ]
           },
           {
            "iteration": 477,
            "learn": [
             0.2450468737
            ],
            "passed_time": 14.87151769,
            "remaining_time": 16.240444,
            "test": [
             0.3001613157
            ]
           },
           {
            "iteration": 478,
            "learn": [
             0.2448819512
            ],
            "passed_time": 14.90130747,
            "remaining_time": 16.20789392,
            "test": [
             0.3001517953
            ]
           },
           {
            "iteration": 479,
            "learn": [
             0.2447842565
            ],
            "passed_time": 14.92961701,
            "remaining_time": 16.17375176,
            "test": [
             0.3001854227
            ]
           },
           {
            "iteration": 480,
            "learn": [
             0.2445668744
            ],
            "passed_time": 14.96305238,
            "remaining_time": 16.14516463,
            "test": [
             0.3001606113
            ]
           },
           {
            "iteration": 481,
            "learn": [
             0.2444890758
            ],
            "passed_time": 14.99370083,
            "remaining_time": 16.11356231,
            "test": [
             0.3001626829
            ]
           },
           {
            "iteration": 482,
            "learn": [
             0.2443216282
            ],
            "passed_time": 15.02337558,
            "remaining_time": 16.08092168,
            "test": [
             0.300209814
            ]
           },
           {
            "iteration": 483,
            "learn": [
             0.2441796878
            ],
            "passed_time": 15.05267642,
            "remaining_time": 16.04789469,
            "test": [
             0.3002820653
            ]
           },
           {
            "iteration": 484,
            "learn": [
             0.2440519197
            ],
            "passed_time": 15.08244216,
            "remaining_time": 16.01537673,
            "test": [
             0.3002794769
            ]
           },
           {
            "iteration": 485,
            "learn": [
             0.2439701941
            ],
            "passed_time": 15.11211801,
            "remaining_time": 15.98277501,
            "test": [
             0.3002741966
            ]
           },
           {
            "iteration": 486,
            "learn": [
             0.2438397427
            ],
            "passed_time": 15.14039854,
            "remaining_time": 15.94871551,
            "test": [
             0.3003200467
            ]
           },
           {
            "iteration": 487,
            "learn": [
             0.2437199333
            ],
            "passed_time": 15.16884065,
            "remaining_time": 15.91484921,
            "test": [
             0.3003576395
            ]
           },
           {
            "iteration": 488,
            "learn": [
             0.2436527128
            ],
            "passed_time": 15.19928211,
            "remaining_time": 15.8830944,
            "test": [
             0.300368722
            ]
           },
           {
            "iteration": 489,
            "learn": [
             0.2435867383
            ],
            "passed_time": 15.22737059,
            "remaining_time": 15.84889592,
            "test": [
             0.3003664976
            ]
           },
           {
            "iteration": 490,
            "learn": [
             0.2434535852
            ],
            "passed_time": 15.29955338,
            "remaining_time": 15.86043314,
            "test": [
             0.3003583199
            ]
           },
           {
            "iteration": 491,
            "learn": [
             0.2433366208
            ],
            "passed_time": 15.33542925,
            "remaining_time": 15.8341424,
            "test": [
             0.3003802839
            ]
           },
           {
            "iteration": 492,
            "learn": [
             0.2430614086
            ],
            "passed_time": 15.3659683,
            "remaining_time": 15.8023244,
            "test": [
             0.3004540418
            ]
           },
           {
            "iteration": 493,
            "learn": [
             0.2429277574
            ],
            "passed_time": 15.39309398,
            "remaining_time": 15.7670153,
            "test": [
             0.300448831
            ]
           },
           {
            "iteration": 494,
            "learn": [
             0.2427879422
            ],
            "passed_time": 15.42276006,
            "remaining_time": 15.73433097,
            "test": [
             0.3004747514
            ]
           },
           {
            "iteration": 495,
            "learn": [
             0.2426543016
            ],
            "passed_time": 15.4513686,
            "remaining_time": 15.70058422,
            "test": [
             0.300574449
            ]
           },
           {
            "iteration": 496,
            "learn": [
             0.2424710188
            ],
            "passed_time": 15.48334515,
            "remaining_time": 15.67026682,
            "test": [
             0.3005584401
            ]
           },
           {
            "iteration": 497,
            "learn": [
             0.242440396
            ],
            "passed_time": 15.52252396,
            "remaining_time": 15.64720286,
            "test": [
             0.3005518108
            ]
           },
           {
            "iteration": 498,
            "learn": [
             0.2423731765
            ],
            "passed_time": 15.55150661,
            "remaining_time": 15.61383729,
            "test": [
             0.3005824448
            ]
           },
           {
            "iteration": 499,
            "learn": [
             0.2422781033
            ],
            "passed_time": 15.58395994,
            "remaining_time": 15.58395994,
            "test": [
             0.3005852022
            ]
           },
           {
            "iteration": 500,
            "learn": [
             0.2422151532
            ],
            "passed_time": 15.61385225,
            "remaining_time": 15.5515215,
            "test": [
             0.3006136272
            ]
           },
           {
            "iteration": 501,
            "learn": [
             0.242039471
            ],
            "passed_time": 15.64240657,
            "remaining_time": 15.51776588,
            "test": [
             0.3006385077
            ]
           },
           {
            "iteration": 502,
            "learn": [
             0.2418906675
            ],
            "passed_time": 15.67371865,
            "remaining_time": 15.4867558,
            "test": [
             0.3006213108
            ]
           },
           {
            "iteration": 503,
            "learn": [
             0.2417178435
            ],
            "passed_time": 15.70392451,
            "remaining_time": 15.45465586,
            "test": [
             0.3005185683
            ]
           },
           {
            "iteration": 504,
            "learn": [
             0.2415321393
            ],
            "passed_time": 15.73876223,
            "remaining_time": 15.42710358,
            "test": [
             0.3004711551
            ]
           },
           {
            "iteration": 505,
            "learn": [
             0.2414456114
            ],
            "passed_time": 15.76880096,
            "remaining_time": 15.3948373,
            "test": [
             0.3004722115
            ]
           },
           {
            "iteration": 506,
            "learn": [
             0.241317917
            ],
            "passed_time": 15.79845032,
            "remaining_time": 15.3622012,
            "test": [
             0.3004438471
            ]
           },
           {
            "iteration": 507,
            "learn": [
             0.2411973912
            ],
            "passed_time": 15.82796521,
            "remaining_time": 15.32944662,
            "test": [
             0.3004734622
            ]
           },
           {
            "iteration": 508,
            "learn": [
             0.2410999798
            ],
            "passed_time": 15.86120245,
            "remaining_time": 15.30029549,
            "test": [
             0.300464037
            ]
           },
           {
            "iteration": 509,
            "learn": [
             0.2409990218
            ],
            "passed_time": 15.89174446,
            "remaining_time": 15.26853879,
            "test": [
             0.3004661753
            ]
           },
           {
            "iteration": 510,
            "learn": [
             0.2409435442
            ],
            "passed_time": 15.92241448,
            "remaining_time": 15.23690935,
            "test": [
             0.3004927128
            ]
           },
           {
            "iteration": 511,
            "learn": [
             0.24075519
            ],
            "passed_time": 15.95489148,
            "remaining_time": 15.20700594,
            "test": [
             0.3004927711
            ]
           },
           {
            "iteration": 512,
            "learn": [
             0.2407462944
            ],
            "passed_time": 15.98490613,
            "remaining_time": 15.17475494,
            "test": [
             0.3004963716
            ]
           },
           {
            "iteration": 513,
            "learn": [
             0.2406791068
            ],
            "passed_time": 16.01384096,
            "remaining_time": 15.14149164,
            "test": [
             0.3004940886
            ]
           },
           {
            "iteration": 514,
            "learn": [
             0.2406632875
            ],
            "passed_time": 16.0432258,
            "remaining_time": 15.10866896,
            "test": [
             0.3004949529
            ]
           },
           {
            "iteration": 515,
            "learn": [
             0.2406072938
            ],
            "passed_time": 16.07207281,
            "remaining_time": 15.07535512,
            "test": [
             0.3004854091
            ]
           },
           {
            "iteration": 516,
            "learn": [
             0.2405321145
            ],
            "passed_time": 16.10230393,
            "remaining_time": 15.04335164,
            "test": [
             0.3004793562
            ]
           },
           {
            "iteration": 517,
            "learn": [
             0.2403646932
            ],
            "passed_time": 16.13365446,
            "remaining_time": 15.01239662,
            "test": [
             0.3005503961
            ]
           },
           {
            "iteration": 518,
            "learn": [
             0.2403111448
            ],
            "passed_time": 16.16418837,
            "remaining_time": 14.98068325,
            "test": [
             0.3005779513
            ]
           },
           {
            "iteration": 519,
            "learn": [
             0.2401728773
            ],
            "passed_time": 16.19465543,
            "remaining_time": 14.94891271,
            "test": [
             0.300609292
            ]
           },
           {
            "iteration": 520,
            "learn": [
             0.2400932834
            ],
            "passed_time": 16.22394458,
            "remaining_time": 14.91606421,
            "test": [
             0.3005963828
            ]
           },
           {
            "iteration": 521,
            "learn": [
             0.2399650901
            ],
            "passed_time": 16.25264679,
            "remaining_time": 14.88269189,
            "test": [
             0.3006115374
            ]
           },
           {
            "iteration": 522,
            "learn": [
             0.239890779
            ],
            "passed_time": 16.31940468,
            "remaining_time": 14.88404595,
            "test": [
             0.3006114762
            ]
           },
           {
            "iteration": 523,
            "learn": [
             0.2398060169
            ],
            "passed_time": 16.36113899,
            "remaining_time": 14.8624087,
            "test": [
             0.3006599007
            ]
           },
           {
            "iteration": 524,
            "learn": [
             0.2396753579
            ],
            "passed_time": 16.39244931,
            "remaining_time": 14.83126366,
            "test": [
             0.3006819655
            ]
           },
           {
            "iteration": 525,
            "learn": [
             0.2395466673
            ],
            "passed_time": 16.42304856,
            "remaining_time": 14.79947722,
            "test": [
             0.3007115484
            ]
           },
           {
            "iteration": 526,
            "learn": [
             0.2394033163
            ],
            "passed_time": 16.45421801,
            "remaining_time": 14.76820706,
            "test": [
             0.3007402297
            ]
           },
           {
            "iteration": 527,
            "learn": [
             0.2392590693
            ],
            "passed_time": 16.48411901,
            "remaining_time": 14.73580336,
            "test": [
             0.3006873221
            ]
           },
           {
            "iteration": 528,
            "learn": [
             0.2390055998
            ],
            "passed_time": 16.52249715,
            "remaining_time": 14.71095682,
            "test": [
             0.3007463405
            ]
           },
           {
            "iteration": 529,
            "learn": [
             0.2388982568
            ],
            "passed_time": 16.55460647,
            "remaining_time": 14.68050008,
            "test": [
             0.3007451814
            ]
           },
           {
            "iteration": 530,
            "learn": [
             0.2387091718
            ],
            "passed_time": 16.58593165,
            "remaining_time": 14.64934452,
            "test": [
             0.3007742823
            ]
           },
           {
            "iteration": 531,
            "learn": [
             0.2386107339
            ],
            "passed_time": 16.61595727,
            "remaining_time": 14.61704512,
            "test": [
             0.3007492984
            ]
           },
           {
            "iteration": 532,
            "learn": [
             0.238389342
            ],
            "passed_time": 16.64917786,
            "remaining_time": 14.58755359,
            "test": [
             0.3007927609
            ]
           },
           {
            "iteration": 533,
            "learn": [
             0.238383862
            ],
            "passed_time": 16.67687157,
            "remaining_time": 14.553225,
            "test": [
             0.3007935145
            ]
           },
           {
            "iteration": 534,
            "learn": [
             0.2383549679
            ],
            "passed_time": 16.70642083,
            "remaining_time": 14.52053399,
            "test": [
             0.3007972068
            ]
           },
           {
            "iteration": 535,
            "learn": [
             0.2381181737
            ],
            "passed_time": 16.73738198,
            "remaining_time": 14.48907694,
            "test": [
             0.3008327638
            ]
           },
           {
            "iteration": 536,
            "learn": [
             0.237892428
            ],
            "passed_time": 16.77037104,
            "remaining_time": 14.45937019,
            "test": [
             0.3008377032
            ]
           },
           {
            "iteration": 537,
            "learn": [
             0.2378735657
            ],
            "passed_time": 16.79968317,
            "remaining_time": 14.42649373,
            "test": [
             0.3008389323
            ]
           },
           {
            "iteration": 538,
            "learn": [
             0.2377495128
            ],
            "passed_time": 16.82919731,
            "remaining_time": 14.39380326,
            "test": [
             0.3007899663
            ]
           },
           {
            "iteration": 539,
            "learn": [
             0.2376707752
            ],
            "passed_time": 16.85722301,
            "remaining_time": 14.35985664,
            "test": [
             0.3008195361
            ]
           },
           {
            "iteration": 540,
            "learn": [
             0.2375458368
            ],
            "passed_time": 16.88714548,
            "remaining_time": 14.32754118,
            "test": [
             0.3008053909
            ]
           },
           {
            "iteration": 541,
            "learn": [
             0.2375021839
            ],
            "passed_time": 16.91601479,
            "remaining_time": 14.2943446,
            "test": [
             0.3008163775
            ]
           },
           {
            "iteration": 542,
            "learn": [
             0.2373323208
            ],
            "passed_time": 16.94632911,
            "remaining_time": 14.26238012,
            "test": [
             0.3008611045
            ]
           },
           {
            "iteration": 543,
            "learn": [
             0.23720702
            ],
            "passed_time": 16.9767751,
            "remaining_time": 14.23053207,
            "test": [
             0.3009204165
            ]
           },
           {
            "iteration": 544,
            "learn": [
             0.2371541143
            ],
            "passed_time": 17.0056638,
            "remaining_time": 14.19738905,
            "test": [
             0.3009254568
            ]
           },
           {
            "iteration": 545,
            "learn": [
             0.2369445507
            ],
            "passed_time": 17.0369262,
            "remaining_time": 14.16623534,
            "test": [
             0.3008987123
            ]
           },
           {
            "iteration": 546,
            "learn": [
             0.2368277509
            ],
            "passed_time": 17.06856572,
            "remaining_time": 14.13539355,
            "test": [
             0.3008684942
            ]
           },
           {
            "iteration": 547,
            "learn": [
             0.2366564728
            ],
            "passed_time": 17.10091431,
            "remaining_time": 14.1051337,
            "test": [
             0.3008667773
            ]
           },
           {
            "iteration": 548,
            "learn": [
             0.2364813967
            ],
            "passed_time": 17.13185051,
            "remaining_time": 14.07370598,
            "test": [
             0.3008763529
            ]
           },
           {
            "iteration": 549,
            "learn": [
             0.2364287562
            ],
            "passed_time": 17.16212148,
            "remaining_time": 14.04173575,
            "test": [
             0.3008153021
            ]
           },
           {
            "iteration": 550,
            "learn": [
             0.2363993207
            ],
            "passed_time": 17.19159513,
            "remaining_time": 14.00912198,
            "test": [
             0.3008215229
            ]
           },
           {
            "iteration": 551,
            "learn": [
             0.2362861395
            ],
            "passed_time": 17.22158752,
            "remaining_time": 13.9769406,
            "test": [
             0.3008361514
            ]
           },
           {
            "iteration": 552,
            "learn": [
             0.2361865429
            ],
            "passed_time": 17.25138037,
            "remaining_time": 13.94460583,
            "test": [
             0.3008407915
            ]
           },
           {
            "iteration": 553,
            "learn": [
             0.2359848319
            ],
            "passed_time": 17.28363171,
            "remaining_time": 13.91425946,
            "test": [
             0.3008311462
            ]
           },
           {
            "iteration": 554,
            "learn": [
             0.2358798801
            ],
            "passed_time": 17.33935654,
            "remaining_time": 13.90272732,
            "test": [
             0.3008002969
            ]
           },
           {
            "iteration": 555,
            "learn": [
             0.2357572167
            ],
            "passed_time": 17.39769398,
            "remaining_time": 13.89312253,
            "test": [
             0.3008238426
            ]
           },
           {
            "iteration": 556,
            "learn": [
             0.2354640334
            ],
            "passed_time": 17.42959373,
            "remaining_time": 13.86231602,
            "test": [
             0.3009428905
            ]
           },
           {
            "iteration": 557,
            "learn": [
             0.2353468835
            ],
            "passed_time": 17.45911642,
            "remaining_time": 13.82962268,
            "test": [
             0.3008957575
            ]
           },
           {
            "iteration": 558,
            "learn": [
             0.2353021388
            ],
            "passed_time": 17.48909091,
            "remaining_time": 13.79729712,
            "test": [
             0.3009048529
            ]
           },
           {
            "iteration": 559,
            "learn": [
             0.2352171773
            ],
            "passed_time": 17.5196159,
            "remaining_time": 13.76541249,
            "test": [
             0.3009292519
            ]
           },
           {
            "iteration": 560,
            "learn": [
             0.2352126345
            ],
            "passed_time": 17.55805178,
            "remaining_time": 13.73972323,
            "test": [
             0.3009265004
            ]
           },
           {
            "iteration": 561,
            "learn": [
             0.2350972228
            ],
            "passed_time": 17.58754524,
            "remaining_time": 13.70701925,
            "test": [
             0.3009162394
            ]
           },
           {
            "iteration": 562,
            "learn": [
             0.2350101286
            ],
            "passed_time": 17.61718889,
            "remaining_time": 13.67444324,
            "test": [
             0.3009026068
            ]
           },
           {
            "iteration": 563,
            "learn": [
             0.2350046655
            ],
            "passed_time": 17.64707367,
            "remaining_time": 13.64206404,
            "test": [
             0.3009040465
            ]
           },
           {
            "iteration": 564,
            "learn": [
             0.2347488487
            ],
            "passed_time": 17.68144048,
            "remaining_time": 13.61314444,
            "test": [
             0.3009651895
            ]
           },
           {
            "iteration": 565,
            "learn": [
             0.2346330442
            ],
            "passed_time": 17.71085088,
            "remaining_time": 13.58040509,
            "test": [
             0.3009658746
            ]
           },
           {
            "iteration": 566,
            "learn": [
             0.2345687417
            ],
            "passed_time": 17.74082198,
            "remaining_time": 13.54810567,
            "test": [
             0.300996801
            ]
           },
           {
            "iteration": 567,
            "learn": [
             0.23443647
            ],
            "passed_time": 17.77309536,
            "remaining_time": 13.51756549,
            "test": [
             0.3009872976
            ]
           },
           {
            "iteration": 568,
            "learn": [
             0.2342144235
            ],
            "passed_time": 17.80544621,
            "remaining_time": 13.48707789,
            "test": [
             0.3010475128
            ]
           },
           {
            "iteration": 569,
            "learn": [
             0.2342020098
            ],
            "passed_time": 17.83391202,
            "remaining_time": 13.45365293,
            "test": [
             0.3010499782
            ]
           },
           {
            "iteration": 570,
            "learn": [
             0.2340145881
            ],
            "passed_time": 17.86365038,
            "remaining_time": 13.42120142,
            "test": [
             0.3010840595
            ]
           },
           {
            "iteration": 571,
            "learn": [
             0.233915199
            ],
            "passed_time": 17.89380721,
            "remaining_time": 13.38907253,
            "test": [
             0.3010516151
            ]
           },
           {
            "iteration": 572,
            "learn": [
             0.2337478351
            ],
            "passed_time": 17.92472017,
            "remaining_time": 13.35751398,
            "test": [
             0.3010126236
            ]
           },
           {
            "iteration": 573,
            "learn": [
             0.233592675
            ],
            "passed_time": 17.95820171,
            "remaining_time": 13.32786399,
            "test": [
             0.3010067025
            ]
           },
           {
            "iteration": 574,
            "learn": [
             0.2335029432
            ],
            "passed_time": 17.98682323,
            "remaining_time": 13.29460848,
            "test": [
             0.3010064026
            ]
           },
           {
            "iteration": 575,
            "learn": [
             0.2332937065
            ],
            "passed_time": 18.0182929,
            "remaining_time": 13.2634656,
            "test": [
             0.3010190035
            ]
           },
           {
            "iteration": 576,
            "learn": [
             0.2331923074
            ],
            "passed_time": 18.04667335,
            "remaining_time": 13.23005689,
            "test": [
             0.3010742723
            ]
           },
           {
            "iteration": 577,
            "learn": [
             0.2331799206
            ],
            "passed_time": 18.07580043,
            "remaining_time": 13.19721069,
            "test": [
             0.3010804295
            ]
           },
           {
            "iteration": 578,
            "learn": [
             0.2330888816
            ],
            "passed_time": 18.10641478,
            "remaining_time": 13.16545876,
            "test": [
             0.3010645226
            ]
           },
           {
            "iteration": 579,
            "learn": [
             0.2328716451
            ],
            "passed_time": 18.13657767,
            "remaining_time": 13.13338383,
            "test": [
             0.3011501323
            ]
           },
           {
            "iteration": 580,
            "learn": [
             0.2327385708
            ],
            "passed_time": 18.16597137,
            "remaining_time": 13.10076077,
            "test": [
             0.3011568925
            ]
           },
           {
            "iteration": 581,
            "learn": [
             0.2325290985
            ],
            "passed_time": 18.19690401,
            "remaining_time": 13.06925408,
            "test": [
             0.3011570681
            ]
           },
           {
            "iteration": 582,
            "learn": [
             0.2324692971
            ],
            "passed_time": 18.22706599,
            "remaining_time": 13.03719815,
            "test": [
             0.3011731035
            ]
           },
           {
            "iteration": 583,
            "learn": [
             0.2323487907
            ],
            "passed_time": 18.25734142,
            "remaining_time": 13.0052295,
            "test": [
             0.3011482386
            ]
           },
           {
            "iteration": 584,
            "learn": [
             0.2323264888
            ],
            "passed_time": 18.28878095,
            "remaining_time": 12.97409247,
            "test": [
             0.3011518236
            ]
           },
           {
            "iteration": 585,
            "learn": [
             0.2322242395
            ],
            "passed_time": 18.31675946,
            "remaining_time": 12.94050924,
            "test": [
             0.3011278625
            ]
           },
           {
            "iteration": 586,
            "learn": [
             0.2321191336
            ],
            "passed_time": 18.37672086,
            "remaining_time": 12.92944755,
            "test": [
             0.3011268408
            ]
           },
           {
            "iteration": 587,
            "learn": [
             0.2321124515
            ],
            "passed_time": 18.42736951,
            "remaining_time": 12.91169428,
            "test": [
             0.3011283284
            ]
           },
           {
            "iteration": 588,
            "learn": [
             0.2319455692
            ],
            "passed_time": 18.45669068,
            "remaining_time": 12.87894715,
            "test": [
             0.3011181741
            ]
           },
           {
            "iteration": 589,
            "learn": [
             0.2318859739
            ],
            "passed_time": 18.48541008,
            "remaining_time": 12.84579345,
            "test": [
             0.301125445
            ]
           },
           {
            "iteration": 590,
            "learn": [
             0.2317178007
            ],
            "passed_time": 18.51719999,
            "remaining_time": 12.81477969,
            "test": [
             0.3011326965
            ]
           },
           {
            "iteration": 591,
            "learn": [
             0.2316708504
            ],
            "passed_time": 18.55726894,
            "remaining_time": 12.78946913,
            "test": [
             0.3011218709
            ]
           },
           {
            "iteration": 592,
            "learn": [
             0.231529683
            ],
            "passed_time": 18.58906063,
            "remaining_time": 12.75842778,
            "test": [
             0.3011432692
            ]
           },
           {
            "iteration": 593,
            "learn": [
             0.2313741096
            ],
            "passed_time": 18.62157685,
            "remaining_time": 12.72787912,
            "test": [
             0.3011708096
            ]
           },
           {
            "iteration": 594,
            "learn": [
             0.2312208881
            ],
            "passed_time": 18.65306849,
            "remaining_time": 12.69662645,
            "test": [
             0.3011193289
            ]
           },
           {
            "iteration": 595,
            "learn": [
             0.2311614817
            ],
            "passed_time": 18.68422712,
            "remaining_time": 12.66514725,
            "test": [
             0.3011174788
            ]
           },
           {
            "iteration": 596,
            "learn": [
             0.2311132936
            ],
            "passed_time": 18.71846001,
            "remaining_time": 12.63574436,
            "test": [
             0.30111328
            ]
           },
           {
            "iteration": 597,
            "learn": [
             0.2310295199
            ],
            "passed_time": 18.74895496,
            "remaining_time": 12.60381253,
            "test": [
             0.3011326878
            ]
           },
           {
            "iteration": 598,
            "learn": [
             0.2309181377
            ],
            "passed_time": 18.77892267,
            "remaining_time": 12.57153254,
            "test": [
             0.3011795028
            ]
           },
           {
            "iteration": 599,
            "learn": [
             0.2309131884
            ],
            "passed_time": 18.80821406,
            "remaining_time": 12.53880938,
            "test": [
             0.3011786805
            ]
           },
           {
            "iteration": 600,
            "learn": [
             0.2308051548
            ],
            "passed_time": 18.8380277,
            "remaining_time": 12.50644435,
            "test": [
             0.3011529379
            ]
           },
           {
            "iteration": 601,
            "learn": [
             0.2307165934
            ],
            "passed_time": 18.87226728,
            "remaining_time": 12.47701392,
            "test": [
             0.3011313589
            ]
           },
           {
            "iteration": 602,
            "learn": [
             0.2306493677
            ],
            "passed_time": 18.90126917,
            "remaining_time": 12.44411917,
            "test": [
             0.3011545262
            ]
           },
           {
            "iteration": 603,
            "learn": [
             0.2305889704
            ],
            "passed_time": 18.93265589,
            "remaining_time": 12.41280088,
            "test": [
             0.3011564329
            ]
           },
           {
            "iteration": 604,
            "learn": [
             0.2305453142
            ],
            "passed_time": 18.96141807,
            "remaining_time": 12.37976882,
            "test": [
             0.3011615006
            ]
           },
           {
            "iteration": 605,
            "learn": [
             0.2304252087
            ],
            "passed_time": 18.99126771,
            "remaining_time": 12.34745789,
            "test": [
             0.3011412716
            ]
           },
           {
            "iteration": 606,
            "learn": [
             0.2302911295
            ],
            "passed_time": 19.02224362,
            "remaining_time": 12.31588426,
            "test": [
             0.3011465664
            ]
           },
           {
            "iteration": 607,
            "learn": [
             0.2301247843
            ],
            "passed_time": 19.05251386,
            "remaining_time": 12.28385762,
            "test": [
             0.301125901
            ]
           },
           {
            "iteration": 608,
            "learn": [
             0.2300110316
            ],
            "passed_time": 19.08107014,
            "remaining_time": 12.25073633,
            "test": [
             0.3011497152
            ]
           },
           {
            "iteration": 609,
            "learn": [
             0.2298016271
            ],
            "passed_time": 19.11296361,
            "remaining_time": 12.21976362,
            "test": [
             0.3011366659
            ]
           },
           {
            "iteration": 610,
            "learn": [
             0.2296490105
            ],
            "passed_time": 19.14366788,
            "remaining_time": 12.18803078,
            "test": [
             0.3011640913
            ]
           },
           {
            "iteration": 611,
            "learn": [
             0.2295019641
            ],
            "passed_time": 19.17430603,
            "remaining_time": 12.15625938,
            "test": [
             0.3011933764
            ]
           },
           {
            "iteration": 612,
            "learn": [
             0.2293641117
            ],
            "passed_time": 19.20520753,
            "remaining_time": 12.12465793,
            "test": [
             0.3012739327
            ]
           },
           {
            "iteration": 613,
            "learn": [
             0.2292265302
            ],
            "passed_time": 19.2350287,
            "remaining_time": 12.09237961,
            "test": [
             0.3012481985
            ]
           },
           {
            "iteration": 614,
            "learn": [
             0.229105623
            ],
            "passed_time": 19.26427718,
            "remaining_time": 12.05975075,
            "test": [
             0.3011985468
            ]
           },
           {
            "iteration": 615,
            "learn": [
             0.2289953368
            ],
            "passed_time": 19.29652516,
            "remaining_time": 12.0290027,
            "test": [
             0.3011975377
            ]
           },
           {
            "iteration": 616,
            "learn": [
             0.2288600779
            ],
            "passed_time": 19.32621265,
            "remaining_time": 11.99666036,
            "test": [
             0.3012427143
            ]
           },
           {
            "iteration": 617,
            "learn": [
             0.2286670182
            ],
            "passed_time": 19.35851784,
            "remaining_time": 11.96594469,
            "test": [
             0.3012098934
            ]
           },
           {
            "iteration": 618,
            "learn": [
             0.2286166294
            ],
            "passed_time": 19.42639359,
            "remaining_time": 11.95711787,
            "test": [
             0.3012075424
            ]
           },
           {
            "iteration": 619,
            "learn": [
             0.2285682344
            ],
            "passed_time": 19.46907965,
            "remaining_time": 11.93266172,
            "test": [
             0.301241054
            ]
           },
           {
            "iteration": 620,
            "learn": [
             0.2285106377
            ],
            "passed_time": 19.50015047,
            "remaining_time": 11.90105802,
            "test": [
             0.3012268523
            ]
           },
           {
            "iteration": 621,
            "learn": [
             0.2284764527
            ],
            "passed_time": 19.52930626,
            "remaining_time": 11.86829223,
            "test": [
             0.3012249697
            ]
           },
           {
            "iteration": 622,
            "learn": [
             0.228412617
            ],
            "passed_time": 19.5741416,
            "remaining_time": 11.8450263,
            "test": [
             0.3012399402
            ]
           },
           {
            "iteration": 623,
            "learn": [
             0.2281747451
            ],
            "passed_time": 19.63085444,
            "remaining_time": 11.82884819,
            "test": [
             0.3012956019
            ]
           },
           {
            "iteration": 624,
            "learn": [
             0.228010198
            ],
            "passed_time": 19.66217661,
            "remaining_time": 11.79730596,
            "test": [
             0.3013753254
            ]
           },
           {
            "iteration": 625,
            "learn": [
             0.2278270441
            ],
            "passed_time": 19.69371335,
            "remaining_time": 11.76589264,
            "test": [
             0.3013297695
            ]
           },
           {
            "iteration": 626,
            "learn": [
             0.2277142091
            ],
            "passed_time": 19.72211147,
            "remaining_time": 11.73261177,
            "test": [
             0.301326662
            ]
           },
           {
            "iteration": 627,
            "learn": [
             0.2276582334
            ],
            "passed_time": 19.75249361,
            "remaining_time": 11.70052169,
            "test": [
             0.3013053171
            ]
           },
           {
            "iteration": 628,
            "learn": [
             0.2276121557
            ],
            "passed_time": 19.78674203,
            "remaining_time": 11.67071748,
            "test": [
             0.3013149933
            ]
           },
           {
            "iteration": 629,
            "learn": [
             0.2275475594
            ],
            "passed_time": 19.81720119,
            "remaining_time": 11.63867371,
            "test": [
             0.3013140418
            ]
           },
           {
            "iteration": 630,
            "learn": [
             0.2274858833
            ],
            "passed_time": 19.847442,
            "remaining_time": 11.60650729,
            "test": [
             0.3013247004
            ]
           },
           {
            "iteration": 631,
            "learn": [
             0.2273289207
            ],
            "passed_time": 19.87860922,
            "remaining_time": 11.57488638,
            "test": [
             0.3013228997
            ]
           },
           {
            "iteration": 632,
            "learn": [
             0.2272391324
            ],
            "passed_time": 19.908379,
            "remaining_time": 11.5424567,
            "test": [
             0.3013263532
            ]
           },
           {
            "iteration": 633,
            "learn": [
             0.2270565372
            ],
            "passed_time": 19.94165351,
            "remaining_time": 11.51205865,
            "test": [
             0.3013314794
            ]
           },
           {
            "iteration": 634,
            "learn": [
             0.2269741336
            ],
            "passed_time": 19.9728785,
            "remaining_time": 11.48047347,
            "test": [
             0.3013615728
            ]
           },
           {
            "iteration": 635,
            "learn": [
             0.226848973
            ],
            "passed_time": 20.00380344,
            "remaining_time": 11.44871769,
            "test": [
             0.3013479533
            ]
           },
           {
            "iteration": 636,
            "learn": [
             0.2266915494
            ],
            "passed_time": 20.03297787,
            "remaining_time": 11.41596698,
            "test": [
             0.3012697282
            ]
           },
           {
            "iteration": 637,
            "learn": [
             0.2266054784
            ],
            "passed_time": 20.06632079,
            "remaining_time": 11.38559267,
            "test": [
             0.3012786005
            ]
           },
           {
            "iteration": 638,
            "learn": [
             0.2265448637
            ],
            "passed_time": 20.09617197,
            "remaining_time": 11.35323643,
            "test": [
             0.3012972662
            ]
           },
           {
            "iteration": 639,
            "learn": [
             0.2263820217
            ],
            "passed_time": 20.12743924,
            "remaining_time": 11.32168457,
            "test": [
             0.3013463563
            ]
           },
           {
            "iteration": 640,
            "learn": [
             0.2262060035
            ],
            "passed_time": 20.15846864,
            "remaining_time": 11.29000037,
            "test": [
             0.3013453742
            ]
           },
           {
            "iteration": 641,
            "learn": [
             0.2260566036
            ],
            "passed_time": 20.18755323,
            "remaining_time": 11.25723373,
            "test": [
             0.3014114213
            ]
           },
           {
            "iteration": 642,
            "learn": [
             0.2259629167
            ],
            "passed_time": 20.21789126,
            "remaining_time": 11.22517446,
            "test": [
             0.3014315569
            ]
           },
           {
            "iteration": 643,
            "learn": [
             0.2258084849
            ],
            "passed_time": 20.24703615,
            "remaining_time": 11.19246098,
            "test": [
             0.3014572312
            ]
           },
           {
            "iteration": 644,
            "learn": [
             0.2256788408
            ],
            "passed_time": 20.28069353,
            "remaining_time": 11.16224218,
            "test": [
             0.3014874554
            ]
           },
           {
            "iteration": 645,
            "learn": [
             0.2256739943
            ],
            "passed_time": 20.30987267,
            "remaining_time": 11.12955871,
            "test": [
             0.3014853028
            ]
           },
           {
            "iteration": 646,
            "learn": [
             0.2255931289
            ],
            "passed_time": 20.34047947,
            "remaining_time": 11.097665,
            "test": [
             0.3014967601
            ]
           },
           {
            "iteration": 647,
            "learn": [
             0.2254392185
            ],
            "passed_time": 20.37175133,
            "remaining_time": 11.06613652,
            "test": [
             0.3015416565
            ]
           },
           {
            "iteration": 648,
            "learn": [
             0.2252869972
            ],
            "passed_time": 20.40016373,
            "remaining_time": 11.03306235,
            "test": [
             0.3015876054
            ]
           },
           {
            "iteration": 649,
            "learn": [
             0.2251010709
            ],
            "passed_time": 20.48355854,
            "remaining_time": 11.02960844,
            "test": [
             0.3017000472
            ]
           },
           {
            "iteration": 650,
            "learn": [
             0.2249612088
            ],
            "passed_time": 20.51224372,
            "remaining_time": 10.9965792,
            "test": [
             0.3016961373
            ]
           },
           {
            "iteration": 651,
            "learn": [
             0.2248336776
            ],
            "passed_time": 20.54239678,
            "remaining_time": 10.96434675,
            "test": [
             0.3016864327
            ]
           },
           {
            "iteration": 652,
            "learn": [
             0.2247120665
            ],
            "passed_time": 20.58074546,
            "remaining_time": 10.93647576,
            "test": [
             0.301665729
            ]
           },
           {
            "iteration": 653,
            "learn": [
             0.2246256938
            ],
            "passed_time": 20.61080238,
            "remaining_time": 10.90418597,
            "test": [
             0.3017050717
            ]
           },
           {
            "iteration": 654,
            "learn": [
             0.2245257494
            ],
            "passed_time": 20.64056967,
            "remaining_time": 10.87175044,
            "test": [
             0.3017073596
            ]
           },
           {
            "iteration": 655,
            "learn": [
             0.2244476729
            ],
            "passed_time": 20.67017041,
            "remaining_time": 10.8392357,
            "test": [
             0.3017306448
            ]
           },
           {
            "iteration": 656,
            "learn": [
             0.224368536
            ],
            "passed_time": 20.70033271,
            "remaining_time": 10.80702302,
            "test": [
             0.3017287039
            ]
           },
           {
            "iteration": 657,
            "learn": [
             0.2242754902
            ],
            "passed_time": 20.72871422,
            "remaining_time": 10.77389098,
            "test": [
             0.3017591929
            ]
           },
           {
            "iteration": 658,
            "learn": [
             0.2242004641
            ],
            "passed_time": 20.76072293,
            "remaining_time": 10.74265026,
            "test": [
             0.30172958
            ]
           },
           {
            "iteration": 659,
            "learn": [
             0.2241941274
            ],
            "passed_time": 20.78992443,
            "remaining_time": 10.70996107,
            "test": [
             0.3017315533
            ]
           },
           {
            "iteration": 660,
            "learn": [
             0.2240458136
            ],
            "passed_time": 20.82153871,
            "remaining_time": 10.67851985,
            "test": [
             0.3017488857
            ]
           },
           {
            "iteration": 661,
            "learn": [
             0.2239461268
            ],
            "passed_time": 20.85654091,
            "remaining_time": 10.64880789,
            "test": [
             0.3017257877
            ]
           },
           {
            "iteration": 662,
            "learn": [
             0.2238139898
            ],
            "passed_time": 20.88798221,
            "remaining_time": 10.61726999,
            "test": [
             0.3017128248
            ]
           },
           {
            "iteration": 663,
            "learn": [
             0.2236798939
            ],
            "passed_time": 20.91894669,
            "remaining_time": 10.5854911,
            "test": [
             0.3017553881
            ]
           },
           {
            "iteration": 664,
            "learn": [
             0.2236650694
            ],
            "passed_time": 20.9487432,
            "remaining_time": 10.55312627,
            "test": [
             0.3017594833
            ]
           },
           {
            "iteration": 665,
            "learn": [
             0.2235530243
            ],
            "passed_time": 20.9797341,
            "remaining_time": 10.52136815,
            "test": [
             0.3017849275
            ]
           },
           {
            "iteration": 666,
            "learn": [
             0.2234798514
            ],
            "passed_time": 21.00922664,
            "remaining_time": 10.48886428,
            "test": [
             0.3017891624
            ]
           },
           {
            "iteration": 667,
            "learn": [
             0.2232876784
            ],
            "passed_time": 21.04065496,
            "remaining_time": 10.45733151,
            "test": [
             0.3017933255
            ]
           },
           {
            "iteration": 668,
            "learn": [
             0.2231926774
            ],
            "passed_time": 21.07005674,
            "remaining_time": 10.42479639,
            "test": [
             0.3017534811
            ]
           },
           {
            "iteration": 669,
            "learn": [
             0.2231062756
            ],
            "passed_time": 21.09811097,
            "remaining_time": 10.3916069,
            "test": [
             0.3017454172
            ]
           },
           {
            "iteration": 670,
            "learn": [
             0.2230807073
            ],
            "passed_time": 21.12682636,
            "remaining_time": 10.35875689,
            "test": [
             0.3017661146
            ]
           },
           {
            "iteration": 671,
            "learn": [
             0.2229607298
            ],
            "passed_time": 21.15664248,
            "remaining_time": 10.32645645,
            "test": [
             0.3018314152
            ]
           },
           {
            "iteration": 672,
            "learn": [
             0.2228794855
            ],
            "passed_time": 21.18586222,
            "remaining_time": 10.29387362,
            "test": [
             0.3018186424
            ]
           },
           {
            "iteration": 673,
            "learn": [
             0.2227944616
            ],
            "passed_time": 21.21532786,
            "remaining_time": 10.26141971,
            "test": [
             0.3018326087
            ]
           },
           {
            "iteration": 674,
            "learn": [
             0.2226583792
            ],
            "passed_time": 21.24685093,
            "remaining_time": 10.22996526,
            "test": [
             0.3018486405
            ]
           },
           {
            "iteration": 675,
            "learn": [
             0.2226533558
            ],
            "passed_time": 21.27787317,
            "remaining_time": 10.19827057,
            "test": [
             0.301849403
            ]
           },
           {
            "iteration": 676,
            "learn": [
             0.2225046838
            ],
            "passed_time": 21.30748557,
            "remaining_time": 10.16590523,
            "test": [
             0.3019158431
            ]
           },
           {
            "iteration": 677,
            "learn": [
             0.2223970465
            ],
            "passed_time": 21.33817298,
            "remaining_time": 10.13405856,
            "test": [
             0.3019211884
            ]
           },
           {
            "iteration": 678,
            "learn": [
             0.2223575125
            ],
            "passed_time": 21.36839465,
            "remaining_time": 10.10199512,
            "test": [
             0.3019613384
            ]
           },
           {
            "iteration": 679,
            "learn": [
             0.2222306207
            ],
            "passed_time": 21.39861685,
            "remaining_time": 10.06993734,
            "test": [
             0.3019985555
            ]
           },
           {
            "iteration": 680,
            "learn": [
             0.2221672226
            ],
            "passed_time": 21.42771463,
            "remaining_time": 10.03735825,
            "test": [
             0.3019858555
            ]
           },
           {
            "iteration": 681,
            "learn": [
             0.222074862
            ],
            "passed_time": 21.48966036,
            "remaining_time": 10.02010556,
            "test": [
             0.3019764458
            ]
           },
           {
            "iteration": 682,
            "learn": [
             0.2219918668
            ],
            "passed_time": 21.54662657,
            "remaining_time": 10.00041087,
            "test": [
             0.3020186242
            ]
           },
           {
            "iteration": 683,
            "learn": [
             0.221939546
            ],
            "passed_time": 21.58054547,
            "remaining_time": 9.969959605,
            "test": [
             0.3020443479
            ]
           },
           {
            "iteration": 684,
            "learn": [
             0.2217302362
            ],
            "passed_time": 21.6169452,
            "remaining_time": 9.940639033,
            "test": [
             0.3020427751
            ]
           },
           {
            "iteration": 685,
            "learn": [
             0.2217066675
            ],
            "passed_time": 21.64736399,
            "remaining_time": 9.908560195,
            "test": [
             0.3020470041
            ]
           },
           {
            "iteration": 686,
            "learn": [
             0.2216633523
            ],
            "passed_time": 21.67753086,
            "remaining_time": 9.876371409,
            "test": [
             0.3020458299
            ]
           },
           {
            "iteration": 687,
            "learn": [
             0.2216043334
            ],
            "passed_time": 21.71063228,
            "remaining_time": 9.84551929,
            "test": [
             0.3020745282
            ]
           },
           {
            "iteration": 688,
            "learn": [
             0.2214823619
            ],
            "passed_time": 21.74245953,
            "remaining_time": 9.814085507,
            "test": [
             0.302079536
            ]
           },
           {
            "iteration": 689,
            "learn": [
             0.2212736308
            ],
            "passed_time": 21.77347925,
            "remaining_time": 9.782287777,
            "test": [
             0.3020474823
            ]
           },
           {
            "iteration": 690,
            "learn": [
             0.2210813184
            ],
            "passed_time": 21.80742402,
            "remaining_time": 9.751800322,
            "test": [
             0.3020269449
            ]
           },
           {
            "iteration": 691,
            "learn": [
             0.2209773826
            ],
            "passed_time": 21.84026935,
            "remaining_time": 9.720813527,
            "test": [
             0.3020419054
            ]
           },
           {
            "iteration": 692,
            "learn": [
             0.220901652
            ],
            "passed_time": 21.87375015,
            "remaining_time": 9.690102878,
            "test": [
             0.3020715218
            ]
           },
           {
            "iteration": 693,
            "learn": [
             0.2208933139
            ],
            "passed_time": 21.90399814,
            "remaining_time": 9.657958833,
            "test": [
             0.3020703574
            ]
           },
           {
            "iteration": 694,
            "learn": [
             0.2206898259
            ],
            "passed_time": 21.93501489,
            "remaining_time": 9.626157613,
            "test": [
             0.3020472282
            ]
           },
           {
            "iteration": 695,
            "learn": [
             0.220511276
            ],
            "passed_time": 21.96668789,
            "remaining_time": 9.594645284,
            "test": [
             0.3020682885
            ]
           },
           {
            "iteration": 696,
            "learn": [
             0.2203932594
            ],
            "passed_time": 21.99906466,
            "remaining_time": 9.56343844,
            "test": [
             0.3020819061
            ]
           },
           {
            "iteration": 697,
            "learn": [
             0.2202863467
            ],
            "passed_time": 22.02948646,
            "remaining_time": 9.531382395,
            "test": [
             0.3020719579
            ]
           },
           {
            "iteration": 698,
            "learn": [
             0.2201618024
            ],
            "passed_time": 22.06118195,
            "remaining_time": 9.499879497,
            "test": [
             0.3020796525
            ]
           },
           {
            "iteration": 699,
            "learn": [
             0.220106973
            ],
            "passed_time": 22.09129244,
            "remaining_time": 9.46769676,
            "test": [
             0.3020624246
            ]
           },
           {
            "iteration": 700,
            "learn": [
             0.2199811364
            ],
            "passed_time": 22.12379174,
            "remaining_time": 9.436538844,
            "test": [
             0.3020620462
            ]
           },
           {
            "iteration": 701,
            "learn": [
             0.2199537891
            ],
            "passed_time": 22.15361485,
            "remaining_time": 9.404241062,
            "test": [
             0.302042035
            ]
           },
           {
            "iteration": 702,
            "learn": [
             0.2198596767
            ],
            "passed_time": 22.18358149,
            "remaining_time": 9.372010957,
            "test": [
             0.3020106479
            ]
           },
           {
            "iteration": 703,
            "learn": [
             0.2197483141
            ],
            "passed_time": 22.21340587,
            "remaining_time": 9.33972747,
            "test": [
             0.3020200548
            ]
           },
           {
            "iteration": 704,
            "learn": [
             0.2196904433
            ],
            "passed_time": 22.24338344,
            "remaining_time": 9.307515056,
            "test": [
             0.3019800629
            ]
           },
           {
            "iteration": 705,
            "learn": [
             0.219685902
            ],
            "passed_time": 22.27447616,
            "remaining_time": 9.275773359,
            "test": [
             0.3019807819
            ]
           },
           {
            "iteration": 706,
            "learn": [
             0.2195150869
            ],
            "passed_time": 22.30675308,
            "remaining_time": 9.244524263,
            "test": [
             0.3020311103
            ]
           },
           {
            "iteration": 707,
            "learn": [
             0.2194140108
            ],
            "passed_time": 22.33583592,
            "remaining_time": 9.211954929,
            "test": [
             0.3020335477
            ]
           },
           {
            "iteration": 708,
            "learn": [
             0.2193442095
            ],
            "passed_time": 22.36601164,
            "remaining_time": 9.179843989,
            "test": [
             0.3020124802
            ]
           },
           {
            "iteration": 709,
            "learn": [
             0.2192693125
            ],
            "passed_time": 22.39538087,
            "remaining_time": 9.147409087,
            "test": [
             0.3020578393
            ]
           },
           {
            "iteration": 710,
            "learn": [
             0.2191267711
            ],
            "passed_time": 22.42703947,
            "remaining_time": 9.115913372,
            "test": [
             0.3020525613
            ]
           },
           {
            "iteration": 711,
            "learn": [
             0.2190202277
            ],
            "passed_time": 22.45732523,
            "remaining_time": 9.08386189,
            "test": [
             0.3020961407
            ]
           },
           {
            "iteration": 712,
            "learn": [
             0.2188596358
            ],
            "passed_time": 22.50095247,
            "remaining_time": 9.057185635,
            "test": [
             0.3020930658
            ]
           },
           {
            "iteration": 713,
            "learn": [
             0.2187662239
            ],
            "passed_time": 22.57056262,
            "remaining_time": 9.04086962,
            "test": [
             0.3021416022
            ]
           },
           {
            "iteration": 714,
            "learn": [
             0.2187001534
            ],
            "passed_time": 22.60968138,
            "remaining_time": 9.012250621,
            "test": [
             0.3021047077
            ]
           },
           {
            "iteration": 715,
            "learn": [
             0.2185827869
            ],
            "passed_time": 22.63854995,
            "remaining_time": 8.979536573,
            "test": [
             0.3021721728
            ]
           },
           {
            "iteration": 716,
            "learn": [
             0.2185474419
            ],
            "passed_time": 22.6676695,
            "remaining_time": 8.946932313,
            "test": [
             0.3021498369
            ]
           },
           {
            "iteration": 717,
            "learn": [
             0.2184533822
            ],
            "passed_time": 22.69783447,
            "remaining_time": 8.914748357,
            "test": [
             0.3020990599
            ]
           },
           {
            "iteration": 718,
            "learn": [
             0.2183611608
            ],
            "passed_time": 22.72882283,
            "remaining_time": 8.882891817,
            "test": [
             0.302047619
            ]
           },
           {
            "iteration": 719,
            "learn": [
             0.2182352547
            ],
            "passed_time": 22.7609054,
            "remaining_time": 8.851463211,
            "test": [
             0.3020633118
            ]
           },
           {
            "iteration": 720,
            "learn": [
             0.2181137936
            ],
            "passed_time": 22.7929593,
            "remaining_time": 8.820021697,
            "test": [
             0.3020286122
            ]
           },
           {
            "iteration": 721,
            "learn": [
             0.2179833763
            ],
            "passed_time": 22.82241108,
            "remaining_time": 8.787576566,
            "test": [
             0.3020559741
            ]
           },
           {
            "iteration": 722,
            "learn": [
             0.217815656
            ],
            "passed_time": 22.85271702,
            "remaining_time": 8.755466962,
            "test": [
             0.3020718231
            ]
           },
           {
            "iteration": 723,
            "learn": [
             0.2177246947
            ],
            "passed_time": 22.88841731,
            "remaining_time": 8.725418753,
            "test": [
             0.3020905942
            ]
           },
           {
            "iteration": 724,
            "learn": [
             0.2176234216
            ],
            "passed_time": 22.9201534,
            "remaining_time": 8.693851289,
            "test": [
             0.302098637
            ]
           },
           {
            "iteration": 725,
            "learn": [
             0.2175066233
            ],
            "passed_time": 22.94997655,
            "remaining_time": 8.661561398,
            "test": [
             0.3020536689
            ]
           },
           {
            "iteration": 726,
            "learn": [
             0.2173322123
            ],
            "passed_time": 22.98225431,
            "remaining_time": 8.630200038,
            "test": [
             0.3020326953
            ]
           },
           {
            "iteration": 727,
            "learn": [
             0.2172823548
            ],
            "passed_time": 23.01253918,
            "remaining_time": 8.598091562,
            "test": [
             0.3020500949
            ]
           },
           {
            "iteration": 728,
            "learn": [
             0.217182829
            ],
            "passed_time": 23.0456138,
            "remaining_time": 8.567025159,
            "test": [
             0.3020462223
            ]
           },
           {
            "iteration": 729,
            "learn": [
             0.2170817236
            ],
            "passed_time": 23.07795644,
            "remaining_time": 8.535682519,
            "test": [
             0.3020470488
            ]
           },
           {
            "iteration": 730,
            "learn": [
             0.2169091765
            ],
            "passed_time": 23.10862046,
            "remaining_time": 8.503719429,
            "test": [
             0.3020321859
            ]
           },
           {
            "iteration": 731,
            "learn": [
             0.2166980015
            ],
            "passed_time": 23.14110123,
            "remaining_time": 8.472425041,
            "test": [
             0.3020310221
            ]
           },
           {
            "iteration": 732,
            "learn": [
             0.2165974442
            ],
            "passed_time": 23.17091441,
            "remaining_time": 8.440155726,
            "test": [
             0.3020741373
            ]
           },
           {
            "iteration": 733,
            "learn": [
             0.2165945666
            ],
            "passed_time": 23.19881988,
            "remaining_time": 8.407201757,
            "test": [
             0.3020732448
            ]
           },
           {
            "iteration": 734,
            "learn": [
             0.2163885447
            ],
            "passed_time": 23.22995882,
            "remaining_time": 8.375427331,
            "test": [
             0.3020998998
            ]
           },
           {
            "iteration": 735,
            "learn": [
             0.2163856564
            ],
            "passed_time": 23.26026822,
            "remaining_time": 8.343357078,
            "test": [
             0.3020989789
            ]
           },
           {
            "iteration": 736,
            "learn": [
             0.2163835828
            ],
            "passed_time": 23.2861514,
            "remaining_time": 8.309712101,
            "test": [
             0.3020979703
            ]
           },
           {
            "iteration": 737,
            "learn": [
             0.2161926943
            ],
            "passed_time": 23.31728356,
            "remaining_time": 8.277951617,
            "test": [
             0.3021166498
            ]
           },
           {
            "iteration": 738,
            "learn": [
             0.2161410148
            ],
            "passed_time": 23.34790034,
            "remaining_time": 8.246010811,
            "test": [
             0.302110614
            ]
           },
           {
            "iteration": 739,
            "learn": [
             0.2160565588
            ],
            "passed_time": 23.37732094,
            "remaining_time": 8.213653305,
            "test": [
             0.3021148831
            ]
           },
           {
            "iteration": 740,
            "learn": [
             0.2158957735
            ],
            "passed_time": 23.40657195,
            "remaining_time": 8.181244446,
            "test": [
             0.30212086
            ]
           },
           {
            "iteration": 741,
            "learn": [
             0.2157819829
            ],
            "passed_time": 23.43630223,
            "remaining_time": 8.149010748,
            "test": [
             0.3021571162
            ]
           },
           {
            "iteration": 742,
            "learn": [
             0.2156765607
            ],
            "passed_time": 23.46657512,
            "remaining_time": 8.116971474,
            "test": [
             0.3020978488
            ]
           },
           {
            "iteration": 743,
            "learn": [
             0.2155644975
            ],
            "passed_time": 23.49585115,
            "remaining_time": 8.084593945,
            "test": [
             0.3020751097
            ]
           },
           {
            "iteration": 744,
            "learn": [
             0.2153879704
            ],
            "passed_time": 23.53949872,
            "remaining_time": 8.057143856,
            "test": [
             0.302073309
            ]
           },
           {
            "iteration": 745,
            "learn": [
             0.2152900277
            ],
            "passed_time": 23.62539005,
            "remaining_time": 8.044033609,
            "test": [
             0.3020628944
            ]
           },
           {
            "iteration": 746,
            "learn": [
             0.2150920457
            ],
            "passed_time": 23.65864977,
            "remaining_time": 8.0129028,
            "test": [
             0.302122967
            ]
           },
           {
            "iteration": 747,
            "learn": [
             0.215008197
            ],
            "passed_time": 23.69046457,
            "remaining_time": 7.981279506,
            "test": [
             0.3021227556
            ]
           },
           {
            "iteration": 748,
            "learn": [
             0.2149120097
            ],
            "passed_time": 23.72123612,
            "remaining_time": 7.949306095,
            "test": [
             0.3021003679
            ]
           },
           {
            "iteration": 749,
            "learn": [
             0.2148143313
            ],
            "passed_time": 23.75387058,
            "remaining_time": 7.917956861,
            "test": [
             0.302106641
            ]
           },
           {
            "iteration": 750,
            "learn": [
             0.2147439407
            ],
            "passed_time": 23.78539206,
            "remaining_time": 7.886235183,
            "test": [
             0.3021045659
            ]
           },
           {
            "iteration": 751,
            "learn": [
             0.2147012969
            ],
            "passed_time": 23.81364498,
            "remaining_time": 7.853436109,
            "test": [
             0.3021123901
            ]
           },
           {
            "iteration": 752,
            "learn": [
             0.2146366342
            ],
            "passed_time": 23.84262633,
            "remaining_time": 7.820888053,
            "test": [
             0.3021077902
            ]
           },
           {
            "iteration": 753,
            "learn": [
             0.214504178
            ],
            "passed_time": 23.8724808,
            "remaining_time": 7.78863432,
            "test": [
             0.3021186884
            ]
           },
           {
            "iteration": 754,
            "learn": [
             0.2144180587
            ],
            "passed_time": 23.90410783,
            "remaining_time": 7.756962143,
            "test": [
             0.3021634329
            ]
           },
           {
            "iteration": 755,
            "learn": [
             0.2142858284
            ],
            "passed_time": 23.93508788,
            "remaining_time": 7.725081274,
            "test": [
             0.3021907615
            ]
           },
           {
            "iteration": 756,
            "learn": [
             0.2141346147
            ],
            "passed_time": 23.96923025,
            "remaining_time": 7.694217902,
            "test": [
             0.3022018568
            ]
           },
           {
            "iteration": 757,
            "learn": [
             0.2140329197
            ],
            "passed_time": 24.00507771,
            "remaining_time": 7.663890244,
            "test": [
             0.3021932207
            ]
           },
           {
            "iteration": 758,
            "learn": [
             0.2138735327
            ],
            "passed_time": 24.03534318,
            "remaining_time": 7.631775634,
            "test": [
             0.3022027841
            ]
           },
           {
            "iteration": 759,
            "learn": [
             0.2137235564
            ],
            "passed_time": 24.06616531,
            "remaining_time": 7.599841676,
            "test": [
             0.3022026225
            ]
           },
           {
            "iteration": 760,
            "learn": [
             0.2136775769
            ],
            "passed_time": 24.09581832,
            "remaining_time": 7.567543466,
            "test": [
             0.3021860833
            ]
           },
           {
            "iteration": 761,
            "learn": [
             0.2135059125
            ],
            "passed_time": 24.12645624,
            "remaining_time": 7.535559824,
            "test": [
             0.302264679
            ]
           },
           {
            "iteration": 762,
            "learn": [
             0.2134454784
            ],
            "passed_time": 24.15738539,
            "remaining_time": 7.503670166,
            "test": [
             0.3022820854
            ]
           },
           {
            "iteration": 763,
            "learn": [
             0.213270609
            ],
            "passed_time": 24.18811788,
            "remaining_time": 7.471722276,
            "test": [
             0.3022663749
            ]
           },
           {
            "iteration": 764,
            "learn": [
             0.2131887814
            ],
            "passed_time": 24.2189182,
            "remaining_time": 7.4397984,
            "test": [
             0.3022663736
            ]
           },
           {
            "iteration": 765,
            "learn": [
             0.2131075699
            ],
            "passed_time": 24.25073759,
            "remaining_time": 7.408188767,
            "test": [
             0.302283927
            ]
           },
           {
            "iteration": 766,
            "learn": [
             0.2128875186
            ],
            "passed_time": 24.28099727,
            "remaining_time": 7.376104777,
            "test": [
             0.3023595236
            ]
           },
           {
            "iteration": 767,
            "learn": [
             0.2127640327
            ],
            "passed_time": 24.3140836,
            "remaining_time": 7.34487942,
            "test": [
             0.3023875351
            ]
           },
           {
            "iteration": 768,
            "learn": [
             0.2127589144
            ],
            "passed_time": 24.34195076,
            "remaining_time": 7.312081438,
            "test": [
             0.3023805481
            ]
           },
           {
            "iteration": 769,
            "learn": [
             0.2125940667
            ],
            "passed_time": 24.37400022,
            "remaining_time": 7.280545519,
            "test": [
             0.302408431
            ]
           },
           {
            "iteration": 770,
            "learn": [
             0.2124601167
            ],
            "passed_time": 24.40451333,
            "remaining_time": 7.248551949,
            "test": [
             0.302460931
            ]
           },
           {
            "iteration": 771,
            "learn": [
             0.2124237277
            ],
            "passed_time": 24.43365976,
            "remaining_time": 7.216158582,
            "test": [
             0.3024454369
            ]
           },
           {
            "iteration": 772,
            "learn": [
             0.2123260954
            ],
            "passed_time": 24.46228198,
            "remaining_time": 7.183619675,
            "test": [
             0.302417494
            ]
           },
           {
            "iteration": 773,
            "learn": [
             0.212276225
            ],
            "passed_time": 24.49210744,
            "remaining_time": 7.151442223,
            "test": [
             0.3024143053
            ]
           },
           {
            "iteration": 774,
            "learn": [
             0.2122114498
            ],
            "passed_time": 24.51990594,
            "remaining_time": 7.11868237,
            "test": [
             0.3024291843
            ]
           },
           {
            "iteration": 775,
            "learn": [
             0.2121388066
            ],
            "passed_time": 24.55136065,
            "remaining_time": 7.086990704,
            "test": [
             0.3024571013
            ]
           },
           {
            "iteration": 776,
            "learn": [
             0.2121298825
            ],
            "passed_time": 24.62547603,
            "remaining_time": 7.067543313,
            "test": [
             0.3024502712
            ]
           },
           {
            "iteration": 777,
            "learn": [
             0.2120032369
            ],
            "passed_time": 24.68126168,
            "remaining_time": 7.042725055,
            "test": [
             0.3024340161
            ]
           },
           {
            "iteration": 778,
            "learn": [
             0.2119760789
            ],
            "passed_time": 24.71136816,
            "remaining_time": 7.010542187,
            "test": [
             0.3024402602
            ]
           },
           {
            "iteration": 779,
            "learn": [
             0.211869098
            ],
            "passed_time": 24.74361522,
            "remaining_time": 6.978968396,
            "test": [
             0.3024703869
            ]
           },
           {
            "iteration": 780,
            "learn": [
             0.2117633352
            ],
            "passed_time": 24.77327958,
            "remaining_time": 6.946668667,
            "test": [
             0.3024746937
            ]
           },
           {
            "iteration": 781,
            "learn": [
             0.2115802357
            ],
            "passed_time": 24.80401714,
            "remaining_time": 6.914674855,
            "test": [
             0.3025142957
            ]
           },
           {
            "iteration": 782,
            "learn": [
             0.211495703
            ],
            "passed_time": 24.83618099,
            "remaining_time": 6.883079534,
            "test": [
             0.3025163097
            ]
           },
           {
            "iteration": 783,
            "learn": [
             0.2114904896
            ],
            "passed_time": 24.86572427,
            "remaining_time": 6.850760767,
            "test": [
             0.302517778
            ]
           },
           {
            "iteration": 784,
            "learn": [
             0.2113918997
            ],
            "passed_time": 24.89520405,
            "remaining_time": 6.818431681,
            "test": [
             0.302538904
            ]
           },
           {
            "iteration": 785,
            "learn": [
             0.2112451573
            ],
            "passed_time": 24.92615038,
            "remaining_time": 6.786509136,
            "test": [
             0.3025796651
            ]
           },
           {
            "iteration": 786,
            "learn": [
             0.2112013865
            ],
            "passed_time": 24.95729734,
            "remaining_time": 6.754643371,
            "test": [
             0.3025511857
            ]
           },
           {
            "iteration": 787,
            "learn": [
             0.2110857799
            ],
            "passed_time": 24.98684236,
            "remaining_time": 6.722348452,
            "test": [
             0.3025636395
            ]
           },
           {
            "iteration": 788,
            "learn": [
             0.2109808948
            ],
            "passed_time": 25.01646683,
            "remaining_time": 6.69008175,
            "test": [
             0.3026048138
            ]
           },
           {
            "iteration": 789,
            "learn": [
             0.2107926416
            ],
            "passed_time": 25.04726956,
            "remaining_time": 6.658134946,
            "test": [
             0.3025649583
            ]
           },
           {
            "iteration": 790,
            "learn": [
             0.2106543388
            ],
            "passed_time": 25.0828968,
            "remaining_time": 6.627465779,
            "test": [
             0.3025755306
            ]
           },
           {
            "iteration": 791,
            "learn": [
             0.2105976458
            ],
            "passed_time": 25.11431353,
            "remaining_time": 6.5956783,
            "test": [
             0.3025912912
            ]
           },
           {
            "iteration": 792,
            "learn": [
             0.2104876633
            ],
            "passed_time": 25.14475557,
            "remaining_time": 6.56363733,
            "test": [
             0.3025766387
            ]
           },
           {
            "iteration": 793,
            "learn": [
             0.2103592046
            ],
            "passed_time": 25.17516576,
            "remaining_time": 6.531592124,
            "test": [
             0.3025385362
            ]
           },
           {
            "iteration": 794,
            "learn": [
             0.2103561065
            ],
            "passed_time": 25.20426567,
            "remaining_time": 6.499213159,
            "test": [
             0.3025369815
            ]
           },
           {
            "iteration": 795,
            "learn": [
             0.2102363605
            ],
            "passed_time": 25.23649982,
            "remaining_time": 6.467645682,
            "test": [
             0.3025653623
            ]
           },
           {
            "iteration": 796,
            "learn": [
             0.2100510429
            ],
            "passed_time": 25.27037756,
            "remaining_time": 6.436495162,
            "test": [
             0.3025483893
            ]
           },
           {
            "iteration": 797,
            "learn": [
             0.2099971281
            ],
            "passed_time": 25.30075896,
            "remaining_time": 6.404452769,
            "test": [
             0.3025389533
            ]
           },
           {
            "iteration": 798,
            "learn": [
             0.2099428115
            ],
            "passed_time": 25.33103924,
            "remaining_time": 6.372389095,
            "test": [
             0.3025088935
            ]
           },
           {
            "iteration": 799,
            "learn": [
             0.2098455971
            ],
            "passed_time": 25.35973995,
            "remaining_time": 6.339934987,
            "test": [
             0.3025261657
            ]
           },
           {
            "iteration": 800,
            "learn": [
             0.209727034
            ],
            "passed_time": 25.39054698,
            "remaining_time": 6.308013545,
            "test": [
             0.302555449
            ]
           },
           {
            "iteration": 801,
            "learn": [
             0.209598643
            ],
            "passed_time": 25.42173057,
            "remaining_time": 6.276187847,
            "test": [
             0.3026008261
            ]
           },
           {
            "iteration": 802,
            "learn": [
             0.2094822335
            ],
            "passed_time": 25.45134033,
            "remaining_time": 6.243977639,
            "test": [
             0.3026006263
            ]
           },
           {
            "iteration": 803,
            "learn": [
             0.2092813447
            ],
            "passed_time": 25.48080118,
            "remaining_time": 6.211737601,
            "test": [
             0.3026175807
            ]
           },
           {
            "iteration": 804,
            "learn": [
             0.2092353319
            ],
            "passed_time": 25.5107123,
            "remaining_time": 6.179613539,
            "test": [
             0.3026247541
            ]
           },
           {
            "iteration": 805,
            "learn": [
             0.2091004055
            ],
            "passed_time": 25.54124121,
            "remaining_time": 6.147643665,
            "test": [
             0.3026220192
            ]
           },
           {
            "iteration": 806,
            "learn": [
             0.2090655812
            ],
            "passed_time": 25.56951345,
            "remaining_time": 6.115137665,
            "test": [
             0.3026380659
            ]
           },
           {
            "iteration": 807,
            "learn": [
             0.2089275858
            ],
            "passed_time": 25.60901466,
            "remaining_time": 6.085310413,
            "test": [
             0.3026660693
            ]
           },
           {
            "iteration": 808,
            "learn": [
             0.208873124
            ],
            "passed_time": 25.70598016,
            "remaining_time": 6.069026218,
            "test": [
             0.3026707465
            ]
           },
           {
            "iteration": 809,
            "learn": [
             0.2087207506
            ],
            "passed_time": 25.74003385,
            "remaining_time": 6.037785717,
            "test": [
             0.3027151099
            ]
           },
           {
            "iteration": 810,
            "learn": [
             0.2085973465
            ],
            "passed_time": 25.77249639,
            "remaining_time": 6.006167468,
            "test": [
             0.3027502124
            ]
           },
           {
            "iteration": 811,
            "learn": [
             0.2085128174
            ],
            "passed_time": 25.80223767,
            "remaining_time": 5.973917096,
            "test": [
             0.3027741314
            ]
           },
           {
            "iteration": 812,
            "learn": [
             0.2084924595
            ],
            "passed_time": 25.83062429,
            "remaining_time": 5.941361306,
            "test": [
             0.3027806827
            ]
           },
           {
            "iteration": 813,
            "learn": [
             0.2083157459
            ],
            "passed_time": 25.86173306,
            "remaining_time": 5.909437777,
            "test": [
             0.3027140477
            ]
           },
           {
            "iteration": 814,
            "learn": [
             0.2081268113
            ],
            "passed_time": 25.89646961,
            "remaining_time": 5.878339728,
            "test": [
             0.3027825401
            ]
           },
           {
            "iteration": 815,
            "learn": [
             0.2080501355
            ],
            "passed_time": 25.92699865,
            "remaining_time": 5.846284009,
            "test": [
             0.3027752338
            ]
           },
           {
            "iteration": 816,
            "learn": [
             0.2078969549
            ],
            "passed_time": 25.95786909,
            "remaining_time": 5.814308498,
            "test": [
             0.3027624398
            ]
           },
           {
            "iteration": 817,
            "learn": [
             0.2077667316
            ],
            "passed_time": 25.98790009,
            "remaining_time": 5.78214892,
            "test": [
             0.3026991392
            ]
           },
           {
            "iteration": 818,
            "learn": [
             0.2076914505
            ],
            "passed_time": 26.01734605,
            "remaining_time": 5.749865245,
            "test": [
             0.3026503725
            ]
           },
           {
            "iteration": 819,
            "learn": [
             0.2075704259
            ],
            "passed_time": 26.05099504,
            "remaining_time": 5.718511107,
            "test": [
             0.3025836063
            ]
           },
           {
            "iteration": 820,
            "learn": [
             0.2074644708
            ],
            "passed_time": 26.07974493,
            "remaining_time": 5.686083242,
            "test": [
             0.3025901752
            ]
           },
           {
            "iteration": 821,
            "learn": [
             0.2074240935
            ],
            "passed_time": 26.11114241,
            "remaining_time": 5.65423765,
            "test": [
             0.3026102844
            ]
           },
           {
            "iteration": 822,
            "learn": [
             0.2074129197
            ],
            "passed_time": 26.14080487,
            "remaining_time": 5.622020002,
            "test": [
             0.3026174713
            ]
           },
           {
            "iteration": 823,
            "learn": [
             0.2072656997
            ],
            "passed_time": 26.17150592,
            "remaining_time": 5.59003039,
            "test": [
             0.3026015762
            ]
           },
           {
            "iteration": 824,
            "learn": [
             0.2071737217
            ],
            "passed_time": 26.20084109,
            "remaining_time": 5.55775417,
            "test": [
             0.3025503257
            ]
           },
           {
            "iteration": 825,
            "learn": [
             0.2070052796
            ],
            "passed_time": 26.2309773,
            "remaining_time": 5.525653814,
            "test": [
             0.3025031526
            ]
           },
           {
            "iteration": 826,
            "learn": [
             0.2069342614
            ],
            "passed_time": 26.26563812,
            "remaining_time": 5.49450471,
            "test": [
             0.3024867522
            ]
           },
           {
            "iteration": 827,
            "learn": [
             0.2067624698
            ],
            "passed_time": 26.29613147,
            "remaining_time": 5.462481417,
            "test": [
             0.3024744639
            ]
           },
           {
            "iteration": 828,
            "learn": [
             0.2067281871
            ],
            "passed_time": 26.32667842,
            "remaining_time": 5.430472872,
            "test": [
             0.3024682647
            ]
           },
           {
            "iteration": 829,
            "learn": [
             0.2066360096
            ],
            "passed_time": 26.35569359,
            "remaining_time": 5.398154109,
            "test": [
             0.3024911905
            ]
           },
           {
            "iteration": 830,
            "learn": [
             0.2065856753
            ],
            "passed_time": 26.38463804,
            "remaining_time": 5.365828915,
            "test": [
             0.3024993564
            ]
           },
           {
            "iteration": 831,
            "learn": [
             0.2064829762
            ],
            "passed_time": 26.4137965,
            "remaining_time": 5.333555063,
            "test": [
             0.3025027713
            ]
           },
           {
            "iteration": 832,
            "learn": [
             0.206295645
            ],
            "passed_time": 26.4448141,
            "remaining_time": 5.30166141,
            "test": [
             0.302509683
            ]
           },
           {
            "iteration": 833,
            "learn": [
             0.2062413649
            ],
            "passed_time": 26.47440728,
            "remaining_time": 5.26948634,
            "test": [
             0.3025234371
            ]
           },
           {
            "iteration": 834,
            "learn": [
             0.20611072
            ],
            "passed_time": 26.50505512,
            "remaining_time": 5.237525863,
            "test": [
             0.3025560285
            ]
           },
           {
            "iteration": 835,
            "learn": [
             0.2060000585
            ],
            "passed_time": 26.5339051,
            "remaining_time": 5.205215832,
            "test": [
             0.3025557974
            ]
           },
           {
            "iteration": 836,
            "learn": [
             0.2058085654
            ],
            "passed_time": 26.56611259,
            "remaining_time": 5.173567925,
            "test": [
             0.3025699665
            ]
           },
           {
            "iteration": 837,
            "learn": [
             0.2056240156
            ],
            "passed_time": 26.59704306,
            "remaining_time": 5.141671808,
            "test": [
             0.3025839856
            ]
           },
           {
            "iteration": 838,
            "learn": [
             0.2055724297
            ],
            "passed_time": 26.62747514,
            "remaining_time": 5.109682357,
            "test": [
             0.3025806992
            ]
           },
           {
            "iteration": 839,
            "learn": [
             0.2055613989
            ],
            "passed_time": 26.66272325,
            "remaining_time": 5.078613952,
            "test": [
             0.3025776468
            ]
           },
           {
            "iteration": 840,
            "learn": [
             0.2054751886
            ],
            "passed_time": 26.75306369,
            "remaining_time": 5.057951399,
            "test": [
             0.3026102563
            ]
           },
           {
            "iteration": 841,
            "learn": [
             0.2053133375
            ],
            "passed_time": 26.78958227,
            "remaining_time": 5.027023751,
            "test": [
             0.3025756211
            ]
           },
           {
            "iteration": 842,
            "learn": [
             0.2051667335
            ],
            "passed_time": 26.81990687,
            "remaining_time": 4.994929274,
            "test": [
             0.302661262
            ]
           },
           {
            "iteration": 843,
            "learn": [
             0.2051198065
            ],
            "passed_time": 26.84976705,
            "remaining_time": 4.962753151,
            "test": [
             0.3026698038
            ]
           },
           {
            "iteration": 844,
            "learn": [
             0.2050380553
            ],
            "passed_time": 26.88013245,
            "remaining_time": 4.930675183,
            "test": [
             0.3026816533
            ]
           },
           {
            "iteration": 845,
            "learn": [
             0.2050214762
            ],
            "passed_time": 26.90972827,
            "remaining_time": 4.898461175,
            "test": [
             0.302690347
            ]
           },
           {
            "iteration": 846,
            "learn": [
             0.2050094708
            ],
            "passed_time": 26.94295703,
            "remaining_time": 4.866909594,
            "test": [
             0.3026868062
            ]
           },
           {
            "iteration": 847,
            "learn": [
             0.2048791599
            ],
            "passed_time": 26.97174077,
            "remaining_time": 4.834557308,
            "test": [
             0.3026674357
            ]
           },
           {
            "iteration": 848,
            "learn": [
             0.204740552
            ],
            "passed_time": 27.0032657,
            "remaining_time": 4.802700967,
            "test": [
             0.3027603832
            ]
           },
           {
            "iteration": 849,
            "learn": [
             0.2046413824
            ],
            "passed_time": 27.03475733,
            "remaining_time": 4.770839528,
            "test": [
             0.3027869883
            ]
           },
           {
            "iteration": 850,
            "learn": [
             0.2044661228
            ],
            "passed_time": 27.06427837,
            "remaining_time": 4.738633932,
            "test": [
             0.3027513495
            ]
           },
           {
            "iteration": 851,
            "learn": [
             0.2043167878
            ],
            "passed_time": 27.09805514,
            "remaining_time": 4.707173897,
            "test": [
             0.3028101904
            ]
           },
           {
            "iteration": 852,
            "learn": [
             0.2041610372
            ],
            "passed_time": 27.13050021,
            "remaining_time": 4.675478934,
            "test": [
             0.30281596
            ]
           },
           {
            "iteration": 853,
            "learn": [
             0.2040744326
            ],
            "passed_time": 27.16155451,
            "remaining_time": 4.643544448,
            "test": [
             0.3028611216
            ]
           },
           {
            "iteration": 854,
            "learn": [
             0.204033779
            ],
            "passed_time": 27.19120813,
            "remaining_time": 4.611374479,
            "test": [
             0.3028433404
            ]
           },
           {
            "iteration": 855,
            "learn": [
             0.2039393491
            ],
            "passed_time": 27.22003071,
            "remaining_time": 4.579070586,
            "test": [
             0.302823686
            ]
           },
           {
            "iteration": 856,
            "learn": [
             0.2038750712
            ],
            "passed_time": 27.2526287,
            "remaining_time": 4.547404789,
            "test": [
             0.3028185322
            ]
           },
           {
            "iteration": 857,
            "learn": [
             0.2037287998
            ],
            "passed_time": 27.2830647,
            "remaining_time": 4.515379006,
            "test": [
             0.3028113575
            ]
           },
           {
            "iteration": 858,
            "learn": [
             0.203568882
            ],
            "passed_time": 27.31386445,
            "remaining_time": 4.483416633,
            "test": [
             0.3029127842
            ]
           },
           {
            "iteration": 859,
            "learn": [
             0.2034598887
            ],
            "passed_time": 27.34689435,
            "remaining_time": 4.451820011,
            "test": [
             0.3029762117
            ]
           },
           {
            "iteration": 860,
            "learn": [
             0.2033557149
            ],
            "passed_time": 27.37785389,
            "remaining_time": 4.419885819,
            "test": [
             0.3029497843
            ]
           },
           {
            "iteration": 861,
            "learn": [
             0.2033111942
            ],
            "passed_time": 27.40776442,
            "remaining_time": 4.387785951,
            "test": [
             0.3029492431
            ]
           },
           {
            "iteration": 862,
            "learn": [
             0.2031947555
            ],
            "passed_time": 27.43881907,
            "remaining_time": 4.355872784,
            "test": [
             0.3029355705
            ]
           },
           {
            "iteration": 863,
            "learn": [
             0.2030195228
            ],
            "passed_time": 27.47016439,
            "remaining_time": 4.324007357,
            "test": [
             0.3030044464
            ]
           },
           {
            "iteration": 864,
            "learn": [
             0.202900166
            ],
            "passed_time": 27.49959542,
            "remaining_time": 4.291844372,
            "test": [
             0.3030650442
            ]
           },
           {
            "iteration": 865,
            "learn": [
             0.2028795636
            ],
            "passed_time": 27.52770681,
            "remaining_time": 4.259483502,
            "test": [
             0.3030962843
            ]
           },
           {
            "iteration": 866,
            "learn": [
             0.2026939445
            ],
            "passed_time": 27.55736853,
            "remaining_time": 4.227370259,
            "test": [
             0.3030826415
            ]
           },
           {
            "iteration": 867,
            "learn": [
             0.2025732971
            ],
            "passed_time": 27.5857379,
            "remaining_time": 4.195066132,
            "test": [
             0.303073677
            ]
           },
           {
            "iteration": 868,
            "learn": [
             0.2024674825
            ],
            "passed_time": 27.61597065,
            "remaining_time": 4.163051962,
            "test": [
             0.3030775503
            ]
           },
           {
            "iteration": 869,
            "learn": [
             0.2023973917
            ],
            "passed_time": 27.64562009,
            "remaining_time": 4.130954727,
            "test": [
             0.303042292
            ]
           },
           {
            "iteration": 870,
            "learn": [
             0.2022679271
            ],
            "passed_time": 27.68497036,
            "remaining_time": 4.100299858,
            "test": [
             0.3030382696
            ]
           },
           {
            "iteration": 871,
            "learn": [
             0.2020906845
            ],
            "passed_time": 27.73820731,
            "remaining_time": 4.071663458,
            "test": [
             0.3031132101
            ]
           },
           {
            "iteration": 872,
            "learn": [
             0.2019264686
            ],
            "passed_time": 27.80252563,
            "remaining_time": 4.044582767,
            "test": [
             0.3031294265
            ]
           },
           {
            "iteration": 873,
            "learn": [
             0.2018221156
            ],
            "passed_time": 27.84911348,
            "remaining_time": 4.014860754,
            "test": [
             0.3031225302
            ]
           },
           {
            "iteration": 874,
            "learn": [
             0.2017103537
            ],
            "passed_time": 27.88432815,
            "remaining_time": 3.98347545,
            "test": [
             0.303097642
            ]
           },
           {
            "iteration": 875,
            "learn": [
             0.201544332
            ],
            "passed_time": 27.91759357,
            "remaining_time": 3.951805482,
            "test": [
             0.3031098342
            ]
           },
           {
            "iteration": 876,
            "learn": [
             0.2014052549
            ],
            "passed_time": 27.95039671,
            "remaining_time": 3.920067041,
            "test": [
             0.3031424333
            ]
           },
           {
            "iteration": 877,
            "learn": [
             0.2013007427
            ],
            "passed_time": 27.98097643,
            "remaining_time": 3.888017226,
            "test": [
             0.3031372178
            ]
           },
           {
            "iteration": 878,
            "learn": [
             0.2012374015
            ],
            "passed_time": 28.01154673,
            "remaining_time": 3.855969458,
            "test": [
             0.3031323692
            ]
           },
           {
            "iteration": 879,
            "learn": [
             0.201108107
            ],
            "passed_time": 28.04187734,
            "remaining_time": 3.823892365,
            "test": [
             0.3031744417
            ]
           },
           {
            "iteration": 880,
            "learn": [
             0.2009638932
            ],
            "passed_time": 28.07461587,
            "remaining_time": 3.792144482,
            "test": [
             0.3032031875
            ]
           },
           {
            "iteration": 881,
            "learn": [
             0.2008179664
            ],
            "passed_time": 28.10698574,
            "remaining_time": 3.76034503,
            "test": [
             0.3032223841
            ]
           },
           {
            "iteration": 882,
            "learn": [
             0.2006960496
            ],
            "passed_time": 28.13662319,
            "remaining_time": 3.728182235,
            "test": [
             0.303282198
            ]
           },
           {
            "iteration": 883,
            "learn": [
             0.2006179883
            ],
            "passed_time": 28.1671385,
            "remaining_time": 3.696140346,
            "test": [
             0.3033000772
            ]
           },
           {
            "iteration": 884,
            "learn": [
             0.2004537254
            ],
            "passed_time": 28.194942,
            "remaining_time": 3.663749526,
            "test": [
             0.3032495747
            ]
           },
           {
            "iteration": 885,
            "learn": [
             0.200331091
            ],
            "passed_time": 28.23105845,
            "remaining_time": 3.632438671,
            "test": [
             0.3032461365
            ]
           },
           {
            "iteration": 886,
            "learn": [
             0.2003211523
            ],
            "passed_time": 28.2605055,
            "remaining_time": 3.600267329,
            "test": [
             0.3032567708
            ]
           },
           {
            "iteration": 887,
            "learn": [
             0.2002329493
            ],
            "passed_time": 28.28937735,
            "remaining_time": 3.568029575,
            "test": [
             0.3032746936
            ]
           },
           {
            "iteration": 888,
            "learn": [
             0.2001224794
            ],
            "passed_time": 28.32026054,
            "remaining_time": 3.536050529,
            "test": [
             0.3032298509
            ]
           },
           {
            "iteration": 889,
            "learn": [
             0.1999644809
            ],
            "passed_time": 28.35194128,
            "remaining_time": 3.504172517,
            "test": [
             0.3032691964
            ]
           },
           {
            "iteration": 890,
            "learn": [
             0.1998379958
            ],
            "passed_time": 28.38138308,
            "remaining_time": 3.472021051,
            "test": [
             0.3032746215
            ]
           },
           {
            "iteration": 891,
            "learn": [
             0.1997361239
            ],
            "passed_time": 28.41113501,
            "remaining_time": 3.439913207,
            "test": [
             0.3033655947
            ]
           },
           {
            "iteration": 892,
            "learn": [
             0.1996805627
            ],
            "passed_time": 28.44094919,
            "remaining_time": 3.4078181,
            "test": [
             0.3033662495
            ]
           },
           {
            "iteration": 893,
            "learn": [
             0.1996275314
            ],
            "passed_time": 28.46904875,
            "remaining_time": 3.375524795,
            "test": [
             0.3033594712
            ]
           },
           {
            "iteration": 894,
            "learn": [
             0.1994597074
            ],
            "passed_time": 28.49961599,
            "remaining_time": 3.343530367,
            "test": [
             0.3034420091
            ]
           },
           {
            "iteration": 895,
            "learn": [
             0.1993355588
            ],
            "passed_time": 28.53302829,
            "remaining_time": 3.311869355,
            "test": [
             0.3034622535
            ]
           },
           {
            "iteration": 896,
            "learn": [
             0.1991785057
            ],
            "passed_time": 28.56432451,
            "remaining_time": 3.279961454,
            "test": [
             0.3035713181
            ]
           },
           {
            "iteration": 897,
            "learn": [
             0.1990754569
            ],
            "passed_time": 28.59338998,
            "remaining_time": 3.247801534,
            "test": [
             0.3036169093
            ]
           },
           {
            "iteration": 898,
            "learn": [
             0.1989581795
            ],
            "passed_time": 28.62471508,
            "remaining_time": 3.215902361,
            "test": [
             0.3036125898
            ]
           },
           {
            "iteration": 899,
            "learn": [
             0.1988681518
            ],
            "passed_time": 28.65551422,
            "remaining_time": 3.183946025,
            "test": [
             0.3035721487
            ]
           },
           {
            "iteration": 900,
            "learn": [
             0.1987639052
            ],
            "passed_time": 28.69151014,
            "remaining_time": 3.152563267,
            "test": [
             0.3036027136
            ]
           },
           {
            "iteration": 901,
            "learn": [
             0.1987204868
            ],
            "passed_time": 28.72474917,
            "remaining_time": 3.120870752,
            "test": [
             0.3035712246
            ]
           },
           {
            "iteration": 902,
            "learn": [
             0.1985959931
            ],
            "passed_time": 28.75351905,
            "remaining_time": 3.088694737,
            "test": [
             0.3035329512
            ]
           },
           {
            "iteration": 903,
            "learn": [
             0.1984979898
            ],
            "passed_time": 28.82734331,
            "remaining_time": 3.061310794,
            "test": [
             0.3035606521
            ]
           },
           {
            "iteration": 904,
            "learn": [
             0.198453304
            ],
            "passed_time": 28.87065895,
            "remaining_time": 3.030621657,
            "test": [
             0.3035423576
            ]
           },
           {
            "iteration": 905,
            "learn": [
             0.1983834222
            ],
            "passed_time": 28.91241372,
            "remaining_time": 2.999742703,
            "test": [
             0.3035322208
            ]
           },
           {
            "iteration": 906,
            "learn": [
             0.1982941966
            ],
            "passed_time": 28.94501875,
            "remaining_time": 2.967901591,
            "test": [
             0.3035319083
            ]
           },
           {
            "iteration": 907,
            "learn": [
             0.198205703
            ],
            "passed_time": 28.97747427,
            "remaining_time": 2.936043649,
            "test": [
             0.3035917514
            ]
           },
           {
            "iteration": 908,
            "learn": [
             0.1980743447
            ],
            "passed_time": 29.00948324,
            "remaining_time": 2.904139687,
            "test": [
             0.3036532777
            ]
           },
           {
            "iteration": 909,
            "learn": [
             0.1979765252
            ],
            "passed_time": 29.04291655,
            "remaining_time": 2.872376362,
            "test": [
             0.3036309546
            ]
           },
           {
            "iteration": 910,
            "learn": [
             0.1978205652
            ],
            "passed_time": 29.07397841,
            "remaining_time": 2.840377694,
            "test": [
             0.3035798627
            ]
           },
           {
            "iteration": 911,
            "learn": [
             0.1976788405
            ],
            "passed_time": 29.10529797,
            "remaining_time": 2.808405944,
            "test": [
             0.3035494768
            ]
           },
           {
            "iteration": 912,
            "learn": [
             0.1975647122
            ],
            "passed_time": 29.13658052,
            "remaining_time": 2.776432098,
            "test": [
             0.3035527104
            ]
           },
           {
            "iteration": 913,
            "learn": [
             0.1974826936
            ],
            "passed_time": 29.16772958,
            "remaining_time": 2.744447203,
            "test": [
             0.3035906179
            ]
           },
           {
            "iteration": 914,
            "learn": [
             0.1973342883
            ],
            "passed_time": 29.20095008,
            "remaining_time": 2.712656564,
            "test": [
             0.303609087
            ]
           },
           {
            "iteration": 915,
            "learn": [
             0.1972254071
            ],
            "passed_time": 29.23435769,
            "remaining_time": 2.680879963,
            "test": [
             0.3036311555
            ]
           },
           {
            "iteration": 916,
            "learn": [
             0.1972211601
            ],
            "passed_time": 29.26387218,
            "remaining_time": 2.648747427,
            "test": [
             0.3036313839
            ]
           },
           {
            "iteration": 917,
            "learn": [
             0.1971556866
            ],
            "passed_time": 29.29519579,
            "remaining_time": 2.616782194,
            "test": [
             0.3036292523
            ]
           },
           {
            "iteration": 918,
            "learn": [
             0.1970758773
            ],
            "passed_time": 29.32467585,
            "remaining_time": 2.584655869,
            "test": [
             0.3036156859
            ]
           },
           {
            "iteration": 919,
            "learn": [
             0.1969351034
            ],
            "passed_time": 29.35367293,
            "remaining_time": 2.552493298,
            "test": [
             0.303635902
            ]
           },
           {
            "iteration": 920,
            "learn": [
             0.1967707072
            ],
            "passed_time": 29.38804771,
            "remaining_time": 2.52079888,
            "test": [
             0.3035835359
            ]
           },
           {
            "iteration": 921,
            "learn": [
             0.1965123365
            ],
            "passed_time": 29.41839246,
            "remaining_time": 2.488757713,
            "test": [
             0.3036201197
            ]
           },
           {
            "iteration": 922,
            "learn": [
             0.1963386755
            ],
            "passed_time": 29.46387028,
            "remaining_time": 2.457982677,
            "test": [
             0.3035811686
            ]
           },
           {
            "iteration": 923,
            "learn": [
             0.1962198883
            ],
            "passed_time": 29.50059987,
            "remaining_time": 2.426456267,
            "test": [
             0.3036096245
            ]
           },
           {
            "iteration": 924,
            "learn": [
             0.1961694964
            ],
            "passed_time": 29.53141553,
            "remaining_time": 2.394439097,
            "test": [
             0.3036076158
            ]
           },
           {
            "iteration": 925,
            "learn": [
             0.1959845329
            ],
            "passed_time": 29.56263532,
            "remaining_time": 2.362456818,
            "test": [
             0.3036205504
            ]
           },
           {
            "iteration": 926,
            "learn": [
             0.1959469014
            ],
            "passed_time": 29.59238358,
            "remaining_time": 2.330360304,
            "test": [
             0.3036174062
            ]
           },
           {
            "iteration": 927,
            "learn": [
             0.1957726354
            ],
            "passed_time": 29.62530055,
            "remaining_time": 2.298514698,
            "test": [
             0.3037044274
            ]
           },
           {
            "iteration": 928,
            "learn": [
             0.1956936232
            ],
            "passed_time": 29.65783975,
            "remaining_time": 2.266637914,
            "test": [
             0.3037077395
            ]
           },
           {
            "iteration": 929,
            "learn": [
             0.195551588
            ],
            "passed_time": 29.68962018,
            "remaining_time": 2.234702594,
            "test": [
             0.3037412851
            ]
           },
           {
            "iteration": 930,
            "learn": [
             0.1954909852
            ],
            "passed_time": 29.7314855,
            "remaining_time": 2.203515037,
            "test": [
             0.3037758357
            ]
           },
           {
            "iteration": 931,
            "learn": [
             0.1953049998
            ],
            "passed_time": 29.76357228,
            "remaining_time": 2.171591111,
            "test": [
             0.3037106416
            ]
           },
           {
            "iteration": 932,
            "learn": [
             0.195212839
            ],
            "passed_time": 29.7926053,
            "remaining_time": 2.13944754,
            "test": [
             0.3037080268
            ]
           },
           {
            "iteration": 933,
            "learn": [
             0.195083437
            ],
            "passed_time": 29.85388159,
            "remaining_time": 2.109589063,
            "test": [
             0.3037112445
            ]
           },
           {
            "iteration": 934,
            "learn": [
             0.1950118712
            ],
            "passed_time": 29.94342123,
            "remaining_time": 2.081628214,
            "test": [
             0.303715851
            ]
           },
           {
            "iteration": 935,
            "learn": [
             0.1949305729
            ],
            "passed_time": 29.97450686,
            "remaining_time": 2.049538931,
            "test": [
             0.3037486323
            ]
           },
           {
            "iteration": 936,
            "learn": [
             0.1948193445
            ],
            "passed_time": 30.00706904,
            "remaining_time": 2.017551067,
            "test": [
             0.3037866058
            ]
           },
           {
            "iteration": 937,
            "learn": [
             0.1947970319
            ],
            "passed_time": 30.03792893,
            "remaining_time": 1.98544946,
            "test": [
             0.3037878781
            ]
           },
           {
            "iteration": 938,
            "learn": [
             0.1947813597
            ],
            "passed_time": 30.06526543,
            "remaining_time": 1.953121609,
            "test": [
             0.3037644301
            ]
           },
           {
            "iteration": 939,
            "learn": [
             0.1946506824
            ],
            "passed_time": 30.09608409,
            "remaining_time": 1.921026644,
            "test": [
             0.3038178798
            ]
           },
           {
            "iteration": 940,
            "learn": [
             0.1945366153
            ],
            "passed_time": 30.12925285,
            "remaining_time": 1.889081741,
            "test": [
             0.3038149497
            ]
           },
           {
            "iteration": 941,
            "learn": [
             0.1944577257
            ],
            "passed_time": 30.159828,
            "remaining_time": 1.856974548,
            "test": [
             0.3037983291
            ]
           },
           {
            "iteration": 942,
            "learn": [
             0.19435921
            ],
            "passed_time": 30.18971366,
            "remaining_time": 1.824828928,
            "test": [
             0.303786787
            ]
           },
           {
            "iteration": 943,
            "learn": [
             0.1942833236
            ],
            "passed_time": 30.22203753,
            "remaining_time": 1.792832735,
            "test": [
             0.3037991718
            ]
           },
           {
            "iteration": 944,
            "learn": [
             0.1941316992
            ],
            "passed_time": 30.2527555,
            "remaining_time": 1.760742383,
            "test": [
             0.3037822854
            ]
           },
           {
            "iteration": 945,
            "learn": [
             0.1940879385
            ],
            "passed_time": 30.28138578,
            "remaining_time": 1.728535763,
            "test": [
             0.3037201256
            ]
           },
           {
            "iteration": 946,
            "learn": [
             0.1939925877
            ],
            "passed_time": 30.31122648,
            "remaining_time": 1.696404439,
            "test": [
             0.3037494656
            ]
           },
           {
            "iteration": 947,
            "learn": [
             0.1938028878
            ],
            "passed_time": 30.34297297,
            "remaining_time": 1.664382484,
            "test": [
             0.3037111678
            ]
           },
           {
            "iteration": 948,
            "learn": [
             0.1937224123
            ],
            "passed_time": 30.37463902,
            "remaining_time": 1.632356786,
            "test": [
             0.3037125491
            ]
           },
           {
            "iteration": 949,
            "learn": [
             0.193650595
            ],
            "passed_time": 30.40488486,
            "remaining_time": 1.600257098,
            "test": [
             0.3037022299
            ]
           },
           {
            "iteration": 950,
            "learn": [
             0.1935710852
            ],
            "passed_time": 30.43344549,
            "remaining_time": 1.568074479,
            "test": [
             0.3036542191
            ]
           },
           {
            "iteration": 951,
            "learn": [
             0.1934253995
            ],
            "passed_time": 30.46855104,
            "remaining_time": 1.536229464,
            "test": [
             0.3036467912
            ]
           },
           {
            "iteration": 952,
            "learn": [
             0.1933743025
            ],
            "passed_time": 30.49679582,
            "remaining_time": 1.504039248,
            "test": [
             0.3036031784
            ]
           },
           {
            "iteration": 953,
            "learn": [
             0.1932272709
            ],
            "passed_time": 30.52874693,
            "remaining_time": 1.472036015,
            "test": [
             0.3036706488
            ]
           },
           {
            "iteration": 954,
            "learn": [
             0.1931228751
            ],
            "passed_time": 30.55957767,
            "remaining_time": 1.439980099,
            "test": [
             0.3036516727
            ]
           },
           {
            "iteration": 955,
            "learn": [
             0.1930617779
            ],
            "passed_time": 30.58927868,
            "remaining_time": 1.407874751,
            "test": [
             0.3036508736
            ]
           },
           {
            "iteration": 956,
            "learn": [
             0.192993473
            ],
            "passed_time": 30.61774372,
            "remaining_time": 1.375718892,
            "test": [
             0.3036593007
            ]
           },
           {
            "iteration": 957,
            "learn": [
             0.1929427174
            ],
            "passed_time": 30.64786141,
            "remaining_time": 1.343643193,
            "test": [
             0.303651096
            ]
           },
           {
            "iteration": 958,
            "learn": [
             0.1929203881
            ],
            "passed_time": 30.67560146,
            "remaining_time": 1.311469927,
            "test": [
             0.303654339
            ]
           },
           {
            "iteration": 959,
            "learn": [
             0.19289851
            ],
            "passed_time": 30.70479923,
            "remaining_time": 1.279366635,
            "test": [
             0.3036628824
            ]
           },
           {
            "iteration": 960,
            "learn": [
             0.1927812612
            ],
            "passed_time": 30.74476103,
            "remaining_time": 1.247706223,
            "test": [
             0.3037271586
            ]
           },
           {
            "iteration": 961,
            "learn": [
             0.1926984153
            ],
            "passed_time": 30.77280803,
            "remaining_time": 1.215557905,
            "test": [
             0.3037275969
            ]
           },
           {
            "iteration": 962,
            "learn": [
             0.1926072024
            ],
            "passed_time": 30.80148775,
            "remaining_time": 1.183442416,
            "test": [
             0.3037534894
            ]
           },
           {
            "iteration": 963,
            "learn": [
             0.1924926459
            ],
            "passed_time": 30.83550317,
            "remaining_time": 1.151533313,
            "test": [
             0.3037686259
            ]
           },
           {
            "iteration": 964,
            "learn": [
             0.1924062845
            ],
            "passed_time": 30.86555509,
            "remaining_time": 1.119476091,
            "test": [
             0.3037875229
            ]
           },
           {
            "iteration": 965,
            "learn": [
             0.1922819649
            ],
            "passed_time": 30.93801568,
            "remaining_time": 1.088915666,
            "test": [
             0.3037699177
            ]
           },
           {
            "iteration": 966,
            "learn": [
             0.1921176883
            ],
            "passed_time": 31.01011954,
            "remaining_time": 1.058256406,
            "test": [
             0.3038220416
            ]
           },
           {
            "iteration": 967,
            "learn": [
             0.1920162506
            ],
            "passed_time": 31.06748008,
            "remaining_time": 1.027024135,
            "test": [
             0.3038765217
            ]
           },
           {
            "iteration": 968,
            "learn": [
             0.1918644896
            ],
            "passed_time": 31.09810944,
            "remaining_time": 0.9948827582,
            "test": [
             0.3039060896
            ]
           },
           {
            "iteration": 969,
            "learn": [
             0.1918118518
            ],
            "passed_time": 31.12967711,
            "remaining_time": 0.9627735189,
            "test": [
             0.3039256878
            ]
           },
           {
            "iteration": 970,
            "learn": [
             0.1916395725
            ],
            "passed_time": 31.1631908,
            "remaining_time": 0.9307235153,
            "test": [
             0.3038934801
            ]
           },
           {
            "iteration": 971,
            "learn": [
             0.1916148774
            ],
            "passed_time": 31.1933609,
            "remaining_time": 0.8985741822,
            "test": [
             0.3038822177
            ]
           },
           {
            "iteration": 972,
            "learn": [
             0.1915288094
            ],
            "passed_time": 31.22551234,
            "remaining_time": 0.8664838983,
            "test": [
             0.3038620782
            ]
           },
           {
            "iteration": 973,
            "learn": [
             0.1914879317
            ],
            "passed_time": 31.25547994,
            "remaining_time": 0.8343351934,
            "test": [
             0.3038795443
            ]
           },
           {
            "iteration": 974,
            "learn": [
             0.1913836951
            ],
            "passed_time": 31.28688894,
            "remaining_time": 0.8022279216,
            "test": [
             0.3038730896
            ]
           },
           {
            "iteration": 975,
            "learn": [
             0.19134963
            ],
            "passed_time": 31.31721637,
            "remaining_time": 0.7700954845,
            "test": [
             0.3038597424
            ]
           },
           {
            "iteration": 976,
            "learn": [
             0.1912720185
            ],
            "passed_time": 31.34891148,
            "remaining_time": 0.7379989396,
            "test": [
             0.3038526302
            ]
           },
           {
            "iteration": 977,
            "learn": [
             0.19121358
            ],
            "passed_time": 31.37906705,
            "remaining_time": 0.705868584,
            "test": [
             0.3038476065
            ]
           },
           {
            "iteration": 978,
            "learn": [
             0.1911142298
            ],
            "passed_time": 31.41042097,
            "remaining_time": 0.6737679678,
            "test": [
             0.3038935941
            ]
           },
           {
            "iteration": 979,
            "learn": [
             0.191080852
            ],
            "passed_time": 31.44488658,
            "remaining_time": 0.6417323793,
            "test": [
             0.3039055305
            ]
           },
           {
            "iteration": 980,
            "learn": [
             0.1908854878
            ],
            "passed_time": 31.47751589,
            "remaining_time": 0.6096562711,
            "test": [
             0.3039140816
            ]
           },
           {
            "iteration": 981,
            "learn": [
             0.1907814178
            ],
            "passed_time": 31.5073762,
            "remaining_time": 0.5775282807,
            "test": [
             0.3039152164
            ]
           },
           {
            "iteration": 982,
            "learn": [
             0.1906741891
            ],
            "passed_time": 31.53857979,
            "remaining_time": 0.5454281347,
            "test": [
             0.3038652425
            ]
           },
           {
            "iteration": 983,
            "learn": [
             0.1906180419
            ],
            "passed_time": 31.56639695,
            "remaining_time": 0.5132747471,
            "test": [
             0.3039130202
            ]
           },
           {
            "iteration": 984,
            "learn": [
             0.1904686986
            ],
            "passed_time": 31.59611746,
            "remaining_time": 0.4811591492,
            "test": [
             0.3039724616
            ]
           },
           {
            "iteration": 985,
            "learn": [
             0.1903523115
            ],
            "passed_time": 31.62490262,
            "remaining_time": 0.4490351284,
            "test": [
             0.3039551128
            ]
           },
           {
            "iteration": 986,
            "learn": [
             0.1903488146
            ],
            "passed_time": 31.65309276,
            "remaining_time": 0.4169100364,
            "test": [
             0.3039556171
            ]
           },
           {
            "iteration": 987,
            "learn": [
             0.1902421844
            ],
            "passed_time": 31.68435985,
            "remaining_time": 0.3848302815,
            "test": [
             0.3039689222
            ]
           },
           {
            "iteration": 988,
            "learn": [
             0.1901298832
            ],
            "passed_time": 31.71437759,
            "remaining_time": 0.3527382745,
            "test": [
             0.3040006173
            ]
           },
           {
            "iteration": 989,
            "learn": [
             0.1900751208
            ],
            "passed_time": 31.75794652,
            "remaining_time": 0.3207873386,
            "test": [
             0.3040082946
            ]
           },
           {
            "iteration": 990,
            "learn": [
             0.1900045229
            ],
            "passed_time": 31.78817887,
            "remaining_time": 0.2886918364,
            "test": [
             0.304079852
            ]
           },
           {
            "iteration": 991,
            "learn": [
             0.1899885605
            ],
            "passed_time": 31.81799467,
            "remaining_time": 0.2565967312,
            "test": [
             0.3040770327
            ]
           },
           {
            "iteration": 992,
            "learn": [
             0.1897831813
            ],
            "passed_time": 31.85011806,
            "remaining_time": 0.2245224838,
            "test": [
             0.3041102404
            ]
           },
           {
            "iteration": 993,
            "learn": [
             0.1896409891
            ],
            "passed_time": 31.87839147,
            "remaining_time": 0.1924248982,
            "test": [
             0.3040835682
            ]
           },
           {
            "iteration": 994,
            "learn": [
             0.1895498267
            ],
            "passed_time": 31.90807448,
            "remaining_time": 0.1603420828,
            "test": [
             0.3041533894
            ]
           },
           {
            "iteration": 995,
            "learn": [
             0.189546572
            ],
            "passed_time": 31.93758442,
            "remaining_time": 0.1282633913,
            "test": [
             0.3041564266
            ]
           },
           {
            "iteration": 996,
            "learn": [
             0.1895061839
            ],
            "passed_time": 32.03621216,
            "remaining_time": 0.09639782997,
            "test": [
             0.3041513413
            ]
           },
           {
            "iteration": 997,
            "learn": [
             0.1894188054
            ],
            "passed_time": 32.06873857,
            "remaining_time": 0.06426600915,
            "test": [
             0.3041564436
            ]
           },
           {
            "iteration": 998,
            "learn": [
             0.1893521505
            ],
            "passed_time": 32.09968555,
            "remaining_time": 0.03213181736,
            "test": [
             0.3041652648
            ]
           },
           {
            "iteration": 999,
            "learn": [
             0.1891582929
            ],
            "passed_time": 32.13231487,
            "remaining_time": 0,
            "test": [
             0.3041266137
            ]
           }
          ],
          "meta": {
           "iteration_count": 1000,
           "launch_mode": "Train",
           "learn_metrics": [
            {
             "best_value": "Min",
             "name": "Logloss"
            }
           ],
           "learn_sets": [
            "learn"
           ],
           "name": "experiment",
           "parameters": "",
           "test_metrics": [
            {
             "best_value": "Min",
             "name": "Logloss"
            }
           ],
           "test_sets": [
            "test"
           ]
          }
         },
         "passed_iterations": 999,
         "total_iterations": 1000
        },
        "name": "catboost_info",
        "path": "catboost_info"
       }
      },
      "layout": "IPY_MODEL_298e3fca815e4569a3a8e3836fe22e28"
     }
    }
   }
  }
 },
 "nbformat": 4,
 "nbformat_minor": 1
}
