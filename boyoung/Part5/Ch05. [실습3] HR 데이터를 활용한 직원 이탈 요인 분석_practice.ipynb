{
 "cells": [
  {
   "cell_type": "markdown",
   "metadata": {
    "id": "oJIyAGBleUAM"
   },
   "source": [
    "* [WA_Fn-UseC_-HR-Employee-Attrition.csv] : https://www.kaggle.com/pavansubhasht/ibm-hr-analytics-attrition-dataset"
   ]
  },
  {
   "cell_type": "markdown",
   "metadata": {
    "id": "96tGTdze3tO5"
   },
   "source": [
    "#Part5. [실습3] HR 데이터를 활용한 직원 이탈 요인 분석"
   ]
  },
  {
   "cell_type": "markdown",
   "metadata": {
    "id": "mMV10Ppbp-M5"
   },
   "source": [
    "## 01. 데이터 소개 및 분석프로세스 수립\n",
    " : \"강의자료 → Ch05. [실습3] HR 데이터를 활용한 직원 이탈 요인 분석\" 참고"
   ]
  },
  {
   "cell_type": "markdown",
   "metadata": {
    "id": "7R5xjCTwqFu0"
   },
   "source": [
    "## 02. 데이터 준비를 위한 EDA 및 전처리"
   ]
  },
  {
   "cell_type": "code",
   "execution_count": null,
   "metadata": {
    "id": "UzFkTvyEyP1E"
   },
   "outputs": [],
   "source": [
    "!apt-get update -qq\n",
    "!apt-get install fonts-nanum* -qq\n",
    "\n",
    "import matplotlib.font_manager as fm\n",
    "\n",
    "path = '/Users/brianna/Downloads/nanum-gothic-eco/NanumGothicEco.ttf'\n",
    "font_name = fm.FontProperties(fname=path, size=10).get_name()\n",
    "\n",
    "plt.rc('font', family=font_name)\n",
    "\n",
    "fm._rebuild()"
   ]
  },
  {
   "cell_type": "code",
   "execution_count": null,
   "metadata": {
    "id": "Dd-GJMQtp6B-"
   },
   "outputs": [],
   "source": [
    "from matplotlib import pyplot as plt\n",
    "plt.rc('font', family='NanumBarunGothic')"
   ]
  },
  {
   "cell_type": "code",
   "execution_count": null,
   "metadata": {
    "scrolled": true
   },
   "outputs": [],
   "source": [
    "pip uninstall scikit-learn"
   ]
  },
  {
   "cell_type": "code",
   "execution_count": null,
   "metadata": {},
   "outputs": [],
   "source": [
    "Y"
   ]
  },
  {
   "cell_type": "markdown",
   "metadata": {
    "id": "8ZhituwmqoE5"
   },
   "source": [
    "### 0. 데이터 불러오기"
   ]
  },
  {
   "cell_type": "code",
   "execution_count": null,
   "metadata": {
    "colab": {
     "base_uri": "https://localhost:8080/",
     "height": 17
    },
    "executionInfo": {
     "elapsed": 17,
     "status": "ok",
     "timestamp": 1625582975986,
     "user": {
      "displayName": "Young jun Jang",
      "photoUrl": "",
      "userId": "15364579243826530783"
     },
     "user_tz": -540
    },
    "id": "AI88ALOa30BV",
    "outputId": "38270e1d-40f1-492b-911b-33dd86fd7ff3"
   },
   "outputs": [],
   "source": [
    "############################################## 00. 필요한 파이썬 라이브러리 불러오기 #####################################################\n",
    "import numpy as np\n",
    "import pandas as pd\n",
    "import seaborn as sns\n",
    "import matplotlib.pyplot as plt\n",
    "%matplotlib inline\n",
    "\n",
    "# Plotly \n",
    "import plotly.offline as py\n",
    "py.init_notebook_mode(connected=True)\n",
    "import plotly.graph_objs as go\n",
    "import plotly.tools as tls\n",
    "\n",
    "from sklearn.ensemble import RandomForestClassifier, GradientBoostingClassifier\n",
    "from sklearn.linear_model import LogisticRegression\n",
    "from sklearn.metrics import (accuracy_score, log_loss, classification_report)\n",
    "from imblearn.over_sampling import SMOTE # 데이터 불균형 해결 패키지\n",
    "import xgboost\n",
    "\n",
    "from scipy.stats import pearsonr, chi2_contingency # 상관성 분석\n",
    "from itertools import combinations\n",
    "from statsmodels.stats.proportion import proportion_confint\n",
    "\n",
    "# Import and suppress warnings\n",
    "import warnings\n",
    "warnings.filterwarnings('ignore')"
   ]
  },
  {
   "cell_type": "code",
   "execution_count": null,
   "metadata": {
    "colab": {
     "base_uri": "https://localhost:8080/",
     "height": 307
    },
    "executionInfo": {
     "elapsed": 15,
     "status": "ok",
     "timestamp": 1625582975987,
     "user": {
      "displayName": "Young jun Jang",
      "photoUrl": "",
      "userId": "15364579243826530783"
     },
     "user_tz": -540
    },
    "id": "VR0pMknl3-md",
    "outputId": "f40b1620-f58e-409c-b323-476b03f596e1"
   },
   "outputs": [],
   "source": [
    "attrition = pd.read_csv('/content/drive/MyDrive/강의/실습자료/data/ch3/WA_Fn-UseC_-HR-Employee-Attrition.csv')\n",
    "attrition.head()"
   ]
  },
  {
   "cell_type": "code",
   "execution_count": null,
   "metadata": {
    "colab": {
     "base_uri": "https://localhost:8080/"
    },
    "executionInfo": {
     "elapsed": 14,
     "status": "ok",
     "timestamp": 1625582975987,
     "user": {
      "displayName": "Young jun Jang",
      "photoUrl": "",
      "userId": "15364579243826530783"
     },
     "user_tz": -540
    },
    "id": "zD4VEamBPCo-",
    "outputId": "c8416827-30fb-45fb-a437-d3bd536f9d5e"
   },
   "outputs": [],
   "source": [
    "# 데이터의 모양 알아보기\n",
    "###### 코드 작성 부분 시작 ######\n",
    "\n",
    "###### 코드 작성 부분 마침 ######"
   ]
  },
  {
   "cell_type": "markdown",
   "metadata": {
    "id": "fP3e0gFO8ACd"
   },
   "source": [
    "### 1. 데이터 탐색"
   ]
  },
  {
   "cell_type": "markdown",
   "metadata": {
    "id": "l-hduLpH5IXV"
   },
   "source": [
    "#### 1) 변수 간 관계 시각화"
   ]
  },
  {
   "cell_type": "markdown",
   "metadata": {
    "id": "5vb2OEw04MVa"
   },
   "source": [
    "##### KDE Plot"
   ]
  },
  {
   "cell_type": "code",
   "execution_count": null,
   "metadata": {
    "colab": {
     "base_uri": "https://localhost:8080/",
     "height": 585
    },
    "executionInfo": {
     "elapsed": 18454,
     "status": "ok",
     "timestamp": 1625582994432,
     "user": {
      "displayName": "Young jun Jang",
      "photoUrl": "",
      "userId": "15364579243826530783"
     },
     "user_tz": -540
    },
    "id": "Zt18P7PC4Ikk",
    "outputId": "7db080cf-40da-4ee7-8c53-f9cfc651bc35"
   },
   "outputs": [],
   "source": [
    "# 여러 개의 KDE Plot 생성 준비\n",
    "f, axes = plt.subplots(3, 3, figsize=(10, 8), \n",
    "                       sharex=False, sharey=False)\n",
    "\n",
    "# Plot 색상 설정\n",
    "s = np.linspace(0, 3, 10)\n",
    "cmap = sns.cubehelix_palette(start=0.0, light=1, as_cmap=True)\n",
    "\n",
    "x = attrition['Age'].values\n",
    "y = attrition['TotalWorkingYears'].values\n",
    "sns.kdeplot(x, y, cmap=cmap, shade=True, cut=5, ax=axes[0,0])\n",
    "axes[0,0].set( title = '총 근로 기간 - 나이')\n",
    "\n",
    "cmap = sns.cubehelix_palette(start=0.333333333333, light=1, as_cmap=True)\n",
    "\n",
    "# Generate and plot\n",
    "x = attrition['Age'].values\n",
    "y = attrition['DailyRate'].values\n",
    "sns.kdeplot(x, y, cmap=cmap, shade=True, ax=axes[0,1])\n",
    "axes[0,1].set( title = '일일 급여 수준 - 나이')\n",
    "\n",
    "cmap = sns.cubehelix_palette(start=0.666666666667, light=1, as_cmap=True)\n",
    "# Generate and plot\n",
    "x = attrition['YearsInCurrentRole'].values\n",
    "y = attrition['Age'].values\n",
    "sns.kdeplot(x, y, cmap=cmap, shade=True, ax=axes[0,2])\n",
    "axes[0,2].set( title = '직무 기간 - 나이')\n",
    "\n",
    "cmap = sns.cubehelix_palette(start=1.0, light=1, as_cmap=True)\n",
    "# Generate and plot\n",
    "x = attrition['DailyRate'].values\n",
    "y = attrition['DistanceFromHome'].values\n",
    "sns.kdeplot(x, y, cmap=cmap, shade=True,  ax=axes[1,0])\n",
    "axes[1,0].set( title = '일일 급여 수준 - 출퇴근 거리')\n",
    "\n",
    "cmap = sns.cubehelix_palette(start=1.333333333333, light=1, as_cmap=True)\n",
    "# Generate and plot\n",
    "x = attrition['DailyRate'].values\n",
    "y = attrition['JobSatisfaction'].values\n",
    "sns.kdeplot(x, y, cmap=cmap, shade=True,  ax=axes[1,1])\n",
    "axes[1,1].set( title = '일일 급여 수준 - 직무만 족도')\n",
    "\n",
    "cmap = sns.cubehelix_palette(start=1.666666666667, light=1, as_cmap=True)\n",
    "# Generate and plot\n",
    "x = attrition['YearsAtCompany'].values\n",
    "y = attrition['JobSatisfaction'].values\n",
    "sns.kdeplot(x, y, cmap=cmap, shade=True,  ax=axes[1,2])\n",
    "axes[1,2].set( title = '근속 연수 - 직무 만족도')\n",
    "\n",
    "cmap = sns.cubehelix_palette(start=2.0, light=1, as_cmap=True)\n",
    "# Generate and plot\n",
    "x = attrition['YearsAtCompany'].values\n",
    "y = attrition['DailyRate'].values\n",
    "sns.kdeplot(x, y, cmap=cmap, shade=True,  ax=axes[2,0])\n",
    "axes[2,0].set( title = '근속 연수 - 일일 급여 수준')\n",
    "\n",
    "cmap = sns.cubehelix_palette(start=2.333333333333, light=1, as_cmap=True)\n",
    "# Generate and plot\n",
    "x = attrition['RelationshipSatisfaction'].values\n",
    "y = attrition['YearsWithCurrManager'].values\n",
    "sns.kdeplot(x, y, cmap=cmap, shade=True,  ax=axes[2,1])\n",
    "axes[2,1].set( title = '관계 만족도 - 관리자와의 협업 기간')\n",
    "\n",
    "cmap = sns.cubehelix_palette(start=2.666666666667, light=1, as_cmap=True)\n",
    "# Generate and plot\n",
    "x = attrition['WorkLifeBalance'].values\n",
    "y = attrition['JobSatisfaction'].values\n",
    "sns.kdeplot(x, y, cmap=cmap, shade=True,  ax=axes[2,2])\n",
    "axes[2,2].set( title = '일과 삶의 균형 - 만족도')\n",
    "\n",
    "f.tight_layout()"
   ]
  },
  {
   "cell_type": "markdown",
   "metadata": {
    "id": "ugkKHgw2rmDo"
   },
   "source": [
    "### 2. 데이터 전처리\n",
    "  * 결측값 처리\n",
    "  * 중복값 처리"
   ]
  },
  {
   "cell_type": "markdown",
   "metadata": {
    "id": "Su8Z5lll5EMp"
   },
   "source": [
    "#### 1) 결측값 처리"
   ]
  },
  {
   "cell_type": "code",
   "execution_count": null,
   "metadata": {
    "colab": {
     "base_uri": "https://localhost:8080/",
     "height": 622
    },
    "executionInfo": {
     "elapsed": 48,
     "status": "ok",
     "timestamp": 1625582994434,
     "user": {
      "displayName": "Young jun Jang",
      "photoUrl": "",
      "userId": "15364579243826530783"
     },
     "user_tz": -540
    },
    "id": "nekoRbAt4FUz",
    "outputId": "2fcf6810-073e-4c8f-d4af-9bb2c8a09b13"
   },
   "outputs": [],
   "source": [
    "# Looking for NaN\n",
    "display(attrition.isnull().any())"
   ]
  },
  {
   "cell_type": "markdown",
   "metadata": {
    "id": "qSJRpjD3WtQi"
   },
   "source": [
    "#### 2) 중복값 처리"
   ]
  },
  {
   "cell_type": "code",
   "execution_count": null,
   "metadata": {
    "colab": {
     "base_uri": "https://localhost:8080/"
    },
    "executionInfo": {
     "elapsed": 47,
     "status": "ok",
     "timestamp": 1625582994435,
     "user": {
      "displayName": "Young jun Jang",
      "photoUrl": "",
      "userId": "15364579243826530783"
     },
     "user_tz": -540
    },
    "id": "KvpKP3ZcWwwd",
    "outputId": "c8a4c349-2e86-43fc-bb64-e67d83129503"
   },
   "outputs": [],
   "source": [
    "# 중복된 항목 수 알아보기\n",
    "###### 코드 작성 부분 시작 ######\n",
    "\n",
    "###### 코드 작성 부분 마침 ######"
   ]
  },
  {
   "cell_type": "markdown",
   "metadata": {
    "id": "kMqMTewnMdXp"
   },
   "source": [
    "### 3. Target Feature 정의\n",
    "* 방법1 : Pandas 의 apply 이용\n",
    "* 방법2 : y.isin([Target에 해당하는 컬럼들]).astype('int') 이용"
   ]
  },
  {
   "cell_type": "code",
   "execution_count": null,
   "metadata": {
    "colab": {
     "base_uri": "https://localhost:8080/"
    },
    "executionInfo": {
     "elapsed": 42,
     "status": "ok",
     "timestamp": 1625582994436,
     "user": {
      "displayName": "Young jun Jang",
      "photoUrl": "",
      "userId": "15364579243826530783"
     },
     "user_tz": -540
    },
    "id": "dXDJgWN5MeBg",
    "outputId": "8ca6a9ae-25cf-4f56-a0eb-196b3f57697d"
   },
   "outputs": [],
   "source": [
    "# 퇴직 여부(Yes/No)에 따라 각각 1, 0 으로 할당\n",
    "target_map = {'Yes':1, 'No':0}\n",
    "\n",
    "# pandas apply 를 이용하여 퇴직 여부를 1, 0 으로 표시한 새로운 컬럼 생성\n",
    "###### 코드 작성 부분 시작 ######\n",
    "\n",
    "###### 코드 작성 부분 마침 ######\n",
    "attrition[\"Attrition_numerical\"].value_counts()"
   ]
  },
  {
   "cell_type": "code",
   "execution_count": null,
   "metadata": {
    "colab": {
     "base_uri": "https://localhost:8080/"
    },
    "executionInfo": {
     "elapsed": 39,
     "status": "ok",
     "timestamp": 1625582994438,
     "user": {
      "displayName": "Young jun Jang",
      "photoUrl": "",
      "userId": "15364579243826530783"
     },
     "user_tz": -540
    },
    "id": "JNhQd-yyQ1Bv",
    "outputId": "051a5bdd-6e4a-40c0-bcd4-799dba46a1d7"
   },
   "outputs": [],
   "source": [
    "y = attrition['Attrition'].copy()\n",
    "###### 코드 작성 부분 시작 ######\n",
    "\n",
    "###### 코드 작성 부분 마침 ######\n",
    "y.value_counts()"
   ]
  },
  {
   "cell_type": "markdown",
   "metadata": {
    "id": "VD1i1j-45kdY"
   },
   "source": [
    "### 4. 데이터 타입별 Feature 변환"
   ]
  },
  {
   "cell_type": "markdown",
   "metadata": {
    "id": "y67bw5FZ_3S-"
   },
   "source": [
    "#### 1) Feature 탐색"
   ]
  },
  {
   "cell_type": "markdown",
   "metadata": {
    "id": "ZPtyYqwYQiYb"
   },
   "source": [
    "##### 총 Feature 개수 확인"
   ]
  },
  {
   "cell_type": "code",
   "execution_count": null,
   "metadata": {
    "colab": {
     "base_uri": "https://localhost:8080/"
    },
    "executionInfo": {
     "elapsed": 34,
     "status": "ok",
     "timestamp": 1625582994438,
     "user": {
      "displayName": "Young jun Jang",
      "photoUrl": "",
      "userId": "15364579243826530783"
     },
     "user_tz": -540
    },
    "id": "9qJCKMGw_6RR",
    "outputId": "bd391da2-1368-4e3c-8d9f-1cfac32082cb"
   },
   "outputs": [],
   "source": [
    "###### 코드 작성 부분 시작 ######\n",
    "\n",
    "###### 코드 작성 부분 마침 ######"
   ]
  },
  {
   "cell_type": "markdown",
   "metadata": {
    "id": "qXZk-srIQRGd"
   },
   "source": [
    "##### Feature 데이터 타입별 개수 확인"
   ]
  },
  {
   "cell_type": "code",
   "execution_count": null,
   "metadata": {
    "colab": {
     "base_uri": "https://localhost:8080/"
    },
    "executionInfo": {
     "elapsed": 29,
     "status": "ok",
     "timestamp": 1625582994439,
     "user": {
      "displayName": "Young jun Jang",
      "photoUrl": "",
      "userId": "15364579243826530783"
     },
     "user_tz": -540
    },
    "id": "59ond26L__yN",
    "outputId": "e460099d-286d-4261-ebcf-277d16900751"
   },
   "outputs": [],
   "source": [
    "# 데이터 타입별 컬럼 수 확인\n",
    "dtype_data = attrition.dtypes.reset_index()\n",
    "dtype_data.columns = [\"Count\", \"Column Type\"]\n",
    "dtype_data = dtype_data.groupby(\"Column Type\").aggregate('count').reset_index()\n",
    "\n",
    "print(dtype_data)"
   ]
  },
  {
   "cell_type": "markdown",
   "metadata": {
    "id": "QLyz4GJe5p4d"
   },
   "source": [
    "#### 2) 범주형 Feature\n",
    "  * 데이터 확인\n",
    "  * Feature 별 개수 시각화\n",
    "  * 날짜/숫자/기간 등으로 변환해야 할 항목이 있는지 확인\n",
    "  * Feature 별 개수 시각화\n",
    "  * Feature 의 개수가 인코딩에 적합한가?"
   ]
  },
  {
   "cell_type": "markdown",
   "metadata": {
    "id": "8kI5u-LEAlDt"
   },
   "source": [
    "##### 데이터 확인"
   ]
  },
  {
   "cell_type": "code",
   "execution_count": null,
   "metadata": {
    "colab": {
     "base_uri": "https://localhost:8080/",
     "height": 203
    },
    "executionInfo": {
     "elapsed": 25,
     "status": "ok",
     "timestamp": 1625582994440,
     "user": {
      "displayName": "Young jun Jang",
      "photoUrl": "",
      "userId": "15364579243826530783"
     },
     "user_tz": -540
    },
    "id": "vaNBKQlH5gDt",
    "outputId": "47d2b8a5-9247-46f5-c163-6529d33a57d1"
   },
   "outputs": [],
   "source": [
    "# pandas 의 select_dtypes 사용하여 범주형 데이터만 확인하기\n",
    "###### 코드 작성 부분 시작 ######\n",
    "\n",
    "###### 코드 작성 부분 마침 ######"
   ]
  },
  {
   "cell_type": "markdown",
   "metadata": {
    "id": "bTvE_tBqRhII"
   },
   "source": [
    "##### Feature 제거"
   ]
  },
  {
   "cell_type": "markdown",
   "metadata": {
    "id": "14wiXb35DFrT"
   },
   "source": [
    "> Feature 별 유일한 값 개수 확인"
   ]
  },
  {
   "cell_type": "code",
   "execution_count": null,
   "metadata": {
    "colab": {
     "base_uri": "https://localhost:8080/"
    },
    "executionInfo": {
     "elapsed": 24,
     "status": "ok",
     "timestamp": 1625582994440,
     "user": {
      "displayName": "Young jun Jang",
      "photoUrl": "",
      "userId": "15364579243826530783"
     },
     "user_tz": -540
    },
    "id": "7Tx4ZMUWOcA-",
    "outputId": "379a8184-0cd7-4e6e-ced5-a33b6ef35570"
   },
   "outputs": [],
   "source": [
    "cat_feat = attrition.select_dtypes('object','category').columns.values\n",
    "attrition_cat = attrition[cat_feat].copy()\n",
    "print(attrition_cat.nunique().sort_values())"
   ]
  },
  {
   "cell_type": "markdown",
   "metadata": {
    "id": "aUiSugOhOvdR"
   },
   "source": [
    "> 유일한 값이 1개인 경우 또는 모든 행의 값이 다른 경우는 제거한다\n",
    "* Target Feature 가 포함되어 있으면 함께 제거"
   ]
  },
  {
   "cell_type": "code",
   "execution_count": null,
   "metadata": {
    "id": "dn3GoGapO1fN"
   },
   "outputs": [],
   "source": [
    "###### 코드 작성 부분 시작 ######\n",
    "\n",
    "###### 코드 작성 부분 마침 ######"
   ]
  },
  {
   "cell_type": "markdown",
   "metadata": {
    "id": "ENa-BPVJA7iU"
   },
   "source": [
    "##### Feature 별 개수 시각화"
   ]
  },
  {
   "cell_type": "code",
   "execution_count": null,
   "metadata": {
    "colab": {
     "base_uri": "https://localhost:8080/",
     "height": 1000
    },
    "executionInfo": {
     "elapsed": 2348,
     "status": "ok",
     "timestamp": 1625582996770,
     "user": {
      "displayName": "Young jun Jang",
      "photoUrl": "",
      "userId": "15364579243826530783"
     },
     "user_tz": -540
    },
    "id": "TRKYrMoEA7Sh",
    "outputId": "ad941d1d-9e07-44e3-99b5-cba62b8e71c6"
   },
   "outputs": [],
   "source": [
    "for col in attrition_cat.columns:\n",
    "  fig = sns.catplot(x=col, kind=\"count\", data=attrition_cat, hue=None)\n",
    "  fig.set_xticklabels(rotation=90)\n",
    "  plt.show()"
   ]
  },
  {
   "cell_type": "markdown",
   "metadata": {
    "id": "EGJfDKSBNXpz"
   },
   "source": [
    "##### Feature 의 개수가 인코딩에 적합한가?\n",
    "  * 인코딩을 했을 경우 메모리 문제가 발생하지는 않는가?"
   ]
  },
  {
   "cell_type": "markdown",
   "metadata": {
    "id": "jaswxTZEISLw"
   },
   "source": [
    "> Feature 인코딩\n",
    "* LabelEncoder : LabelEncoder 는 선형성을 가지는 머신러닝 기법에 쓰면 좋지 않다\n",
    "* OneHotEncoder vs. get_dummies"
   ]
  },
  {
   "cell_type": "code",
   "execution_count": null,
   "metadata": {
    "colab": {
     "base_uri": "https://localhost:8080/",
     "height": 178
    },
    "executionInfo": {
     "elapsed": 53,
     "status": "ok",
     "timestamp": 1625582996772,
     "user": {
      "displayName": "Young jun Jang",
      "photoUrl": "",
      "userId": "15364579243826530783"
     },
     "user_tz": -540
    },
    "id": "7Lf8iNfm7fhK",
    "outputId": "83af20c0-9b40-4217-a73c-90747e1666eb"
   },
   "outputs": [],
   "source": [
    "attrition_cat_dummies = pd.get_dummies(attrition_cat)\n",
    "attrition_cat_dummies.head(3)"
   ]
  },
  {
   "cell_type": "code",
   "execution_count": null,
   "metadata": {
    "colab": {
     "base_uri": "https://localhost:8080/"
    },
    "executionInfo": {
     "elapsed": 51,
     "status": "ok",
     "timestamp": 1625582996773,
     "user": {
      "displayName": "Young jun Jang",
      "photoUrl": "",
      "userId": "15364579243826530783"
     },
     "user_tz": -540
    },
    "id": "smu1Pd-FUqNz",
    "outputId": "4f7e691c-d2d3-4eec-cad2-20e1838e75dc"
   },
   "outputs": [],
   "source": [
    "from sklearn.preprocessing import OneHotEncoder\n",
    "\n",
    "###### 코드 작성 부분 시작 ######\n",
    "# ohe = \n",
    "# attrition_cat_ohe = \n",
    "###### 코드 작성 부분 마침 ######\n",
    "attrition_cat_ohe = pd.DataFrame(attrition_cat_ohe)\n",
    "attrition_cat_ohe.columns = ['BusinessTravel_Non-Travel', 'BusinessTravel_Travel_Frequently',\n",
    "       'BusinessTravel_Travel_Rarely', 'Department_Human Resources',\n",
    "       'Department_Research & Development', 'Department_Sales',\n",
    "       'EducationField_Human Resources', 'EducationField_Life Sciences',\n",
    "       'EducationField_Marketing', 'EducationField_Medical',\n",
    "       'EducationField_Other', 'EducationField_Technical Degree',\n",
    "       'Gender_Female', 'Gender_Male', 'JobRole_Healthcare Representative',\n",
    "       'JobRole_Human Resources', 'JobRole_Laboratory Technician',\n",
    "       'JobRole_Manager', 'JobRole_Manufacturing Director',\n",
    "       'JobRole_Research Director', 'JobRole_Research Scientist',\n",
    "       'JobRole_Sales Executive', 'JobRole_Sales Representative',\n",
    "       'MaritalStatus_Divorced', 'MaritalStatus_Married',\n",
    "       'MaritalStatus_Single', 'OverTime_No', 'OverTime_Yes']\n",
    "\n",
    "print(\"OneHot Encoder 결과 : \")  \n",
    "print(attrition_cat_ohe.iloc[:,:2])"
   ]
  },
  {
   "cell_type": "markdown",
   "metadata": {
    "id": "8aR7K8cCYMP6"
   },
   "source": [
    "#### 3) 숫자형 Feature\n",
    "  * 데이터 확인\n",
    "  * Feature 제거\n",
    "  * Feature Skewness 확인"
   ]
  },
  {
   "cell_type": "markdown",
   "metadata": {
    "id": "NSU5nZy2YWwh"
   },
   "source": [
    "##### 데이터 확인"
   ]
  },
  {
   "cell_type": "code",
   "execution_count": null,
   "metadata": {
    "colab": {
     "base_uri": "https://localhost:8080/",
     "height": 223
    },
    "executionInfo": {
     "elapsed": 44,
     "status": "ok",
     "timestamp": 1625582996773,
     "user": {
      "displayName": "Young jun Jang",
      "photoUrl": "",
      "userId": "15364579243826530783"
     },
     "user_tz": -540
    },
    "id": "A20QS5vBYYAl",
    "outputId": "c75acebd-e879-4b8c-d04c-ad2a12197198"
   },
   "outputs": [],
   "source": [
    "# pandas 의 select_dtypes('object') 사용\n",
    "attrition.select_dtypes(include=['number']).head()"
   ]
  },
  {
   "cell_type": "code",
   "execution_count": null,
   "metadata": {
    "colab": {
     "base_uri": "https://localhost:8080/",
     "height": 223
    },
    "executionInfo": {
     "elapsed": 43,
     "status": "ok",
     "timestamp": 1625582996774,
     "user": {
      "displayName": "Young jun Jang",
      "photoUrl": "",
      "userId": "15364579243826530783"
     },
     "user_tz": -540
    },
    "id": "QtgM07KJYid-",
    "outputId": "119dc365-5ea4-415c-ef60-5ea75448db4a"
   },
   "outputs": [],
   "source": [
    "attrition.select_dtypes(include=np.number).head()"
   ]
  },
  {
   "cell_type": "code",
   "execution_count": null,
   "metadata": {
    "id": "KHY-5qHlcEfY"
   },
   "outputs": [],
   "source": [
    "num_feat = attrition.select_dtypes('number').columns.values\n",
    "attrition_num = attrition[num_feat].copy()"
   ]
  },
  {
   "cell_type": "markdown",
   "metadata": {
    "id": "CbsKnNe7dQcU"
   },
   "source": [
    "##### Feature 제거"
   ]
  },
  {
   "cell_type": "markdown",
   "metadata": {
    "id": "wbvzCqpedYAX"
   },
   "source": [
    "> Feature 별 유일한 값 개수 확인"
   ]
  },
  {
   "cell_type": "code",
   "execution_count": null,
   "metadata": {
    "colab": {
     "base_uri": "https://localhost:8080/"
    },
    "executionInfo": {
     "elapsed": 383,
     "status": "ok",
     "timestamp": 1625582997117,
     "user": {
      "displayName": "Young jun Jang",
      "photoUrl": "",
      "userId": "15364579243826530783"
     },
     "user_tz": -540
    },
    "id": "FXoAUH4MdYAX",
    "outputId": "d3171463-a05b-490d-b2d5-7148b8759de6"
   },
   "outputs": [],
   "source": [
    "print(attrition_num.nunique().sort_values())"
   ]
  },
  {
   "cell_type": "code",
   "execution_count": null,
   "metadata": {
    "colab": {
     "base_uri": "https://localhost:8080/"
    },
    "executionInfo": {
     "elapsed": 6,
     "status": "ok",
     "timestamp": 1625582997121,
     "user": {
      "displayName": "Young jun Jang",
      "photoUrl": "",
      "userId": "15364579243826530783"
     },
     "user_tz": -540
    },
    "id": "oNXXR_7DdwlJ",
    "outputId": "42b95cd0-f5f5-49a8-c04a-4a167ee13416"
   },
   "outputs": [],
   "source": [
    "print(attrition.shape)"
   ]
  },
  {
   "cell_type": "markdown",
   "metadata": {
    "id": "9Vi1UfKYdYAX"
   },
   "source": [
    "> 유일한 값이 1개인 경우 또는 모든 행의 값이 다른 경우는 제거한다\n",
    "* Target Feature 가 포함되어 있으면 함께 제거"
   ]
  },
  {
   "cell_type": "code",
   "execution_count": null,
   "metadata": {
    "id": "D0DDHTBYdYAX"
   },
   "outputs": [],
   "source": [
    "attrition_num = attrition_num.drop(['StandardHours','EmployeeCount','EmployeeNumber','Attrition_numerical'], axis=1, errors='ignore')"
   ]
  },
  {
   "cell_type": "markdown",
   "metadata": {
    "id": "fqYWV4BmcSrw"
   },
   "source": [
    "##### Feature Skewness 확인"
   ]
  },
  {
   "cell_type": "code",
   "execution_count": null,
   "metadata": {
    "colab": {
     "base_uri": "https://localhost:8080/",
     "height": 1000
    },
    "executionInfo": {
     "elapsed": 10466,
     "status": "ok",
     "timestamp": 1625583007583,
     "user": {
      "displayName": "Young jun Jang",
      "photoUrl": "",
      "userId": "15364579243826530783"
     },
     "user_tz": -540
    },
    "id": "HcVT8127ccuC",
    "outputId": "fbd6e89c-6c00-49f3-a54b-a1ae7f964c26"
   },
   "outputs": [],
   "source": [
    "col_attrition_num = attrition_num.columns.values\n",
    "for i in range(0,len(col_attrition_num)):\n",
    "    sns.displot(attrition_num[col_attrition_num[i]],kde=True) # kde : kernel density"
   ]
  },
  {
   "cell_type": "markdown",
   "metadata": {
    "id": "GDDklp0RgmKM"
   },
   "source": [
    "### 5. 상관성에 따른 Feature 정제"
   ]
  },
  {
   "cell_type": "markdown",
   "metadata": {
    "id": "-nX7YrCwkwNZ"
   },
   "source": [
    "#### 1) 숫자형 Feature\n",
    "  * 데이터 확인\n",
    "  * 숫자형 컬럼들 간 Pearson R 상관 계수를 구한다\n",
    "  * 상관 계수가 0.9 이상인 컬럼들 중 가장 큰 컬럼을 제거해 본다\n",
    "  * 컬럼들 간 조합 생성 : comb_num_feat = np.array(list(combinations(num_feat, 2)))\n",
    "  * Pearson R 상관 계수 구하기 : pearsonr(x1, x2)[0]"
   ]
  },
  {
   "cell_type": "markdown",
   "metadata": {
    "id": "q_QGlbYCk-YW"
   },
   "source": [
    "##### 데이터 확인"
   ]
  },
  {
   "cell_type": "code",
   "execution_count": null,
   "metadata": {
    "colab": {
     "base_uri": "https://localhost:8080/"
    },
    "executionInfo": {
     "elapsed": 7,
     "status": "ok",
     "timestamp": 1625583007584,
     "user": {
      "displayName": "Young jun Jang",
      "photoUrl": "",
      "userId": "15364579243826530783"
     },
     "user_tz": -540
    },
    "id": "cUgUBcqVlDjS",
    "outputId": "6815bf1f-ae73-42b7-b653-1bc5665bd00a"
   },
   "outputs": [],
   "source": [
    "attrition_num.nunique().sort_values()"
   ]
  },
  {
   "cell_type": "markdown",
   "metadata": {
    "id": "oJY5mQzBTwbs"
   },
   "source": [
    "##### Feature 간 관계 시각화"
   ]
  },
  {
   "cell_type": "code",
   "execution_count": null,
   "metadata": {
    "colab": {
     "base_uri": "https://localhost:8080/",
     "height": 954
    },
    "executionInfo": {
     "elapsed": 30684,
     "status": "ok",
     "timestamp": 1625583061345,
     "user": {
      "displayName": "Young jun Jang",
      "photoUrl": "",
      "userId": "15364579243826530783"
     },
     "user_tz": -540
    },
    "id": "MzAw7ZXF5GQW",
    "outputId": "c058ce08-2e88-4d45-dd4f-d5dbf820b95a"
   },
   "outputs": [],
   "source": [
    "# Refining our list of numerical variables\n",
    "numerical = [u'Age', u'DailyRate',  u'JobSatisfaction',\n",
    "       u'MonthlyIncome', u'PerformanceRating',\n",
    "        u'WorkLifeBalance', u'YearsAtCompany', u'Attrition_numerical']\n",
    "\n",
    "g = sns.pairplot(attrition[numerical], hue='Attrition_numerical', palette='seismic', diag_kind = 'kde',diag_kws=dict(shade=True))\n",
    "g.set(xticklabels=[])"
   ]
  },
  {
   "cell_type": "markdown",
   "metadata": {
    "id": "TOezT0h2vtgt"
   },
   "source": [
    "##### 상관계수 구하기"
   ]
  },
  {
   "cell_type": "markdown",
   "metadata": {
    "id": "O143KF-4HD_q"
   },
   "source": [
    "* 방법 1"
   ]
  },
  {
   "cell_type": "code",
   "execution_count": null,
   "metadata": {
    "id": "9GCPJm9PlI_w"
   },
   "outputs": [],
   "source": [
    "num_feat = attrition_num.columns.values\n",
    "comb_num_feat = np.array(list(combinations(num_feat, 2)))\n",
    "corr_num_feat = np.array([])\n",
    "for comb in comb_num_feat:\n",
    "    corr = pearsonr(attrition_num[comb[0]], attrition_num[comb[1]])[0]\n",
    "    corr_num_feat = np.append(corr_num_feat, corr)"
   ]
  },
  {
   "cell_type": "code",
   "execution_count": null,
   "metadata": {
    "colab": {
     "base_uri": "https://localhost:8080/"
    },
    "executionInfo": {
     "elapsed": 5,
     "status": "ok",
     "timestamp": 1625583007963,
     "user": {
      "displayName": "Young jun Jang",
      "photoUrl": "",
      "userId": "15364579243826530783"
     },
     "user_tz": -540
    },
    "id": "9r6sLI9clZv8",
    "outputId": "475caed9-975b-4d33-cc33-48cec572f317"
   },
   "outputs": [],
   "source": [
    "high_corr_num = comb_num_feat[np.abs(corr_num_feat) >= 0.9]\n",
    "high_corr_num"
   ]
  },
  {
   "cell_type": "markdown",
   "metadata": {
    "id": "hljN3n1gHK1x"
   },
   "source": [
    "* 방법 2"
   ]
  },
  {
   "cell_type": "code",
   "execution_count": null,
   "metadata": {
    "colab": {
     "base_uri": "https://localhost:8080/",
     "height": 717
    },
    "executionInfo": {
     "elapsed": 468,
     "status": "ok",
     "timestamp": 1625583008429,
     "user": {
      "displayName": "Young jun Jang",
      "photoUrl": "",
      "userId": "15364579243826530783"
     },
     "user_tz": -540
    },
    "id": "pExNUAEOG-NY",
    "outputId": "54157602-74dc-458f-a5dd-fbc3ae79c325"
   },
   "outputs": [],
   "source": [
    "# plotly 안 보이는 문제 해결\n",
    "import plotly.io as pio\n",
    "pio.renderers.default = 'colab'\n",
    "pio.renderers\n",
    "\n",
    "data = [\n",
    "    go.Heatmap(\n",
    "        z=attrition_num.astype(float).corr().values, # 피어슨 상관계수\n",
    "        x=attrition_num.columns.values,\n",
    "        y=attrition_num.columns.values,\n",
    "        colorscale='Viridis',\n",
    "        reversescale = False,\n",
    "        opacity = 1.0\n",
    "        \n",
    "    )\n",
    "]\n",
    "\n",
    "\n",
    "layout = go.Layout(\n",
    "    title='숫자형 Feature 들의 피어슨 상관계수',\n",
    "    xaxis = dict(ticks='', nticks=36),\n",
    "    yaxis = dict(ticks='' ),\n",
    "    width = 900, height = 700,\n",
    "    \n",
    ")\n",
    "\n",
    "fig = go.Figure(data=data, layout=layout)\n",
    "py.iplot(fig, filename='labelled-heatmap')\n",
    "\n"
   ]
  },
  {
   "cell_type": "markdown",
   "metadata": {
    "id": "J4YZ1uN_vlIc"
   },
   "source": [
    "##### Feature 제거"
   ]
  },
  {
   "cell_type": "code",
   "execution_count": null,
   "metadata": {
    "id": "EtRtCi9MlXUd"
   },
   "outputs": [],
   "source": [
    "attrition_num = attrition_num.drop(np.unique(high_corr_num[:, 0]), axis=1, errors='ignore')"
   ]
  },
  {
   "cell_type": "markdown",
   "metadata": {
    "id": "S_6RUfXIhYXV"
   },
   "source": [
    "#### 2) 범주형 Feature\n",
    "  * 데이터 확인"
   ]
  },
  {
   "cell_type": "markdown",
   "metadata": {
    "id": "2IB2L709hmFK"
   },
   "source": [
    "##### 데이터 확인"
   ]
  },
  {
   "cell_type": "code",
   "execution_count": null,
   "metadata": {
    "colab": {
     "base_uri": "https://localhost:8080/"
    },
    "executionInfo": {
     "elapsed": 10,
     "status": "ok",
     "timestamp": 1625583008430,
     "user": {
      "displayName": "Young jun Jang",
      "photoUrl": "",
      "userId": "15364579243826530783"
     },
     "user_tz": -540
    },
    "id": "7a0JaKNohpMF",
    "outputId": "8f4c7e53-6dcb-452c-c904-e05f7eb81d5d"
   },
   "outputs": [],
   "source": [
    "attrition_cat_dummies.nunique().sort_values()"
   ]
  },
  {
   "cell_type": "code",
   "execution_count": null,
   "metadata": {
    "colab": {
     "base_uri": "https://localhost:8080/",
     "height": 240
    },
    "executionInfo": {
     "elapsed": 336,
     "status": "ok",
     "timestamp": 1625583994293,
     "user": {
      "displayName": "Young jun Jang",
      "photoUrl": "",
      "userId": "15364579243826530783"
     },
     "user_tz": -540
    },
    "id": "98MJlNKRsGXa",
    "outputId": "f766a543-c746-4fa2-ea8f-250ff50d5da5"
   },
   "outputs": [],
   "source": [
    "attrition_cat_dummies.head()"
   ]
  },
  {
   "cell_type": "code",
   "execution_count": null,
   "metadata": {
    "id": "ISTE5bWyrxLJ"
   },
   "outputs": [],
   "source": [
    "from scipy.stats import chi2_contingency\n",
    "import numpy as np\n",
    "\n",
    "def cramers_V(var1,var2) :\n",
    "  crosstab =np.array(pd.crosstab(var1,var2, rownames=None, colnames=None)) # Cross table building\n",
    "  stat = chi2_contingency(crosstab)[0] # Keeping of the test statistic of the Chi2 test\n",
    "  obs = np.sum(crosstab) # Number of observations\n",
    "  mini = min(crosstab.shape)-1 # Take the minimum value between the columns and the rows of the cross table\n",
    "  return (stat/(obs*mini))"
   ]
  },
  {
   "cell_type": "code",
   "execution_count": null,
   "metadata": {
    "colab": {
     "base_uri": "https://localhost:8080/",
     "height": 257
    },
    "executionInfo": {
     "elapsed": 8144,
     "status": "ok",
     "timestamp": 1625583016905,
     "user": {
      "displayName": "Young jun Jang",
      "photoUrl": "",
      "userId": "15364579243826530783"
     },
     "user_tz": -540
    },
    "id": "P5Hz9wsUrzU9",
    "outputId": "cff7bcf4-08e4-4fae-d63a-2310e3618423"
   },
   "outputs": [],
   "source": [
    "rows= []\n",
    "\n",
    "for var1 in attrition_cat_dummies:\n",
    "  col = []\n",
    "  for var2 in attrition_cat_dummies :\n",
    "    cramers =cramers_V(attrition_cat_dummies[var1], attrition_cat_dummies[var2]) # Cramer's V test\n",
    "    col.append(round(cramers,2)) # Keeping of the rounded value of the Cramer's V  \n",
    "  rows.append(col)\n",
    "  \n",
    "cramers_results = np.array(rows)\n",
    "df = pd.DataFrame(cramers_results, columns = attrition_cat_dummies.columns, index =attrition_cat_dummies.columns)\n",
    "\n",
    "df.head()"
   ]
  },
  {
   "cell_type": "code",
   "execution_count": null,
   "metadata": {
    "colab": {
     "base_uri": "https://localhost:8080/"
    },
    "executionInfo": {
     "elapsed": 7,
     "status": "ok",
     "timestamp": 1625583016906,
     "user": {
      "displayName": "Young jun Jang",
      "photoUrl": "",
      "userId": "15364579243826530783"
     },
     "user_tz": -540
    },
    "id": "l_do2wLixrrR",
    "outputId": "785395ff-530e-4edd-dc6e-f65e4b1e762c"
   },
   "outputs": [],
   "source": [
    "high_corr_num = comb_cat_dummies_feat[np.abs(corr_cat_dummies_feat) >= 0.9]\n",
    "high_corr_num"
   ]
  },
  {
   "cell_type": "code",
   "execution_count": null,
   "metadata": {
    "id": "MabCKZ8h7mrR"
   },
   "outputs": [],
   "source": [
    "# Concat the two dataframes together columnwise\n",
    "###### 코드 작성 부분 시작 ######\n",
    "\n",
    "###### 코드 작성 부분 마침 ######"
   ]
  },
  {
   "cell_type": "code",
   "execution_count": null,
   "metadata": {
    "colab": {
     "base_uri": "https://localhost:8080/",
     "height": 240
    },
    "executionInfo": {
     "elapsed": 4,
     "status": "ok",
     "timestamp": 1625583583338,
     "user": {
      "displayName": "Young jun Jang",
      "photoUrl": "",
      "userId": "15364579243826530783"
     },
     "user_tz": -540
    },
    "id": "82c5vrlrUIzn",
    "outputId": "c6956da0-5a69-41eb-cd8f-a550e193a9c5"
   },
   "outputs": [],
   "source": [
    "attrition_final.head()"
   ]
  },
  {
   "cell_type": "markdown",
   "metadata": {
    "id": "TvHcV9tJ7qUM"
   },
   "source": [
    "### 6. Target Feature 불균형 문제 처리"
   ]
  },
  {
   "cell_type": "markdown",
   "metadata": {
    "id": "lsnI8yLLXWjj"
   },
   "source": [
    "#### 1) 불균형 데이터 확인"
   ]
  },
  {
   "cell_type": "code",
   "execution_count": null,
   "metadata": {
    "colab": {
     "base_uri": "https://localhost:8080/",
     "height": 542
    },
    "executionInfo": {
     "elapsed": 305,
     "status": "ok",
     "timestamp": 1625583586030,
     "user": {
      "displayName": "Young jun Jang",
      "photoUrl": "",
      "userId": "15364579243826530783"
     },
     "user_tz": -540
    },
    "id": "B0u5ahgj7tIt",
    "outputId": "6692fb81-926e-4ea1-b00c-08a4663de3f2"
   },
   "outputs": [],
   "source": [
    "data = [go.Bar(\n",
    "            x=attrition[\"Attrition\"].value_counts().index.values,\n",
    "            y= attrition[\"Attrition\"].value_counts().values\n",
    "    )]\n",
    "\n",
    "py.iplot(data, filename='basic-bar')"
   ]
  },
  {
   "cell_type": "markdown",
   "metadata": {
    "id": "TgMcXdmV7_AS"
   },
   "source": [
    "#### 2) SMOTE 를 이용한 오버샘플링 적용"
   ]
  },
  {
   "cell_type": "markdown",
   "metadata": {
    "id": "-AiDJ1vlWkgS"
   },
   "source": [
    "![image.png](data:image/png;base64,iVBORw0KGgoAAAANSUhEUgAAAroAAADUCAYAAABznIAaAAAgAElEQVR4Aex9B3sUR7b299vu3r137+7eTXdtnLONbWyCScaAMdgGGzA55wwiRwnlABISyjnnPDnn0fmet+QWo1H3TNUkzYyq9JynRz011dWn63S9deqE/0eySA5IDkgOSA5IDkgOSA5IDkgOZCEH/l8W3pO8JckByQHJAckByQHJAckByQHJAZJAVw4CyQHJAckByQHJAckByQHJgazkgAS6WflY5U1JDkgOSA5IDkgOSA5IDkgOSKArx4DkgOSA5IDkgOSA5IDkgORAVnJAAt2sfKzypiQHJAckByQHJAckByQHJAck0JVjQHJAckByQHJAckByQHJAciArOSCBblY+VnlTkgOSA5IDkgOSA5IDkgOSAxLoyjEgOSA5IDkgOSA5IDkgOSA5kJUckEA3Kx+rvCnJAckByQHJAckByQHJAckBCXTlGJAckByQHJAckByQHJAckBzISg5IoJuVj1XelOSA5IDkgOSA5IDkgOSA5IAEunIMSA5IDkgOSA5IDkgOSA5IDmQlByTQzcrHKm9KckByQHJAckByQHJAckByQAJdOQYkByQHJAckByQHJAckByQHspIDEugm+bHOzBA5PAGyuPxC5PAGaAY/lkVyQHIgbTkQnJkheyzy7Qmk7T3JjkkOSA5IDmQTByTQTfLTdPuCVNxpopt1U0JU0Wsi/FYWyQHJgfTlgMsXoIIOg5Bs411Q2m1O35uSPZMckByQHMgiDkigm+SHaXb5acuDPnrjdIsQ/fJ0kGmAk9w92bzkgORAHBwwOX208W6PkGzjXbD98QDJDZs4GC9/KjmQIA5AoTRiclPXlFOIJq1e8gXkrmuCHkNSm5FAN6nsJTI6fPTltU76j311QvTtvV4yO31J7p1sXnJAciAeDhjsPvr0cruQbONdsDqnWwLdeBgvfys5kCAOTFg8dKl6gn7KHRCiRy16qYxK0DNIdjMS6CaZwxLoJpnBsnnJgUXkgAS6i8h8eWnJgQRwoE/nok33eul/jzYK0aGSEdLZvAnogWwi2RxYMkDXH5whjy9Ibl9AiALB+LYmJNBN9hCW7UsOEEFORWUbW5Z4L8RTJNCNh3vyt5IDi8+B7mknrbnZLbwrs7dgiKYl0F38B8jRgyUDdIeMLirtNlJem16IsK0Bz+pYiwS6sXJO/k5ygJ8Dk1aPkFzjPVDYYaRho5v/Iio1JdBVYYo8JTmQQRyQQDeDHlaMXV0yQLeoy0jr7/TQJ5fahejlkCUurY8EujGOTPkzyQEBDtQNWYXkGu+BlTe6qKzbJHCVhVUl0F3IE3lGciAWDiAEZ7/eRb06fkJ9m9sfy+XmfiOB7hwrsvbDkgG69xqn6a0zLfTHA/VChInQH4dnZbKArjcQZAJudftJhKSXaNbK8pK+sfIek5Bc4z3wz+PNBIeSeEqygK43MCMk13gHIJ6vlO94nqb87WJyoG7YRvuLh+mX/EFu+q1omNonHHF1WwLduNiXET9eMkD3buM0LTvdImyHk65AFwb0dxqm6XrtpBDFu1WbEaNadnLJcQByKhrZ5G9Hm+hhc/oBXdgbI9SRqGw/btHTUJymGEtu4MgbThsOQBYReu9vxxq56bVTzVTeE19Magl002YIJK0jEuhGCfuVrkC3pMvIwhq9dbaVRKiq35K0wSQblhxYLA5kE9CFVjavzSAk13gHfHOrm6R8L9YIlNeNlwNQ3Pz1SKPQgvXPhxuouCs+86NkAV3s5kIh1T3lFCJkUo3DLSjex5CVv5dAN0OB7pNWPf3jWBP9YX+dEJXE+VIQkQI48bWNO6hxxCZEvTqnyGVkXckBZmubLRpdmCXdbpgWkmu8B94730aplG+XL8gmcFH5HjS4WJQMOWwlB0I5kG1A93mfmfYXDdPPuQNCNKB3xeUAH8pT+XmWAxLoZijQfdyqp78daxJa/QIIQBOcquL1BwkZ3hCjUITOPB9LVRfldbKEA9mk0YXc3K6fFpbtd8+1xq3dEhkOyAx1rGxUSLbxHrj2cpI8fpneXITXS6FutgHdnLopeudcq1BsXsTyxcIx3rCmvOMF0RWxYHV6A0KEd1QmaZ0l0JVAl1cmhOshTun759sI20sihMlQFskBEQ5IoFtHqQa60Mwi/qiIbKPurrxBcnkDIo9X1l0CHMg2oHulZpL+dUJcGVU3bI0r0pPIUEGki8JOA92unxIi9BE7T5lSJNBNMtDFQPrxyQB9eLFdiLDlYXVph01JhkbXFwiy8C7wYhWhQYOb1CINA+jG4gC49lZ3psiP7GeacGCxgC7SdG971Cck23gXAOxpaUSSpdGFPMIZVUS2UXfM7CH0KbwgtFMs6c23P+5n2qPw9uT/S5sDEujWsV2cVALdEZObtjzopffPtwrR2edjBFviTCkS6CYZ6GKLDg4iuW16Iaodskbc3ksG0EU8wpMVY/TDo34hOl85rmpTJIFuprwGMr+fiwV0kY0Ntnii8l09oO0UmiygO27x0NWaSSHZxrvgfqOO4FgTXiTQDeeI/D8eDkigywd08X4QJa0MkJDh5Vc6hEMz/lY4FHf84njGiuhvJdBNMtCF1gb2L4hxKUKwm9HS+OAhJwPoYjJbldPFPF/h/cpLG+/0qNoUSaArKo6yfqwcWCygG7N8exdqSJV7TxbQ7Z12MpDLK9dKPewuASSHFwl0wzki/4+HA4sFdJH99FL1BNt5xe4rLyGcH3ZstUqyTBfgiP6oWcdNj1t09EJjYd2vc9GnlzuE/QGQ/jjeRB1afEvGeQl0kwx0k/HQ0GYygK7B4WOrO1Hv9VU53RLoJutBy3a5OLBYQJerc4KVkgV0EeYI9u+i8v1r/hAzXwi/DQl0wzki/4+HA4sFdN3+II2YPCx2NeJX8xKcMSMlaEkW0P38agd9dLGNmz693E57CoZUH40EuqpsydyTi5UwIlkck0A3WZyV7WYiByTQje6MJoFuJo7spdPnxQK68C9BlAOAVhGKFhkhWUAXOy0iGV7/dKiB1t/pUR1IEuiqsiVzT0Ld/9nlDvq/E01CVNlniSsFcLI4JoFusjgr281EDsAOXlS2EXc2v92QdrcrNbpp90hkh1LAgcUCusm6tWQB3f851CC0KwNQvPaWBLrJes5p1W7PlJMeNuvoRu2kEMFLGYkP0q1IoJtuT0T2ZzE5AO9hUdm+2zBN6ZicRALdxRxJ8tqLxQEJdPmc0STQFR+hS8ZG1+MLkMXlI5NTjNI1VpwEuuKDXf4iezkAORWVbYQGS8fEBRLoZu84lXemzYEX/RaWQWzrwz7iJTiOtYzZtRtdxG+kRncRmR926SUDdHHfUMyKUhi/0uZfpPqEt+RbZ1qECFu8WkU6o2lxRp7PBA6IynYabtQwNsNOEOHKRGUbyRsq+8yaj0ra6GqyRn6RBhww2H3UMemgtnE7N3VMOCJGPljM25JAdzG5P//aSwrozr/1zP5v1OSmok4jPW0zCNGkxat54xLoarJGfiE5kDIOwFRqyOgWkmu8Byp6zDQRQb4l0E3ZI5QXioEDSEfrF3QIQ/10NC3E7UugG8MgSNJPJNBNEmOT3Sw8PhGnFvF2RSiSp6gEusl+arJ9yQE+DiDAu4hco67HF1QN86dcUQJdhRPyKDmQfA5U9Jppd8EQbXvUL0QI2xcJvEsbXfFnJ4GuOM+y9heJBrrYgj39bJz2FQ0L0a366azlsbwxyYHF4kCiga7O5qVrLyeFZBvvgsctBkpX34fFejbyutnHAcyncHbtnHIIERJMRXJ/l0BXfKxkNdAdMrhZes7SbhOJkMnhjZiVTJzNmfGLRANd2EBOWD00ahIjnX1hutHM4KDsZao4EAzO0KTFIyTXeAfA4QWZkJZiSTTQBVidtnmF5Ru2mOlqH70Ux4W85+RwAKYY2EHF7owIRZONRAJdmEitv91Dr51sFqLj5aMs02tyOJf4VrMa6Oa2GthD/PxKB4lQ56Qj4hZg4h9DerSYaKCLu4Kwx0LpwRHZi3TlgC8QpKo+s5Bc4x2AzGCIjb0US6KBLngYi2xHm8iX4rNZqveMqCd2T4Clk0VKWT4KUCAQSeeZ3dxMJNC1uvxU2mWkB006IWocsRGiw2RKWVSgq7f7KK/NQPebdELUOenk4u/Vmkm2ShHJIoK69cNWIaCLFzd+I3ofxV0mMkfIlc11kwmshJfMmedj3Lm+lZzgF6rGI9oUJbCLsqkM4gA0d49a9EJygbB57RPRwwVhgnzabhDKEATZfvtsK/udKBtrBsXlG8kokF40XQo02Tdqp4TlG/HHjQ65y5IuzzGb+gG5Olc5TifKR7npVMUojS/RXRk8+0QCXdgCw1TC4REjvH9nMmjFuqhAF6FBvrjaSW+faRWi25w2nMnyegx/0WCwHCsbFboH3PPGOz00aHCFN7do//sDQUI0hz6dS4jGzJ6INkWLdkPywovKga4pB314oV1ILj6+2M7sPqN1HC/avDa9UIag/9hXR2+cbmGL62jth3+/v2hY6D4g319f70qrhSx4hqgrovIN8wTY28uy9DiAMYNFDuyxRcjlC3ABIczRb59toX8ea+Kmf59oYuHHRJ4G5mgockTuAXWhiEq3sf/aqWb6+7EmbvrXiSba+qBPhF1ZV3dRgW7TqJ3+72Qz/WF/nRBBg8hTUgV0YYezM29Q6B5wzx9faqfeaT7tNM/9JqKO3IpMBBdlG+AAArn/+XCDkFwgj/vJirGoDEw10N32sE/oPiDfy063pJ0mFEoYURnPIMVN1HEjK4hxoH3CQSefjdGegiEhahq1cQHEM8/H6W9HG+kP++q46b8O1FPzqE3oRmAegR0g0fvIqZuiCat2SE6hTiSo8u36KcqpneSmW3VTVNZtStDVM7OZRQa6NvrXiWZhrcz5tAS6A8L38dHF9AO6mTmMZa/TkQMAuqLbbH853JCWQPf7h33C8v36qfQDuuk4TmSf0pcDSEz0wcU2+p/DDUL0pFXPlXUQpnL/e7RRSLZggiQKdGFGdaB4WOgecM/f3usl7EylU2E2zbBrFiCnN31MqBaDlxLo7pvNL41tTYXqhq3MS5L3gcxqdCXQ5eWXrLc0OCCBrgS6S2OkZ+9dFnYa6a0zrXNzozJHRjvCrpvHPj1VQBf+QHsLhoTvY+2tbpatLXuf8NK4Mwl0QwCuIrwS6PINfrw87jVOE2ymeQkOey1jYttOfL2RtdKNAxLoZjbQHTK62HYvr2wr9WADjIxVsmQ+Bwo74gC6vuhaRAl0M3+MZMIdSKCbxkAXtnE+f5DcvoAQIfRSKjwi4Uz4zrk2eu1UCze9e76NLldPcMlGrPfv9fM5QnB1QlaKmQMS6EYHul4/MhyKyXeqwvqU95hoVU43t2wr7wGkI0amNp4Sy/17/AGepmWdBHBAAt3M1ugCC8CZVIT0di+LwpCA4ZM2TUigm8ZA1+T0UVGngc4+HxOiki4jmZ3+pA+yZAIZdN7q9lNpt1Ho3sGrwg5D2jkBJf1hpOEFkjk+Uu2Mliwb3ZzaKeHx/aApNZkDCzoM9P75NuHtXsTkRMginnK3YZrOVYq9327VT/E0LeskgAMS6GYu0EWkiVGTi37OGxCi/UVDVNGTXc5rEuimMdAdNrrpl6eD9I9jjUIEz9IRkzsBr7nITSQTyODKiPv5W+GQ0L2DVz/nDtCAPn3CtkXmYvZ+m8zxkS1A99MrHcLje+2trpQMmlQA3ZU5XcL3//nVjpTcv7wIkQS6kYEudlcQhgxztQghZBt8e5JZ0H7ruJ0QpUKEkCXtEueuKzTG0ACL3DvqwjkwleZNEuimMdBFjN1tj/qFNSpI5ID0x8kuyQQy6Dvi8/6UK+7kt+V+H4sVmuz7l+1H5kAyx0e2AN03Y3D0QYa3VJRUAN0PL7azsG2KfwTP8d1zram4fXkNkkA3mjPamNlN5yvH6bt7vUJ0q3466buuALrwh+GRqdA6/zzeRBeq+MwLkYYdpoii93/95RTBxydVRQJdCXRjHmvJBDLolAS6MT+atPhhMseHBLrJf8QS6Cafx+l+BanRjazR7ZpyssRPoUCR5zN2aqeSHJ83FUC3X++irTGEXoQyDsmpUlWyGuhi1YBMSIjlKUINIzahbQUMqJ154prHaHF0pUZXanRT9SJIxnWSDXQBxETkGnXfO99GSM0rWpJloys1ulKjKzoWU1lfAl0JdCONNwl0I3Hn9++QPeX/TjRzZ0RRsqfwJoxA5rVrLyfpbOW4EI2bPQRDbt6iAF2lf7xHCXQjc1hqdCPzJ92/BdBlmdEEsh795Qhfwgh/cIZ6pp1Cco33ADId4XeiBUCXV66VejyZ0STQlUBXdCymsn6ygS5k8u/HGuk/99dz038fRMIIuxAbkhVHV2p0pUY36kBsG7fThxfaCLmYReh67WTUtlEBIW7MTh/zwIfxNy/5BI3EAXSRdUXkHlB3VU4XYUWkVaRGV2p0tcZGJpxvn7DTG2eaheTirbMtdJHDEQLLUJgv8Mq0Ug+56/E70YKtRlH5/vRyO5miRD+RQFcCXdGxmMr6yQa6SGf75bUOhgOABXjo40vtwtnKJNB9lRArmmmFiI2u1OhySCNiu91v1jEtCzQtvARPwnQqUP6+GLBw91+5T+TeRggxrSKBrgS6WmMjE87r7F660zAtJBeoj52edCvP+8xC9wEZf9iiI3eUeLIS6Eqgm25jPbQ/xZ1Gevdcm5DXPjz8H7fwpQDu1zlZKKvSLiPxUlm3ibBgFSkAuvsKh4XvY8OdHuqc1E4BLDW6UqMbdRxCE2r3+MnqEqNYNDJqncH2pzcQFCa1tly+gPB9ODwBCkQwkZBAVwJdtbGWKecg3za3mGyjfiLkGxpfXF9UvhHyRk0kXV5x+ca7Ta2t0Ocnga4EuqHjId0+vxy00vcP++mr611C9KzPTF6O7HgwEUSIKlESMS0ETwGMr9ZMCt0D7vlQyUjECEYS6Eqgm24yu6A/3dNOqhm0MG0sNLK8JCpkCy7MeUICXQl0OYeKrBbGAcS3hPzwyrRSr23cQVY3X7KDsEvG9K8EuhLoxjRwUvQjmPzA1r5u2CZEOrtPyM8l2bcD0D1ocAvdA+65e8oZMUuYBLoS6MY1dqEJAaAUpWgalNBOwRB+dQ5Wqp1C5ONYqYZeJ9bPyQK64BG0XdBoi1C46fKcs9H+OhYL8w8cx78eaaSTFWNcLJHOaFxsyshKyZZvi8tPd+qnhOQa74G9BUPUG4OzWqwPIRlAV9Fmi8g26oYv4As6jPT+hTZu2VbkXyQzmoyjG+vIWRq/Q4Y9ZMgUIbsHKeBTwx8JdCXQjWukYbAC6IkQMm7AHIC3bH88QP99sEE4oHIitlZ5+pgsoKvwtmvKwYz6eY+wqQ6dDGG7hIkQkzUvfXChna6+5HMmlECXZ5RkZh2YKIjINuoiODtMCHiKweGjY2WjwrINsNucQhvhZABdgAM4ifDKtVIP8o0FsFIqes30za1ubtlW3gEI+wZHYJ4igS4Pl5ZunYJ2I52vmmBJGZCYgYdu1k+T08s3/uLlrAS6EujGNYbgkLIrb0CIEPmgfULbcDy8Q+kPdN20/XE//fFAvRAhm9iQUTsYc9ekgw6XjtDWB31ClNs238FA7/ARtDd3G/npYbOeWjidCRHmbWfeoNC9g1cIBdWn045mET4O5P+p5QC0LY0j4vJ9onyU+jmfa6YA3bfPtgmP7y+vdUZ8YBj7u/OHhGQb74JHLXrCIlgpUBxAqysi36gLkA0NMU/55FIHcxASece9f76Np2lZJ8kcwDOGs6UocQ4N1vufngzQv080szCkCEXKQ8gcCPlPRUkW0MWCE4t6LFpFCCZbSkEbcNz/08EGIXr9VAvLdqa0E+kooy5E4g7Hd4hI8OfD9UK07FQLlXSZOFqfrZLuQBcazaNlo4RwKiJ0omKUxi0eTT5U9ZkJoY9E8l+j7omKMSZ0SsNwpMPEKEoeP98kCA3TqWdjQvcOPh0uGaGRFGZdUfghj3wcwESX2you33i2tUNWrotkCtDdcKdXeHzveDwQkQd1w1Z6/VSzsHwfKhmeBxDgmAfNmKh8w7SLT8KJZVX6RPD9tuleb8T7l1+mhgODRjchGkl5j0mIsJvDW76928vi60YLiRX6/ZtnWkhn8/JeIq56yQK6mPuAZZDchpewkwJzQqVg9xVAdO2tHiGC8yFvUh0JdBVux3h80qoX3nb8+7EmKuo0cl8x3YEuvLabRmxU0G4QIgz2SCYceDkhWUXoy4HnM0A3VpepKrgWcnWL3j+0hbYUOhSlih/Zch0AXWgPecZcaJ13z7VS9UB2Ad2KXpPw+K4esEQcCi+HrPTP483C/N1fNER6uzdi24n+srLfTJigRWT8ea850d2Q7cXAAcjwmls9hB0GEYIZEm9Jd6ALe/4fHvXT3441ChF2nyOB8fphK62+2UWfXG7nps+udBCUXErBYhMYAvOhCLWO2WkygqJMaR9HOPhh11X0/vcUDBF2bFNVFjUFcKSblECXaOb30CuwCRYhplGJoFLJFKCLLW6EnRG5d9SNdv+Rxp38LvkckED3FY9Fxzbqh25Pvmrp1adMArrJuP9XnJCfksmBc5Xj9JcjjcILqo4IcWnD+5vuQHfKOhsrfF/RMIkQdqzhYKdVynvMhMQNoQv9aJ9h/vPDoz6tJpNyHrHSHzTrhO4dfAK+i5ZMJ5EdlkA3jZ3REvmgQ9vKFKAb2mf5OXs4IIFucp9lJgHd5HJCtp5MDkigO5udEWB3yOASIiSwiGTHnilAF3HKYWYhev8AyKmKXgUZkEBXAl3uVWOqTReS+ZKWbS8eByTQTS7vJdBNLn9l67MckEA3eSMhU4Bu8jiQ2JYl0JVAVwLdxMqUbC0KByTQjcKgOL+WQDdOBsqfc3FAAl0uNsVUSQLdmNim+SMJdCXQlUBXUzzkF8nggAS6yeDqqzYl0H3FC/kpeRyQQDd5vJVAN7G8lUA3QUA35kxPiX2eXK1JG10uNslKSeJAJgLd2OQ7SQyM0qwEulEYJL9OCAck0E0IG1UbkUBXlS0xn5RANwFAFwEOpmwe6tM5hWjE6GYRBWJ+ejH+UALdGBknf5YQDmQi0EW4HVH5HjK452UaSwjzOBqRQJeDSbJK3ByQQDduFmo2IIGuJmti+iIuoBuYCZLD5yS9y0iTjmlGBpeJnD4nBWbii7eaivBi+wqHWXrLf59sJhEKD++Difths45+eTogRGeejxE8NlNdshHowoPV4vIzfoKnvGR2+SN6v6b62aTT9fzBANl9DhX5dlFw5lUGHtE+pwLompw+ulA1LiTXeAd8d79XNbvi3YZpIdnGu+Bo6UjEeNaifOOtn41AF2PG6PBxy7Ui/whhFJq2nJeHsl50DmQS0MWOjDeAbGNBIUL4u8UYPxLoRh9/IjViBrouv5v6LUNUPlpFN7sf0oXWG3SxLYdu9Tym52M1NGgdIbc/9oDAqQC6BZ1GOv18jGX8QtYvXgoPC4JUe3sLhuivRxqEaMW1zkVJVZuNQBcTGjLJnK0cF6LiLhOZndrxDEWEKVvqIq8VFrB95kEqHamknK4HTLYvtOXQnZ7HVDn+koZtY+QJeIg/B9Yr7qQC6CLZSGW/hVumFdm/16ijCZVg6T/nDgjJNt4F719oJwDuVJdsBLoAHI+a9UKyjXdBbpuBXL7YF2WpfnbJuN5sPHYfeQJeRv6gPya5De9bKoDud/d6WYa//9xfR7z09tmFmdEwfrqnnAQAKULNo/aI8W7DeZKo/7MR6GLnG9gJsfFFCPgq3hIT0HX6XVQz2UDHms7Td8920tfF39HygvW0vHA9fV2ymbY+/5VOt1yh+qlmQt1YCgIq/8/hBiF6/bRYCmCj089S5SLVrghhdRha8CB25g1wO3UpgZ+RnQyZVVJdqvottPxKB/3pUIMQIetKKjOjifAFKX+hoUeebhFC8OpRU+wLMpE+Zkpdq8dGVRN1dLz5IpPvr4o2/S7fG2hlyRbaWrmbzrZep2ZdO2HBGyYOUW8T763cVr2QbONdgBTAAHE8BTIJDb+IXKMu4jtiUgwv3z/sE5ZvjENoIVNd6oZttOx0i5Bs412A1NlInZyOBWmItzzoF5Jt8H/HkwE2DtLxnpLdJ+y6YEdm1DZOrfpONh/XTTVTh6GH7b5ibgYIjrWkAuhiTH5xrYM+v8pP2JUxhY1j7NxdqZkUyuCGbG8Hi0dY9q9YeRTr77IR6Lp9QerVOYWytCGj24DBFfeuqzDQhUkCQO6PL/bTJ/nf0DtPVtDbT76cRzgH4Lv75VGCYGELVLQgpz0GrAj9lDtATaM20UvFXT/TgG7buJ1poNfd7iYRQgYUDNZEFoAepOsdt3iFSGf3kTsEkCCt5PZH/cJgBOkbYUspyywHnD4XPRuroZ3VB+mzgnX0Tq6KfOeuoM8LN9DeumPUZugkX1BMI465tWbQIiTbeA/8VjhEXVOORXlUmQR0obn64XG/kGzjPXC3cTopqbOx2zJhFZNv1A/V5NjcfvrqepewfK+91b0oWvVFGaQhF4XWdsIxReWjL+hc63U2F//4Yh/teLGP9tWdoKudd+jFRD0zS4rVDCkVQLdhxEbFnUYqEiDsWLp98zEHEjRg11VRMvEeMX5EMrmFPIK4PmYj0EViibPPx2jz/V4huvpykrDQjacIA10Iz86ag/Re3tfzwG042MX/H+evoQP1p2jMPincR2gWGkasQtQyZl+Ul1qmAV1s1beM2ah6wCJEyH4SOvkIP1SVH0B7Vjdko1PPxoXoTqOOhk2vAKoEuirMFTwFM4R2QzebFD96ujqqfKPO8eYLpHMZhLdC9XavkGzjXdA+YSerSwxUC7JAs3omAV1oshuGrUKyjXcBFnzJyFakmBSJyDjMDgBulSKBrsKJ6Ecoo0bs45TT/YDtrn5euJ4+yFtJ7+Z+xejDp6tpRdG3TFn1uL+QdC69sPyiF1ScxEAAACAASURBVDl1U/TBhTa2e4AdBF4S2cXE/ODyBoQIyphwRXWmAd0X/RZ6/0Ib/etEEze9drKZgfnoI0SsBnT+/sAMU3KBt7wEX6ZQ++Zho5s23u2h/znUIEQ7HvfHbV4oDHQf9RfQB09XRZ0EAXTfefIlE6jcgWIxzhKxgQp7DhECCAsf4MIXjuEHmQZ0wSNMaBiIvOTxBZmtGwz68VteigaMsVK7WTdFEFIR2ni3l+qHX2nvJdCNYeCG/QQ2fLDHhbZWbeGqdu6Loo30crKBfEGxLW+8AEVkG3UXS77BpkwCurHIN5u88D4QkG28A6LJN3iH7ee3z7YKyfdbZ1tJZ3vlqCuBbpiwavyLxarJbWZ+M6tKtzJgqya3OAfwu+nZTno6WMpMHDSa1DyN9++l6gk6WzkmRKHPVbPxBH+RaUC3X+eiU8/G6GDJCDcdLh2hvHZDgjkHJ74gMx943msmEYJ9MxbdSsFCGhpyXm26Um/rgz7CrlA8RRjobqvcwz0JQpjez1vJtkpEtzfjualU/zbTgG4s/AEghVkITEp4qW7YSkPGyDbaMFu4UDUhPPhhY/xiwDJ3KxLozrEi5g/TTj3tqT0WcXJUmzQvtd9kzmsxXzgDfphJQDcWdsJprm3Czi3byjtg0uqJaj+3K2+QaXCUiYvn+KeD9YS2lSKBrsKJyEcsOOEb803ZNlWzwnD5xfz8c/UBatV3RW5Y5VvMCYhuAedNEcICKdUl04CuyxegUbOHoAUVIX2YbXIi+Gx1++l+k45W5XQLEfxfekJ8kDIK6MIcIVxYIv0Pe90tz3fFtGJMxENS2oATFew6lbAzvEe2DaI0onGMF+hCAwPNqsMTECJ4E2tpVPAymbR6WVSHPp2L+4gXltqLCML205MB+vZuDzfBY/Z+07QG12ZPS6AbkT0p/bLL2EfbKncLyTdkf1fNITJ7+JzEknVDkFNemVbqwWYMEwpPiRfoQlZF5TuS4ydkFLIqItuoi3eCmnzDbv9A0TC3bCvvgdJuU1QHVQl0eUZYYurAkRTRUWCmEGleDv0OOziIppLNyqhMA7qxjAZgAWg+RQhmjJHeM+gHHGpPVozRHw/UC9HXN7qoMcRnKqOALo9tbqgQ4fO3FT+RZZEnQhiU36yfZtpDaBB5aUCPmKGRV6DxAl3YIXVNOgiRJkSoZsCq6SUNr9M7LPbnIP3ylJ9u1k+p2sN0TjrozTMt9KeDDdz0lyMNdKR0JKLMSqAbkT0p/bJF30Gbn+/iniAVOd/+4jcyeV5p11Pa6d8vNmhwc8u0IvvXXk5S1xRf1JN4gS4ineQLyndZt0mTlZigIKsiso26eCeEe6TjIpV9ZubZLiLfqAuzI8hwpCKBbiTuJPY77Mog6pEimzxHgOIjjefI4nllCpbYXvG1hnmU15QutF60+RlXT0egC1jBTAIFbZDVosLgHmEmcLt+WogeNOmoadQe8QEB6J4oHxXedUX4VERNUEpGAd0VRZuEhAhe2zB3cPpfOQ4pN57KY16bgVZc76Q3TrcIEYzCYR8YqcQLdDFAMWF8crlDiDBxAYCqlXGzhxD783+PNgoRohBA6xNeOiYcLPg+z7ajUue/DtTTgeLh8Kbm/S+B7jx2LOo/iJu7vWqvkHxjIt1ff4qs3lcvtMW4CThTico2wpUVdhq5uhsv0N3xeIA+E5Tv9Xd6NPsGGYWsiso33gl4N4SXZ71mFr5NkV3e4/WXk/OcxsLbxf8S6KpxJTnnxu1TtLJ4i7AM7609TlNOXXI6xdkqTFVgEiPiJP1y0EpwbI1W4gW6wABwkBcxI0Bd7B4BlKsVAFbcL3ZFRAiOueG6NyAUhNh873ybEH1+pYOu1kQOFrAkge6hhjNCQgTP7JPNlwlZ1BazIHQOvEJ5X+BKPWhV4HEYqcQLdCFAx2NYMa280UUIv6JWEBMURtzKffAev73Xy2ILh7cpgW44R7Lvf7PHQocbzjK7eh5NEOpAG3S/N4/F011MjkBOece4Uu9vR5voYbOeq9vxAt3lVzrpP/fXC/Vx2akWzb6NWzwEWVXuhfeIdwLeDeFFAt1wjmTm/4iKtKpkq9AcDTn+re44QRu8mKWi10Sb7/fR2ts93LTpXi81hDgla/U/XqALhUxxl5HbMUxxIrvdMM3Arlq/LC4f25GB5lOEEC8emCO0APhi95n3PaDUw0L5WNloaFMLPi9JoAsP6y84vbLfzV1B68q3U/VE/QLmxXMCQa69AS/ZvHbC5AyzCAS/jpR2WALdOi4hkEA3npGZ2b+F/MADe03p96rxc9XA77qy7dRh7Ikoe6Jcgec4IkBAvmESAftfJt8R4nFLoMsn3xLoio7GzKqPUH+Ica8mq1rn3sv9mk40XVx0PxpkJfzn8Sb674P13PT3Y41U2qVt4qM8vXiBLn4PZZRIuC/U3fKgTzMpFBRcX1zt4M74pmSGW3OzWwJd5cFyHoWjLmDyOdt6jZZHAbsAuV8Vb6IrHXcSZp+LCdDtd7NML7VTTVQwVEYId5Y7UEQVYy+ow9DNQquoAd5kA93d+YMET2ERQuQAOIhIja6MusApr0mvNmafoDOtVwlhw9SSRSiTJZxMvy7YQHe6HyXMbGEW4HqYfCMpDeT7YX8+PRkoovLRauo09jLQqxbgPtlAF7EcRWQbdd891zYX11tqdBu4FtqKpgn8k1EXxMUdmdByuh8K7cpgnsY8qjZvivdg4S9gQztf/7iwDs7AfvyvRxqFxsmfDzcQ0rhHK/ECXTiuImGNMj55j6tvdmmaF2LeBwbgbUuph+gHUqMb7YnP/14Y6EKbOmgdoTMtV5nm58Onq+aFMcEE+NHTNbShfAddbMuhQctITMGo53eTWBsA2fXTzXSxPYdleFlfvp314ZvSbSxV6f66k4QA2CO2MUJmmNCSTKALQb5VP0VbHvQK0aGSYWYmIIGuBLqhY3UxP0NukDTiVMsVFqIIpkeQ6VCA+/HTNbSxfDtdqzlDw50vKOCN3/4eEyG0tnVTTXS+7QazFV5X9sM8+T5Yf5ppnJHSNNwUKtlA99rLCSHZxrtgT/7QnKOWBLoS6KZCrhX53fz8F67IC0ge8VvdCeo1DySse0whFfCwRDKY/xHNBe2P2yfJ5nWQ2kIVF5dAl29XRgJd8aEqDHRxCaz8hqyj9LAvnwAu4eX5bcXPtOnZz/R95W463HCGkCRiWAVwindx9hcOn5NeTNTRntqj9GXRtwtWrNAgYwJeX76DrnXeYVqhUIFKJtDFJI0sXc2jNiHqnnKw8EYS6MYPdBFq6czzMZYmFKlCeenM83GatER3Zoh13Gbi72A20GsepAd9eXSg/iR9X/krk23I+A9Ve5kdb/5gCQ13V5Pt1kUKWs1x36bH76EX47Us9TDCHYVHd3n3yQqWcnxjxU90rfMumzRDL5psoIs4zaLyjUxuin2/BLrxAV2EQNpbOMQt14r8HyoZIcQBXSoFcxEUQjBBQrQjxMlVFqmhRyRzQqhQmDkg5bfbv9BuOxaeYQE65dAxc8Vb3Y/oWON5Fkf/YMNppqAqHK6gPvMQeQILr5dMoMvsTCvGuLO3KVnedjwZYKYHUqO7xKIuKIMfIBIZWLBaezFeR6UjlVQ2Usk+95j72RZjuNZF+a3oEdeCWQI8Q6PF8YVzzOrSrQyEh8b2TCbQxf1gK8EXCAoRPDlhRC6BbvxA1+ENEBzmKnrNQoSwc9HiCIqO12yoD82QwW2iLmMvVU3UUtloJZPxl1MNhOgMsIv3TY+T60EO+VobKGizzKYzjOHmId89pn768cU+wg5R6IQc/hnyjR0cOMA5fa+SkSQb6MYi36HxaiXQjQ/oYsGAmJyi8o208MjstJQK5EnvMjKw+8vLw7SqZAtbJEK2oMH9rGAdrS37gQ7Un6KKseqEmRbiuiO2cbrd85i2V/1GK4s306f5awm7Qpi3vyjcSBvKf6TjTRepabptAbhOJtDFOx5Zvc5VjgsRojUhk5sEuvEDXUSF+O5+L/3vkUYh+il3gMwhGdZikeWYNLqhF8KE6PK7mSE77IPw2R/BaST0t7yfEboIAa0hoOETn9r/mAwR0gxbsEqMvWQDXd57UasngW78QBdOqAjjgsD8IuT1L07aaLVxkG7nsAU5K9+uOfl2BzxztnwzXi8FpibIVfCI/IN9NON2xwR2oU263H6LO7U4nGcQBg02u0pJNtBVrhPrUQLd+IAuNJUIxyQi26iL3+C3S60AdMKRs0nXRvd6c+lk8yUGbBE1CTb4T/qL2PwIUwI+C9roHIQm90bXfQaiNTXJuSvYPL6v7gSTX7xflJJMoAscAM0+AKsIIWMgFqwS6MYPdJG17XrtJP2aPyhEdxum41ZGxQ10lUGazGO/ZYh21x6dZyuoBnBDz2EVmT9UNrdqlECXz/4n1VEXsNLObTXQyhvdQrQ7f4jaJtRjCCdzLMq2F3LA19VGvrZG8vf3EPlfTVwLa6qfMbpN9E3ZD1yLWEXGvyzayLS6SosS6PLJ92JEXbhcPUFrb/UIyfc3t3o0k+Eoz1weI3MAABZmSJAv+K30mAaYSRJs3LEj4w34Ijcg8C2yqhUNVzDfHCxEFTnVOn6S/w1zagcYVxYiyQS6AreiWlUC3fiBrjcww2J49+mcJEJwSg13vlN9SBFOZgTQbZhuoY0VP0YVnnChutp5dy5jkwS6fBNhqoEuzDewpYHMUSLUPGaf82iPML7lVyngwIzHQ772ZvJUlZO/q41m/H6acTopMD5Bvu5u8nV2smNgdJRmHA6CQ6tSoGnptwwusMkNl+Xw/z/IW0nHms4rzZAEunzyvRhAt1fnpJoBCyH5Di8haYBWBqi5hy4/cHMAGl7stAaCAU1nMO7GVCpOOfUEbTHkMlxWtf7/uuQ7plVGn1Ak0OWT4VQ7o0GrfaFqnIV+Q/g3Xtpwt4dax+dnXcP7PhgUo5DpQmXk8Z3KCKD7crKReYBrCYzW+XNt15mtElghgS6fEGkB3a4pB713vlUoE9M/jjfRsfLIwagBeQB23b6gEMFMQTFL4RvqslYyORC0mMjb3kz280cZqHWVlJD93AWy7t5L5p27yPLrHrKfPkOup/nkHxhkYBj9wQTcqu/knhwVWUfos99qj8/dkgS6fPKtBXSxyERuetFMa7cbpsjuiZwCGFu/AK0iMs5MDl6th+aes/yQOg6Emi7BGRxRUXxB37yFqtKbZl07bXn+i5Acw8Qwb6CYhQxFOxLo8slwqoEudl2r+s0ssQSSS/ASnqdachplzKTymBFAl2l0y8U1upc7bpPRPesRvhSB7rZHfYQ0vCK0+UEvIYJBeME5BMxGLEFe2l80REWcKVbDryf/zzAOzAQpaDSQ9cBush05Sqa168jw0Sekf+c90r/9LjsaPvyYjCtXk/XIUfI2t8CDky1W4NyGSU8BsTxH2AAebTw3x6SlBnQhj5BVEdlGXbwT1CafnmknXXwxzi3byjsAKVgBYGXJHg7Mmjx4WGQTzL1wNM8fLKPi4WdUO9lEw9Yxcvld8wAvnNrg4MYju6F1rrTfmUtUIYFuegJdKJSwmJ2yeYXI6PSljSNoRgBdTIS/vjwiJETwMEWIMzjHoZT3mFhu+NU53SRCTSO2uO1Dor0CzU4/XamZpLfOtgrRD48HqG1c3U4VDm5Xqifou3t9QnThxQQhFEt48fhnaMzkpmEDP40Y3WlnXgDt8ZDBTU2jNiHqnnbKrdTwQRH2f2BkhKw//8wArm7ZG6T79+sL6bVlpH//Q7Ls/IUCTLPrI71xjFYVbxaSb2RnvNPzZK4HeJ4ico26m+71UWWfZa6NZH7Atd4+2yYk3wiRpVUgo5BVUfnGOwHvhvDi8gbYAldEvlHX6vJTWDbS8KZT+j8iLMAUSlS+hwwuKd80G68ezt+IZ4149YiEgpj4q0u/J2RBRHjB0y1XqGq8lkxu2NfOqt3LRqtYNJRQEMvz+VL7LbJ7Z+cwCXTjALpENGpy04cX24VoxfVOul47lVIZXYyLZQTQheF8TvcDFiKFR3hQZ/OzXWxLFFujKDAmbx61U+2QVYhMDmzVJPfRwDu4YcRG12qnhKiw06iZRxtbf5iIWsfsQgQQqBWOBxMas7GBnQ0nJZl1wg8GYcgw2W+43SNEB4uHVQGCcAey9AczgQA5b94iwyefke61ZQsBbhjohaYXpgy+3i6yVJfRhZYr3FpdaH8Ru7vN0D3HTdiRicp244iNdPbUxFBGmCJMKCIyfr9JN3d/4R8go5BVUfnGO0HN9hVyivccr1wr9ZL9bgy/72j/m5x+yqmbEpJtvAu0FgDRrpdt39t8DhZybGfNIUI8a9jcQt6QNAbmQthJQfQjhA8rHConM3Mmm2GaXsTt5Z2flXoP+p4ykwjw8WGzjt443UJ/O9rITa+damZKrGQ/B4QYO1A0LLyDsvZ2N3VNOVW7h3fWuts99M8TTUK0+X6fqvINi07wUITwXkpHp26YS9g8fiFyRjChygigiwQVsOPbVXOIPsiLHGcTArSiaBPd7XnC4vwqIywwM0Pw+oNtpwjhhZ7sAgAJsItYcSKE7QRoKNUKuj0b+xPxffkJv1FvUe0qmXcOL4OdeQP0p0MNQvT19S5Vk47M40ByehyYnibThm9J97qGJjcM6AIMG5d/Tq4nD8hR8JC6DF3Mxg+JX5RJUO2ICferou8IwehhN6gUyKmIXLO6v5tOKG0k82hzB4RkG++BSIkOIKMxy3cWC7jiHS8q3ztzB5a8fCNyQuN0K/1UfSBqPGsAYCw2odlFeMBR+wTtfnmEe7EK2f4kfy01TLXMZTHFwvN4+QhBqcBLR8tGCP4jyS4Wl5/uN07T5vu9QoQkRmNm9cyRAHP3Gqfp9LMxIXrUolPdRYGTF94zIgQMobbwTTY/o7Vf2m1ivAF/eCm/3aDZbEYAXfTe4XPQs7Fq+rn6ABOQ0LSkyoSIsCarSrbShfYclrktWbm7Nbkpv0h7DuCFteNxv3B+8c+vdLDQKGl/g4vUQU9NDRk+/jSqJjfUnEH/5tvkvHWTApOw+XOzpBTIrIig9opMhx4h30gGgy1VBKbP7iXZIj3IDL/slNVLvzwdFJbv7Y/7l7x8Tzv1dKEthyV4CJU7rc8Au0cbz9OobYI8fi8L9/dV8XdM+6v1G+U8tMT76k/StEs/J8cOT4AmLR72HMbNfEfYqrt8kZ0hEzGkkQxqwuyh9nG7ECGjolb/sDiH4gVmSCIUaQGciHtNhza2PICpV6sQrbqpbeoVF9BFWBDY8yAuH1KGwpZ2zDZBNq8t4SFMMKnhWjWTjXSy5TLT/qws2cy2VxBTE4bwv9QcZsGxB60jhNWpLJID4RyQQDecI9r/I5g7zIZG7OPUZ5mV79l89fYF8u188JD0730gBHR1y94k+4WLRMEAm+yQuhRpvo80nqfvnu2kr4o30eeF61lGJUW+kRENIFcJSaTde/nNUuSABLqxP/UWfQeTOwWM8hyRdQ1RkWAiOGQdZYkplheujwh238v9is3ftVNN5A28Mh3CRgN2IkUp9jvm/6Wyg4IMfSLEdkizeAeFn4NiNb+42kl/2F8nRPBx0ioxA12k32zWddDD/nw61XyZrc72159ihuqP+wtZfDxHSIpOrQ6InEf8TZffQyP2CaqaqCPY9yATS073Q5Ycos3QxcwVEp2ZTaSPsm56c0AC3ejPB3KGRSVCBt3vy2MLS8j2/rqTdKblKnPy7Db1My2solV13r1H+vfeFwO6b7xFjvMX5jqEtqDZhVd35XgtW7Re67zHzBRgDwibXASYlzs1cyyTH8I4IIFuGEN+dzCD4gfJI0BYwIbGslZ+gR1TJHLgAbhKHeyyPB0sZWHHcI0OYw/DAEgAg50Z2PWG1oXdL+x/y0dfsGgLyvtD6YM8Sg6AA9hB/Y99fM55Sr03zyQY6Dq8TioaqqAfq/fTiqJvWR5rDGoQBAWamN0vj1LZSBUzOUj0owvMBJnAwkbP4rGxSRnhTiBoUnASzW2x9mbtBoOErR5ewgpZ7cU7u4om7naU68FuWcu0WgLd6M/T4DZR/lAp7aw+oCrf0OLsqztJz8dqmJ0sZM7z7DkhfFioaUK0z/o33yLXo8cLOjQr3x42EZo9VoKmFwBYyvcCVqX0BGQUsqXIGe9Ry48AnY+pvYC2ikwC3VdDAlpWzI9YlGKnBPNxxegLejnZQAOW4VnZDXlRInxYKDBVAGq048O+/LkMpN6gj4Zto5Q3WELHmy4wU8MfKvfQjqp99FvdCbreeY9a9J1k9znlXP3qUclPYRxYdKCLLUMIxDel25gHppqtLM4B9G6q2EkIO4IJSpalwYHGURuVd5uEqG7IyhyJwjkEB72OSYdQW7h227hdM4i9BLrhXJ7/PxaPeYPFLBMhbPBU5TsX8r2KbT/WTDaQ2zhFvoEBMn65giviggKAEWfX39M7vwNh/2lDmrCK8t+kcwDAFrIlKt/1wzZNhxdEykDoR5E2Xw5qh4STQHd2GGDOhSkBQOje2uOEiAhry7bRurIfaPPzXXS48SwVDlXQhGNqzgwJczWPs3co8AUwzh0ommeCgB0Xu89BY/YJajd2Mwc37P72W4ZZSDKWdCKrXZ6TLopZf4FFB7rD1lHaUP4jl3clQpHsePEbWz1m85PBZDygd1HtoEWIMGnA8zKbyu6CIfrkUrsQbXvYR2bnwtie8KA+9WxMqC1c+3DJMCGGr1qRQFeNK7PnoLFrmG6lbZW7uVLyYtvyl5pDNFx6i/y6KbKdOMkSQyhANuLxjbfIduAgzbjVn5N2Lxfnm95pp5Bs412ANNWIeJItxeb206GSYWF5/Cl3gBArXK18/7CfPr0s9r747p724kgCXWjJ/dRvGaJTzVcIzmEAr3D+QkQTHCG3Hz1dTevKtxNMg8Zsk2xHrW6qWTgWLkKNPRurmQPLoc8YGmX0BcAWwBsAWO64hnIo9Z/hAGd3+wlh+ETI7kb66IXvMpyDE6FIW6iL36i1p3Bk0YFuTtd9LpCrrPqWF6xnNnZqW9PKTWX6EYPnfNUEfXmtU4h+fDLAgptHun9MlMgwMg5vVA5CMHiETopUoCkVCUGCughDojLOF1xm7a1u+uP+eiHCRGewLwS68LzdmTco1BaujTSnfTrXgr7hhAS6qmxhJxEmCBENROz0MGGWPNxPbpOO/P39ZNn1C+nefjeyCcOyN8m8eSv5O7W9ZLV7uTjfnKwYE5JtvAu+u9/HvKqj9ZhHrpU603YvIVSiVsG7CJnKROUbC+5IEw+uB7AKb2hR+UbiC72KfKPNTy510B8PiL0v3j/fpnX7LK74Uo66ACCpdxnoTOtVzehEytwM0LuyZAvd7n7EnE7hVH6k8SwDxEqdSEdoc2Fv22se0Hwe6fIF5i6HNygMyCBH0eQiXe6Rpx8AmMhWeq5qXIgKO4yq7zLkGSiOoT1kskTECa2y6EB3Y4VYKl54WO6sPjhva0Pr5jL1PARh19PB2Rc2Xtqc9MnldoKmKFLBBPGoRU8Hioe5CKmO1VL4hl6jss9MN15OCtGDZh05vZEBNK6x5ma3sBH5xxfbVSdCpCqFNkgxNuc9brkvgW7o8+b9jIgKu2oOqporRJrwTtSeIZvHRhQIkK+tjawHDpLx8y9J/8Zb8wHv62+wEGTWX/eQ92UtkV/7Rcfb51TV++FRP7dcK/IP5wi1LIOhfQZm5ZVt1LtUPaFploN2AVjrh61Cso13QUmXkRAUP1IB0P3ufq+wPAL0awFdZHKCdzWvbKPeu+e0nU6WukYXzmbPJ16yaESRZFb5DmAVyZVqJxuZnS2cxBDhRM1kSfkNjvj+6+LNzMwJZgrpXiAXz3vNdK5yQoiQUCFVSWVSwUPcC95lfzncIETbHvWrpg7HTvZPTwaE2sK1f80fVG1P4cGiA9338r6e86IMHfiRPm+q+JkZxSs3kS5HaD7wYgSgEqHwOHYAukhCIPKyRt2PLkYHugMGF+14zJ/gYNO9XmbXGonHu/MH6R/HG4Xo40vtXJnBJNCNxPn0/q5N38nsbiPJstp3SBOKDEmsBALkHxoi1/0HzDTBsu0HMm/9nszf/0CW3XvJeSOH/H39RL6FGvxEcydW+bZ5AgucGb9/2Ccs36+fauECuiLJDT673KG6+6HwDoAS5j6i8o1dkI6JyIBFAl2Fy+l7RFSSY00XogLVUDn+OH8NXe28Q96gl3QuA0u2tLZ0GzNxCK2nfIYmGA6pVzvu0IR9KiPMEbBjiIXinw83CBHmU63MZsooQLbNrkkH1QxYuQgJLrCrGqlgN7NX76JeHT/169V3MUOvA3PAWBar4ANSDIcXXHNrDO9G7Gartae0v+hAN1rmIkUYQo8whIf3dLoVrEbOVo7Rb4VDQlTZb5k3ESYT6IoOpPV3eqg9yoSF4OiioByTtk5j+zH0uUqgG8qNzPrcrG9n2p1Q2eX5vK1qL3MymbvbYJCCLhcFxsfJ195BvtZW8rW1U2B0jIIOB1Ew8kt+rp04P8B85VzluJBs411QM2hlWRRDL59MoCsiix9caCN9hLTFmMgOlYwIyzdMjlrG7KG3vOCzBLoLWJJ2JyYdOtoomIoX2tmDDafJ5DEzW1skcYBDKuLSry7ZSp/mr2U2vTBpghb3pxf7WdhBOJslO541THF8gtlM4TSJLGGhBQvAvQVDMckFHKIjFSSF2Fc0xGzNYYYXjfYXDUXddT1fNU47ngzQD4/7uQm7ytGKBLrROPT7918Xfyek0cXWyLbKPeT2L1wNcF4yadVeDloJE8d/HawXogtVEywnvNKxjAO6j5Yu0IU2/ufcAfrvgw1CtOJ6F7ORVp55Nh4HrcME7SwPuA2tc7D+JAvxt4An2JcHqFUI//t8FLTbKWg2U9Bmo6DHs+BniTrxot9C2BoXle8btZMLshllO9D9JkuALibyPQVDQrKNdwFMpKKZfCVqS2wN4QAAIABJREFUXCazHZgfwQEtVD55Pu+pPUaTjmnWNdj5whyhy9hLTwdL6ErHbTrXep0ut98ixMhHvHqrd2HSmGTcFxyXYFZT1GHgprJuI/Xq5psEJhPoQuO74U4P/ef+Oi5C3WENZ2mFh2tv9bAU9YoZFM/x78calZ9rHiXQ1WTN/C9OtVwREiJsi5xruz6/kTT5r3rAyuy9RDQqqAstEVaaSpFAV+FE+tvoIh0j7Jh/etIvRMhZblKJDPHqzjP/E+LVHmu8IBRiCDs8ee33yGmYoBmvdzatkQorZjwe8g8MkLusnJz37pH9ylVy3L5N7uJi8nV3U9A5f2JSaUL4VGWfhd491yasxbn2cpJcYdFQJNCddUaLZdszlTa6cDZ92KwTkm28C+40TGWFfCNc2OrSbUJzNIAwYtxOOw3zZAwO5N6Aj2xeB5nds/GskcksdO6b94Mk/NM56aD3z7fSW2dbuAlmdjdqp+b1JplAt3PSSetv93C/Z7DrOhQF6K6+2c18AkSwyV+PSKA776GH/COcGa3D0ENfFG3gEiRMgnBeazV0hlwyfT5KoMvvBJItpgt4SSOUGfKWixCiWWBBk80FmhzE0uRxRlG0RJvKf6TB0UZylueTb2iAgkb9AiezGbud3GVlBCc0w/IvSP/u+6R7/Q3SvfMuGT5bTpYdP5LrSS4FpnUJZa8EuvzynS0aXcgowK6IbKMuFrGRElskdGAmsTG9y0g7aw5yzc+KDMPv5mTzJUK200gFwNfj95LOaWDhy7pMfdRnHqQpp545siUjshLMaf77YD39YV8dNwHwnX42Nu9WJNCdZUemaHShWHjvfJsQrbnZM++Zh/4jDHQRDw/ZTT4rWB9RmGCyAHuee7255Akkb3sy9GZEP0ugyz8RZgvQFR0jS60+nMqwVfll0caIDi2w64NDSuFgKbl8LvK8KCf/QA95ivMoaNKTt6WBRWGAJhfZz4xffqWdTOK1ZWT45DNyXL5KAZMpYSyXQJdfvrMF6CZs8GRoQwCrSBKBaEcKkI12XFmymfIHy1SzUyps8AcDNOGYZpnVLrTl0J6XR2lH1W8sjjZCmSH5xJB1jGmAld8k4tg8Ogt0RTWbEuiqcz9TgC78oBDxQoTKus3qN01EwkAXLVk8VuZxubb8B0L2pFBBwgSI2Jrflv/E4ueibroWCXT5J0IJdNN1FCe+XyO2MeaFjYDyHzxFdrQv58k45HvTs530oC+fRVOZCwIPjc+zIgqaDGQ7uof8E2PkKiwg42fL54cZ+/frC/9/bRnpP/qYnA8eMoCciLuSQJdfviXQTcSIW/w2kKRhwDJCP1TtjbhQVeZsyPLRxnME216tgqQPfZZButB+g9aUbl0QjQFKrS+LvmXRHlr1nQlVbEmgyy/D2WS6oDUWYz0fE9DFxaxeB5WOVtKJ5kv0Y9U++u75LkY/Vu+nMy1X6fnYS2bbE2vHYv0dJl3lL1obEujyC5EEutFGU/Z8D/kxuE0s1ffxpov0Y/U+2vTsZ9pStIV+LthKZ5suUfVEPXNYQV214n1eQp66F2T47NOFoFYN6OLca8vI9M068k9qT7qKbGtdN7QvEujyy7cEuqEjJ7M/Ywf1xUQdS/X7fq56OFAopBBF4deXR6hxuk01sxm4AHMEpBLGPB8tkQwyoe6uPUrdpj6WBS0RXJRAl1+GJdDVHnExA100GaQgmxA7DT1UO9VESCHYZeploYaSYa+jdRu4lsvvpmmnnq08Owzd1GPqZ16k2MrBKletSKDLL0RJBbqXtBNGIEKCyLYV6iJ7k1ZmNNjoWtx+whaOCMH7N9ttdMNlBGZKyLLUaeqlmskGaugtoe7aB2QywxlTXabm2oB2t6aadG++zQ90//066T/4kNxFRXPN4APkG1Fbpp06loWp3dDNjlNOHZN7LdArgS6/fPMC3c0JThiBWOKJTBiBrHFWd0BItvEeQJambJJvp99FLybqaV/dSZbW97P8dfRh3iq224pspRvKdzDw2qRrY+l55wlcyD8On5Pu9+ZxJ6AA2L3aeZeMbu1t5JDmo36UQJdfhiXQ1R5OcQFd7WZT9w22VRDPr2Skks633WAryu0vfqNfXh5mmuWCoTK2IoX3aHhJLNAd5DaWVwzreRJGJCWObhLDi8Er++9HG4Xo6xudqoH1Ee5nb+GQUFu4NsAxYiSrFQTqftpuoMOlo0KUUzfNnFzU2lwq52YCfnIXPKKggc9pzF1eTnpRoPv2u2Q/c3aOpbPyPUnFw8/pbOs12v3yCG2v2ss0UQh5VDzyjEZs46qTdaKBriK3vMdlp/kSRogs5JIVR5cH6AIMIguSqHyvvd2tmWzmqxtd9I9jYu8LBJPXKkjZWtRpEpJtvAtgCwgntmwqWKgOW0epaLiCrrTfplNNl+hM8xW61nGX2doiQkO0BSvS+2IuVUwdeI7rynewEGThyi78H5gJsMUpADTAOOLwhtcLfQYS6C5NoAuFVCwUOnZCP2c00PUFfWybBBMeAluHG+Ajg8uKom/peNMFajd0LbAdSiTQ3V80zF7YeGnzEgBef1i8v9CHg8+ZBnTvN03T8fJRIcqpmyLk4A4vmHiQl1u0PUxayISjVtDmjhgSZmByRbaapV6cd66Sf3RYM4xYKH9cj3PFge5b75Dt8FHWDOQbnt2nW67Q1yWb6d28+Q42kPeVxVvoZPNlgpbXF7aYTSTQ3ZU3wC3XivwjzBF2AiIVRCnMFKCLRWJuq15YHm83qMs3+IL0w6LyffWltmnLUk8BrDbWAGYRF9foMRMypzn8zqgAV2mncvwlm1t5AK5SB/NuychzQigyFOy4wJxi1DbBdn4Lh8rpyUARc4CrnWpk9sGoq7YzI4Fu4oEudjx54vKG1sFOjlomM+ATpAcOrcvzGcqoUZP2fIqkV7VDViFqGrUpw3bBMWOBLlaBg9YROt58gT4p+CbiihPbKftqT1CPaYDgPaqURAFdRJ0q7gIgGxGinNrJqHm0oZlEbmqewYM6G+/2Rs2MBqDHG9xaqQftFE9mNKRDtLp8QuRw++dlmlOeD1Z0iGcq2h7ymgfUTUeZ1kYCXYXD4kdfcwP5OtsI0RSiFcTM1b/1jpjpAjS6p05TIOCjEesoy9gE+VUmUbXjx0/X0IH6U8xcCWNGKYkEuk/bAfDE5PvyiwnCWIxU0F1e2UY9gOdImdF0Ni8dLhkRlu+1t3uodTxyZjT0FfcjKo9YxGpF5sN3ou3Z3dqLBwl0I4028e+gDV5eGDnCkppM3u99OmfDD4f0F+N1dKr5MiFLKhzXlheuoy+KNrLwozgPm2Krx7ZAu5tIoPtb4TD95/56IUJ8XMTyjVQyKY4uFt4nn43RypwuITpRMcrMgcL5MGb20Onn4u0h6RZMhrTKL08HCfG3RWjLg36t5mKLuqDZWgq/wAr1bk8ufVG4MeIkqAihmu1QooAubhuJCGxuvxA5PNHtwsYtHjr7fJwQQJqHjpeN0qAhchY6TITvnm0VopU3ulTNC1L4yBNyKanRjY+N3oYa8lQU04xde/WsXCEwOESGjz4RA7rvf0COa1fJOthBd9pvUzSQq8j3ZwXr6GL7zXkZ2hIJdLHgEpVvuwfbsgo31I/4nkeulTpI82l2qe9W4AqI93zxxYSQbONdsDN3gLqnEp+0Q/2uk3dWAt3E8rZoqCJqKFFFBkOPD/pmgS6S0OQPljJHdS1Zhgb42/KfCWaGdp9znntrooAu0ldDLj670iFE+wqHNc3gFE4zoHsnMxJGeP1B6pl20sshqxB1TzvJ7Vu4aMfCtzeG9qAJdvu0/Tywgyqy04W6b55pVR7JgmPGanS7Tf3CgbFhO9Rh7J3L7JKoFMALuJrAE9guhGNV7ZCNi7qnXapmAKFdwpbAwyadEBV0GCMOzND20/mzBLrxPR3/2DC5HtykoHF+FiW1Vmc8XrL+spt0b7zFB3aXvUmmjd+Sp+YFDT27TxsL+BLTKBPslue/UKuha64riUwBPNdoEj7wyjbqtY47CJOVVsH7AkH2ReW7st+cFQtZCXS1RkZs55npQun3XMokRQ6RgKJ4+BlLQFE1Xksby38kJI9Svtc6flO6jZk2wC5fKYkCuh5/kABIS7tMQtQ4amfOjUp/1I4AgVsf9tH/Hm3kItQdMUVWRq2/00t/OdJI/3OogZv+dbxJrXsZeU4C3d8fW8XoC1pVsjWq8IQKFVaO5WMv5oJad0w6aGfeIH1zu1uIYAOqtRWXkaNqCXVaAt34HnbAoCPH+aMUmJrgasjb2EimNWtJt+zNyGB32ZtkXPEVuXLzyOdxUUN3Kb33+Ash+f6qeBOz/VM61jZup10xyDfMkDAxypJ5HJBAN7HPDNGL4IyGuTN0Lo30GZkV2wzdLKXwvvqTQinFd788StACKwWLtj8damCRORCdg4cAOLGdnqqCMXe3YZoOFA1zEeoaHdq7Muj3lZpJwu4N8Akv7S0YStUtJ/06Euj+zuK8wRLCdmUkgVP77nF/IcHjEwWgB3ZpdcNWIYJTUpQdyaQPBHmB2DgggW5sfAv9levpA+7ICzM+H7nyC8i8YSPp3353FvAi/e9ry2Zp2ZvsvGnVGnLm3KQZm408AS/BYUVNfiOdQ5zPa5335rqKZw2wKyrfk1ZvVoWammPIEvgggW5iHzJAJ7KbwqkbsXcjyR++++jpGrrYdouQivjlZCOtK9se9TehbeL3feahOWe5jkk7vXmmhV472cxN751rpSs1fAvxRHALqaMRkQQO0DzEE8oOJkiIOiRCeG9lS5FA9/cn+XSwNCbbIXh7RsvpnS2DRes+YBcoGrojmq1h6LWS3X7otUQ/S6AryrGF9d35jygwNMCdwSzo8ZCnooJsBw6Sef1GMnzxJRk++5wMy79gCSIse/aSK+8pBU2zsTcBdOEEEzoB8nwG0EV68qVeki1/yW4/nucngW483Fv4Wzh995uHCIljvijcoKnZhWkC5A8aWcSxh/nB/b6nzPGMR3ZD61SMVbPfozd4nhdfjNO5Sn66XD3BFrcL70aeyRQOSKD7+5OCMKwuFTNdQLpimDwoYU8y5aEnup9YUcI7W4SwUg31aI/UJ9QVaRt1Tc7IWzmRrifynQS6ItxSr+trbSRv9XMKWq004/fPAt4oK6GZQIACI6PkqXhGjtt3yH4jhxy3bpOnpJR8fX3zojhgkmycbuV2RFMmyXDTBfXeZ/fZYHCGEJVAVP7MTh/5AtHNNaC9Ql3R9pGkhff9Ec8TkkA3Hu6p/xbxeBG+71TLZaah/bRgLX34dBWTzw/yVtHH+WtodekWOtRwhhqmW1lyF7SU0/0gpogNUGIhtCAKknjAqVOUpOmR+rPMlLMS6P7+pBBfc1fNIS4jd0yE7zz5ktaXb6dOY++CECaZ8vAT1c/SbiNdqBoXopt1U1FDJaF/MOm4VTcl1Db68riFLwlBvDyQQDcODgaDFHR7yFP1jFz3bpG3qZF8XV0UGB5h2tgZrzd6fF0EAne5aMbhoKDTRTPBheAK8TTH7JO0oeJHru1SyDc0Stsq91CLrjOOG8z8nyJcV/WARVj+nrYZaJpj69Ps8lNem164/ZIuI7lTYPcsgW5yxjAWn0gF/HSwhIUJQ+rgHS/2sTn4aON5lj2t1zw45/+CXtzvy6Mvi/iiIimLVRzLR1/MaXSTczfp36ovMMP8BADYRYjnzqCTwKJWpF3URZ9SZbIpge7vTxK2Q3d6Hs/aDkXx6FTyel/puENGt4lnLGR1nV+fDtLfjjYK0YcX2jSTMIQyC0KEWJ+i7a+73R3aTNI+S6AbI2sDQQoYjeSprSXH9RtkO3CArLv3MLIdPU7Oe/fI19JKQZs9Otjl6ALs6G/3PKZP89dGNWHAIvbzgnV0qf3WvPBiHJfJuip6u49OVowJy9/m+31R42+DWcNGN2261yvcPpwCrRHi3ybqQUigG52TSCABjanL72axbhGq0+33MHAZKUsZWnYHPDTpmKYOYw/VT7dQq6GTRu3j5ERYsLBdHURcgGNaKIiN9hk2ulBGRcvYFv0uM7tGx4SDagatVC1AiKbEUxDWC75JIm2jbq/OybXrw9OHaHUk0P2dQxCqPvMgy3qGVeN7uV+rChS8ReG09lvdcZZlKTRhRDRmx/M9tumw5YMXA14oeJHg/3QQ4O1JTAGMd90bZ1qFY+CtuKauiUN0C6wkvYKklbdeAt0YRjVSd05OkfPhIzJt/Z70H3xEuteXvYqi8NobZPz4U7L8vIvcJaUUtNriBruQk2HbGEsYAfnV8vrG+eVPVtL+0l+oQ9+1YLKN4W65fqKABcg15BuZn6D1Cp/suRpLYCUEYT9UMiIsfzwpgNHNIYOL1tzsFm7/+4d9qil28b4QlW3U15JvCXS1BxP0ccgeCEcxmCI8G6tmMW7zh8oIoLTH3E9mj2VeUiXt1qJ/A0C8t+44ffB0lercHA56Ics/VR8gs4cPsEXvQebWOFw6QkjiosTP5jl+e7eX64ZhdrS3cEiobVz/UvVE1NClXB3gqCSBbgiTZm2HuuhM61XaUP4jLS9YTx89Xc3CmeAI43jE5jvadJ6adG0MdIb8PCkf8TKBM43eZaAOUy9VTzYQYhHWTDRQl7GPnfcGfSnbAlC7yUwCurDNaht3UNOYXYgw4akV2CfvzBtgIWsQtoaXvr7exTxg1drM9nOwxXXdu0fGr74mHSIm/Pt1dXptGZnXrifPs+fEzBjiZAzku9PYwxxhvinbRrANhFx/mPs1ffh0NVvAri3bTkfL9lJd6UVyT47SjCdyfMo4u8SArMfvoWmnnmm1aibqmXzXTjUxoGBwGdn2baq2+MLvJ9OALjIpNgvKdsu4nSY00nHj/vcWDnPLtSL/SEkKD/dsLRiPWJT1mgZYoqU9tcdoQ8UO+rr4O1pZspk2PfuZLSrzBouZiYJiIxsPPwLBAIuesqF8ByG2bjiwDf0f6bzhcwMfGsh9qgrmayxaQYu9SA29ZwBLZEIUSZrw1yONoU1ofkYq3+UxJGSAjEBRlIoigW4Yl6FFGbaOspXp6ZYrtKf2KP1cfYB2vzxCJ5ouEsKJ9VuGUuKABqHBlmuLvoNudj9kq1kEscdL5PvK3bS//hTbjm0zdJHD5wq7k9T9m0lAF8kyIGDf3e8VItgEqhXYMGJl+s2tHiFChhw42S25MjND3tpaMq1bHxnkhoBfy9bvKTA2FrdWF7xWbAMhxyebL9HuqgO0s2wnwUYQ/yOKSu9IEzmrS8ldkkf+4QGa8SYHsGAiRDpTOMrldN2n32qP09bf5Xtb1R46UH+a7vU+oS5jL9Py4n2Q6pJpQHfQ4CJoe0Xke/vjfoJNsVpBitNrtVNCso13AbJmZbN8ewM+tjA71nhBM1QYwOia0u/pUsctGrAOE4BqvMXoNrM5b2PFT/Rx/jcEQKuEKcMRWlwsXteX7WBzptVrpVTIDYAtFFJIO6xzGtjCFZpuu9fBzDpS0YdIvM0koIsdVyikbG4xwu+0igS6Gpxx+9007phiWzKNujZqN3TRqA22Q66UrdSwhQntLSbhT1Vi/L6Tu4I+L9xA++pOsBiDWGEvRskkoFs/bKN/nWgWWtliFXzphXocRX9ghqUsRPpnEWodc2RFZjjR8TbjdpPt+AnSv/OeuhY3BOAqml79sjfJlZ8/G5FB9IIq9QEwIVtjphFqaS+lxtZ8atN30qhtgpx+LBhnKDAxRu6iXPJUlZG/R90MRqVpoVNWr51KR56zAPowp1AmbEUzBfmGGdXB+tMMDMOcIdUl04BuojJfKXyG0wwWxyKyjbo905FTkirtZ+IRZnTj9kk62XyZxblVxqvWcUXxt5TTfZ+ZOCTifrH7ASe2vbXHCdpdREf5vHA9rSjaxBzEoZzKHShm10uFVhWLZ4DaZl07QYONRSvib9/qfsjCGsJGGOYTgZn4gX6s/MskoAu7/fx2A91rmBaiIYNb0wRp7a1u+sexJiH69HKHJrszNgWw5h0t0hdYIbbqO+n7yl8JE57WSwTnEZLll5rDBM1uKgQ7nCVLGeiG80L+H5kD/olJMm3eMpvcQQXUKuA2/Gjd+9u8kGGRr8L3bdBuI0/1M/K1qaS6DAQoaDKS+1kRufLu04zLSaQS0YHvSgtrYXKsnqinbZW7o4Y9ez/3a7aj1G8ZpMDMwqgSC1tP3JmlDnQTx8nsaQlKoLKRSqZkiTQvKd9hAbep4mc23jGvJaJgpxN2wbAHvtn1gC533GLhx/IHS5lSCt+nQosKswhEj7jfm8ciRqws3sxMomDmCNNHOM9h5xUJa2BjnKj7F+VhJgHd8h4TfXW9k9443SJExZ1GzXTmOXVTdKR0RIguaCi3wHsJdEVHoEZ9aI6PNJ6LCnKVlwkE60zLVeb1qtFk0k5LoJs01mZdw76OTjKtXc+tzVUAr3HteppxJdY8J2g1k6c0n3xNtap8hsmCf6CXPBVFDAzPOBITAQIXm3ROMxtG2AYrMhzp+H7eSpa8YlbjrNpd9ZOBALNvnvF4ZhcKgYCQCYgEuupsXcpndS4DM+OLNF7Dv8M4v9Z59/cdk8RwD0DWDXMBr41g0mDxWpn5QCoALu4AoHXcPkVXOm4TAG74jozCA8guTC0e9uXPapkTc/tCrWQS0IU2F9nrROyJUfdJq14z1TpMkHQ2xOvmJ2OEWPwS6AoNP/XKENQBy7BQSmII2cbyn1gkCPVWk3dWAt3k8TbbWvZ1dMQGdNesSwzQnZmZBX4OB7P7dRfkkrf2Bc14vJoaW//oEHkqS5k5w4w7MWAbJklry7ZxgVxlwoQj7JRDx6WpQkINOP0FhofJ19ZO3sZG8jY3k39ggIJG46xzn7ZJ29ywk0B3jhXyw+8cgAYTviLKuOQ9Hm44S1PO1MQ3T8XDsvuclDdYwkwmovEAcbm/rfhpNsHU78krUtFH5RpLHegqfEjUUQLdBHAS5gelI5XCLxLYKhUMlSWgB2JNSKArxq+lXNs/NkbmzVuFTRcsv+6hGXd8NqozPh8FdDrytbaSu7iEnDk5ZN29ixznzpC3uYUC09Oq0R0QeSEwPkL+3i7yjw7PmjEAMPt8NON0UtBmm83q5nDMak05TBxyuh4ILWQxkWKyRDrUaOYL6JdveJjc+QVkP3mSLLt+IcuPP5Llp5/JevgoOe/eI19bG83YHbMZWSIMSAl0IzBniX6FMJxrBLOIYvzCphYgOREFyiDIARzcEOITn1OlyUX/MUfDaf2Hqr3c8zQ0u4cbz9KEY4qbBbg3+BMgzj9CtcF5FY7nMJkQuV8JdLlZzlVRAl0uNkWuhC2Ru7253AKkrCaXF65nBvCRW0/8txLoJp6n2doic0Y7elzMGe3Nt8n16DHN+GIPRYOte39PDzlu3iLLzl/ItPobMiz/nAyffkamlavJsnMX+87X2akKqGE24R8aIM+LcvK11FPQZCJfVzd5nleSKzePXI+ekLu4lLxNzRSYnJwFvGEB70Of6bnWG8w7XJFd3uPLycbIcUkDAZZdznbqNJlWrSb92+/MNxN54y0yLP+CrHv2kud5Fc04I2uoJdANfWryMzgwaBmhjRU/Cs9PcKrEVn88BQATER/g3AXnUfRlwDLCPpvcFhYNSQQAoi+AyHAUg908rw0twqXBxh6pi3llF/VgqwwZjlbg8Ac740HrCFVP1DHnu3u9ufSwv4DKx15Qt6mPgV5eBzcJdKNxXOx7CXTF+KVaG8L2qL9ASIAgRIjAAGFIdVnKQJfFk/QFhXOnu3yItZjqJ5Ue1/NUVs2aLyx7cz4IU3FOQ8QF07ffkX9oWMi2dN6d+v3k6+kh26EjZPh0ubo2edmbDADaDh8lX3s7kX8hqJ5xOshTVkCOaxfI9SSXrPsPkPnbTWRc8TUZv1hBpm/WkeXnneS4dn1WY+p0avb5UvM1+jiPzz5XmUiRsa1+tJ58Jj1RwK8a9gwg23bgEOnffT8ib/VvvUOWH7aTt75B02QDPFzqQBdrFUReQLgjEUK2qGyV70mHjg7Un9K0SVXGa+jxg7yVdLEthxBpJNaCeRHhu+CE9qS/iLBYPN50kSV5Otd2gx71F1K7sZtpPwEUoxVog5HFDeYUAJQDliEas0+Q2W2JausLEBrLHI3IEIgYEakAzMPmGEk3TrdcJYQaXF2ylUVg+ar4OxZe9FDDGSoYKmfaYZ6kVRLoRuK4+HcS6IrzbMEvMNDrppqjBsUOfZHg86qSrVQ59nJBe8k+8dOTAfqvA/VC9NaZVkJ60WgF76t3z7UJtY2+rLzRpdp0osOLIcc3AtQXdBiFqHrQQi7v4oWbUWVOik4GLRZyXrtBxq9Wkv6Nt7QB2Wuvk2nVGnIVFKqaFHB1d2aGggYD2U+fIf3b0UKaLSP9Bx+T/cRJCowvDCeHpBXelzVk3fMr65f+zbcX9v31N5iW2Lb/AHkbGgkabBTYzM4EAzRjtzJt76MXF2jFo8hB78Pl+9P8b6i37yU5S/JoxmQgX0cLA6lBk2EW+Ho85Lx3n/Rvv7uwX2qLiLffIfQTNrtaBVmPjpaOCsvfhjs9LC2oVrvKeYQEWne7R7h9xL5VCzaf6PBiAKxtEw4h2ca7AO+EbJVvgDyE71ILeRk+ZvE/ogbBvhyh9GKNpQstrdFtotLh57S/7iStLv2ePn66hgCgYRLwUf4aWlWyhYXaLButYtpOzKNaBaE4B63DVDT8jK523KETzRfpWNMFOt96nTmNIXY9tMZabdi8DrrT80RYGYVdVwDkSAXOdUXDFbSj6jeWpEqNp7hnhFZDH2C3H00TvdSBLoYCFp4iFGH4yKgLkQawyHd6p5HWlW/nFiSkLP7xxX62hSNynUTUPf1sjL642ilEyG9vdi7UmoX3B4Nty4M+obbRl91PB8ObYv8nGuhCy4P7X361Q4iQtEJnV8+2ptrxLDsZGBklx/UbTCNq+PjTWVOGt94h3VvvMG3KFg3fAAAgAElEQVSk4ZPPyLj8M3Ldv08AxhTprROBN7BX9VbXENpTIjhEPi4j45dfkftp/gJNZ8BoIsede2T8/MuobUGjCs0qzCVm/H7myBYwGsjbUEOB8VFqfZZD2x5v0ExFHD65wdl0V80hMo71kqvoMQXGhsl1+wqR30fugkcUtFnJ19bMTDIi39/8LHTQRHuqazQ5aHL6CKF5ROX7QPEwiz+r2fDvXyB7GJKniLZ/smKUaVjD20800DU6fHShakJItvEuOPVsLGvlG6Cq3zLMbG4BNsPHauj/ALkAd4gIBG1prAV2qsXDz+j757tZOM3Qa4R+xjy4+fkuqhirJoRBUyvegJcapltZ5Ij15TuYrTxCdAI84n6Q2W137VHKGywlg8ukaguL6CdPB0u5oyIpfUR0BoBYrQLzCWRF3F61l0vRhQVE4XB51GhLSx3oYq4dt3iECLtZWkVqdLU4I3geAx6rNZgjKEKidUQ2GKQ7RPgS2C+lurSO2wkx7EToeZ9FMxRIeP8r+yxCbaMftUPq+c0TDXShVdrxuF84FAoytYxrpB0Nv/+s/H9mhgJT0+QuKyP7ufNk3fUrmX/YQeZt28m6ey85Ll8h59VL5B/oI4ojo9KMw0H2U6ejAtNQcAgtM0Bq0P5qm3UmGGT2t6bvNqubPqhoTA0ffUKOa1cpoJsmd8lT8rY3k6e+mgFd20g3Xa+/woLdw8lMS7ZxHiD36+LNBE2V1+uioNVCM1YLixZBgQC5AHQtZnJcOkP6SCmVVfqof+8Dcly6ojnEoNHsnnIKy1/DsJVrIYuFYv2wVbj9llEbqWVCSjTQRervX54OCss3NM7ZLN8AnjWTDSx+O4AsAGboGMaYhbYVW+3YZoeGFHNarKXD2MMylAKMhl5H7TPA9Y4X+5j9brimE/+3GTpZvz/M07avxf1sKP+RngwUMlvZ8H7jXhqn27jmZ6WP4Amc18ALrYLEE2dbr3Ml4kC7aPOn6v00ZB3R1D7jWlAWvXaymf51oomb3j7bqtXNeecxzrErI9I26u4vGiare+GYSEZ4sdv1U3S8fESIrtRMzrvP0H8k0A3lRhyfsVUDWyikIYZdj5qAw2YPLxOA3AvtOSw2ZxyXjPmngeAMYQtfhJBRTHtjaX5XUFekbdT1axjISaA7n7eL/R+29gMTE8wu1tvYxMJg+Tq7KKjTU1A/TZ5nxQTb2FhL0Gwm08ZNQkAXoNf8/Q/kH33lIQ5nNOeDh0JOdLrXlv3/9t77O4praf/93+5a994fv+uu9Tqe1z4+jsfGEYwxYHIwJoOJNsFgMDmDQCRJSEI5J5QzSiON0sxokuquT4mGYdQ9062EBL21evV00O7d1V29n1276inx/rxMgmWlMpaXJeGmOon6RifYGsbHNZX4obKT8k3qUvn3rRepTI2OkTWWJvzz4CDFb89Ma7DmjodD4vvnb8f3ia/u0M7dCcU7Jf2OjifseI0LYqhHV2dKv12ga0h29tfQa2F9/KP8lFpRGYx9eW+Z+pLiRgeoI5EDiY+srKt2WokP6rnaa2oZjtWNRL/pLwGppOWNLbAW7C7+w5a1FAMSlGCk6I4v9F0kgNhZeFj+fftlkG/Vrs/uLpG/Ks+pHsfXZ2yX91bLmuxtScF87DU+Sf1Bcp4Waqpho5749ZXSXjmY0S4H0u0vzFTaKczMni/sdlQ37bhX3S/EqsSX2QC6iy/Uyv85UOJo+dTNjBb/aGZnm9EnTvKnay7L6uytav0hVaiRdeWbByv0Y3K+9rpGnpp1grPTstmrlY9aMBpUShXWdhztnbSGjvDD45WOUgGSOvBcgXm0sGvRdSJ95+cGUq9LqKJYfVCd/7eo/ynBYrEWWzu/sdyGauueXzLS55GRI0cd19O/6GsJ5ucrJdl46OVOl4jpmtYS+fvBdln9YO1z/f4sdYlmVQI4rM/ZIZfrUjTlarx16nnjnv0I5uY6bh/W66Etvyn4xlIsZK6KTLayxF9rKtv4O6p+R4JCOmOmkJHBTH63qp6Oyv8cLnOk35DTW6X4di26iZ90IIKva5tkduQqU9Dpmkua2ITZRVgJOke7EgKwxLVPHAWcbi84YNvNxwCBW/P3T5rSz+sulk/vLrENJGFVOFR6Qum84tuKny8BYzApmBmijHZgdcWHGNejkt6KhP60D9uy5NuHv9hun3EN5I3vtFXpGw05mrZnmh+3IjuFgepUXANwizILGpwNoMsMqtMEFO8dmTzAMeTxSi26dATwy0H9wTpZx2A0ej6vuQeiQnM6C+Vi3Q2NwtxbfFR9ni7W3ZTcriLp8XkW/L3yvAbGBqXR26pTO3lPi6Wsr0oavC0yEPCafmim8tzIo81ocvu9FkfL48ZB08u5QNdULDO2M1hSICNH9sr48JBExyOq20HVbz6Sk60B8ReODnjFu3SZYwCoFt3W1ufVRZ52yfC+A47r6f/2+wlmg+c1vfzDl5MuLamnJLPmrpx/cl2tY/tLjsuRitNyue6W5HeXqAXIzr2GGhvFNEDOxGXBAPt97/9LhnftlEhvt2aAIy1yuLlBAOVYijXt8TSBL0CWZ4ZFunGwRcr7qqSop0z1HGooaKHQ/5ko7d6A7HrQ6ki39z5sk0f1XtPLu0DXVCwv7WQAg+WU4K0ev0ezfxFQRT88E6V1qEN9Vg1QZ3dN+t3BseGXmsAMKZZau3UAUpdmrNN7eqkiAkxlXBkaUpruq+8wKX+ZYaV+YwEof3X/Z3WVYDCQCIxSP4wMWMXtts84D2MXMn8dCsGc/3usQv7v3UWOlpQEmdFeC6CLVQBC5Y7hp5oZrNLzRGoG6qVtuFNf9Jn6iL7KlwjfWzoK7gnC7vbhTt2mA1nohZFx7UCjXGu4o2mPN+fu1umbTbm7hWw6UKbBGzid6S9DRkyVAHabPH5Hi1XgnAt0DcnOzjrc2SZDZ46It7ZY2gbbpKa/Xio8NVLtqZO24adKV5SISzI6OKTMAgaws7XGyrlztyaCMO6KZBLDhw47BrpQjsGta1ZIKey/fl4Cj+6Jf7BPA1/ahjs0KyL67RQAkrzC68RN4613xPPlVxK4m6p+w77L/whZ4PxXz0qk+6mMPU5Xf+Bwa5NSmQGC8QmGQcJuAQTRufPcXuj3HrVUb87bI4B6otDrB5p0Fme61l18ip3qdnN/QKzSfbpA1+6Tnr3z4Mpd63A6HwAIMwPW4NgCVRfg1QCIdtZf318uT/obYqt5/psBKGwQgFhcOHDXgA3hx/R1sixjg/oVn6w6ryxKYJRkZToWXVxJZrvgm4w+820Cj5DEgu3p+F/HtxmjEsHqn5+qdrRk1g9IMGxu/FjwQJeRJBlKiGQksnNHwUHhA7qt4ID6t5KiD2CI87xb5p8EAPDFPeWyp/iI0sPEE3Djo0gULLyNhd2lM2YlmClJuEB3piRpXg/BV/WPb8jtW9vkj+LjqtcMgJiWxDpzu+mhTp3G++IRPKZJIjo7ZOTIH9L30cf2QOpb7yirgu/6DaEOoxCYRrIJRxbTt97RRBThxkajmhfrSESCxbkTLAxdnepj++Lg1H8FUu4IQXD4BycE9W+9IwSiDf++T5NfjPt9asmN4Bf9OF3Cbc3iv3VJwk314r91WQHwWM4jifZ16298lqODA6Z8w7GtpxOEIJ8BK77G6LcBNFiz/UPaajlQclxKeytnZDAbe/3p/naB7nQl+OL/GZDSD2N5BCCxZjvRQJX/JkBrS/7vjhkO1uXsUAPYixaIrMja8vz9swNyOYcYGYxnVoXBGffROtyh7zrsEPdaMjS7Kf69ZEKL/z5Z1UWg2trs7Y7aiCsjPrqzafTCxYDnhcEpvS1bLtXdlLNPrqoRKqM9R+q9TTISHLE1y2Z178Z+XCYy671yr9rjaOnwBoR4ArOyoIEuPl5YCo5W/KMRkp+mLnke/flhytfCNhRdcOQBplywa/YKvNp9WHK35O9LmiUKwLspd4/UDZiAhld4Cy7QnT3hMxMDOfzBtJ3y46UvNcGCMe3Img8805MHS/96EdWtADcgEU+vBCtKlOVgaOdmtdD2fZCER/cZ+BvatUfCLS0v3RhWzLGcXOn/7vvkIPKZqwAUY6Nnz0nUO9ntBYoxACSphadKnfZSA59tRPsHZOTgYYGyrfedd83BLpbcjz7WlMDB8oqXr4/FNuAXrM2Rtma17AYLHku4oVYCt69IsCRfAvduSriuRsYe3lbaNBgf9H/wQY4ZHGDlKeutnqChSl2c0IrGs2Qwi2V3pv3yzeRkd58LdO1Kyvo8rJ5YG2EGgKkB49PVhju6Zpu0wAyIrNxzAHAnqs5ZcsqaAVb6f4BY/CzgjsJDmkrb7H+s9jFAa7dBjQbg5Z33hfy6gDfC4/ZnP5AgdGbHKs4IAWZW7Yndz3dwgnWhfUZ93WOfJs+l1++R1JZ05SkmQO/rB8vly3s/CXFCKzI360AWnmQGJWZ+t7H1JfsNWCVJC7MzThYrkMv1FizQZRSIgkDyjG9M7MOP/Y3VgGhHPqJ0msnyxCd7CPPtOFOD+EIxYgT489vqgzHf2k4gA1b4j+/YyxCF/xOZYuyOjufifl2gO3tSbhpsld1Ff2oHB8NIrF7H/qZT2JZ/QJoHW5VmK/ykQgHZ6NF9EgKg3b2p7gNDv22dAIBmSSrefV+PDW7ZKsHCIg3Oir8zso6NHP9LPP/5xBxAxvjCauaxdRskVF6u0/0v1RWJSODhbQnmZymgfOlY3Aa6TEfPO8+CfqPzlgXatqZmGT1+QgaW/Kht7fvfD4X2kEgCgEuijqE9e2WsoPBFIo7x8Qk2iLExGR8LyngwNJHkIhyW8bGA+khH2lvU6hssLZRQZam6OAQLcyQIo0RdjYRbGpQpIzo0AXx7h7s1Gxbf39jnZfUbwwS+hlj75ktxge70ngTvL+AtsyNPDU5rsrfK4vS1GnDFIBWGAQxRWR156gJg1XfB7vBL1hYBwFq9P8Z++nxcB2o8dZOsxSnN9+UjB2l7oRnbnLtnzoxkJNTI6yqRdY93JE0vDMiFceluS7oOFKb3pMz/G/BO7MyV+tsqU7OgO+RNH87zudGYqr7a5rW9ur0LFuji73K1/raSPRsveKI1bAVQneBb8joUPgiMHMkdXtVfp9GcJb2VOsWCH2+iEfJ8uX+AyQ8PV9mepkGhiERngDNfigt0Z+dJEJV/suqCwECQSK+NY3Binig/I4GmJxK4f0un3LE4ks1s3DeiGcqC5eUycvS4DPy8XDz//Ur6/vOx9L37nnhI3/vzChn586hAcca0vFkh+USookKGtu8QzyefTmR1i3cRePtd6fv3f8S7ao0EHqbJ+PDkABGsuGM5GRLt7TG7jO4zfFvbh59KpadW0G0itqv6nygDgy/kswa80agQPBdIS5ORo8dk6LdtMrhhowxu+U39jElfHKqvnwC5AFy/XwDxoepqDZwjLTAAHat2dGjoZaAO8A2O6YDCAL6A3mBpgYzlZYoCXyzAtdVSWH5Hfnm00dbzM57jysxfpdHbMmvWKUuBWxxwga6FYGzsBiThx5nanK6AFqs933DjWbOG85b9+M6S0pb+mf+LL0ybwysPOI7n7I2tDyBMUgawAX1gfMEyuzxzk3xwyx5ghgeYALGEg8v4i0xzmwA6zYyWs0PxjTGLZdwn27A4LE1fJ+eeXNNgdasBwjSbohbqtLZsBdTG9a3WPBdk+6g9Z8oZ8KbbXqv/X5BAF0UgWGNV1paXlMbqAbAfBVuV/Zt2GFbCWCj7sUozlcAoGIvor3m/64cCR/hNeXvkj/K/Bad2eP7m0zRgvHwftmXaBjLGs/3Pne/13uLrelXbLtCdHclDWYRVho7QePaJ1lh8v3+wQjo6KoXgKQmFJvHvAlQjHZ0ylpsr+OAOHz4sA8t+1N9jOTnKmwswtipYNkN1NRJIva1JLrwrVwmZxXATwC/W8/l/heAz/F7HsrIFDt9JbgnhsFpzQ7VVmjHN7FrMVvX4+iS9PVsDXIg5QLcBA7/m7pU/y07Jo44c/QYk6uAUwD59KuG6eglVVukabuAo4BsXg2hU/XNxySBpx+CmX8W74hfxrvxFBteul+F9+8R/+46EW1tNLdy0Hf5e3BZIQxx52iHhxjoJ1VRIqChXbt7ZLf9NQMpv9jzx2cUXP5nfppncZmOfC3SnLlVm7LI7C2QlltgkXLMc/yXrN3n8tFD4v/hCn4+v68Xam2o5/O89GA7IZvaNLvxmZndF5ia5UHtD9cdMN3AtwAJKRrFE1mHwAuwHh8tOqp7Ft8fuNm3gfgaDw2rZ9vj7NUCOAGyz9lEv94oVNftpvhwsOyEM/khvjLsArgIEu+GCAQBHJugKQJwZHwYEnsCAuhDAgoH7hNV17NwDAw++PWa6araP57Cz8JD0+q3Titu57kyfsyCBLub90p6qpKb9+AfBi5ssz/RMC3im6+OlpROEWgwFYFowdoTLaI99cPtBMk8U93Re9Jluf2x9F2qv284AYzxL3BcYxc6X4gLd2XkSae3ZtmdrjHcDqy7RzwkLFsxgUC2V4YY68d+4JJGupxq4NgmUxlYUiUwwE9y4oK4QkY4OCeYXiP/6Dc3iNvLXSfFduChj6RlC8BkMCGb1Rbo6JZifLQR9mRU6ObhH8S/E9w2LdqxFh86ZfVhOztVe128B/5O0xPjO6rnj48oxHLh5S8Gt5+NPJizUhvsFlukP/y393y+W4SPHJFxfnzTwjHpJAEKCj0hbi5xP2y8fJnA5MZ5b/Dq97bG6YSW9pzk4wQW6Uxcy1lNcC82mu+OfOducx/lWqYLx/ewZ7VMDz7GKf9SlAFcIOOZxL2BfZkeOJcg17gQwCA6g/2Sm16AEY1BNG7AwA4T/LDutgexT8TlFJ8fCQZ19we2C652qvqQL0/sEaHaOdCmftNGu2DX/T5phGCegFr3VdF8Dv+DLJUPik4F6BbX07YD37tFeTWwB1Rn9PrPXl+tTNEiNGV6Ata3vREwjqLuirzphymWz57gkfZ0UdJszzcRUP6c/FyTQZeRCpJ+ZkBPtY/R3uvrSnAp4pi/GdMz1xlRlIkhk7aJzhHj6bM1V5fqb6XbMRH1Ebtp1ujeeKx8lQP58KcOBsKYyfPuPcnGy/Hy5XuhE3WIugQt11+WTJAFMxjthrOmkmN60WwiiCmTcFayrCQuWT2+/BEvzJXD/poSeVCqIxY8V+jKoxyLd3Qoc1e0hHlRSeSgkUe+ATu2HW5tl3IKbdiQ0qn6qWHBiAa5xj8YaixPTqpfqb2knlrD9Jgejfr/4792X/u9+kN5EaYPfflc8n30uw0eOSqSz80VN3GM4rPclDBzgOR7oF4B8pKtDgmWFcvbKpoRWM+NeYtfcF9924g3mQ+kbCcn+9HZHus13YOf91jdev7HMAxhjn2+y34vT10hRT7nlo8dy6Q9PuOxV9j2Rou4ynQEg/gbgyDE7gA4/cJgKCGTfmLNLB5XLHm0UmBp+Lz4id1rSBP7eqcwsKEgN+TVAloyl+CET0Pbfez/pwm/2nag8J2RCo81WBZBtWGqxrkKXBgA2Yo0I2K33Niu4Je3xD2lr1BKNxfubhysVzB8sPaEyAjvYkY3RFu49pfmBo+fH84U3GIwyn4oLdOfT00jSFl5uWAqYukj2weA4HSURkmRvmUsfoyS38fwwrheMqO3ci3HOx3d+0BH980pe8Q+iQjMbvHIqv8vRklLZJ8MBZxG5r/hW5/TyF+puOB4EOQa6w0MylpWmgVWJbo5pedgGgkU5GnCVyL3Bqh4SMsBWECzO0zTAVucBDtDZRCDX0AXW36Wtkif99Y46MFwWwi2tQva3pDRkWHihXFv0jfhTUjR4jgxqpGeGegx/40hzgwSLciWQflfGcjMnlscZcvPyVvnKIfk91urinornHfkkOcGqATMEIDtRUN6kf5zajtFgRHKaBh3pNt8CvgkjY2+ufgOS8LlFJ2Pf12S/OR96LjsAk3MIzoSi0gB+Tp4ycQBM/ZOiGNCLm0Vpb5VaUYkBmooll+sDTEt7KmVH4UEFtma6zD5YC3YV/aHXnMrAjnuu8zZpMB9uDbEzu4acGThioQbAk6mOttktWIoxHBh12V1/cW+pzjbZvc5cnLfoTI38P3uKHC0fHKu0bNqcZEbjBeeFxF/TrvA5jxfrZuNdy8bP9wP4+mDBMVMcKzkQDflH2d9zFjXqRIZPR7qVVDuRZTr2vlBaLARPR82nfZ1cO/5cPmqQTTuhM+Fc/gfACuG8kwWXh0R0KPHte9O2CYBwOgiacF3Isy0q2AECaakaSGX6TwCpcFhCZYXiO39iImNYwAYfN/+HxfMZENMgtieV4jt/UsIN1nycdCzoKoO52Pc+0W904lT1RUfuSfALB+4/cMYJTBKN7TskWJwvwdxMBez+mxeVwk0D0KByIwitrVnCHW0S9fRKeUOOYGVyot/r766R5qc1Mh59ARIZpKu7iderftShujphieBv7PXKeMheVjWnum2cPzrmXL8BuVMFSqbv4gLbCXC70XDX9nsc+47farw/pxZ94lgAvfSv6OB0jEL8L3y6+0uOySc29BgQCj3iVAKs8cU9VnlWwTTfgVgZxv8GBE/QkNl3ZZwYrKRPCiCMrzt+e9H9n+VG47159cZuvdMsX5+pcbSsvm5NZTonQBfzO8Fo0FnEC9lqm48tvjwQOC/UMhwclc15e23fM7JAAZiagZ1hvhU+KvgiMgJMpqjcC8DnTM0V/RjN9L0APEvbR+RRndfR0tjrt8zGMtNtfJPqaxlsnwhGS/IBN/Sd94cpQSfvOdPtgex0CVaWmos2HJ6Yhs/PUjAMt6xlAYwFAhrcRcAbjAXh9g6J9Hkk3NIk/qvnZOxxRkI6MaZTmdK0owvGfbPGAhz09Mj40KCMD04EwJHhDHeJcEerSDQiZJjDxYB1dGBAhvfsSUqRFp9wwvvzCg3EGyvM0YC/UHW5uitEPX3ql0vmNM2a9sx1g2lW6MKIjUh2T3yfv7y/TK6dWSUDBWmaklhdI/AlHhpSFgh8oKFFG9z8qwbODe3eI75LlyVUVS0k9DAGFmbPCNDpVLez6gelumvUrDp3XxIJ8G2/05yWNAgt9j3mN0FpWIL5/4VY4O2FTxajWvy9WW0TYEaCCacZXLM782VpxnrbA0lo1cgyateqi49utafWNv0n94ee0ybyFpgVwDMDCtwocMHgNzFXs10qO0ckr2nQ0VLcNpkxx2jnnABdLoYv29WGOxppmfQjemuRnqf0YvOIo9EQmt01tCNEolspjNX+VVm/qcuD3evM5Xn4Ve0rOZZwVMrzBQzvKzmqfliz0b7abp9sSmmST05WOVrOFnSJ178wP8qzIceZqpPpSFJn2qUXw9eb8510kOqji0W3pGByswk+6+tVGjCowGAWUCvt5DPV6hvt6Z1gczhzVob3/i5D27fL0O69Mnryb/GdOysjB3dLqLI8IRiDSgzQaqXHVvuxAI88uCXB/MfKaQuwHT68SyKePhk++rvSh40c3y+Rni4ZOXFIws1NMvDN146BLowSY5mZ6o87HgoKS6JCR4n/IAFGgF2rmSidxr2/TI5UnJam9IsyVpKrzBS4R0Q9/cr8MLhug3i++FJIwtH73r/UGg0/MPs4FnjwUMYBuxYlFBl3pNd8B744VS0HM+YPlaHFrc3L3RijmConq6XVe2u2n7gSArWc+JLOtAD4hgAGjYVtu1beXp9HmZCSYZLYe+f9hz0JvmG7BXDoJLGEcb3VWb8pdrJ7ncHgkGzK3WUbTDPLvrv4T6WVi70GVnNYIBq8LZo0BFYoZu1IGAKdIINiQHCiwuzpgC8svcMhRwszMvxvKOJ8sWrPnAFdPqJtI53qnwKtyAcWNERYCrAEkjCiur/O2RTfs0wn+AHxsr/qqSiiRX9+tMnRh4MXfHXWVqkbaLJ6Zq90P8+xcbBFjpaT3W69DkhQFmhKWANw4Qs8UvGPkECA82ejlLUP67TG/7WzUJwsB9LbxTMamo0mvfF1YtUlEQQsIlYdB/s/vbtYtubvU4YRJ0KL+EbEX5ov/qpi1e/nnStWxMEBTYULJy+A0dJaGA6rvysZ0LB4ej79XMEYyRkUiH3ymfR/9ZUM/rpZgsXFE9y1cY0kMI2p+c6+Zlmebs//3ui4WPN981cWK7UXGcwA5IEHKYKFFdcM6sZ/VoH9o/sSftop3hXLnQPdH5dKsKgorvWJNxmwkL3yeOVZWfZog+qzod+4VRGgQxAQRgi+A8Ghfk1O4b9zTWnK/NeuK2VbwtTL774vAz8skbG09IngOJMmkWnJiV5z7v+7p1jW3Zyf302TW5x3u1qH22VP8Z+mvqOx76/xG0aRvcVHBJaAV1Ho4/sDA1Lb3yAFXSUKwgDd1Z46AcACfJMBXlwQSFFu3JPd9bb8/dq/2b1vOPRJg27XLchoB4NiJwlZyOxGjM/3D1cnvRbB/jBZQIsW20/zDUAuME9sLzigGAYXRBbYY6Ajg1WC584zsCqt/QG5UNwjBzLaHS15zUPqkmhV71T2zxnQpXEAUHIsMxqCSJoOkah8BM7aoAnBokAOabsme0ZLOKNDc1LTXydlvVX6svMgGHkkehhTEZrd/8HcT6Yo46W1s0YRtuT9ropq9zpzfR4jOYICsjvyNdXjzoJDClx2FBzUbaZounw9Uwo4sHsvLtC1K6m5Ow89pJPB341oYvRZuTNT4M6c0G/cFfaXHlc9TWYRMFpOEAduQB1DHVLdkCOleZd0ig79ZjAZGvaqlTcA2CotsAa5ZCHr6JTREyc1AUXvO++Zg0dSC3/8iQzvPyDhpubnbAWaeAH+2Z6nEqoskcHqAtmUvsly0G6l7/jBhgM+BbRGoJy6WRC45ZuY0ofyC0sva3h04c2Nd01Itu1dtVrCDQ2GGG2v6eiYuXnUkatJQHYVHlb93lV0WP2LH6Pfyvn9opPDxzeQnibepeu72N4AACAASURBVD9Jn5VcDSo01m+/KwNLf5Jwm3lKZRfo2n5cM3YilFYwaDCVbWXNN95pQO7SjHV6PtPZc13ABnxroObamLtbY0cwsPyUsUE25OxShgSStvDdSAR2Gawxg2rcl901LokEmtst4BP4te3Wb5yHYYA0vXYLxIXc883Ge7I0fb3GD8SDa7bJavhL9hZN6zwcejGzAlZqGGyWI+WnlAuY73es0YL/ZeD7Q9pq+avyrIJ9q+94Ueuw/HixTv6/g6WOltP5XTMe+D2nQJeHBdgFkGIK/6P8lCZPWJ+zQ1+CQ6UnJLU5TSCftwtyOY/RB/m495cclw05O/XFXf94p45OGZU0eps1h/ZzC5Ddt2aa5+Hgf7c1Qz66Yz+SFWsP/H2hyPy2OiJLyK1RQrh/sd7i1M82fk+zLWsX6E7z5Zylf8dvjfeBSOxDpX/J5ty9sv7xDuXNPFB6XO63ZgpT/nYHn+hQ8zP9xhVmY+ZWWX1nuabcxJqEfteVpUn/P39IsCgvoU/t+Oio+G/elP4vv7LFXkBSCd/5CxLpaFdKs3BTnQRSr0mwJE985/6SsSflcrbirHzhgInk3ynfyPWGuy9ZUJI9CoLjxnLypO/Dj2yDXSzUwwcPTfjCJruAyXEsPOg307MT+t2icRZso9/xs2X4+pKpTl0VYgFtot/vvCe+K1dfzuT2rC0u0DV5KLO8i28232/SxwJ2seDHghzAF9vsZzYPV0QSKtj91vNO0V8D+jBAsWY71ppo5xbBEMTubMzZrTMM8UwR6BgziwwowRn4lloV+qwt+b87BqAYdVqG2qyqnbQfXdpWcDCpldUAuMYaYwEuBE4Kz4P/yejIEQapPEuoDaERw7+YGZl9JccFgxTnGc+PdY+vV05UnVf5xT97o036HqQskkX3f1b6V5JhmZXcpkH58nSN45mZY9mdMjTD7oVzDnQRCC82pnwSKeDvwVQZvmFYCfDltRohxAuTThCqEaIgv09brTyevOSMRnGSRyF5sHuK/pSi7vI5ZzKgM+gY6dIRphmVSOyLw28s2wB07mkhFRSEZ2oozFy03QW6cyHlqV1jQr99Sore4G2WGg/63aSpL0dD/oQWltgrYlms9DyR34uPKsc0fr3oN0kN0Cem9eCv3Z22XQoenZWAJ3EAZ7i+QQZ//S0xD20sMHvrHRlYvEQC6Q/Ed/mMhMqLJZiToQFj4ZZGdTWo629QKqBkmaTQb9y1sB6RYMJGyogXosAS3dMrQ9u222NeeOc98f70swQf51hbt1/UnvQXFjHV7wT0YASgeVevsS/bZ3L2rl1vmnHOBbpJH8usnMBzZtr/fssj2V5wUGdeAUjwvLJmJhaQx0CW8zg/WeH9AWxikMLH82bTPblUf1MHqbldRdI61K54wG7/wTeFINB4gDu5P/1WA+C5ZvzAzGgzrg/ECiSzYMfWja5jzYQn125BTn9XXVBLamxdyX5jnWZm2GlBlsgcIJ/XVaSuBpfrb8nt5geS310iJAcBfMfKnO8ttG1gpmTt4jhAGBCd1fmy64PR1jce6BqCQMi8ADg+Mz0ZK3TjHKs1/0fn+XvJ0YQ+gTwQaENwB8Ctwa4lyeq6Tvfz8uA39EvmFiGK0uwFIh0qVEv4v5DuEIuJWxJLwAW6ieUzX46i1xP6nThwIb69/B9ZhrYVHEjIz8vH9tPb38v2nL1S3ffEskOj/rHMLOn/yllQF9PwgdRUUWALS8LoiKbRNejI0O8HbVlKYE86XCsrCK5ZWMHo2KfyDcKqGywtFdwR8CW25NN9931NKuG7eFmiQ9ZRyPHynu42qYoHfvzJtsXZcLsgOI17iy8u0I2XyNxt07dicGoabJFH7Tma8Od09UUhYRDuLMzeAb44L1mhTyc9Lv+HwYnpdDhkYexYdH+5/JixTq2OXMcbGEw6CMYI9kfZKdvsEEaKWyurKPqLTysWT7O+OX4f+s20fXpbtn7Xkt1/7HESa5A90S6oxlDHTDVtnGrhGWE153ni5sV6woo+eaj9AvQnpj6LlQmDDQA81vn44gLdeIlMYXtobFipcAiOiBW81W/8SnggTiIlp9CsSf+ComO9ZlQJ2P7mwUr1XaQ9LExNsO+3vN/lYWuWTulMqsTdMUkCLtCdJJLXasdIcFSp7NARK52O3f/Z3R+Vo5Ic9ZNKOKRUXf6bt6Tv/f91DMaYXidQzCrAjY88aT635O/T7EZYng39JlscneiveXskqzNvWrNKZHELFharZRf3C1wZ9H7efV963/+XeD77Qryr1oj/xk2J9iUIyJskoOnvCLe2ycCPSx3Ltv+zL1ygO33xz0oNgEqsfgAkAqJYs80g1G5BH6833tUU98zAxA8EDZ9PLMVw5qtPbYL5jl5fn/z37lJb3wTj+/B92iohra9ZoX8mHS/Bl8QMGf9jtqbtBNJzLjEqTgsgE5/iRQ+WJ3VhwChGIBiz3Il8jJ22IdH5uCiRmtns3hPt21l42DQg0QW6iaRt8xjuDkRLxitOogeyJG2NBrHYGYnabIat01AmrLS4acBVeLjspE7/EL2I2wWO47AsMErmXLckl4ALdJPLaKGewYcd3u3Faattf3T5DsDTXdZdLtHhQYn298m4t1+5asOtTRKqKhPfxUvWltBYl4W433C/Ku9rAoECANBvctej0+g2U7z8Tmm+rwwFnDOtAvfv2Jhy/gZS78rIwcMy+OsW8a5ZI4ObNur9hSoqNXjNCpRP6/oJ/jnS3y/elb84lq93xUoX6CaQ60I+RHAqlk/YOwheS9Q3A3i/e7hSKc4SzXgUdJU66vO5JuD0Yq11GnquR/9L6l38TnEhjG8rLlMMWA+VndQgNLvulbHPj74dl4GjlWeeBXp9O+lekBPGO/yGqzxPpjT7E3tNJ78JzFuR9euke4+XRfw2QXZmgXku0HUifYtz09tz1G8vXuiJtvHry2h/PKdZXGKbj3LgN9Mf8CpRPhnDcOYH4DK96xb7EnCBrn1ZLbQz6XgKe8psT/EZOr/o/jK5UXZJuWn9ty4pt+tYdpqM5TwS37Xz4rt6Vfo+/LcjqyOuC/67dxVgJpOj6nfIp7NGZBEkGQb67Qv5bMcdJLuGHoedwe+XaH//ROaxqgoZy81SXlq7WcdsXcfBSaT4Hd5/UAiCM9wSkq7ffldGT512g9EcyHkhnUoMDlbJZL60hv4CdrEoEqhmVUhOYZxvd82s6V+V56yq1P0Ef+MqhXsGwbPE/OBiwYKrAr6yl+tuqT+x00QRsRfGGo6V9kbTPdmSt1d+TF+r1wBgf/dwlVKLnq65rG6ZxCDNZYEEYO3j7Y7li3tZ01DrpKa6QHeSSJzvwHcFhgK7L7txHtbTqTh3O29h4v/AaqWLa8FNLCiLoy7QtRDMa7B7LDKmvuqGztpdf3rnezlTckrC9U8kWJIv4doq0WxggwMS8fRIsKR0wuoYZ7FNBMjw6Q0Wl1i6LViJ29DvScfR+3BYxseCE0FYCQK8Jv2v2Y5oVPl4R08fNTvqbB9tiUQmlim0K5ifr/y4UIclkqlxDNmG6htMZev66Dp7dPPxbBJQOE2YhJ87vLhWs67Qn9n9HhjnQaVF2u1khYEq7hnQa8FIAFdsStMD/U3ihKGxkRkZsHJvuDEArPHZT2l+INcbU5WqrWagXoH+VCzGye4v2fFuX68cKDk+ycpsyNFsjb/xn+WnlM84vn4X6MZLZArbd6YIdHl5ifx2y8KWgAt0F/bzS9R6giVIsWn2YU20D8vNP9WXNAkBnLcEOSlPLaAN5oCBARk9eco2BVbfe+/LyOE/JNLt3B8v/v6g34KZINzSKsHyChnLy5dgRaVE2trV1WD8WRre+P+zsw2v71h6qp1TJ58D8A4GJer1Cn62weoaCVVXazuR13P5Tf7PSXugb/Od/meCozgR2H3rHfF8+pkErt1QwD+pIgIH3YQRZmJZUPtIX0uGvUQ6a3YsrZVArxcczbE3XedtTOoGEV8nbBF3m9Njq7H8jeMgIBNrKq5GLPyeDeAJ4CXQjGsw08t3bzauY3mzcQf8Yb9+d/mOxsvQahvZgsXMZqRdoBsn4KlsPmrPFcjnrR6A2X78bDI7cqcVxTiVtrr/M/MScIHuzMt0vtTIR7O0p9J2hiZD1/GhwzpiWaJRCVVWyeCmX5NOsfe9+77gPxosKTGlv7K8hskBwGK4rk58ZGNbu076f1gini8XycCSpTK0fqP4Ll2SkJGYwuT/k+0KN9ZpquBk5006Ho1KdHBQLd2jf5+SwQ2bZOCnnzWRA7Rfo3+dkLGCQokMDFinU46tFBq0Po+Mnjmnll04dV8kj3hHNEHHO+/JwLffi+/ceYl6B02tuVTpAt1YwS7M3+dqrykfq6GfdtfEscCVa1ZIarEia7Ptfh9KP5gOmJafiQI4pQ3DYyPKQUsgKttWFuiZuKbdOnCLGAuPqbV4JORTAG0GQK3qw4cYqrcdhQdtuZvAFAX1I7RxZsUFumZScbivbqBRfs3b68jMvixjg06LvCkBX0yf4k/ENAl+wfgLEj3LyO1VjhwdPmrT0ys7R+SnS3Xyfw6UOFqOZnVKv5sC2FSm82Un+okfG0EsdjtHgtHg1qzy1Ca8DYK5gvmFGsTl+eRT6YWx4K13nk21A8beF89HH8vgmnUylpUt4z7nHJaxDVBasMIiZUPQhA/vvjfBNcs1335XANR9//6PDK7fKKGqasHya7cgJyxfw30d0lOSoWT/0ChhIUoaGf/Mwu2/laLgVhM9IAsssSy0638/1HS+vktXJNLdYx/sDg6q7Ib37ZfBVatl4LsfZOD7JeL9ZbX0ffqRHiPbW6KAOXLdO9Xt/zlcJtvuttgVn3veLEtALbr3p2DRVeouc4su7/zDtmxbAJpvAoFd52qvaj84nds13A0IOM3qyFN/3dPVl+Rq/W3J7ixQsIfevQpswTWHgiMaUEfbYK+42XBvwhWiv14BuV0gjvW6sLtM1j7eJh+n/mDKDoFcYZbZlLtHCA60sr67QHc6b9yz/4Wy63Jdir7IdjpDqE3O1153lDd6Bpr5yqog4hVwSyplCLqPVZwRMs/hq0S2mCZvqwbJAIYXYnk6GJRrZb3yZ2anoyWnaVB8QftgYiHK5nVoM/p9reGOfmzt6Pfn95bK39UX9Z1Odv9YWEP19TJ65qwMrlsvA98vlv5F30j/t9+L9+flMrxrlwSLimQ8EEgIxpJdh+PB6mrph18WEJnAN1gtyCtXSbjZHlADyKLfpDu/WXtLjuful0PFRzWrYlp7tnKdMh1qpd9RssTdviP93343AWyt2vb2u0pb5rt8Va2/du4ZAAvAj+AO0dIioSp8pWsk0tIi3jU/SqT7aVK5hqPjjvSa78Cx7Kdyv2bAVhPdk2ZfAiQfgDbMjv4a52AlTOSjS6v5NpysuqB9vxUnLYFtX977SfaX/KWJaqZzt4BEMsbBcb8pb5cmzoCbH55bAB98wFvz9yvFIDpplZwiURt00DoeUdBI32230LaO0S65WHdDVmb+Kl/c+0nbBK0hbBNYs0/XXJHmoVYJj9urF8BO+uS9xUdlcdoarYd7BfiScY5neqD0LyntrZKxsHXAnAt07T7FBOfxYmBmh+4DDk1GGYayxK519HHnB6X6YTRmd2ST4NLz/hCK0jrUIWdqrmgOcHxuIM4m+pU1CkAUKdltpqqYr1oIfEyw+gRCzpZw5FWMuV+1tBbe9QFoWHV3F/2pXNOJ9Jtgkz3Ffyq4s/10mbYfHZVwR6e6M4wVFkqwvFzG8h7LyPEDEqoombbQooGADG3fYS+b2f+8recNHzhoykIQ2ximI8l49M+TK7I4ba0mxPko5RshKQXBPFix4O0F8Mam+HxeBzM9ZeXi/WVVYpBrgF8yxP2wWJCRE4uzWmzxPTYC3KJRCRblylhWmiml2PP2PfvhVLc5PxRZmAP3+Ht/HbbJnLa1YL8pXVdsHx37G8pQOPITFXR8cGxYE1n8/GiTZm37OBVe+u8UfNK//ZSxQU5VXVS+W6vBXqJrGMe4FjOhsDGQhRHmJhI8xbaZbxPZ0mBnICU5CTLsvoXh8bAGn0GnWO2plcq+GmVcgLHCjoW4c6RLv30Y8sxAP/vo/2FGIPusXVkwE0wbcp4WKY44UPKXUiWefXJVcp8WalY8K0uuIbuy9hFZc6NRPjxe6Wi5VNwjI2P2QLlxrWTrV5ICOFmj7B5n+h3ut2OV/+hLxuiKF+6DW19PpAhN/UG+fbhS9pUckyf99ZZ+P3avtxDOQzHbhjvlcOlJZaVgZBurlMZvFIBUfzeb7utHYyHcm9vGN0sC6LcxmP324S/aidHRqH7f/kYtF/jpHyo7IbgyTWkQy4yGAcaiUbU2+q6ekWBZoUjEfPrU7lPAiun57POEltx4K2/fp59LpPOp5SW4R0Du7yVHhM7dagAAH+cPaWvkesNdGQ2NvlRf1O+X0QuXpPe9f9lvG1Rgp//RoLWXKnO4ESzOFe/K7yTq7Xf4n+7pC00CgKq0tixNE2sGwoy+yFhjGSWxUjIAhRzo5+CmfzJQLxfqbsjvxcdkd/Ef2tczc1vWVy2jwVHbwM5Ktv7wmNxreaQg10rXjPZzfHH6GnVtsEMN5gsHNFvrPzWXZP3jnUo1Bnf48kebZHfRHyo7wKaVGxK+wftLjtuKZSCBDdzeZD+zW5Ax32Co1wDdBPHjO80+jiUrw4GI1Pf6pbxjxNHSPRSUSDR5/cmuH3t8QQNdbgTLHlbJzI48OVz2t2zM2SWrs3+TDTk75UDJMZ2mJ5sKD2emC50OUZO81LMVmem0zTjHM+qyQ72GYgIUyBpj5fzv9PozeT7KhIztjkJn8tpuXfNDAjx/Ps7wXzNdtjFnp6zOMvT7L80m2Of3TGm60PQOx8cl3FyvFt3w4IDqxYR+hyTqkBnBD2/vBw55e//1gYxlPDJtGjsN/bZKJ250uqzRbzpNppCRo1EinZ0yvGevfZD7zLI7uHmLhJubjWqmtB73+2QsP0vCtZUyHg1ru6Yy1Tuli7v/NOcSgEP6Sv1tne5mxsEMLGKcwlp6reG2Y+pP3muA8WiYFLcjQkZFtmPf9+ncNGmQsYaatTtW14zfGJb2lxwTLK2JCsCRGReS3ABCGQhwDV1SFun253eXaBKLjuFO0/sp7i5zZC3HlSOlKUGwbqIGT+EYUFXtCMQDOFhmw5tywQNdQ/682PDjwgVH9hHS+o0GfcI0vp3Rh1GPnTXXglOPSE6cseELZCFbG51yaJqWIDttsDoH35pVWb+ZWnENZYxdo1hYxHr9Hqsq53Q/zwpgQdAcHwss9i1Dbeoj5Qvby68+pw12LzYnEsCqgW/ec/329aq+o4szrd+hgE+8TxuksataAzPQ7fynJWo1ZhoTC4edMnry76TsDpMsuu//r/ivXTetnntt8DZryvBYHU70myxPZGcDIGuvEw5L+MkTGdy42THQxX85VPPEtG1Odg7npUvnhSPSPtAqjYPN6mbV5/Po83VBrxNJLoxz0VviQsj2xcwMrgX4uLL+5sFK2Zi7WwOnAMUzrcvTkRBtwYAGQEykY/HHSPxQ1F1ueWmMbo87C2xZupnB2l96XAYC3kmy2Vt0xFG7qIuEHPPRqGUprBk68NoA3RmSR9JqNIPKUKtaTYkKhyfws9QluixJX6OEy8U95Y5HpkkvbOMEOgkCeGhPvPIl2v4u7Rf1C7JxiVk9hY7cExiQvKfFcrzijKzN3iY/ZayXFZkTUzm3mx7q4AK+Qbe4EpgNCfBukc7ybPExWZW2Rjs59Om/d3+SpenrlRy9pKdCLUfJZhrI+uUoUxh+ugDdq9dEQsHny/hYQMbDIQmE/JLanOZIt9H71RmbpbKtSKKDXgk3N0ggI00GN25yDHT7v/lOggX5QnvU79ah6cXQ76zGDPkj83f5JXOLLM1YJ8szNyul0b3mDM0mZ3cgMRvP361zdiQAuOsa7ZWsznx1NSA4GpcDAB+D19macfVHAuINDmm2QownGEvsuEYgBQAhDAZ2rblGH4t1Nq0t29QKS70Y4Zh5tuPOQZ3E1jxsy5zEVcsgwbim3TUJPGbKqIURkeQ+WKcDkTGVV7Jv4uy8XclrdYFuchk9P4MPNfRFTDdYvfzs5wVMaXqoL8Dzf56DH7xsf1Wdc/zyM91C9ParfEmR7dPRbo2ctyIZJ/ITSjnSw7pgdw5eqDfsEsFoSC24dEJMs5p1Huj3krQ18qD1kYLdRCLynT2rFF3xVttE2wBj3/WrCkhDNZUSrqmUYGmBhBtrxdvRKCcqz5u2y6ytxr4lV76S9Nu7NRDMn3pdfNcuytDOXTG0am/bAr2e/3wooyePSKisSMJN9RL19Mq4b0RIzqHAN4EwGISj30cqTk/EDpgED8Nzvjl3r1T2PZkV4JOgee6h10gCWGKxIpPN7F5rhhyvPCt7io/In+Wn5VbjPQ348gaGkro7AeAu16c41jf07k7TQ0u+/tTmdI2PMfTTznr1462T8ITd1Mqx9cOi0DQ4OV2vk8dPoJon0C/VnjrJ6sjXoHYy1oEhCCAG/M4nyzz35gJdB0+Y/PXLMzdZglzjhaIz/PL+MsnoyJnTB47rBiNlox1217Q3v6tk0ojRgWimdSpKAX3LiapzSYmqGQXD8YdVzcpJf1qNcf/5jZQAA61KzxOdRrVjacGnkMAZfPSNgv8p6X0jT9uVmmx423rx/Psj+4DyrXekf9HXEq6vlXB1ufhvX5VAyhXxnf1LAvduSW/mbe207eq1cd7iO0slreCsRHq6FJRGR4Zl9NJlZ9bmd9+X4T27xH/tggRuXZbRs3+J/8YFGctOk1BVqYSa6iQC8B0ZFjGhR+oPDGrgDKwvRrus1j89Wq9pWA25umtXAnYlgLEGEEvSieWPNk/KokaQJgFf/9Rclo6Rp5ZWV66HRZdMqkz5W72rZvv/nfKtumJYGY4Olf4l0KiZ/a/VPvyYAZGxAJJgcqvzrfZj0cWiPJWiA4iwXyr6auTP8r+VAAD/Yq5F+8iSRrIJ3D0m2JxexAVM5Xoz+T8u0LUpTTrCoxVnbL/0WEkJBBkIDNq8wvRPo9OFxNpORx2rCFhKsVTHKtH0W2O/BkaA6e2P1Sk/tl1Wv/nw7Cn6U+lP7F/FPdOVgLUEoDRikGh8uK3evdj9BKl0jXZLuKNVor4RGXucIdH+Phn5Y7eEO1rEd+GkDO/eMxGQ9jwphbX1lMC10fPnnzdS0wKHghIdG1M3huHRAXWZim2Dnd9QLRGQFltCFZWaxEKTQxg0YlZr6MWWLJVQWZnSi0WDYxLp7RYyshFYFrh3U8G4/9ZlGUu7I5GnHRLt6xEF/gG/jEcjcrXxjtIc2Wkv387tBQfcWZvYB+b+TioB+i8C0q423FYf4ETvGgxN+0qO6yxDoorRGzIuJqor/hg8s3DMWpXf8vclNZbF18k21GPgEKPAzGB2ntU+cAFB+rGDc6MuO2ss3I+fFsiq7N8SYgyYri7X3VJatleFKeLvxwW68RKx2AawMmKxeonM9uPbh6/OXJa7LRlKYG3WHqt9q7K2KI3TXLYz9lrwLW7J2+dItkzBpLc9jq3G/e1KYMoSILHKmuytjt5BuCvLukplYPtaCVaWiO/KPxLufirhrk4Zx8dWRCLd3Zpy2PNhAsvuW+9MZEf7bZtEBocs74EOCp9GJ1OWgMbNeXsmTVeO+/3iT72rSTJIVmHpTvH2u9L/5SLx37wl42QzMym4LmAtBvgG7qdI8HGG+K6dl1B1uYTKi8Xb3yE/P9pgmmXJ6psEqwTBvW5xJWBXAkyp53QW2Y5RIRjudM1lTeFrdQ3S28LRjcXS6l2N3Y/7zR/lp6TL12NVpWwvOJgQKMbWF/u7pr/uJXcLZmGdDMzh14bZYioFf1zAO7OpzADHtsvsN4MDsAjgeD4UF+jafAplvdVJR4nxDxwC62OVZ2xeYWZOg6UAa4jd6RYUhawqQ0HzTmxmWmVdCyM+fIacBtDhQ0kmrNgRbuxVqJdjBLbANwjnIkCBfTPL0Bd7Vff3QpUAyVNwR4jX4WTbtxvuiDc/XaftlY/XRACRllYZ2btPPIu+Fk0DDH8t4JI0ux9+JP1ffyPDBw9JpKvb5L9f3oX71KrsLcolnKxtHIdmkGlaZk3iC2l4A3dSxfvjUnVjUMD7LAVw33v/0lTIA0uXKQtEtN8e/ybTtdGxgES6uyTcUKsuF2WVKbLo7lJHsmWK+ULtjfgmP9829Bu/ajpTFle/n4vnjfzBrAxpae3ohXEOAZGJBlS4L2R25smPGesmuUEYdRhr+lxcG6HrJKmLVcFnmMxlxv/ZWZP0Afe+2L4rGA5qX28VTxBbL1gES3K3r8+qWQn3e/wDcqLynCOAviVv77wIcufGXKCb8PG+OPi4s1AJ62NfnmS/sbz8XnL0RSVz8AvFhOAaX5xEYJfsLigImWgAx6+K1gc/2/K+GkdKb8j9YOkJ0xEjEbwjoRFpG+5QX17yf+M3VNxToWT7cC26/r1z8DIuoEuQ0Yj0lsa7ZXd9sfbGBHVXknuNDg1LIC1NhvcdkMENm8S7eq2uhw8ckmBWtoz7fElqmDhMwCmcwvjnYa21aidWF1ySGPTWe5ss6ybNsf/6FfH+tES8y1eId9lyGfjpZxlct1FGjh6TYEmpYP01LbAuxC4mJ+F+8bAlQ6mkrNpqtp9p1n0W304Gq0xRkzgDhptH7blK0l/aUylkmBoJjVoOgE2a6O56DSTAAAu6T+j0zN4nq33M0sJUlKjwrsE/uzRjg+oU7yb6ZSxs4woBewhBqvEJWuLrBjiTRc2qTfH7uc7Wgn2mg1US6hA8+9ndJQpCjTYZa9rGsY25u4RZq6kWXBuZ+Y1vW6JtBtnpbdlJA0sZtPL8dHkJyk+1tZP/zwW6k2Viuge+XKYqEz3Y+GMEXhwsO2Fa32zuJD3ijYa76iOMAqpiGdD7yAAAHkNJREFUpizSjpHOEQDMS4iClPRUTtlnZybuAVBa3lulH414+SXbPqRA9+VOmOmrjpEupWGCtxFAwGiYhekU9t1ufqjncK5bXAkgAYJXFj1Y7ki/eT+v1qXICBy1NgtZySJ9fWq9Dff2Tfjf8r8ARhJSxC4W9F3oN9HgS9LXveh40W8635RF2tnD/YkFp6C7LDHoi0bFf+eajBzeJaGyEgm3tUm4tVUiPb0aUKftir+3aFTG/QHNkhbp6dFzo17vxPkmSTUetmY5HkTwzTIzEmApQ79vNt3Xzvvr+8t1pg39/vbBSvkt/3eNtO8e7VEO9fimu9uvpwR4Lwq7Sx3rL306FtZkZTg4Khntuep2sDRjvboH/vfeMu1Tfnq0QVkdCE6FCzhZ6fcPyN6iP20ZztBpdJm6rSjY2oefKu0h6ZD5htG3f576oyy6/7P8/GijJtJ60t8wLVYlXKaczrryfSR1splMsEzjDuEL+5VSFIo5guRwEWV2xmqmNplsrY67QNdKMnH7W4Y65Mv7zoij+fheqU+Jq2luNmFggPpjb/GfOtL8Pm2VpkNenLZWVmdvk2MVZ6V2oME2+f1strp5sE0+v/ejo48UPnynay69pBAoDm4Q0Mj8N4F1jg8BNEfNQ+2WH4/ZvF+37vkngYKuEp12TDa4ij3+0e1vJLPqjgT6e0TC4QmQalg47d4i54fDEh0clEh7h4QbGnSJtLRIxOMxBZtYQJiVYKZiV+FhWfZoo/yQtkpdLwiEwY/u7+oLqt9WnaPRvOjIkAQrSiTU8EQZI4z9pmusLoGAhNvbZSwrW3znL8rIwUMycuiw+C5ckLHHj/XYOMFzBkgfH5ey3krtdGNll+w3g/FLdbdeagazMC3D7Wo8wFptVQe6Dw83MzpReRG881Jl7sZrJQGALmDQ6p2w2s97RBCqnQL/Lil58Y29Wn9bA0OvN6TqrAIsA8YsoVook1gmoeLanLtbB2lmMzMAXAZ7WJxPVV8Uf+hlg058e6FTq/DUyJWGCWYWwDvYgwRSgHSzggWVNmPwYSaY/pN9ZoVgcdpjJUer/QTHD469HHeAfGgv/T60ZH/XXJSDZSc18yVZXfmutQ13ylg4OGMB8i7QNXuqJvt4GQjqSOQOEPuweVEJmKofsJ42NLnMjO7ixUUBUYD7rY+UKuVRR65S9wCErV7qGW2EjcogsHYaiUqHjvLFFj5Cf1WetWV5x9qOjy9+T25xJUAWvr3FR2wHeqHfyzM2SP3DCxLITpNIV4dEYBqAV3Z05EVCBYuOQyWOP+voqARrasR/+aoMbtkqAz/+JAM/LpXBNetk9O9TEszPl+jAwASIjntMgFgyMRIkcq/1kc5U4KJD9jQ6Ejsl3NIkcOuGaq2jxI16cK8IFhbJ0K7d4vnsc3mJseGtd8TzyWeaWjhYXDLhigEwHh2RgeFeWf1wtXxw6yvbHSWD0eqYYDQ6R29gUP6s+Fs+uJ28w+X/+RbEd7LGvbjr10sCADboAe28G7H9NNP6Z2ouT1sYvJ/0t8SD0LeyYJkEHJv1s1gsochkoErCpk/vLtZvD8FsgG/cqBjAnnlyRbxjQ44AH5lZg1HrpEpcm5iVHn+ffiugCwMjNHqbFcjT7vg2Z0/Boss3EteuWFcOYDTAO6ezUPt80hzHA32C5ggAZLbZHwo4unerB+kCXSvJmOzP6yrRlzLZyIYH93nqEjlRdd52FhaTy70xu/g4kPebRBEoR+yHyOw3000HSo8rr6AhJEb0AF8nAUW4NUAfYzdTjnEtd/36SQDQSEAa05IEQpm9d8Y+3lEitq/V3xFvc7UEi3MlWJwnY5kPNJlCsChPuXSj3gGJ+kcnEioAeONALyA3kJ4hA8t+nghOi6f3evtd8Xz1tfguXBRcBOL/fyaeApnSglVlSgWWsL5gUIJ5+TKwYqX0vvOeNUvDW++I9+cVEswvkHHfqMoENobr2fvlqzuLbek3fpY7Cw8JgWZGQb8noszt849iaMjuzDeqcNevsQQAmj1+j6YYNvTUzpp35FF7zrQkw7sJGMUXHgD3oCVT7rc8ksz2PA106/MPTGQNi7sKYJLgUlzpSNONIW19zk51jyAxTFFPuWkMSlw1jjYZEJB9lLTmWLJXZ21Vg9zi9DXKOoMlmGPxPLgMIlZm/Zrwuxgvb2a0Sf0cO6tEX5/enqMuFYlwFN/YVVm/zZhrpQt0HbwmWHVJW4gbAIFcAFqCungoujzzfwWwkYcavxO32JMAUZ0oHqM5FAB5xisO8iZHOr7Fhd1lL430SO84laxwTK2QR9wtrgR4h/Ap46OPa8wHht9rnH7j+waF0NMYAnel2Or3SDDnkQTuXJdAWqpmIguSTOFJpVo2SdSgPriRiFp8A1mP1QpqSe31DPj2ffQfGT39j0RH7PsC23qawTEJleRLsLw4KYgONzRq8FxCkBsD1AfXrJVgaYkM79wggYe3ZaCnUQ4UH9UBglUHh85DpA9PZ11cAB1Wpn0lxyZ9E+K/EbHbMMocLjvpDmRtvQwL/yTeEVx27CQl4T3hPAZUcGFPtYAJcJEhmJXA7kXPfMaxypI2fGXmr3Km5oo8GWhQK6qZYwCAl4A3KMmYWerzeZRDGvA+kwVLLlSeuDSAYcz6WHSTzI/w4Pb6+p5bdpktPVrxj/0Zr5RF6kPPfceW6v46Wft4u203CGhH9TsbZySIrdPObxfo2pFSzDko043G+7L+8Q755uEKdfzGSZsFf5oVWb9qhi+yriykglKhCIy+WPgdP30xm/fD9TpHuuWvynNqVWNKCdYKXEUmpnN+kG8ertQockac+BTFFvxtdxQectQR8rEjKp3obbe4EkACWDtuNN3TjzSzA0yBo9tMsX39YLlaNf6pvqwdEu9sfBkPh2Q8GJTI005N44uV13fxlITra9TqSyKFSFuz8uv2L/7R2jIaAxoBwp4vvpSx7JdddeKvnWj7hX5P6DhtD7c0aGrhRP/HMbK9+c5fEM/Hn9pub+9bb8vIkT81y5sC/PFx6Rztkj/K/taBBNYeQ7/RcWZpmGHZmr9PinvLX/K9pw3DwRFHkeoG4N2Yu1utU8nu0T2+8CXAO9082Cprs7criI2fEjfeCQAehqqVmZslsyN3yv3cxPXaNN4DA41Rf/yaQTPJZWA9eFWp6ydcBkbkWkOqfG6D6o/AbcAuAJzCrCczKjBLJOMUBizz/ynND2QkJjiPQQHugp+mLrGUVbzs+DbgxxuMWLti2HlzXaBrR0px5zBVge8tI6Mj5aeF6P9DZSd05IalEf+chVLoAHmJh0MjOnIimKtxsFXaR56qTxwv2FwBXq5D1CV+xLBVMEJenb1V1j3eIbuKDsvl+lvSONhsaqGpG2iSX/P22lYgQ6E25O5SerWF8rzcds6+BKDwwhJBoImh33+U/y0Xaq8rRR2gy65OYOkNd3dJpKVRxjLuSaikQPw3L4n/xk37qYH/522B13bot20ioZcHeMmkgX7TwQwHh9XVB/1mwXLkKUyX0YJHL82MmNWHj/Dgtu2O2gs4H9q2fcK/OKZSZk/utqTrVC0glCQd6x5vV1/FK3Up+t2JOf35T5gm4AI19NbuGuvRQjM6PL9p94djCfCuQzlH3wFbAYMpgJexsA3Qo19JbX6oVlbHF3n2D/jHEyjGYDjZ+wjoxu9UAyRNBshO2oBO8+ekgFkqPbWOXDtgbADcGtcC9KY2pwnsDgxMkenErPbEjDbbWMm/e7hK/q66OCnrXI8mhvo9qaziZQkW4Js7neIC3WlIjxEdjtYkW+AlCI8vLLoqXmBAOSAxtSVNR6YEhW3J+132lxxTH0Qc1bk/7nWuCn5EyJOPwpOBeg2eI2gs0WiYzntb/gHHSgTdWMtQ21zdmnudBSQBZjbQD95/WA5mwpd7fGxMon29Mrhxs33r6DPrbv8330mk1z7hOzoLp2zdQKN2UIB2LKa883+UnZSU+hSp7qnQgK1E+o3bgnfNWsftJbBOfYvjnjmDBILEWoc6pMZTL02DLdLr65eoCTWZ8a88A6eZKekwN+TsclOFG0J8Q9boae1Ao5ysPK8pbwFsBC8vTV+v0+a4HQHgCMiaaoF3nviOZY822O5zcGdgkOcP2wsUjW0bfTX9IolfRoM+XcbCYzr7amfQzXcMRoN4EJloe4KR4p+X+Hvpl7Gw7iw4pDOvuHFhzcZdE25gBq9XG+7ooDq+XTyTNdnbHLWB9jFYxQA2neIC3elIb4H/L6Mkoim35u/Xqdl4nx0sKPjL3W1Je+ac7mwUOZfiwYeIDxijykTKG3uM0SidP//rFlcCcymB/u9+cAwcPf/9ShkahEFnEp81A0xCMYh+4wr00rt/6yv5NOVb2ZC9TVN1MpA0Bbvj4xJ6UiveVasdt7f/2+/VRWMm5EpHDUdu7D0k+431DiaN6QCamWi7W8fcS4D3n3emYbBZ02bfb83UICgSHyiLQRL9SdZiXBhJH8w7luw9jD3O+9g1ap0e2Oy66CUAEzquou4ySWvNErip854WaQAcg0ZAcKKC9Xl9zg5HbaXd6Fx8rBHZRknMQvD3uSfXNOj+VPUlTaqBYQpuXLMyVaC75vE2F+iaCdTdl1wCuCQQkbwCn5uUxNlk8E283fxgXrtkEKGNVfqr+zA32KMxYiRKpD2RoG5xJTCXEhhw4J9rBKt5PvlU/HdTJDrk1UVCQZFwyJS/F3ox+ChXZP5qGnQS2/li7SJhhk4PAgBYngXMRYcGJfSkRrzrNzoGuoNr10m0b2YGkaT3vdP8UIPVYttu9ZtB+7cPV6qf4Fw+V/dab4YEAKu/Fx91DByxAJOJ1G5hVglmBlwGdhQclMVpa9WCClf0dw9+0dmZm433NM4k0YwTxpzvHWRjM/QKt0GrzIpYmXEVAfQz22o6UI65UWZwCCQ36ra7xr95ujSBrkU35kG8ST+ZrnfCC8y0RJWn7iWqkPkmL9wXfi8+oukY463TsUoFEGZaBp8pNxBtvj3FN6M9cOb2vvWOffAIT+3HH8vIkX3K4hDIuCeRjlYJP6kUAtzGvf0yHvALwXDRSFgavPis70kKcg29YEqRFLphQPTwkIQJmOvqlFBpoYQqSmR4/wHpe/9/7bf37Xdl5MRJiQ4Pz8gDxUJHtjM6SmW8MWFlMe4F3SfYDesZWdTc4kpgpiVAvzGV4OdvHqxUtwo77QFIEitzvOqsglurPo3sp/tLj6vvfby7gHEduOrJpGjoiN31hpydWq9Rz3TWuFHhb0twnt3rE/im2dUsrMR22+MCXbuSeo3Ow7/oav0dxz5vJ6suzDiv30yKldElwYAEpREgoM7yzzpEPhIs7OMY57zq9Mczee9uXQtLAv6UOxpgZlhrk60BmUO/bpFQVbmEW5vEd+mUBMsKZfTMUaUxC6TdkVB9jYLSkdZ6tQBB1WW3Q6HzOVdzRfof3xN4gAHSQajHivMEHtzAg4cy8P3il5NExDFDPL+Ht96R/i++FE0cQca4GSpYrOAWJXgNIAvfsaHXxprZKTiOsQKRFcqq45+hJrnVvKESmKpF96eM9dLgtWfRxfXiZNV5+TjVOgugod+893DxDgZezkJmPB6oE3cUHrT9PaBe+sqdRYeVicaoZzprgDvuDnCV23ExxLWQ2SYyuGLZnk5xge50pLdA/5ep+j1FfyYlxjeUyFgz7TI0NjMWmtkSHf54ZJyBBYMgBJzlY+nflj/apMfK+qqE6Hq3uBJ4FRKI9PbKwLIViZMvGEDynfek/7vvZSznGbF9NCrjYwGBtouMZiR98F09K2NFOTJ6fL+0P7wsR8pOOurU0PGdBQek9uZxGSPTW3+fRH2+577AUY9HRo79JZ5Pv0gMdkly8fGnMnLwoET6Zz7rIC5XRNXvKzmqgUBf3Vsmn939UQevcJguz9wkf5afUionIs3d4kpgNiTgC/k0Bb0T6ySDsd1Ffyq7kZ02FfdUyNf3l9uelcGya5X8AveC200PHFlTyc52rvbajAThGvc7MObVlL+4QyZKzAMQxvpNYJvdLI/GNczWLtA1k8prvo/kDJtz9zjuCAlOWwjJFUjF+HS0WzkScZYn4IxF82h35ikxt9sJvuYv+QK4vcCjLOn/YclEVjQzN4a33pG+d9+X/q++1oQR437zIA+SUEBjhj9tuLpcmhuLZKvDwC2A7trH26Siq1zdHyYFu42PS7i+QUb+OCL9X38rff/6YAKkv/3uBPB95z11behf9I2e47t0VqLeftPUxdN9NATeoN8Z7Y+V0vHPsgn9RtdJgYw/omvJna6U3f9PJAGsk/jAL81YZxuIYnAhCxqWWjvlUNlJ28kv0F/A4Za8vaa+svjPtg11KINBspgc6oImjFlPEjzMdGkdbtdcAz9mrFM3QzIh0iYWfgPYMaqde3JVwCozocsu0J3pp7gA6iM7ylSALhGmcwV0+ZDwgqOgrKfC94CLBtZrHNmJtGVUm8xhfgE8PreJr4sEQiEJ3H8g3rXrxPPZFwoU+957X8Etrgqe/3wiA8uWy+i5845oxVqG2pUikA7LyYKfLnSCliU6LpH2dvFduy5D23do6mIoz1hIYzy0dbv4rt1QpgXfhb8l3FArEU/PRMBcXKXx+h132NYm3wV02hsYFKZm+T0TnaKti7snvfESYEBFql6CmrHWWukax7D8EkyGbtp5R3HTWZaxIWG9Ztf76t7P4g+ZD4ihJmMgSNIH3JpwDYivg2yQcOSSfpf0vdNN1GD2kqD7uH4QXIofPfRhBMXTrnU5O+RA6XG9NjptR1Zm14jf5wLdeIm8AdsowoTrQmK2hXglICBtutGPycTLi03WMyLAoTzq8fWqjxAZVlD+qUHeZFd1j7sSeDUSIOtYqLJSRs+claEdO2Vw/QYZXLNOQePI8b80G5rTgK4uX68cLD3huJPcXnBAOW2TSWI8EJBwa5sEc3LFn3pX/HdS1a0i0toq8AQzKo0OeCRUWaJ+vpGepyLP3AgYfKLf0CX1+T1KXYTVBitXeDzi6ncy4bvH540EeJdr+xvkYMlf8vX9Fc+TUxj+4gBJrJTEhGzO3avJZhJxwcfeGNP13z78ZRIQje+T47exGvf7B2Kreuk3eoafLJSDZH7E153gToD4p3cXa2rg7YUH9Ry4w2ezAKJJXIOr4ePOAmWBKuut0j4/EYPEVNrkAt2pSG2B/w9gkUhGSJ7jFcVqG6XF920m/GWsxIfDeX/AK/jPpjQ90GnJE1Xn1OXgXkuGVHvqhAxJrlXWSoLu/oUqAdwSIp2dEqqpkWBFpYTb2iQ6OPTcR9bJfdGZ3Wy6J/+5kzyIxdB3pirJ8sTMx0yVSEebhJvrxZ96TaKDAxKJhHUqEt9DKJH+qbksxyvPqn5DpF/TX68JLmbKijNT9+HW40rASgKaJdXbrO/w+pydSuFFYhP6VnxMsYweKf9HynurHdFYjkVC8mPGWseDVazLybKIAbbhtL3ecEfI+EjW0V2Fh7V/v9F4V4O/kgFydBQXIgApQeDIwZh9tZLVq9zvAt1XKf1XeG0iGcliYofwGpCL0jLymi3fVuqFCuhK/W3hg4HCGjRCjDbJnU3GNvg+mfZwwe4rfHncS89rCaAb+NbhipAo4MMAufj2EaSZ11U8K3rlv3pWArkZ0tpRIZdqb2gSGnhAjW8PIBtwgE8ggNcTGHAtu/P6DXMbFysBQB/T7KW9lXKr6b6cr72uwPda/R3VqV5fnxA34rQww4LPqqGnydb00yR4iiTIMGi0AWMXYNbj79cMpNClkVQC94ZEhf8D2HK/0HlilCI4tNLzRNqGOxVkT+VeE11zJo65QHcmpLgA65hIsJAuyx5tfA4ozRSJTpBO6EzNFU2DOhu3SsfcPdqrFqVEVmbagvvExbob6tYwG21x63Ql8DpIgGnHe60Z8lPGhoQJYZhaRaeu1KfMmv99dGRIWi4elCMPt8oXd5cktFJ983ClXK6/ZTtg53V4Vu49vB4SAATSrzLryawKU/PTmZ2425qhBh+zftlsH9zwVxtSZk2Y3N9oyK8zL1frU2Rv8Z9K9fdL1hbZmLtLCJ7DENU81KYgetYaMoWKXaA7BaG9Lv+Cvy0uAmQ/mbCgfjcR/Xib6Mdv1X8Hiq4zT65oJDM+SbNR+CikNN1X/kszBY7ftzhtjdxvfaS+frPRHrdOVwILXQJ0SrgBEeVNsMfndycsqBCwT0Q3f6tpgVdm/iqX6m4p5RH/MxsFn9zzjw7K5zftpedmYJ3ztHA2muLW6UpgwUiAJA87Cg5pciOstfH9YOw2/TXJVGAjma1Cwofcp0XKxwtXdXwAHrNHzPweLjsp1Z7aWQlkm+q9uUB3qpJ7Tf4Pf56C7lLlBNxZeEhHaNAMbcn/XY5VnJGM9hwZmMHox3ix0bky5cGoMFZxE/1GoWgrjuxucSXgSsBcAujWUHBY8rtL5O/qC5pEgUEtwJdgFPxjszrzZt1VoHmwTUnik3XWhs7TgW7I3TXvrELmUnb3uhKYHQmgv2W91fJr3u/y6d0lSh8Wr0PMcmLJRafpx6djQU50F6Tgxrd+Q86upO4U0IMdKDkuzYOts9aeRG01O+YCXTOpvGH78KnB56bR26LZwsg+VDNQr+4BMx39GC9a/H3yu0qTKo/RCRprpmRdq0+8NN1tVwKTJYD/O9ZdctaTLYwOi2AU2A6wts52wW+RyHNDd+2sP079wU3PPdsPxq1/3kuAvrmsr1qOVJyWnx9tkq/uL1OeWcDtf+/+JGRag46roLtsRhM7xAsGS/Hhsr+f+9Un02EsvgS7jQRH4qt6Jdsu0H0lYncvakjAF/ZrBHYyxYk/TkYkIrfd4krAlcD8lsDRin/U6hSvw4m2CcLBEu0WVwJvugSw7Hb7epV+C7YkmIj+qjwr559c1xnX9pGntgLQpipHXBbzu0qUeiyRzsYf+y3vd2nwNk/1sjP6fy7QnVFxupU5lQD+uQTCxCtJsm18DmFocIsrAVcC81sCBKmQVTGZTsceB+hmdxbM7xtzW+dKYA4lAOAdDY0KaXRhSMDtcC4YDgKRMbnZeN8Wg0usDn/zYIXkPS2eQwlZX8oFutaycY/MgQTIXAZHbrxje6zCmP3G6T21JX0OWuhewpWAK4HpSOBU9SWdbjXTY6t9UAuW9lZN57Lu/7oScCUwAxLAz//sk6uOBqroNTqc3vZ4Blow/SpcoDt9Gbo1TEMCJImo9NTIFw59+FZnb5XyvuppXNn9V1cCrgTmQgLZnfmCq5EVqDXbv+j+cpdCcC4ejnsNVwJJJIDl+ELtdUf6i07jR0ww+3woLtCdD0/hDW8DNCpkZiGC1KzTi9/3SepiOVpxZkazOL3hj8C9fVcCsyYBT6BfNuTsFKjN4nXZbBu3BbIwuklhZu2RuBW7ErAtgVAkpLOnJHYx01erfUvS10hRd5nt68zmiS7QnU3punXbkgDE2gVdpRpVmiiT0//qdMh3SnFS0lM5b6hLbN2ke5IrgTdUAvgWYtkhMUWiwSzuS3D8MlvTONj6hkrLvW1XAvNLAhM0Z1WaXMoK1MbvR5f3FP0xb5hTXKA7v96pN7Y1ZHJ60JqpaUs/vvODOr5/kLJI4A1koQP8LHWJbM7do0Eq/nDgjZWVe+OuBBaaBAg6hWYMiqT/3P7+OScouo2eA4A/vbNYNubsVraFyHh0od2i215XAq+tBKAiPF1zWZNIxYPa+G1A7rcPVmrszXzpp12g+9q+mgvrxhg1DgdHpbC7TI5XnJW12dvkh7RV8u3DlUImtPU5O+V09SUp660SKMnc4krAlcDCkgC+fnBf45awMmuL0hWR8hdL77rH2+VszRWp8tTOCbfvwpKc21pXAq9WAsTS1A00yp6iIwp2rWZm2E9mw7+rLkjXaI/Qr8+H4gLd+fAU3DY8lwAE9nAGVvTVSGZHrjxszZKsjjztAPv8/bNKiv28Ee4PVwKuBGZFAug35POlvZUakc0sDnpOytCBgHfedIyzcvNupa4EFrAEcDGs9tTJkfLTanwi2Ax/enzvSUH8aepiWZG5Wc7XXpO24Y45oT6zK04X6NqVlHvenEqAVIZ0imPhMcEZfrZSG87pTbkXcyXgSkAlgD6PRYKq38E5yM7mit2VgCuB6UuAPrljpEsedeTK6ZpLsqf4D9lWsF/2lxyXC7U3NLEEBqn55nrkAt3pP3u3BlcCrgRcCbgScCXgSsCVwGsvAdwRGKR6AgMabNY02CodI0+VBQkgPB+LC3Tn41Nx2+RKwJWAKwFXAq4EXAm4EnAlMG0JuEB32iJ0K3Al4ErAlYArAVcCrgRcCbgSmI8ScIHufHwqbptcCbgScCXgSsCVgCsBVwKuBKYtgf8fbvepb9ZXEa8AAAAASUVORK5CYII=)"
   ]
  },
  {
   "cell_type": "code",
   "execution_count": null,
   "metadata": {
    "id": "BxGLFGtoVKsj"
   },
   "outputs": [],
   "source": [
    "target = attrition[\"Attrition_numerical\"]"
   ]
  },
  {
   "cell_type": "code",
   "execution_count": null,
   "metadata": {
    "id": "4STz2Aik74CO"
   },
   "outputs": [],
   "source": [
    "# Import the train_test_split method\n",
    "from sklearn.model_selection import train_test_split\n",
    "\n",
    "# Split data into train and test sets as well as for validation and testing\n",
    "train, test, target_train, target_val = train_test_split(attrition_final, \n",
    "                                                         target, \n",
    "                                                         train_size= 0.80,\n",
    "                                                         random_state=0);\n"
   ]
  },
  {
   "cell_type": "code",
   "execution_count": null,
   "metadata": {
    "id": "gpQlgBnm8F1b"
   },
   "outputs": [],
   "source": [
    "###### 코드 작성 부분 시작 ######\n",
    "# oversampler = \n",
    "# smote_train, smote_target =\n",
    "###### 코드 작성 부분 마침 ######"
   ]
  },
  {
   "cell_type": "markdown",
   "metadata": {
    "id": "qV6HfnpkX9Ql"
   },
   "source": [
    "## 03. 머신러닝 모델링"
   ]
  },
  {
   "cell_type": "markdown",
   "metadata": {
    "id": "iOE0M_uLYMTN"
   },
   "source": [
    "#### 1) 분석 목표는 '직원 이탈의 주요한 원인(Feature)'"
   ]
  },
  {
   "cell_type": "markdown",
   "metadata": {
    "id": "GJ0LrA8-8tCs"
   },
   "source": [
    "#### 2) RandomForest 분류 모델"
   ]
  },
  {
   "cell_type": "markdown",
   "metadata": {
    "id": "-IMOxjXodYOb"
   },
   "source": [
    "##### GridSearchCV 를 이용한 최적 Hyper Parameter 탐색"
   ]
  },
  {
   "cell_type": "code",
   "execution_count": null,
   "metadata": {
    "colab": {
     "base_uri": "https://localhost:8080/"
    },
    "executionInfo": {
     "elapsed": 56894,
     "status": "ok",
     "timestamp": 1625585295741,
     "user": {
      "displayName": "Young jun Jang",
      "photoUrl": "",
      "userId": "15364579243826530783"
     },
     "user_tz": -540
    },
    "id": "eW4Qh6IZaeZy",
    "outputId": "fefe2647-0730-4117-fcb3-5b1f29eabfe9"
   },
   "outputs": [],
   "source": [
    "from sklearn.model_selection import GridSearchCV\n",
    "\n",
    "rf_params = { 'n_estimators' : [10, 100],\n",
    "           'max_depth' : [4, 8, 10, 12],\n",
    "           'min_samples_leaf' : [2, 4, 8, 12],\n",
    "           'max_features' : [0.1, 0.3, 0.5]\n",
    "            }\n",
    "\n",
    "# RandomForest Classifier 객체 생성 후 GridSearchCV 수행\n",
    "###### 코드 작성 부분 시작 ######\n",
    "# rf_clf =\n",
    "# grid_cv = \n",
    "###### 코드 작성 부분 마침 ######\n",
    "grid_cv.fit(smote_train, smote_target)\n",
    "\n",
    "print('최적 하이퍼 파라미터: ', grid_cv.best_params_)\n",
    "print('최고 예측 정확도: {:.4f}'.format(grid_cv.best_score_))"
   ]
  },
  {
   "cell_type": "code",
   "execution_count": null,
   "metadata": {
    "id": "Jq0odeSd8dKJ"
   },
   "outputs": [],
   "source": [
    "seed = 0\n",
    "# Random Forest parameters\n",
    "rf_params = {\n",
    "    'n_jobs': -1,\n",
    "    ###### 코드 작성 부분 시작 ######\n",
    "\n",
    "    ###### 코드 작성 부분 마침 ######\n",
    "    'random_state' : seed,\n",
    "    'verbose': 0\n",
    "}"
   ]
  },
  {
   "cell_type": "code",
   "execution_count": null,
   "metadata": {
    "id": "DLoFKV8y8uu0"
   },
   "outputs": [],
   "source": [
    "rf = RandomForestClassifier(**rf_params)"
   ]
  },
  {
   "cell_type": "markdown",
   "metadata": {
    "id": "1mZHWhEO87b7"
   },
   "source": [
    "##### 모델 성능"
   ]
  },
  {
   "cell_type": "code",
   "execution_count": null,
   "metadata": {
    "colab": {
     "base_uri": "https://localhost:8080/"
    },
    "executionInfo": {
     "elapsed": 680,
     "status": "ok",
     "timestamp": 1625585583809,
     "user": {
      "displayName": "Young jun Jang",
      "photoUrl": "",
      "userId": "15364579243826530783"
     },
     "user_tz": -540
    },
    "id": "ypRhNo-M85xL",
    "outputId": "6bf6beb9-c36a-4899-e003-574d5be1442a"
   },
   "outputs": [],
   "source": [
    "rf.fit(smote_train, smote_target)\n",
    "rf_predictions = rf.predict(test)\n",
    "print(\"Accuracy score: {}\".format(accuracy_score(target_val, rf_predictions)))\n",
    "print(\"=\"*60)\n",
    "print(classification_report(target_val, rf_predictions))"
   ]
  },
  {
   "cell_type": "markdown",
   "metadata": {
    "id": "SoN12oEN977M"
   },
   "source": [
    "#### 3) Gradient Boosting 분류 모델"
   ]
  },
  {
   "cell_type": "markdown",
   "metadata": {
    "id": "OjnW1IXTe6Tw"
   },
   "source": [
    "##### GridSearchCV 를 이용한 최적 Hyper Parameter 탐색"
   ]
  },
  {
   "cell_type": "code",
   "execution_count": null,
   "metadata": {
    "colab": {
     "base_uri": "https://localhost:8080/"
    },
    "executionInfo": {
     "elapsed": 100072,
     "status": "ok",
     "timestamp": 1625586441492,
     "user": {
      "displayName": "Young jun Jang",
      "photoUrl": "",
      "userId": "15364579243826530783"
     },
     "user_tz": -540
    },
    "id": "dERIRtHQeArA",
    "outputId": "628da428-bb02-4f94-9d20-0e1c4822e131"
   },
   "outputs": [],
   "source": [
    "from sklearn.model_selection import GridSearchCV\n",
    "\n",
    "gb_params = { 'n_estimators' : [1000, 1500],\n",
    "           'max_depth' : [4, 6],\n",
    "           'min_samples_leaf' : [2, 4],\n",
    "           'max_features' : [0.7, 0.9],\n",
    "           'learning_rate' : [0.25,0.3]\n",
    "            }\n",
    "\n",
    "# RandomForest Classifier 객체 생성 후 GridSearchCV 수행\n",
    "###### 코드 작성 부분 시작 ######\n",
    "# random_state = 0\n",
    "# gb_clf = \n",
    "\n",
    "# param_grid = gb_params, cv = 3, n_jobs = -1\n",
    "# grid_cv = \n",
    "###### 코드 작성 부분 마침 ######\n",
    "grid_cv.fit(smote_train, smote_target)\n",
    "\n",
    "print('최적 하이퍼 파라미터: ', grid_cv.best_params_)\n",
    "print('최고 예측 정확도: {:.4f}'.format(grid_cv.best_score_))"
   ]
  },
  {
   "cell_type": "code",
   "execution_count": null,
   "metadata": {
    "id": "TB9vO6Nv9mas"
   },
   "outputs": [],
   "source": [
    "# Gradient Boosting Parameters\n",
    "seed = 0\n",
    "gb_params ={\n",
    "    ##### 코드 작성 #####\n",
    "    'random_state' : seed,\n",
    "    'verbose': 0\n",
    "}"
   ]
  },
  {
   "cell_type": "code",
   "execution_count": null,
   "metadata": {
    "id": "BlfH9xYI-JuZ"
   },
   "outputs": [],
   "source": [
    "gb = GradientBoostingClassifier(**gb_params)\n",
    "gb.fit(smote_train, smote_target)\n",
    "gb_predictions = gb.predict(test)"
   ]
  },
  {
   "cell_type": "markdown",
   "metadata": {
    "id": "8fZ6NImPe9sn"
   },
   "source": [
    "##### 모델 성능"
   ]
  },
  {
   "cell_type": "code",
   "execution_count": null,
   "metadata": {
    "colab": {
     "base_uri": "https://localhost:8080/"
    },
    "executionInfo": {
     "elapsed": 4,
     "status": "ok",
     "timestamp": 1625586699327,
     "user": {
      "displayName": "Young jun Jang",
      "photoUrl": "",
      "userId": "15364579243826530783"
     },
     "user_tz": -540
    },
    "id": "lObwEkyO-OUR",
    "outputId": "d1594008-21d5-43f1-d05c-f83f0f2333d2"
   },
   "outputs": [],
   "source": [
    "print(\"Accuracy score: {}\".format(accuracy_score(target_val, gb_predictions)))\n",
    "print(classification_report(target_val, gb_predictions))"
   ]
  },
  {
   "cell_type": "markdown",
   "metadata": {
    "id": "_y5AwIbrfD3P"
   },
   "source": [
    "## 04. Feature Importances"
   ]
  },
  {
   "cell_type": "markdown",
   "metadata": {
    "id": "9D16qjuPfdaq"
   },
   "source": [
    "#### 1) Random Forest 모델"
   ]
  },
  {
   "cell_type": "code",
   "execution_count": null,
   "metadata": {
    "colab": {
     "base_uri": "https://localhost:8080/",
     "height": 542
    },
    "executionInfo": {
     "elapsed": 1835,
     "status": "ok",
     "timestamp": 1625586715004,
     "user": {
      "displayName": "Young jun Jang",
      "photoUrl": "",
      "userId": "15364579243826530783"
     },
     "user_tz": -540
    },
    "id": "vuV0uZJU9DPk",
    "outputId": "c608b907-e00a-4b46-f835-e4816d82473c"
   },
   "outputs": [],
   "source": [
    "\n",
    "trace = go.Scatter(\n",
    "    ###### 코드 작성 부분 시작 ######\n",
    "    # y = \n",
    "    ###### 코드 작성 부분 마침 ######\n",
    "    x = attrition_final.columns.values,\n",
    "    mode='markers',\n",
    "    marker=dict(\n",
    "        sizemode = 'diameter',\n",
    "        sizeref = 1,\n",
    "        size = 13,\n",
    "        color = rf.feature_importances_,\n",
    "        colorscale='Portland',\n",
    "        showscale=True\n",
    "    ),\n",
    "    text = attrition_final.columns.values\n",
    ")\n",
    "data = [trace]\n",
    "\n",
    "layout= go.Layout(\n",
    "    autosize= True,\n",
    "    title= 'Random Forest Feature Importance',\n",
    "    hovermode= 'closest',\n",
    "     xaxis= dict(\n",
    "         ticklen= 5,\n",
    "         showgrid=False,\n",
    "        zeroline=False,\n",
    "        showline=False\n",
    "     ),\n",
    "    yaxis=dict(\n",
    "        title= 'Feature Importance',\n",
    "        showgrid=False,\n",
    "        zeroline=False,\n",
    "        ticklen= 5,\n",
    "        gridwidth= 2\n",
    "    ),\n",
    "    showlegend= False\n",
    ")\n",
    "fig = go.Figure(data=data, layout=layout)\n",
    "py.iplot(fig,filename='scatter2010')"
   ]
  },
  {
   "cell_type": "code",
   "execution_count": null,
   "metadata": {
    "colab": {
     "base_uri": "https://localhost:8080/",
     "height": 277
    },
    "executionInfo": {
     "elapsed": 844,
     "status": "ok",
     "timestamp": 1625586810669,
     "user": {
      "displayName": "Young jun Jang",
      "photoUrl": "",
      "userId": "15364579243826530783"
     },
     "user_tz": -540
    },
    "id": "rAYW-E5thVQJ",
    "outputId": "c139234a-c137-44c0-e2f1-75485e152e8b"
   },
   "outputs": [],
   "source": [
    "feat = attrition_final.columns.values\n",
    "imp = rf.feature_importances_\n",
    "df = pd.DataFrame({'Feature': feat, 'Importance': imp})\n",
    "df = df.sort_values('Importance', ascending=False)[:10]\n",
    "sns.barplot(x='Importance', y='Feature', data=df);"
   ]
  },
  {
   "cell_type": "markdown",
   "metadata": {
    "id": "cZzt0APhfnN1"
   },
   "source": [
    "#### 2) Gradient Boosting 모델"
   ]
  },
  {
   "cell_type": "code",
   "execution_count": null,
   "metadata": {
    "colab": {
     "base_uri": "https://localhost:8080/",
     "height": 542
    },
    "executionInfo": {
     "elapsed": 809,
     "status": "ok",
     "timestamp": 1625586911581,
     "user": {
      "displayName": "Young jun Jang",
      "photoUrl": "",
      "userId": "15364579243826530783"
     },
     "user_tz": -540
    },
    "id": "26HETpou-L-c",
    "outputId": "07c5951d-5ead-4dae-efe4-47df4cdc376c"
   },
   "outputs": [],
   "source": [
    "# Scatter plot \n",
    "trace = go.Scatter(\n",
    "    y = gb.feature_importances_,\n",
    "    x = attrition_final.columns.values,\n",
    "    mode='markers',\n",
    "    marker=dict(\n",
    "        sizemode = 'diameter',\n",
    "        sizeref = 1,\n",
    "        size = 13,\n",
    "        #size= rf.feature_importances_,\n",
    "        #color = np.random.randn(500), #set color equal to a variable\n",
    "        color = gb.feature_importances_,\n",
    "        colorscale='Portland',\n",
    "        showscale=True\n",
    "    ),\n",
    "    text = attrition_final.columns.values\n",
    ")\n",
    "data = [trace]\n",
    "\n",
    "layout= go.Layout(\n",
    "    autosize= True,\n",
    "    title= 'Gradient Boosting Model Feature Importance',\n",
    "    hovermode= 'closest',\n",
    "     xaxis= dict(\n",
    "         ticklen= 5,\n",
    "         showgrid=False,\n",
    "        zeroline=False,\n",
    "        showline=False\n",
    "     ),\n",
    "    yaxis=dict(\n",
    "        title= 'Feature Importance',\n",
    "        showgrid=False,\n",
    "        zeroline=False,\n",
    "        ticklen= 5,\n",
    "        gridwidth= 2\n",
    "    ),\n",
    "    showlegend= False\n",
    ")\n",
    "fig = go.Figure(data=data, layout=layout)\n",
    "py.iplot(fig,filename='scatter')"
   ]
  },
  {
   "cell_type": "code",
   "execution_count": null,
   "metadata": {
    "colab": {
     "base_uri": "https://localhost:8080/",
     "height": 277
    },
    "executionInfo": {
     "elapsed": 731,
     "status": "ok",
     "timestamp": 1625586930687,
     "user": {
      "displayName": "Young jun Jang",
      "photoUrl": "",
      "userId": "15364579243826530783"
     },
     "user_tz": -540
    },
    "id": "m90Bqycph_sB",
    "outputId": "1341f55a-8e22-455d-89ba-72ff56d663d0"
   },
   "outputs": [],
   "source": [
    "feat = attrition_final.columns.values\n",
    "imp = gb.feature_importances_\n",
    "df = pd.DataFrame({'Feature': feat, 'Importance': imp})\n",
    "df = df.sort_values('Importance', ascending=False)[:10]\n",
    "sns.barplot(x='Importance', y='Feature', data=df);"
   ]
  }
 ],
 "metadata": {
  "colab": {
   "collapsed_sections": [],
   "provenance": [],
   "toc_visible": true
  },
  "kernelspec": {
   "display_name": "Python 3",
   "language": "python",
   "name": "python3"
  },
  "language_info": {
   "codemirror_mode": {
    "name": "ipython",
    "version": 3
   },
   "file_extension": ".py",
   "mimetype": "text/x-python",
   "name": "python",
   "nbconvert_exporter": "python",
   "pygments_lexer": "ipython3",
   "version": "3.8.8"
  }
 },
 "nbformat": 4,
 "nbformat_minor": 1
}
