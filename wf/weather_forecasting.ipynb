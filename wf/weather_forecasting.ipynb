{
 "cells": [
  {
   "cell_type": "code",
   "execution_count": 90,
   "metadata": {},
   "outputs": [],
   "source": [
    "import numpy as np\n",
    "import matplotlib.pyplot as plt\n",
    "import pandas as pd\n",
    "import mglearn\n",
    "\n",
    "from sklearn.neural_network import MLPClassifier\n",
    "from sklearn.model_selection import train_test_split\n",
    "from sklearn.preprocessing import MinMaxScaler\n",
    "from sklearn.svm import SVC"
   ]
  },
  {
   "cell_type": "code",
   "execution_count": 91,
   "metadata": {},
   "outputs": [],
   "source": [
    "input_data = pd.read_excel('usa_city_weather_history_raw_data.xlsx', sheet_name='Input_data', engine='openpyxl', header=[0, 1], index_col=[0])\n",
    "output_data = pd.read_excel('usa_city_weather_history_raw_data.xlsx', sheet_name='Output_data', engine='openpyxl', header=[0, 1], index_col=[0])"
   ]
  },
  {
   "cell_type": "code",
   "execution_count": 92,
   "metadata": {},
   "outputs": [
    {
     "data": {
      "text/plain": [
       "(424, 160)"
      ]
     },
     "execution_count": 92,
     "metadata": {},
     "output_type": "execute_result"
    }
   ],
   "source": [
    "input_data = input_data.iloc[:-1]\n",
    "input_data.shape\n"
   ]
  },
  {
   "cell_type": "code",
   "execution_count": 93,
   "metadata": {},
   "outputs": [],
   "source": [
    "output_data = output_data[1:]\n",
    "output_data = output_data[(\"Temperature (°F)\", \"Avg\")]"
   ]
  },
  {
   "cell_type": "code",
   "execution_count": 94,
   "metadata": {},
   "outputs": [
    {
     "data": {
      "text/plain": [
       "(424,)"
      ]
     },
     "execution_count": 94,
     "metadata": {},
     "output_type": "execute_result"
    }
   ],
   "source": [
    "output_data.shape\n"
   ]
  },
  {
   "cell_type": "code",
   "execution_count": 96,
   "metadata": {},
   "outputs": [],
   "source": [
    "X_train, X_test, y_train, y_test = train_test_split(input_data, output_data)\n",
    "nan_indices = X_train.index[X_train.isna().any(axis=1)]  # NaN 값을 가진 행의 인덱스\n",
    "y_train = y_train.drop(nan_indices)\n",
    "X_train = X_train.drop(nan_indices)"
   ]
  },
  {
   "cell_type": "code",
   "execution_count": 98,
   "metadata": {},
   "outputs": [
    {
     "ename": "ValueError",
     "evalue": "Unknown label type: (array([34.7, 32.3, 59.3, 75.7, 35.3, 66.4, 30.7, 30.5, 36.6, 55. , 44.1,\n       52.8, 64.6, 41.9, 73.8, 42. , 41.5, 27.9, 46.4, 59.6, 67.9, 40.3,\n       64. , 54.2, 51.3, 49.2, 71.9, 21.5, 23.1, 21.1, 56.3, 36.5, 51.3,\n       35.6, 28.8, 35.9, 72. , 51.7, 45.9, 78.1, 63.8, 71.3, 78.3, 42.1,\n       34.1, 47.1, 56.1, 35.2, 39.3, 78.7, 39. , 72.1, 48.3, 79.1, 32.1,\n       28.4, 75.3, 43.8, 27.6, 69.3, 72.2, 45.8, 49.1, 74.8, 82.1, 43.3,\n       85.8, 86.1, 79.3, 40.1, 34.1, 23. , 60.1, 42. , 31.5, 69.5, 30.8,\n       47. , 65.4, 38.1, 53.1, 53.3, 72.9,  4.1, 48.4, 38.8, 75.8, 56.3,\n       51.6, 68.6, 66.1, 75.5, 65.3, 36. , 71.8, 40.2, 58.1, 72.3, 60. ,\n       45. , 19.2, 59.6, 70.3, 28.4, 43.1, 54.3, 64.7, 83.7, 67.2, 69. ,\n       33.8, 67.8, 40.7, 37.9, 44.9, 37.5, 85.2, 79.7, 40.1, 39.6, 43.3,\n       27.8, 34.7, 52.1, 72.4, 29.2, 65.1, 78.2, 43.6, 71.2, 43.1, 53.8,\n       31.8, 73.3, 59.2, 63.2, 46.6, 63.7, 66.7, 63.7, 51.5, 63. , 80.7,\n       -2.4, 47.9, 36.1, 76.5, 35.5, 72.6, 76.4, 41.6, 54.5, 31.5, 67.9,\n       80.5, 50.9, 72.9, 39.4, 52.2, 76.6, 60.4, 81.2, 45.8, 75.3, 40. ,\n       32.7, 72.6, 87.6, 74.9, 69.9, 44.2, 72.2, 21.8, 54. , 40.9, 77.1,\n       76.6, 35.3, 52.6, 43.9, 55.8, 25.6, 70.5, 28.2, 77.9, 47.4, 68.9,\n       55.4, 34. , 27.8, 75.5, 62. , 46.6, 39.1, 17.6, 26.5, 81.8, 33.3,\n       67.4, 55.1,  2.1, 46.7, 69.6, 44.3, 53. , 67.2, 34.3, 55.9, 62.4,\n       75.4, 76.4, 26.8, 39.1, 81.8, 77.1, 36.1, 58.5, 71.7, 88.1, 77.9,\n       43.9, 67.3, 52.2, 72.2, 74.4, 40.1, 55.7, 64.6, 33.2, 87. , 74.1,\n       58.7, 40.1, 12.1, 35.1, 72.8, 70.1, 70.9, 37.9, 45.8, 57.7, 35. ,\n       22.3, 17.6, 50.8, 41.6, 44.5, 71.9, 45.2, 84.5, 46. , 78.3, 74.4,\n       57.4, 80.9, 67. , 39.8, 32.1, 15.9, 77.6, 73.3, 73.8, 74.8, 73.2,\n       29.2, 77.3, 39.9, 69.5, 67.8, 70.1, 73.1, 45.9, 61.3, 51.2, 78.4,\n       82.7, 69.3, 36.9, 35.5, 54.5, 31. , 44.3, 39.5, 71.8, 47.3, 43.4,\n       60.1, 52.4, 56. , 72.1, 38.8, 43.3, 82.4, 59.1, 74.8, 49.5, 35. ,\n       30.5, -1. , 40. , 70.9, 50.4, 64.2, 25.7, 48.6, 69.4, 31.5, 48.9,\n       34.5, 76.6, 40.8, 22.2, 49.7, 45.7, 50.5]),)",
     "output_type": "error",
     "traceback": [
      "\u001b[1;31m---------------------------------------------------------------------------\u001b[0m",
      "\u001b[1;31mValueError\u001b[0m                                Traceback (most recent call last)",
      "Cell \u001b[1;32mIn[98], line 1\u001b[0m\n\u001b[1;32m----> 1\u001b[0m mlp \u001b[38;5;241m=\u001b[39m \u001b[43mMLPClassifier\u001b[49m\u001b[43m(\u001b[49m\u001b[43msolver\u001b[49m\u001b[38;5;241;43m=\u001b[39;49m\u001b[38;5;124;43m'\u001b[39;49m\u001b[38;5;124;43mlbfgs\u001b[39;49m\u001b[38;5;124;43m'\u001b[39;49m\u001b[43m,\u001b[49m\u001b[43m \u001b[49m\u001b[43mrandom_state\u001b[49m\u001b[38;5;241;43m=\u001b[39;49m\u001b[38;5;241;43m0\u001b[39;49m\u001b[43m,\u001b[49m\u001b[43m \u001b[49m\u001b[43mhidden_layer_sizes\u001b[49m\u001b[38;5;241;43m=\u001b[39;49m\u001b[43m[\u001b[49m\u001b[38;5;241;43m10\u001b[39;49m\u001b[43m]\u001b[49m\u001b[43m)\u001b[49m\u001b[38;5;241;43m.\u001b[39;49m\u001b[43mfit\u001b[49m\u001b[43m(\u001b[49m\u001b[43mX_train\u001b[49m\u001b[43m,\u001b[49m\u001b[43m \u001b[49m\u001b[43my_train\u001b[49m\u001b[43m)\u001b[49m\n\u001b[0;32m      2\u001b[0m pdct \u001b[38;5;241m=\u001b[39m mlp\u001b[38;5;241m.\u001b[39mpredict(X_test)\n",
      "File \u001b[1;32mc:\\Users\\swjin\\Documents\\study\\code\\weather_forecasting\\venv\\Lib\\site-packages\\sklearn\\base.py:1474\u001b[0m, in \u001b[0;36m_fit_context.<locals>.decorator.<locals>.wrapper\u001b[1;34m(estimator, *args, **kwargs)\u001b[0m\n\u001b[0;32m   1467\u001b[0m     estimator\u001b[38;5;241m.\u001b[39m_validate_params()\n\u001b[0;32m   1469\u001b[0m \u001b[38;5;28;01mwith\u001b[39;00m config_context(\n\u001b[0;32m   1470\u001b[0m     skip_parameter_validation\u001b[38;5;241m=\u001b[39m(\n\u001b[0;32m   1471\u001b[0m         prefer_skip_nested_validation \u001b[38;5;129;01mor\u001b[39;00m global_skip_validation\n\u001b[0;32m   1472\u001b[0m     )\n\u001b[0;32m   1473\u001b[0m ):\n\u001b[1;32m-> 1474\u001b[0m     \u001b[38;5;28;01mreturn\u001b[39;00m \u001b[43mfit_method\u001b[49m\u001b[43m(\u001b[49m\u001b[43mestimator\u001b[49m\u001b[43m,\u001b[49m\u001b[43m \u001b[49m\u001b[38;5;241;43m*\u001b[39;49m\u001b[43margs\u001b[49m\u001b[43m,\u001b[49m\u001b[43m \u001b[49m\u001b[38;5;241;43m*\u001b[39;49m\u001b[38;5;241;43m*\u001b[39;49m\u001b[43mkwargs\u001b[49m\u001b[43m)\u001b[49m\n",
      "File \u001b[1;32mc:\\Users\\swjin\\Documents\\study\\code\\weather_forecasting\\venv\\Lib\\site-packages\\sklearn\\neural_network\\_multilayer_perceptron.py:752\u001b[0m, in \u001b[0;36mBaseMultilayerPerceptron.fit\u001b[1;34m(self, X, y)\u001b[0m\n\u001b[0;32m    734\u001b[0m \u001b[38;5;129m@_fit_context\u001b[39m(prefer_skip_nested_validation\u001b[38;5;241m=\u001b[39m\u001b[38;5;28;01mTrue\u001b[39;00m)\n\u001b[0;32m    735\u001b[0m \u001b[38;5;28;01mdef\u001b[39;00m \u001b[38;5;21mfit\u001b[39m(\u001b[38;5;28mself\u001b[39m, X, y):\n\u001b[0;32m    736\u001b[0m \u001b[38;5;250m    \u001b[39m\u001b[38;5;124;03m\"\"\"Fit the model to data matrix X and target(s) y.\u001b[39;00m\n\u001b[0;32m    737\u001b[0m \n\u001b[0;32m    738\u001b[0m \u001b[38;5;124;03m    Parameters\u001b[39;00m\n\u001b[1;32m   (...)\u001b[0m\n\u001b[0;32m    750\u001b[0m \u001b[38;5;124;03m        Returns a trained MLP model.\u001b[39;00m\n\u001b[0;32m    751\u001b[0m \u001b[38;5;124;03m    \"\"\"\u001b[39;00m\n\u001b[1;32m--> 752\u001b[0m     \u001b[38;5;28;01mreturn\u001b[39;00m \u001b[38;5;28;43mself\u001b[39;49m\u001b[38;5;241;43m.\u001b[39;49m\u001b[43m_fit\u001b[49m\u001b[43m(\u001b[49m\u001b[43mX\u001b[49m\u001b[43m,\u001b[49m\u001b[43m \u001b[49m\u001b[43my\u001b[49m\u001b[43m,\u001b[49m\u001b[43m \u001b[49m\u001b[43mincremental\u001b[49m\u001b[38;5;241;43m=\u001b[39;49m\u001b[38;5;28;43;01mFalse\u001b[39;49;00m\u001b[43m)\u001b[49m\n",
      "File \u001b[1;32mc:\\Users\\swjin\\Documents\\study\\code\\weather_forecasting\\venv\\Lib\\site-packages\\sklearn\\neural_network\\_multilayer_perceptron.py:442\u001b[0m, in \u001b[0;36mBaseMultilayerPerceptron._fit\u001b[1;34m(self, X, y, incremental)\u001b[0m\n\u001b[0;32m    435\u001b[0m     \u001b[38;5;28;01mraise\u001b[39;00m \u001b[38;5;167;01mValueError\u001b[39;00m(\n\u001b[0;32m    436\u001b[0m         \u001b[38;5;124m\"\u001b[39m\u001b[38;5;124mhidden_layer_sizes must be > 0, got \u001b[39m\u001b[38;5;132;01m%s\u001b[39;00m\u001b[38;5;124m.\u001b[39m\u001b[38;5;124m\"\u001b[39m \u001b[38;5;241m%\u001b[39m hidden_layer_sizes\n\u001b[0;32m    437\u001b[0m     )\n\u001b[0;32m    438\u001b[0m first_pass \u001b[38;5;241m=\u001b[39m \u001b[38;5;129;01mnot\u001b[39;00m \u001b[38;5;28mhasattr\u001b[39m(\u001b[38;5;28mself\u001b[39m, \u001b[38;5;124m\"\u001b[39m\u001b[38;5;124mcoefs_\u001b[39m\u001b[38;5;124m\"\u001b[39m) \u001b[38;5;129;01mor\u001b[39;00m (\n\u001b[0;32m    439\u001b[0m     \u001b[38;5;129;01mnot\u001b[39;00m \u001b[38;5;28mself\u001b[39m\u001b[38;5;241m.\u001b[39mwarm_start \u001b[38;5;129;01mand\u001b[39;00m \u001b[38;5;129;01mnot\u001b[39;00m incremental\n\u001b[0;32m    440\u001b[0m )\n\u001b[1;32m--> 442\u001b[0m X, y \u001b[38;5;241m=\u001b[39m \u001b[38;5;28;43mself\u001b[39;49m\u001b[38;5;241;43m.\u001b[39;49m\u001b[43m_validate_input\u001b[49m\u001b[43m(\u001b[49m\u001b[43mX\u001b[49m\u001b[43m,\u001b[49m\u001b[43m \u001b[49m\u001b[43my\u001b[49m\u001b[43m,\u001b[49m\u001b[43m \u001b[49m\u001b[43mincremental\u001b[49m\u001b[43m,\u001b[49m\u001b[43m \u001b[49m\u001b[43mreset\u001b[49m\u001b[38;5;241;43m=\u001b[39;49m\u001b[43mfirst_pass\u001b[49m\u001b[43m)\u001b[49m\n\u001b[0;32m    444\u001b[0m n_samples, n_features \u001b[38;5;241m=\u001b[39m X\u001b[38;5;241m.\u001b[39mshape\n\u001b[0;32m    446\u001b[0m \u001b[38;5;66;03m# Ensure y is 2D\u001b[39;00m\n",
      "File \u001b[1;32mc:\\Users\\swjin\\Documents\\study\\code\\weather_forecasting\\venv\\Lib\\site-packages\\sklearn\\neural_network\\_multilayer_perceptron.py:1123\u001b[0m, in \u001b[0;36mMLPClassifier._validate_input\u001b[1;34m(self, X, y, incremental, reset)\u001b[0m\n\u001b[0;32m   1121\u001b[0m \u001b[38;5;28;01mif\u001b[39;00m (\u001b[38;5;129;01mnot\u001b[39;00m \u001b[38;5;28mhasattr\u001b[39m(\u001b[38;5;28mself\u001b[39m, \u001b[38;5;124m\"\u001b[39m\u001b[38;5;124mclasses_\u001b[39m\u001b[38;5;124m\"\u001b[39m)) \u001b[38;5;129;01mor\u001b[39;00m (\u001b[38;5;129;01mnot\u001b[39;00m \u001b[38;5;28mself\u001b[39m\u001b[38;5;241m.\u001b[39mwarm_start \u001b[38;5;129;01mand\u001b[39;00m \u001b[38;5;129;01mnot\u001b[39;00m incremental):\n\u001b[0;32m   1122\u001b[0m     \u001b[38;5;28mself\u001b[39m\u001b[38;5;241m.\u001b[39m_label_binarizer \u001b[38;5;241m=\u001b[39m LabelBinarizer()\n\u001b[1;32m-> 1123\u001b[0m     \u001b[38;5;28;43mself\u001b[39;49m\u001b[38;5;241;43m.\u001b[39;49m\u001b[43m_label_binarizer\u001b[49m\u001b[38;5;241;43m.\u001b[39;49m\u001b[43mfit\u001b[49m\u001b[43m(\u001b[49m\u001b[43my\u001b[49m\u001b[43m)\u001b[49m\n\u001b[0;32m   1124\u001b[0m     \u001b[38;5;28mself\u001b[39m\u001b[38;5;241m.\u001b[39mclasses_ \u001b[38;5;241m=\u001b[39m \u001b[38;5;28mself\u001b[39m\u001b[38;5;241m.\u001b[39m_label_binarizer\u001b[38;5;241m.\u001b[39mclasses_\n\u001b[0;32m   1125\u001b[0m \u001b[38;5;28;01melse\u001b[39;00m:\n",
      "File \u001b[1;32mc:\\Users\\swjin\\Documents\\study\\code\\weather_forecasting\\venv\\Lib\\site-packages\\sklearn\\base.py:1474\u001b[0m, in \u001b[0;36m_fit_context.<locals>.decorator.<locals>.wrapper\u001b[1;34m(estimator, *args, **kwargs)\u001b[0m\n\u001b[0;32m   1467\u001b[0m     estimator\u001b[38;5;241m.\u001b[39m_validate_params()\n\u001b[0;32m   1469\u001b[0m \u001b[38;5;28;01mwith\u001b[39;00m config_context(\n\u001b[0;32m   1470\u001b[0m     skip_parameter_validation\u001b[38;5;241m=\u001b[39m(\n\u001b[0;32m   1471\u001b[0m         prefer_skip_nested_validation \u001b[38;5;129;01mor\u001b[39;00m global_skip_validation\n\u001b[0;32m   1472\u001b[0m     )\n\u001b[0;32m   1473\u001b[0m ):\n\u001b[1;32m-> 1474\u001b[0m     \u001b[38;5;28;01mreturn\u001b[39;00m \u001b[43mfit_method\u001b[49m\u001b[43m(\u001b[49m\u001b[43mestimator\u001b[49m\u001b[43m,\u001b[49m\u001b[43m \u001b[49m\u001b[38;5;241;43m*\u001b[39;49m\u001b[43margs\u001b[49m\u001b[43m,\u001b[49m\u001b[43m \u001b[49m\u001b[38;5;241;43m*\u001b[39;49m\u001b[38;5;241;43m*\u001b[39;49m\u001b[43mkwargs\u001b[49m\u001b[43m)\u001b[49m\n",
      "File \u001b[1;32mc:\\Users\\swjin\\Documents\\study\\code\\weather_forecasting\\venv\\Lib\\site-packages\\sklearn\\preprocessing\\_label.py:306\u001b[0m, in \u001b[0;36mLabelBinarizer.fit\u001b[1;34m(self, y)\u001b[0m\n\u001b[0;32m    303\u001b[0m     \u001b[38;5;28;01mraise\u001b[39;00m \u001b[38;5;167;01mValueError\u001b[39;00m(\u001b[38;5;124m\"\u001b[39m\u001b[38;5;124my has 0 samples: \u001b[39m\u001b[38;5;132;01m%r\u001b[39;00m\u001b[38;5;124m\"\u001b[39m \u001b[38;5;241m%\u001b[39m y)\n\u001b[0;32m    305\u001b[0m \u001b[38;5;28mself\u001b[39m\u001b[38;5;241m.\u001b[39msparse_input_ \u001b[38;5;241m=\u001b[39m sp\u001b[38;5;241m.\u001b[39missparse(y)\n\u001b[1;32m--> 306\u001b[0m \u001b[38;5;28mself\u001b[39m\u001b[38;5;241m.\u001b[39mclasses_ \u001b[38;5;241m=\u001b[39m \u001b[43munique_labels\u001b[49m\u001b[43m(\u001b[49m\u001b[43my\u001b[49m\u001b[43m)\u001b[49m\n\u001b[0;32m    307\u001b[0m \u001b[38;5;28;01mreturn\u001b[39;00m \u001b[38;5;28mself\u001b[39m\n",
      "File \u001b[1;32mc:\\Users\\swjin\\Documents\\study\\code\\weather_forecasting\\venv\\Lib\\site-packages\\sklearn\\utils\\multiclass.py:106\u001b[0m, in \u001b[0;36munique_labels\u001b[1;34m(*ys)\u001b[0m\n\u001b[0;32m    104\u001b[0m _unique_labels \u001b[38;5;241m=\u001b[39m _FN_UNIQUE_LABELS\u001b[38;5;241m.\u001b[39mget(label_type, \u001b[38;5;28;01mNone\u001b[39;00m)\n\u001b[0;32m    105\u001b[0m \u001b[38;5;28;01mif\u001b[39;00m \u001b[38;5;129;01mnot\u001b[39;00m _unique_labels:\n\u001b[1;32m--> 106\u001b[0m     \u001b[38;5;28;01mraise\u001b[39;00m \u001b[38;5;167;01mValueError\u001b[39;00m(\u001b[38;5;124m\"\u001b[39m\u001b[38;5;124mUnknown label type: \u001b[39m\u001b[38;5;132;01m%s\u001b[39;00m\u001b[38;5;124m\"\u001b[39m \u001b[38;5;241m%\u001b[39m \u001b[38;5;28mrepr\u001b[39m(ys))\n\u001b[0;32m    108\u001b[0m \u001b[38;5;28;01mif\u001b[39;00m is_array_api_compliant:\n\u001b[0;32m    109\u001b[0m     \u001b[38;5;66;03m# array_api does not allow for mixed dtypes\u001b[39;00m\n\u001b[0;32m    110\u001b[0m     unique_ys \u001b[38;5;241m=\u001b[39m xp\u001b[38;5;241m.\u001b[39mconcat([_unique_labels(y) \u001b[38;5;28;01mfor\u001b[39;00m y \u001b[38;5;129;01min\u001b[39;00m ys])\n",
      "\u001b[1;31mValueError\u001b[0m: Unknown label type: (array([34.7, 32.3, 59.3, 75.7, 35.3, 66.4, 30.7, 30.5, 36.6, 55. , 44.1,\n       52.8, 64.6, 41.9, 73.8, 42. , 41.5, 27.9, 46.4, 59.6, 67.9, 40.3,\n       64. , 54.2, 51.3, 49.2, 71.9, 21.5, 23.1, 21.1, 56.3, 36.5, 51.3,\n       35.6, 28.8, 35.9, 72. , 51.7, 45.9, 78.1, 63.8, 71.3, 78.3, 42.1,\n       34.1, 47.1, 56.1, 35.2, 39.3, 78.7, 39. , 72.1, 48.3, 79.1, 32.1,\n       28.4, 75.3, 43.8, 27.6, 69.3, 72.2, 45.8, 49.1, 74.8, 82.1, 43.3,\n       85.8, 86.1, 79.3, 40.1, 34.1, 23. , 60.1, 42. , 31.5, 69.5, 30.8,\n       47. , 65.4, 38.1, 53.1, 53.3, 72.9,  4.1, 48.4, 38.8, 75.8, 56.3,\n       51.6, 68.6, 66.1, 75.5, 65.3, 36. , 71.8, 40.2, 58.1, 72.3, 60. ,\n       45. , 19.2, 59.6, 70.3, 28.4, 43.1, 54.3, 64.7, 83.7, 67.2, 69. ,\n       33.8, 67.8, 40.7, 37.9, 44.9, 37.5, 85.2, 79.7, 40.1, 39.6, 43.3,\n       27.8, 34.7, 52.1, 72.4, 29.2, 65.1, 78.2, 43.6, 71.2, 43.1, 53.8,\n       31.8, 73.3, 59.2, 63.2, 46.6, 63.7, 66.7, 63.7, 51.5, 63. , 80.7,\n       -2.4, 47.9, 36.1, 76.5, 35.5, 72.6, 76.4, 41.6, 54.5, 31.5, 67.9,\n       80.5, 50.9, 72.9, 39.4, 52.2, 76.6, 60.4, 81.2, 45.8, 75.3, 40. ,\n       32.7, 72.6, 87.6, 74.9, 69.9, 44.2, 72.2, 21.8, 54. , 40.9, 77.1,\n       76.6, 35.3, 52.6, 43.9, 55.8, 25.6, 70.5, 28.2, 77.9, 47.4, 68.9,\n       55.4, 34. , 27.8, 75.5, 62. , 46.6, 39.1, 17.6, 26.5, 81.8, 33.3,\n       67.4, 55.1,  2.1, 46.7, 69.6, 44.3, 53. , 67.2, 34.3, 55.9, 62.4,\n       75.4, 76.4, 26.8, 39.1, 81.8, 77.1, 36.1, 58.5, 71.7, 88.1, 77.9,\n       43.9, 67.3, 52.2, 72.2, 74.4, 40.1, 55.7, 64.6, 33.2, 87. , 74.1,\n       58.7, 40.1, 12.1, 35.1, 72.8, 70.1, 70.9, 37.9, 45.8, 57.7, 35. ,\n       22.3, 17.6, 50.8, 41.6, 44.5, 71.9, 45.2, 84.5, 46. , 78.3, 74.4,\n       57.4, 80.9, 67. , 39.8, 32.1, 15.9, 77.6, 73.3, 73.8, 74.8, 73.2,\n       29.2, 77.3, 39.9, 69.5, 67.8, 70.1, 73.1, 45.9, 61.3, 51.2, 78.4,\n       82.7, 69.3, 36.9, 35.5, 54.5, 31. , 44.3, 39.5, 71.8, 47.3, 43.4,\n       60.1, 52.4, 56. , 72.1, 38.8, 43.3, 82.4, 59.1, 74.8, 49.5, 35. ,\n       30.5, -1. , 40. , 70.9, 50.4, 64.2, 25.7, 48.6, 69.4, 31.5, 48.9,\n       34.5, 76.6, 40.8, 22.2, 49.7, 45.7, 50.5]),)"
     ]
    }
   ],
   "source": [
    "mlp = MLPClassifier(solver='lbfgs', random_state=0, hidden_layer_sizes=[10]).fit(X_train, y_train)\n",
    "pdct = mlp.predict(X_test)"
   ]
  }
 ],
 "metadata": {
  "kernelspec": {
   "display_name": "venv",
   "language": "python",
   "name": "python3"
  },
  "language_info": {
   "codemirror_mode": {
    "name": "ipython",
    "version": 3
   },
   "file_extension": ".py",
   "mimetype": "text/x-python",
   "name": "python",
   "nbconvert_exporter": "python",
   "pygments_lexer": "ipython3",
   "version": "3.12.1"
  }
 },
 "nbformat": 4,
 "nbformat_minor": 2
}
